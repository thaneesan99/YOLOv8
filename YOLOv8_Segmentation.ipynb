{
  "nbformat": 4,
  "nbformat_minor": 0,
  "metadata": {
    "colab": {
      "provenance": [],
      "gpuType": "T4",
      "authorship_tag": "ABX9TyNh2XepS7mrOryvTJXHIAzX",
      "include_colab_link": true
    },
    "kernelspec": {
      "name": "python3",
      "display_name": "Python 3"
    },
    "language_info": {
      "name": "python"
    },
    "accelerator": "GPU"
  },
  "cells": [
    {
      "cell_type": "markdown",
      "metadata": {
        "id": "view-in-github",
        "colab_type": "text"
      },
      "source": [
        "<a href=\"https://colab.research.google.com/github/thaneesan99/YOLOv8/blob/main/YOLOv8_Segmentation.ipynb\" target=\"_parent\"><img src=\"https://colab.research.google.com/assets/colab-badge.svg\" alt=\"Open In Colab\"/></a>"
      ]
    },
    {
      "cell_type": "code",
      "execution_count": null,
      "metadata": {
        "colab": {
          "base_uri": "https://localhost:8080/"
        },
        "id": "ud44wKkUhXeH",
        "outputId": "0abbdb2c-9d4d-4115-95a9-ff0ae1cbae01"
      },
      "outputs": [
        {
          "output_type": "stream",
          "name": "stdout",
          "text": [
            "Collecting ultralytics\n",
            "  Downloading ultralytics-8.2.94-py3-none-any.whl.metadata (41 kB)\n",
            "\u001b[?25l     \u001b[90m━━━━━━━━━━━━━━━━━━━━━━━━━━━━━━━━━━━━━━━━\u001b[0m \u001b[32m0.0/41.9 kB\u001b[0m \u001b[31m?\u001b[0m eta \u001b[36m-:--:--\u001b[0m\r\u001b[2K     \u001b[90m━━━━━━━━━━━━━━━━━━━━━━━━━━━━━━━━━━━━━━━━\u001b[0m \u001b[32m41.9/41.9 kB\u001b[0m \u001b[31m1.8 MB/s\u001b[0m eta \u001b[36m0:00:00\u001b[0m\n",
            "\u001b[?25hRequirement already satisfied: numpy<2.0.0,>=1.23.0 in /usr/local/lib/python3.10/dist-packages (from ultralytics) (1.26.4)\n",
            "Requirement already satisfied: matplotlib>=3.3.0 in /usr/local/lib/python3.10/dist-packages (from ultralytics) (3.7.1)\n",
            "Requirement already satisfied: opencv-python>=4.6.0 in /usr/local/lib/python3.10/dist-packages (from ultralytics) (4.10.0.84)\n",
            "Requirement already satisfied: pillow>=7.1.2 in /usr/local/lib/python3.10/dist-packages (from ultralytics) (9.4.0)\n",
            "Requirement already satisfied: pyyaml>=5.3.1 in /usr/local/lib/python3.10/dist-packages (from ultralytics) (6.0.2)\n",
            "Requirement already satisfied: requests>=2.23.0 in /usr/local/lib/python3.10/dist-packages (from ultralytics) (2.32.3)\n",
            "Requirement already satisfied: scipy>=1.4.1 in /usr/local/lib/python3.10/dist-packages (from ultralytics) (1.13.1)\n",
            "Requirement already satisfied: torch>=1.8.0 in /usr/local/lib/python3.10/dist-packages (from ultralytics) (2.4.0+cu121)\n",
            "Requirement already satisfied: torchvision>=0.9.0 in /usr/local/lib/python3.10/dist-packages (from ultralytics) (0.19.0+cu121)\n",
            "Requirement already satisfied: tqdm>=4.64.0 in /usr/local/lib/python3.10/dist-packages (from ultralytics) (4.66.5)\n",
            "Requirement already satisfied: psutil in /usr/local/lib/python3.10/dist-packages (from ultralytics) (5.9.5)\n",
            "Requirement already satisfied: py-cpuinfo in /usr/local/lib/python3.10/dist-packages (from ultralytics) (9.0.0)\n",
            "Requirement already satisfied: pandas>=1.1.4 in /usr/local/lib/python3.10/dist-packages (from ultralytics) (2.1.4)\n",
            "Requirement already satisfied: seaborn>=0.11.0 in /usr/local/lib/python3.10/dist-packages (from ultralytics) (0.13.1)\n",
            "Collecting ultralytics-thop>=2.0.0 (from ultralytics)\n",
            "  Downloading ultralytics_thop-2.0.6-py3-none-any.whl.metadata (9.1 kB)\n",
            "Requirement already satisfied: contourpy>=1.0.1 in /usr/local/lib/python3.10/dist-packages (from matplotlib>=3.3.0->ultralytics) (1.3.0)\n",
            "Requirement already satisfied: cycler>=0.10 in /usr/local/lib/python3.10/dist-packages (from matplotlib>=3.3.0->ultralytics) (0.12.1)\n",
            "Requirement already satisfied: fonttools>=4.22.0 in /usr/local/lib/python3.10/dist-packages (from matplotlib>=3.3.0->ultralytics) (4.53.1)\n",
            "Requirement already satisfied: kiwisolver>=1.0.1 in /usr/local/lib/python3.10/dist-packages (from matplotlib>=3.3.0->ultralytics) (1.4.7)\n",
            "Requirement already satisfied: packaging>=20.0 in /usr/local/lib/python3.10/dist-packages (from matplotlib>=3.3.0->ultralytics) (24.1)\n",
            "Requirement already satisfied: pyparsing>=2.3.1 in /usr/local/lib/python3.10/dist-packages (from matplotlib>=3.3.0->ultralytics) (3.1.4)\n",
            "Requirement already satisfied: python-dateutil>=2.7 in /usr/local/lib/python3.10/dist-packages (from matplotlib>=3.3.0->ultralytics) (2.8.2)\n",
            "Requirement already satisfied: pytz>=2020.1 in /usr/local/lib/python3.10/dist-packages (from pandas>=1.1.4->ultralytics) (2024.2)\n",
            "Requirement already satisfied: tzdata>=2022.1 in /usr/local/lib/python3.10/dist-packages (from pandas>=1.1.4->ultralytics) (2024.1)\n",
            "Requirement already satisfied: charset-normalizer<4,>=2 in /usr/local/lib/python3.10/dist-packages (from requests>=2.23.0->ultralytics) (3.3.2)\n",
            "Requirement already satisfied: idna<4,>=2.5 in /usr/local/lib/python3.10/dist-packages (from requests>=2.23.0->ultralytics) (3.8)\n",
            "Requirement already satisfied: urllib3<3,>=1.21.1 in /usr/local/lib/python3.10/dist-packages (from requests>=2.23.0->ultralytics) (2.0.7)\n",
            "Requirement already satisfied: certifi>=2017.4.17 in /usr/local/lib/python3.10/dist-packages (from requests>=2.23.0->ultralytics) (2024.8.30)\n",
            "Requirement already satisfied: filelock in /usr/local/lib/python3.10/dist-packages (from torch>=1.8.0->ultralytics) (3.16.0)\n",
            "Requirement already satisfied: typing-extensions>=4.8.0 in /usr/local/lib/python3.10/dist-packages (from torch>=1.8.0->ultralytics) (4.12.2)\n",
            "Requirement already satisfied: sympy in /usr/local/lib/python3.10/dist-packages (from torch>=1.8.0->ultralytics) (1.13.2)\n",
            "Requirement already satisfied: networkx in /usr/local/lib/python3.10/dist-packages (from torch>=1.8.0->ultralytics) (3.3)\n",
            "Requirement already satisfied: jinja2 in /usr/local/lib/python3.10/dist-packages (from torch>=1.8.0->ultralytics) (3.1.4)\n",
            "Requirement already satisfied: fsspec in /usr/local/lib/python3.10/dist-packages (from torch>=1.8.0->ultralytics) (2024.6.1)\n",
            "Requirement already satisfied: six>=1.5 in /usr/local/lib/python3.10/dist-packages (from python-dateutil>=2.7->matplotlib>=3.3.0->ultralytics) (1.16.0)\n",
            "Requirement already satisfied: MarkupSafe>=2.0 in /usr/local/lib/python3.10/dist-packages (from jinja2->torch>=1.8.0->ultralytics) (2.1.5)\n",
            "Requirement already satisfied: mpmath<1.4,>=1.1.0 in /usr/local/lib/python3.10/dist-packages (from sympy->torch>=1.8.0->ultralytics) (1.3.0)\n",
            "Downloading ultralytics-8.2.94-py3-none-any.whl (872 kB)\n",
            "\u001b[2K   \u001b[90m━━━━━━━━━━━━━━━━━━━━━━━━━━━━━━━━━━━━━━━━\u001b[0m \u001b[32m872.7/872.7 kB\u001b[0m \u001b[31m32.7 MB/s\u001b[0m eta \u001b[36m0:00:00\u001b[0m\n",
            "\u001b[?25hDownloading ultralytics_thop-2.0.6-py3-none-any.whl (26 kB)\n",
            "Installing collected packages: ultralytics-thop, ultralytics\n",
            "Successfully installed ultralytics-8.2.94 ultralytics-thop-2.0.6\n"
          ]
        }
      ],
      "source": [
        "!pip install ultralytics"
      ]
    },
    {
      "cell_type": "code",
      "source": [
        "# Download the dataset zip file\n",
        "!curl -L \"Paste your Roboflow link here\" -o roboflow.zip\n",
        "\n",
        "# Unzip the dataset into the 'dataset' folder\n",
        "!unzip roboflow.zip -d dataset"
      ],
      "metadata": {
        "colab": {
          "base_uri": "https://localhost:8080/"
        },
        "id": "uompVQSYh4FA",
        "outputId": "d59854b9-6112-4afa-cce3-c1d0f61dd15e"
      },
      "execution_count": null,
      "outputs": [
        {
          "output_type": "stream",
          "name": "stdout",
          "text": [
            "  % Total    % Received % Xferd  Average Speed   Time    Time     Time  Current\n",
            "                                 Dload  Upload   Total   Spent    Left  Speed\n",
            "100   895  100   895    0     0   3258      0 --:--:-- --:--:-- --:--:--  3254\n",
            "100 85.0M  100 85.0M    0     0  16.4M      0  0:00:05  0:00:05 --:--:-- 21.1M\n",
            "Archive:  roboflow.zip\n",
            "  inflating: dataset/README.dataset.txt  \n",
            "  inflating: dataset/README.roboflow.txt  \n",
            "  inflating: dataset/data.yaml       \n",
            "   creating: dataset/train/\n",
            "   creating: dataset/train/images/\n",
            " extracting: dataset/train/images/Image1_jpg.rf.074394ec22acc5fa83367744d4d78444.jpg  \n",
            " extracting: dataset/train/images/Image1_jpg.rf.099c2bbf5f5b23866dfa05d95d6dd2a9.jpg  \n",
            " extracting: dataset/train/images/Image1_jpg.rf.1511db90b13e20e4b2914c032d13180f.jpg  \n",
            " extracting: dataset/train/images/Image1_jpg.rf.1e3312ced0488a41228fd8a31cb39eea.jpg  \n",
            " extracting: dataset/train/images/Image1_jpg.rf.1ff0f00f6dc847c0f9f76c91903fc7f4.jpg  \n",
            " extracting: dataset/train/images/Image1_jpg.rf.3e5ba1ad0cc2c67727e4328bd5b38d04.jpg  \n",
            " extracting: dataset/train/images/Image1_jpg.rf.62821c330d413830db3b82e4caf80c0a.jpg  \n",
            " extracting: dataset/train/images/Image1_jpg.rf.6c20decaed892e044fecc202b4b1895b.jpg  \n",
            " extracting: dataset/train/images/Image1_jpg.rf.75a28542fe719ba09746421eb179bb5c.jpg  \n",
            " extracting: dataset/train/images/Image1_jpg.rf.7cd99129d0d9c624031320df0525cfcd.jpg  \n",
            " extracting: dataset/train/images/Image1_jpg.rf.87b05a0cefd75021580d761bb34e1a71.jpg  \n",
            " extracting: dataset/train/images/Image1_jpg.rf.8ab498fa151e9fbd158897badc6a91ac.jpg  \n",
            " extracting: dataset/train/images/Image1_jpg.rf.97b1bff715565c47df6504b6cbc0fa9f.jpg  \n",
            " extracting: dataset/train/images/Image1_jpg.rf.9ade5cd25ac6a1d6bc5679b759d39598.jpg  \n",
            " extracting: dataset/train/images/Image1_jpg.rf.a736a190a951e62d4bce8520a5eecdc1.jpg  \n",
            " extracting: dataset/train/images/Image1_jpg.rf.ad8b0ed36d8b6fbae381371290fa89c4.jpg  \n",
            " extracting: dataset/train/images/Image1_jpg.rf.ae700a67d0396a57a6444431ba2ac579.jpg  \n",
            " extracting: dataset/train/images/Image1_jpg.rf.b6ac4d8865f8b608ae1eb3953bc2dfd9.jpg  \n",
            " extracting: dataset/train/images/Image1_jpg.rf.babd56b2a007f51c867088ac82dc28fa.jpg  \n",
            " extracting: dataset/train/images/Image1_jpg.rf.bc95b32061b397a909bc6b713d5bd40e.jpg  \n",
            " extracting: dataset/train/images/Image1_jpg.rf.c165e878c52f7bbbd91edf7c62f8ceb6.jpg  \n",
            " extracting: dataset/train/images/Image1_jpg.rf.c413d886a812628e367a1515ce68483b.jpg  \n",
            " extracting: dataset/train/images/Image1_jpg.rf.c46b8a529c3a0c26f5edd61c8642838b.jpg  \n",
            " extracting: dataset/train/images/Image1_jpg.rf.d8404477564f95193587beba275ad86a.jpg  \n",
            " extracting: dataset/train/images/Image1_jpg.rf.eaf443d8436941bb187b582bd6332199.jpg  \n",
            " extracting: dataset/train/images/Image1_jpg.rf.eb05e5db716329a56ffdcf44eea9a378.jpg  \n",
            " extracting: dataset/train/images/Image1_jpg.rf.f70b863fddc8ec79bd14084197ec393a.jpg  \n",
            " extracting: dataset/train/images/Image1_jpg.rf.f966eb305bfd9c0e2ed0205b15d5eaf6.jpg  \n",
            " extracting: dataset/train/images/Image1_jpg.rf.f9e1dbf9b35d45bdedbb2ab4f56a6f34.jpg  \n",
            " extracting: dataset/train/images/Image1_jpg.rf.fdc8ab507519686d58c18ac6924fb7b2.jpg  \n",
            " extracting: dataset/train/images/Image2_jpg.rf.0b7fdda715d4b4f6b2da8d89303b4b36.jpg  \n",
            " extracting: dataset/train/images/Image2_jpg.rf.16074c424d9c303176b9083cf3cc7d43.jpg  \n",
            " extracting: dataset/train/images/Image2_jpg.rf.17f558e63ba8a27cc4744001fbfd1b93.jpg  \n",
            " extracting: dataset/train/images/Image2_jpg.rf.254d90dc85de1b997b60e7557bbabcdf.jpg  \n",
            " extracting: dataset/train/images/Image2_jpg.rf.2a5bc2e402835419a7bf0a74050b9d78.jpg  \n",
            " extracting: dataset/train/images/Image2_jpg.rf.2ffe6ba0878c16c2d4ebb9e60cd35260.jpg  \n",
            " extracting: dataset/train/images/Image2_jpg.rf.32626307d6408fe101ae13b6acfca0b8.jpg  \n",
            " extracting: dataset/train/images/Image2_jpg.rf.46cf823455bdaa16eef33afbd6780fc7.jpg  \n",
            " extracting: dataset/train/images/Image2_jpg.rf.53ab9e9887d5079abaf8456be43b33dd.jpg  \n",
            " extracting: dataset/train/images/Image2_jpg.rf.62f0317993e1206d8890e4668d91c3ca.jpg  \n",
            " extracting: dataset/train/images/Image2_jpg.rf.71747ef10847876984b77d6b8c71124f.jpg  \n",
            " extracting: dataset/train/images/Image2_jpg.rf.9b4b079c226c355156c6ebbc89f62715.jpg  \n",
            " extracting: dataset/train/images/Image2_jpg.rf.9f686d71a487ffd734eff60dd5df44a2.jpg  \n",
            " extracting: dataset/train/images/Image2_jpg.rf.a8d87f04cb48fe1a3802b151071098f8.jpg  \n",
            " extracting: dataset/train/images/Image2_jpg.rf.b06d279fb5e6b78b7d669db33a7c2290.jpg  \n",
            " extracting: dataset/train/images/Image2_jpg.rf.b10b31eb0af2bfd45e3a8cfddeb601c2.jpg  \n",
            " extracting: dataset/train/images/Image2_jpg.rf.b151dfbe073072181990f94fa63d0980.jpg  \n",
            " extracting: dataset/train/images/Image2_jpg.rf.bc157ef18d53715c2df7a9644dc696ee.jpg  \n",
            " extracting: dataset/train/images/Image2_jpg.rf.bcb226bfc14721119269ec3124cf40b0.jpg  \n",
            " extracting: dataset/train/images/Image2_jpg.rf.c1e7b84014a2a78fc6dc5f3fe588e544.jpg  \n",
            " extracting: dataset/train/images/Image2_jpg.rf.ceecbf11e6fe81730671aad7fa8f07a2.jpg  \n",
            " extracting: dataset/train/images/Image2_jpg.rf.d269ec414c01eb27f6b426c88a664c2e.jpg  \n",
            " extracting: dataset/train/images/Image2_jpg.rf.d4632819627f5943bbde16ef801d1405.jpg  \n",
            " extracting: dataset/train/images/Image2_jpg.rf.d7f7f400d66241c9f681f2f8b949c51e.jpg  \n",
            " extracting: dataset/train/images/Image2_jpg.rf.e0e10302bcacb3ee38583c11fd1f0790.jpg  \n",
            " extracting: dataset/train/images/Image2_jpg.rf.e63873498a56e10a022e1df1d44e2f26.jpg  \n",
            " extracting: dataset/train/images/Image2_jpg.rf.edfbe18675c32418579c6e1435ae4cce.jpg  \n",
            " extracting: dataset/train/images/Image2_jpg.rf.f0577a0fb100acc9789b3196dfdccb14.jpg  \n",
            " extracting: dataset/train/images/Image2_jpg.rf.f4ea169590ef8f81977a28b790166ae0.jpg  \n",
            " extracting: dataset/train/images/Image2_jpg.rf.f59bd8e0c5589ae1d72f734986f80506.jpg  \n",
            " extracting: dataset/train/images/Image2_jpg.rf.fb22642b6ffa83526520029f51f488ac.jpg  \n",
            " extracting: dataset/train/images/Image2_jpg.rf.fef43f9ad6c277c33c9e9c37bfc52fce.jpg  \n",
            " extracting: dataset/train/images/Image3_jpg.rf.062bde63e19d5dc22a02ae2b117d8cf3.jpg  \n",
            " extracting: dataset/train/images/Image3_jpg.rf.16468c3f5bb9b2ea01dbadf7ecf5cefe.jpg  \n",
            " extracting: dataset/train/images/Image3_jpg.rf.17e8cf7e3798bf477f9603ec6563cb59.jpg  \n",
            " extracting: dataset/train/images/Image3_jpg.rf.1b562336c9b6f06f5bf3db4375be70a0.jpg  \n",
            " extracting: dataset/train/images/Image3_jpg.rf.26fe03aca8f4f43bfdd03557ee5dc414.jpg  \n",
            " extracting: dataset/train/images/Image3_jpg.rf.2c633708000a34eae90babf2ea4e3a20.jpg  \n",
            " extracting: dataset/train/images/Image3_jpg.rf.316b699ac39f13506edd157b86cd1a1b.jpg  \n",
            " extracting: dataset/train/images/Image3_jpg.rf.3b4b252f1aa68daef215e4c00e40fe6c.jpg  \n",
            " extracting: dataset/train/images/Image3_jpg.rf.3cfc24d187705c0153e77fcf6909c08f.jpg  \n",
            " extracting: dataset/train/images/Image3_jpg.rf.496ec9dbdeda401e768d340729189c12.jpg  \n",
            " extracting: dataset/train/images/Image3_jpg.rf.4f65771988f1b2cf92a8e5d53c7e0db3.jpg  \n",
            " extracting: dataset/train/images/Image3_jpg.rf.546da5228d1501566b2b82c030dab5ee.jpg  \n",
            " extracting: dataset/train/images/Image3_jpg.rf.569c6598cb0bd4ff172d6fe5a38197de.jpg  \n",
            " extracting: dataset/train/images/Image3_jpg.rf.61eed9a2a35d451c39355b98fbb5d44a.jpg  \n",
            " extracting: dataset/train/images/Image3_jpg.rf.8708ba21f48cc68c6b6a4a86b951769e.jpg  \n",
            " extracting: dataset/train/images/Image3_jpg.rf.8d44c53569818eb1f08d4d45c433c77b.jpg  \n",
            " extracting: dataset/train/images/Image3_jpg.rf.948febfd0788345c71e0b55014fdfbc6.jpg  \n",
            " extracting: dataset/train/images/Image3_jpg.rf.a01dc747a173bd2a5018f2b92340dde8.jpg  \n",
            " extracting: dataset/train/images/Image3_jpg.rf.b9026376fa7a421ea7722f854423f7f1.jpg  \n",
            " extracting: dataset/train/images/Image3_jpg.rf.bd02fbb3a5d33ac6331343c3a852e5bd.jpg  \n",
            " extracting: dataset/train/images/Image3_jpg.rf.d29321010952a292ef49049a101c2147.jpg  \n",
            " extracting: dataset/train/images/Image3_jpg.rf.d8c74d6201f0973470a0cb2ed2e325d2.jpg  \n",
            " extracting: dataset/train/images/Image3_jpg.rf.dad16dfe82237a76ebc76ba7c3187b63.jpg  \n",
            " extracting: dataset/train/images/Image3_jpg.rf.e32ecb0be132eabcd174bd75d25aa4ac.jpg  \n",
            " extracting: dataset/train/images/Image3_jpg.rf.ec10f2f5b4b9003749f8e3d4c871bc00.jpg  \n",
            " extracting: dataset/train/images/Image3_jpg.rf.eff09be4f878fac45f0b1506439c87ef.jpg  \n",
            " extracting: dataset/train/images/Image3_jpg.rf.f27843a1eff62245447ba982690b1b9f.jpg  \n",
            " extracting: dataset/train/images/Image3_jpg.rf.f824926c862bf5cfbe596a6a498401c5.jpg  \n",
            " extracting: dataset/train/images/Image3_jpg.rf.f82f6735c37cd14fb62fd39df7ac2ec4.jpg  \n",
            " extracting: dataset/train/images/Image4_jpg.rf.09e24f9705d0879332540d22555fcd20.jpg  \n",
            " extracting: dataset/train/images/Image4_jpg.rf.163b4722e5a2b2bbb31262b74746a043.jpg  \n",
            " extracting: dataset/train/images/Image4_jpg.rf.19abe7e5b68243dc7456f64b971cfb54.jpg  \n",
            " extracting: dataset/train/images/Image4_jpg.rf.1a4bbc6e4414e6c3db4f93341290c416.jpg  \n",
            " extracting: dataset/train/images/Image4_jpg.rf.1ad32c6f52baab89e94b66b578635e16.jpg  \n",
            " extracting: dataset/train/images/Image4_jpg.rf.206d9ed6057c28f61adcf047f0647611.jpg  \n",
            " extracting: dataset/train/images/Image4_jpg.rf.2123bbb887d0d668efba3c3d52398f77.jpg  \n",
            " extracting: dataset/train/images/Image4_jpg.rf.4135d6c7703f966cfa5b29e3d32083cd.jpg  \n",
            " extracting: dataset/train/images/Image4_jpg.rf.44ee31a51eea5ccdc94eaadb38bfb879.jpg  \n",
            " extracting: dataset/train/images/Image4_jpg.rf.4b60b995b6bc22bb87588b007924fddc.jpg  \n",
            " extracting: dataset/train/images/Image4_jpg.rf.4d987f5764051fdfdee1d02d0ed7bb09.jpg  \n",
            " extracting: dataset/train/images/Image4_jpg.rf.57377363d1700bf70484ba2271a24531.jpg  \n",
            " extracting: dataset/train/images/Image4_jpg.rf.5af8f6cc26833ab44140bc0d7b05e802.jpg  \n",
            " extracting: dataset/train/images/Image4_jpg.rf.64f51b96bec2d7c04968cbcfac41b578.jpg  \n",
            " extracting: dataset/train/images/Image4_jpg.rf.6be6816978eb07249288ddabc32a3768.jpg  \n",
            " extracting: dataset/train/images/Image4_jpg.rf.6f5b286858fa0b4218c24235a0087171.jpg  \n",
            " extracting: dataset/train/images/Image4_jpg.rf.77756164a4af2d0c828589a3fa79de1d.jpg  \n",
            " extracting: dataset/train/images/Image4_jpg.rf.7885c1d8d58209d17926038765a6edf4.jpg  \n",
            " extracting: dataset/train/images/Image4_jpg.rf.90da8101f100246a491cc9e0474982b8.jpg  \n",
            " extracting: dataset/train/images/Image4_jpg.rf.96f5a0803ad050532090123a0cfcc203.jpg  \n",
            " extracting: dataset/train/images/Image4_jpg.rf.a48744ca11bcf847f24a4063bbd653c3.jpg  \n",
            " extracting: dataset/train/images/Image4_jpg.rf.b0b0ccc7bf78f3285d31518341656edb.jpg  \n",
            " extracting: dataset/train/images/Image4_jpg.rf.b8f8114d0c4a3e92f9d2242a4688bb3e.jpg  \n",
            " extracting: dataset/train/images/Image4_jpg.rf.c94e38ad2aedf9d16e878ad5efef336b.jpg  \n",
            " extracting: dataset/train/images/Image4_jpg.rf.cb194888b3d536e78eaf9aab9954e28e.jpg  \n",
            " extracting: dataset/train/images/Image4_jpg.rf.cca3e59abe0bcb8d1e89dc04932f7fde.jpg  \n",
            " extracting: dataset/train/images/Image4_jpg.rf.d302fc4270221caf57d76c6029639adf.jpg  \n",
            " extracting: dataset/train/images/Image4_jpg.rf.df3f2c819747e0a235d8b75e51680be4.jpg  \n",
            " extracting: dataset/train/images/Image5_jpg.rf.089c6682d7178022578d4c25b60f8d4f.jpg  \n",
            " extracting: dataset/train/images/Image5_jpg.rf.16b62b2a44baf172c563df9c04ca4880.jpg  \n",
            " extracting: dataset/train/images/Image5_jpg.rf.1f333bfbd51fd82bd2d10228ffb83980.jpg  \n",
            " extracting: dataset/train/images/Image5_jpg.rf.21413a749738ef2b502d6d1e9f555069.jpg  \n",
            " extracting: dataset/train/images/Image5_jpg.rf.2de45105a60f981ce22270bf722c15dd.jpg  \n",
            " extracting: dataset/train/images/Image5_jpg.rf.32741d1a71251a91eaf8ebd048a23ecd.jpg  \n",
            " extracting: dataset/train/images/Image5_jpg.rf.3fe24b09df0b21c4bc18d233e6f3557a.jpg  \n",
            " extracting: dataset/train/images/Image5_jpg.rf.456b338cd0af996c101fb281ad2891cb.jpg  \n",
            " extracting: dataset/train/images/Image5_jpg.rf.49271c9893d9e406f0bb2c4bfa09bf76.jpg  \n",
            " extracting: dataset/train/images/Image5_jpg.rf.59ca2314c36d1cca3c91ce0cfea5de3e.jpg  \n",
            " extracting: dataset/train/images/Image5_jpg.rf.5c5f68a21a8de8f29f93f44cc265e453.jpg  \n",
            " extracting: dataset/train/images/Image5_jpg.rf.5d3be0a480bd5460c131671067a95b2b.jpg  \n",
            " extracting: dataset/train/images/Image5_jpg.rf.5d66bebc0a834b2dc89b468090c9d0e2.jpg  \n",
            " extracting: dataset/train/images/Image5_jpg.rf.67971f7dca2a0051a1caff040525ff81.jpg  \n",
            " extracting: dataset/train/images/Image5_jpg.rf.67cd2255bb12aa506dbdfdc6fc6b4558.jpg  \n",
            " extracting: dataset/train/images/Image5_jpg.rf.7303eb62dc45b233a69a4ab7c2e1d557.jpg  \n",
            " extracting: dataset/train/images/Image5_jpg.rf.7b1f545551981756f49d4a6deffa00e0.jpg  \n",
            " extracting: dataset/train/images/Image5_jpg.rf.80aedadb645378296c84ffbfc2f54a69.jpg  \n",
            " extracting: dataset/train/images/Image5_jpg.rf.8641268f0206310d8f076d844675fb5d.jpg  \n",
            " extracting: dataset/train/images/Image5_jpg.rf.8b0f58b521b93ea7360499774dc483dc.jpg  \n",
            " extracting: dataset/train/images/Image5_jpg.rf.8e04763bd745cb6891705051c52fab0c.jpg  \n",
            " extracting: dataset/train/images/Image5_jpg.rf.9bf0e3ead8cea2248754042b9dd2b803.jpg  \n",
            " extracting: dataset/train/images/Image5_jpg.rf.9c02d66bc5de0c767ff2f587da2ed1fd.jpg  \n",
            " extracting: dataset/train/images/Image5_jpg.rf.a006dfa0e28c3d29213cb7f01f5117cb.jpg  \n",
            " extracting: dataset/train/images/Image5_jpg.rf.a60a76d1655dd7c77f7912d866e841a0.jpg  \n",
            " extracting: dataset/train/images/Image5_jpg.rf.a9480b769174acece14a9342e15383d4.jpg  \n",
            " extracting: dataset/train/images/Image5_jpg.rf.ae082d90d2134e72341157a1abe856d0.jpg  \n",
            " extracting: dataset/train/images/Image5_jpg.rf.b086d0dbbb63b8991ca987e6eb79004c.jpg  \n",
            " extracting: dataset/train/images/Image5_jpg.rf.b0dd2534b1e96b0c822d22dbaf52ba82.jpg  \n",
            " extracting: dataset/train/images/Image5_jpg.rf.b4c3af07144a7ab538a2e6743a085a55.jpg  \n",
            " extracting: dataset/train/images/Image5_jpg.rf.c05da59a92b88f6c2bfb90ff718822e4.jpg  \n",
            " extracting: dataset/train/images/Image5_jpg.rf.cf64409a1a91708107f5dfa8f4a03857.jpg  \n",
            " extracting: dataset/train/images/Image5_jpg.rf.d23ef6461d244006935634b60c231176.jpg  \n",
            " extracting: dataset/train/images/Image5_jpg.rf.d755c67f485d16f8ee24b460998b81eb.jpg  \n",
            " extracting: dataset/train/images/Image5_jpg.rf.dcd95677fca0ff1189ac11da1247f656.jpg  \n",
            " extracting: dataset/train/images/Image5_jpg.rf.e53cfc63e363990877ce1b9644972b3a.jpg  \n",
            " extracting: dataset/train/images/Image5_jpg.rf.f5e51fac8cbd28fd7f1dde7345e1c201.jpg  \n",
            " extracting: dataset/train/images/Image5_jpg.rf.fe39bc3449e51925f7358542dad6e6e3.jpg  \n",
            " extracting: dataset/train/images/Image5_jpg.rf.ffefac236ea539c994b8186745505134.jpg  \n",
            " extracting: dataset/train/images/Image6R_jpg.rf.05d6210adfcae24c35e25d74bf7c71c8.jpg  \n",
            " extracting: dataset/train/images/Image6R_jpg.rf.0c214e770a90b5d88a7ac3175e418b14.jpg  \n",
            " extracting: dataset/train/images/Image6R_jpg.rf.12ffea6257637380ff5bd894c4d811b9.jpg  \n",
            " extracting: dataset/train/images/Image6R_jpg.rf.24034e9c82f2362175749d610bc7e7a9.jpg  \n",
            " extracting: dataset/train/images/Image6R_jpg.rf.325b0e1a987f2041c446387a1dfb37a6.jpg  \n",
            " extracting: dataset/train/images/Image6R_jpg.rf.33c5f80fbdd54b915fbd99187e006411.jpg  \n",
            " extracting: dataset/train/images/Image6R_jpg.rf.37c3d654af77604e0bac4f9664526c9d.jpg  \n",
            " extracting: dataset/train/images/Image6R_jpg.rf.4b6427cdade0f9666f78d6ac05b0da43.jpg  \n",
            " extracting: dataset/train/images/Image6R_jpg.rf.4d6edec7d65de5264d0312d837316814.jpg  \n",
            " extracting: dataset/train/images/Image6R_jpg.rf.4dff134d7ad4e97721eb4ee636f19f3c.jpg  \n",
            " extracting: dataset/train/images/Image6R_jpg.rf.5ca9d3a732ce09f534dcd76d45a3048f.jpg  \n",
            " extracting: dataset/train/images/Image6R_jpg.rf.6621a02660ba601b1520c46af1ed36e3.jpg  \n",
            " extracting: dataset/train/images/Image6R_jpg.rf.823b9421773b1b86fd1637eb4734d1bf.jpg  \n",
            " extracting: dataset/train/images/Image6R_jpg.rf.8a24d29e18a293f1a19c3a6e8dc98f22.jpg  \n",
            " extracting: dataset/train/images/Image6R_jpg.rf.8b1acef91d4c6bdbb079281cd8158119.jpg  \n",
            " extracting: dataset/train/images/Image6R_jpg.rf.92c63760652a44793347bfdf582b8810.jpg  \n",
            " extracting: dataset/train/images/Image6R_jpg.rf.941770ea1b83d8c6d2e9cc404d75adff.jpg  \n",
            " extracting: dataset/train/images/Image6R_jpg.rf.94df1fdd84160714e013f21a031f1fa2.jpg  \n",
            " extracting: dataset/train/images/Image6R_jpg.rf.963f0d5462a9bb802c1a6850c84d31bd.jpg  \n",
            " extracting: dataset/train/images/Image6R_jpg.rf.9d89499e7c517baffde96bb5ad39dfa7.jpg  \n",
            " extracting: dataset/train/images/Image6R_jpg.rf.aa9e2c6a4a6755f53976340cac9ab47d.jpg  \n",
            " extracting: dataset/train/images/Image6R_jpg.rf.bd690792d0410dac673f1209ff498671.jpg  \n",
            " extracting: dataset/train/images/Image6R_jpg.rf.c1103fb38f21896666450444c1a9ff4c.jpg  \n",
            " extracting: dataset/train/images/Image6R_jpg.rf.c4da4d3258765e3c1e82e3f5bb47a860.jpg  \n",
            " extracting: dataset/train/images/Image6R_jpg.rf.ca5a19568dfbb7d74e9c11740538aba7.jpg  \n",
            " extracting: dataset/train/images/Image6R_jpg.rf.cc67bc6f8ae6b779ce83f7b44234d0c2.jpg  \n",
            " extracting: dataset/train/images/Image6R_jpg.rf.dc8a31b6784a2b5788c22a224392dced.jpg  \n",
            " extracting: dataset/train/images/Image6R_jpg.rf.dec332a550a930ec4e8b64538863760e.jpg  \n",
            " extracting: dataset/train/images/Image6R_jpg.rf.e2f3c7f52501b1d612beef86958fab50.jpg  \n",
            " extracting: dataset/train/images/Image6R_jpg.rf.efd753fc6535774a96fe5133ea3bd4c9.jpg  \n",
            " extracting: dataset/train/images/Image6R_jpg.rf.f66540458017ad529aca873e488000da.jpg  \n",
            " extracting: dataset/train/images/Image6R_jpg.rf.f93c030ce7a31ce012eab035ecbbeafc.jpg  \n",
            " extracting: dataset/train/images/Image6_jpg.rf.085becb021ce234b22a882eefaf523ae.jpg  \n",
            " extracting: dataset/train/images/Image6_jpg.rf.0cf02b92577709ef987c4d9d530a2ca6.jpg  \n",
            " extracting: dataset/train/images/Image6_jpg.rf.10bcec42730cd6f436ff2ffc0df68ddf.jpg  \n",
            " extracting: dataset/train/images/Image6_jpg.rf.1cbd357fe11d2fca34bb02e8f2b4a7b0.jpg  \n",
            " extracting: dataset/train/images/Image6_jpg.rf.1e30b0c215258f5b8519d159982b643d.jpg  \n",
            " extracting: dataset/train/images/Image6_jpg.rf.255a67ebb981544f732a2d41050e88f0.jpg  \n",
            " extracting: dataset/train/images/Image6_jpg.rf.2c751247fb776314440fbb1c43890956.jpg  \n",
            " extracting: dataset/train/images/Image6_jpg.rf.2ef32d08845b9d0afcdf2f8fd8fe5090.jpg  \n",
            " extracting: dataset/train/images/Image6_jpg.rf.36684ea11a8c59ff744a25ab12107345.jpg  \n",
            " extracting: dataset/train/images/Image6_jpg.rf.3959a10bf2ad0a6f4dd5ba2fbb35343b.jpg  \n",
            " extracting: dataset/train/images/Image6_jpg.rf.43291f648b7424960b08671a8c08bbd4.jpg  \n",
            " extracting: dataset/train/images/Image6_jpg.rf.4675437a49fa3df170217c6af01fd0cc.jpg  \n",
            " extracting: dataset/train/images/Image6_jpg.rf.4cc3d5d9b75cef2311d7cd93517d1db2.jpg  \n",
            " extracting: dataset/train/images/Image6_jpg.rf.579d62cd74303f83b88805346d9aef14.jpg  \n",
            " extracting: dataset/train/images/Image6_jpg.rf.59649a4fa6a7f4205905203ace921167.jpg  \n",
            " extracting: dataset/train/images/Image6_jpg.rf.5ced0e245cdc7888112809bf2120888f.jpg  \n",
            " extracting: dataset/train/images/Image6_jpg.rf.5efceee4b9cffe9ebed1e3ad8562c088.jpg  \n",
            " extracting: dataset/train/images/Image6_jpg.rf.658311971dd863bf939979603c1c88e5.jpg  \n",
            " extracting: dataset/train/images/Image6_jpg.rf.66cca1dab4c6cb830905c240e73f25ec.jpg  \n",
            " extracting: dataset/train/images/Image6_jpg.rf.7fd3ed16dd9d6b5540a1ae9f388e6b97.jpg  \n",
            " extracting: dataset/train/images/Image6_jpg.rf.84b2c2d948e1756b98eab3c3ad15244e.jpg  \n",
            " extracting: dataset/train/images/Image6_jpg.rf.858a5368efdd147e02ff545819c046dc.jpg  \n",
            " extracting: dataset/train/images/Image6_jpg.rf.8c3645fed98b2be8e3315864503bf395.jpg  \n",
            " extracting: dataset/train/images/Image6_jpg.rf.95456b96c4011090050a92c31a881c0f.jpg  \n",
            " extracting: dataset/train/images/Image6_jpg.rf.a9a253d348732b91cb14846608c47f69.jpg  \n",
            " extracting: dataset/train/images/Image6_jpg.rf.b2545929006e01ebb3b9344fda149416.jpg  \n",
            " extracting: dataset/train/images/Image6_jpg.rf.b738db7c8baae53ac308081c4dc5e0aa.jpg  \n",
            " extracting: dataset/train/images/Image6_jpg.rf.c65118bcbdaee5c88cf36b2564a9e750.jpg  \n",
            " extracting: dataset/train/images/Image6_jpg.rf.d9b8e0e412a7f05ea9a6a4927d1288d5.jpg  \n",
            " extracting: dataset/train/images/Image6_jpg.rf.e09493c937d698ba6aa0cc563a33e027.jpg  \n",
            " extracting: dataset/train/images/Image6_jpg.rf.f284a5d66177dd66638a68c0925a1801.jpg  \n",
            " extracting: dataset/train/images/Image6_jpg.rf.f70094bb38f8a66403c9f5ee8b2bef79.jpg  \n",
            " extracting: dataset/train/images/Image6_jpg.rf.fe2ca75ebcef0e4f24bc81ed2a248508.jpg  \n",
            " extracting: dataset/train/images/box_100_jpg.rf.19f58fe537fb450b39546a49ff27ca4c.jpg  \n",
            " extracting: dataset/train/images/box_100_jpg.rf.730aedc85ba7d645a2d9da8976e86e89.jpg  \n",
            " extracting: dataset/train/images/box_100_jpg.rf.7c94d08f1eee639eac235edb106824ec.jpg  \n",
            " extracting: dataset/train/images/box_100_jpg.rf.7f2f04029d8793b480f95ec481f5f07e.jpg  \n",
            " extracting: dataset/train/images/box_100_jpg.rf.e0d28841d576aaaf7f1831850fa16d77.jpg  \n",
            " extracting: dataset/train/images/box_101_jpg.rf.164ce98b83efccfe3468101865686ac9.jpg  \n",
            " extracting: dataset/train/images/box_101_jpg.rf.22637ba8b08ec3e3afaa2ec444c9ed0a.jpg  \n",
            " extracting: dataset/train/images/box_101_jpg.rf.283a6fe1fc3843d5ed2458bdf3ce8812.jpg  \n",
            " extracting: dataset/train/images/box_101_jpg.rf.3d54b42ec0ac97547bafb86133be4f74.jpg  \n",
            " extracting: dataset/train/images/box_101_jpg.rf.74cec55672887ec747004a5e2f4ac510.jpg  \n",
            " extracting: dataset/train/images/box_101_jpg.rf.bffcb464dfbaa53f4af2185077ad66f1.jpg  \n",
            " extracting: dataset/train/images/box_101_jpg.rf.cc57d76eed120a10559bfab50804c68e.jpg  \n",
            " extracting: dataset/train/images/box_101_jpg.rf.ed8e3feea1de7e36b4db642bbac54bab.jpg  \n",
            " extracting: dataset/train/images/box_102_jpg.rf.48221285f019e1230d1f8c8a4d5577ca.jpg  \n",
            " extracting: dataset/train/images/box_102_jpg.rf.4d297b9e816f0d6b4f2225e854e58b80.jpg  \n",
            " extracting: dataset/train/images/box_102_jpg.rf.53a24886c1ced136a518d455ecc63194.jpg  \n",
            " extracting: dataset/train/images/box_102_jpg.rf.55be1d13ede32b4e53c77dacc1cbe19e.jpg  \n",
            " extracting: dataset/train/images/box_102_jpg.rf.7679dcf7db9f2c3b76be341bda48d505.jpg  \n",
            " extracting: dataset/train/images/box_102_jpg.rf.8ca732cf5efaa0091cda9785d4219689.jpg  \n",
            " extracting: dataset/train/images/box_102_jpg.rf.9df3fcecafa7fcde540467d5545283c3.jpg  \n",
            " extracting: dataset/train/images/box_102_jpg.rf.becac3e5b8a4213d6fa581e59b3a8f7c.jpg  \n",
            " extracting: dataset/train/images/box_102_jpg.rf.c29321921eaa716cfe0adf9e5b37d480.jpg  \n",
            " extracting: dataset/train/images/box_102_jpg.rf.f640295aeba5d02a13f31b272bda8781.jpg  \n",
            " extracting: dataset/train/images/box_102_jpg.rf.f87be58cd150a2a652b77f8c1f4f1595.jpg  \n",
            " extracting: dataset/train/images/box_103_jpg.rf.378dd2f167b12644530d6a6812c11cec.jpg  \n",
            " extracting: dataset/train/images/box_103_jpg.rf.47fda0656187d74daf3bb7c69946b6ef.jpg  \n",
            " extracting: dataset/train/images/box_103_jpg.rf.52d3f80445d6d34951d86c99e85f51f2.jpg  \n",
            " extracting: dataset/train/images/box_103_jpg.rf.a8c4714a47812e925205c852ffc1f65f.jpg  \n",
            " extracting: dataset/train/images/box_103_jpg.rf.f07cbae54df905c75448bb0b869aaa4e.jpg  \n",
            " extracting: dataset/train/images/box_103_jpg.rf.f348978bea62a742f29d023d180ba639.jpg  \n",
            " extracting: dataset/train/images/box_103_jpg.rf.f9a5ca4b729f9b7c3bb39b12aa54511b.jpg  \n",
            " extracting: dataset/train/images/box_104_jpg.rf.04da06dd85ff014cc2dafd408b1b9f6d.jpg  \n",
            " extracting: dataset/train/images/box_104_jpg.rf.0f8504c0ee8252e65db9578eab645ba9.jpg  \n",
            " extracting: dataset/train/images/box_104_jpg.rf.31a8ac7da9f28c75c1dc54c2d654dc88.jpg  \n",
            " extracting: dataset/train/images/box_104_jpg.rf.3e8f54552b11a41c07e7df50b1420f61.jpg  \n",
            " extracting: dataset/train/images/box_104_jpg.rf.4aa030485e1dc10c654ba45a630974e9.jpg  \n",
            " extracting: dataset/train/images/box_104_jpg.rf.a30ee5a194516c41ea3e95b60ee589e9.jpg  \n",
            " extracting: dataset/train/images/box_104_jpg.rf.cb92395426bdbf3660baeccb2d488eb9.jpg  \n",
            " extracting: dataset/train/images/box_104_jpg.rf.ce959db43fa993d9d7030ff6a901df9a.jpg  \n",
            " extracting: dataset/train/images/box_104_jpg.rf.f28c63e3fe3271d786d4d9769f0f7166.jpg  \n",
            " extracting: dataset/train/images/box_104_jpg.rf.fd80e6d4620775b828b2dbc37cc1b881.jpg  \n",
            " extracting: dataset/train/images/box_104_jpg.rf.fdb75eae0265f56519a73df66a08796c.jpg  \n",
            " extracting: dataset/train/images/box_105_jpg.rf.003472d03c2b34189f8a77f7c0e3778c.jpg  \n",
            " extracting: dataset/train/images/box_105_jpg.rf.1055110eb5ff0bf05f37b5320513e086.jpg  \n",
            " extracting: dataset/train/images/box_105_jpg.rf.2520af1fbfb44d58e8bf857a44c133fd.jpg  \n",
            " extracting: dataset/train/images/box_105_jpg.rf.35f7a5a34f393349a76ce622262a0d8f.jpg  \n",
            " extracting: dataset/train/images/box_105_jpg.rf.5702691bae6408230b988c220f3e028a.jpg  \n",
            " extracting: dataset/train/images/box_105_jpg.rf.67f5be537091a2e447a8053a666a1de1.jpg  \n",
            " extracting: dataset/train/images/box_105_jpg.rf.7269522af25b0d5ddc88f0081e906aaa.jpg  \n",
            " extracting: dataset/train/images/box_105_jpg.rf.731afeb18d51c6fd8a9c9ed21669e36a.jpg  \n",
            " extracting: dataset/train/images/box_105_jpg.rf.7eed3cbfe339b2c81859f89c7c82783b.jpg  \n",
            " extracting: dataset/train/images/box_105_jpg.rf.9ca125ba762be0744a91a34708c2a953.jpg  \n",
            " extracting: dataset/train/images/box_105_jpg.rf.a3795cafeb5657ca03d68bf7a3b98497.jpg  \n",
            " extracting: dataset/train/images/box_105_jpg.rf.a42098129490f24da014fb8cf4450780.jpg  \n",
            " extracting: dataset/train/images/box_105_jpg.rf.a9e97e8e3f7bf2a7c36a8c54e03c755b.jpg  \n",
            " extracting: dataset/train/images/box_105_jpg.rf.af825e6d891dd349ea8f2f74bf0ebef0.jpg  \n",
            " extracting: dataset/train/images/box_105_jpg.rf.b20ae454276826363f2d17913b795e53.jpg  \n",
            " extracting: dataset/train/images/box_105_jpg.rf.cb16d1f366727ba7b7cb131a95085e02.jpg  \n",
            " extracting: dataset/train/images/box_105_jpg.rf.d3c7f686346eab28ebf64b9ec0bc97cf.jpg  \n",
            " extracting: dataset/train/images/box_105_jpg.rf.eee365c344f66b7af90ce866c7f195cd.jpg  \n",
            " extracting: dataset/train/images/box_105_jpg.rf.f733795d371ddac252dba006e8b48dc9.jpg  \n",
            " extracting: dataset/train/images/box_106_jpg.rf.0b9fbd97172bb6a7cc6bfd21a24827b6.jpg  \n",
            " extracting: dataset/train/images/box_106_jpg.rf.18c14749939e7a6315fb2af69a375878.jpg  \n",
            " extracting: dataset/train/images/box_106_jpg.rf.2bec4cd7624ae43cde990baa55020e98.jpg  \n",
            " extracting: dataset/train/images/box_106_jpg.rf.3351357bc137bfcb3b5c7e3f3ffc0b7c.jpg  \n",
            " extracting: dataset/train/images/box_106_jpg.rf.413e18e70caf2f8b015ee37194196c55.jpg  \n",
            " extracting: dataset/train/images/box_106_jpg.rf.8ff5d533dd7980f4d04527145f6705dc.jpg  \n",
            " extracting: dataset/train/images/box_106_jpg.rf.a8ab9a7b3754db035b5086f3c3a77a30.jpg  \n",
            " extracting: dataset/train/images/box_106_jpg.rf.dbf29acb2dbbeea33cb1377c0dc439f7.jpg  \n",
            " extracting: dataset/train/images/box_106_jpg.rf.ec925f7fc637fb5b9b1366cc9cce074b.jpg  \n",
            " extracting: dataset/train/images/box_106_jpg.rf.f4b5237adf14dc50aeeebc79b8ed2673.jpg  \n",
            " extracting: dataset/train/images/box_106_jpg.rf.f6fb4f9999163e64c1c1d85cd2968d7e.jpg  \n",
            " extracting: dataset/train/images/box_106_jpg.rf.fde791ab9db3cd3f58e517a1522fa79a.jpg  \n",
            " extracting: dataset/train/images/box_107_jpg.rf.16fd73a76aebb280bc59319cd025e607.jpg  \n",
            " extracting: dataset/train/images/box_107_jpg.rf.3b85d90c0e1e33b73612a11d99106848.jpg  \n",
            " extracting: dataset/train/images/box_107_jpg.rf.508b79ec6db7c6d3521ca1c211f61490.jpg  \n",
            " extracting: dataset/train/images/box_107_jpg.rf.8213da8021e6062a44d5317dd8b1abec.jpg  \n",
            " extracting: dataset/train/images/box_107_jpg.rf.87e54cd55c49578b1ad4bd1c0f17557e.jpg  \n",
            " extracting: dataset/train/images/box_107_jpg.rf.92b7f971c72c6e91b0a7a0ea22216ee0.jpg  \n",
            " extracting: dataset/train/images/box_107_jpg.rf.a2795ed1ba97ec84821ef3079e2d622a.jpg  \n",
            " extracting: dataset/train/images/box_107_jpg.rf.b4248aaa55aa1ce02fa7a7399cb46579.jpg  \n",
            " extracting: dataset/train/images/box_107_jpg.rf.b8bcefc6b7f02311a73a556b8a120658.jpg  \n",
            " extracting: dataset/train/images/box_107_jpg.rf.b8c31109d66df7b9efc893a5239f253a.jpg  \n",
            " extracting: dataset/train/images/box_107_jpg.rf.bd3bc02da49a5e8cb0081a6bfbbb57a8.jpg  \n",
            " extracting: dataset/train/images/box_107_jpg.rf.c39f3dec8c5305bd5c57a655d0f177a0.jpg  \n",
            " extracting: dataset/train/images/box_108_jpg.rf.0b920a1f010234cb105c3e38f1927cf4.jpg  \n",
            " extracting: dataset/train/images/box_108_jpg.rf.0e62dc51c5e8ef6fe8317695cd93527c.jpg  \n",
            " extracting: dataset/train/images/box_108_jpg.rf.432b50e2b9f4bff6e5f39f62a8c2afc1.jpg  \n",
            " extracting: dataset/train/images/box_108_jpg.rf.445d76f4ab41fb8ddb641aff9f9f37f9.jpg  \n",
            " extracting: dataset/train/images/box_108_jpg.rf.60c6b99be26c641fde2aeea49a74d5e4.jpg  \n",
            " extracting: dataset/train/images/box_108_jpg.rf.688638bab186e9ba7002f5ce3ebab7b9.jpg  \n",
            " extracting: dataset/train/images/box_108_jpg.rf.6bd8fb3a6a9e5ad957e7fdc559658fcc.jpg  \n",
            " extracting: dataset/train/images/box_108_jpg.rf.7a190c8a9d6b086d225951df81a521a3.jpg  \n",
            " extracting: dataset/train/images/box_108_jpg.rf.a6eb77ef33297f77cbf55a7caa35c2c7.jpg  \n",
            " extracting: dataset/train/images/box_108_jpg.rf.a74a2ea01210ebb397a6813a6d20d662.jpg  \n",
            " extracting: dataset/train/images/box_108_jpg.rf.b2775c1dc66be2cc76d677bb2532f721.jpg  \n",
            " extracting: dataset/train/images/box_108_jpg.rf.c2437c1e240327db9bee9dd129db3307.jpg  \n",
            " extracting: dataset/train/images/box_108_jpg.rf.d5e9983c9fa3b6484b489691ab409488.jpg  \n",
            " extracting: dataset/train/images/box_108_jpg.rf.ebdb428f10b1f83acea60a52f2d4dcbd.jpg  \n",
            " extracting: dataset/train/images/box_108_jpg.rf.f2f783f0877914ac339e3a7689c14f2f.jpg  \n",
            " extracting: dataset/train/images/box_108_jpg.rf.ff00fc0f8612c2f19caf9a44c5d56cea.jpg  \n",
            " extracting: dataset/train/images/box_109_jpg.rf.0d630edd11418aa746346f822e176aa7.jpg  \n",
            " extracting: dataset/train/images/box_109_jpg.rf.162e4cbf5fe70a45124cc2750c965772.jpg  \n",
            " extracting: dataset/train/images/box_109_jpg.rf.282b0d5674030cb5ebb84d4324294463.jpg  \n",
            " extracting: dataset/train/images/box_109_jpg.rf.46715b7a6c79ad2d35848ebdea45c65c.jpg  \n",
            " extracting: dataset/train/images/box_109_jpg.rf.7a57b9a9c2a3ea3d015bc8df3afe0b03.jpg  \n",
            " extracting: dataset/train/images/box_109_jpg.rf.811dd31272a20384742b960cbd137f44.jpg  \n",
            " extracting: dataset/train/images/box_109_jpg.rf.965aef0ee6ad1d8e3dd25900426ecf22.jpg  \n",
            " extracting: dataset/train/images/box_109_jpg.rf.9a6a8c13c16518e21c0bedcaf355304a.jpg  \n",
            " extracting: dataset/train/images/box_109_jpg.rf.9f4f199ef78a77c3d356d9954137e80a.jpg  \n",
            " extracting: dataset/train/images/box_109_jpg.rf.a2282389ec402e7295ccc8b17413cb0d.jpg  \n",
            " extracting: dataset/train/images/box_109_jpg.rf.a252e8cc6467c8b45c65d462baa94768.jpg  \n",
            " extracting: dataset/train/images/box_109_jpg.rf.a4d881cda1b9093fcde9cbc3f891ba07.jpg  \n",
            " extracting: dataset/train/images/box_109_jpg.rf.a5c8571bd3be6f0f53f0c5cef085a15c.jpg  \n",
            " extracting: dataset/train/images/box_109_jpg.rf.a5d6b6a53349374f5793339aae92592d.jpg  \n",
            " extracting: dataset/train/images/box_109_jpg.rf.d0d12dabb6df0b59d337b2d470f14da6.jpg  \n",
            " extracting: dataset/train/images/box_109_jpg.rf.e07b916a8d2a26ad3ff7293395effc38.jpg  \n",
            " extracting: dataset/train/images/box_110_jpg.rf.1c09680328d6226e58a7af38b27e33ed.jpg  \n",
            " extracting: dataset/train/images/box_110_jpg.rf.1e21acb88c4bef18918914629ff378a4.jpg  \n",
            " extracting: dataset/train/images/box_110_jpg.rf.268dcdbaf415d66bb33560f972f936db.jpg  \n",
            " extracting: dataset/train/images/box_110_jpg.rf.2f0551609f689065219858670fd1f7c3.jpg  \n",
            " extracting: dataset/train/images/box_110_jpg.rf.62fa1f8869d86721929f8cb61d3432a7.jpg  \n",
            " extracting: dataset/train/images/box_110_jpg.rf.638e6ce12d4b0ae1b503498bd72742a8.jpg  \n",
            " extracting: dataset/train/images/box_110_jpg.rf.66ef6167960a8fb774e9fbadbb19fd5f.jpg  \n",
            " extracting: dataset/train/images/box_110_jpg.rf.6726fb29e468e82ed5841a21f75e558f.jpg  \n",
            " extracting: dataset/train/images/box_110_jpg.rf.94adac78587257ed9a03bea93b8e8957.jpg  \n",
            " extracting: dataset/train/images/box_110_jpg.rf.b7feaab9c609fbbb013458f7ea0b0baa.jpg  \n",
            " extracting: dataset/train/images/box_110_jpg.rf.bf40cfa14ea2970679aaf5036212bf62.jpg  \n",
            " extracting: dataset/train/images/box_110_jpg.rf.d61c08157a10f50283bbced51d459615.jpg  \n",
            " extracting: dataset/train/images/box_110_jpg.rf.e4fb228f82a4bc4ef38238da36397f88.jpg  \n",
            " extracting: dataset/train/images/box_110_jpg.rf.eb348420c0b4e955ffd548b720244360.jpg  \n",
            " extracting: dataset/train/images/box_111_jpg.rf.22340e3d73f903266074653e104b6e98.jpg  \n",
            " extracting: dataset/train/images/box_111_jpg.rf.4f99d023609e6c490ed703ee45cd482f.jpg  \n",
            " extracting: dataset/train/images/box_111_jpg.rf.71803fc865ee483df27fd54a589f42b6.jpg  \n",
            " extracting: dataset/train/images/box_111_jpg.rf.792b9e151c35691c304f44b112b845d3.jpg  \n",
            " extracting: dataset/train/images/box_111_jpg.rf.8f97e508ba24a080ae616c227ca8741a.jpg  \n",
            " extracting: dataset/train/images/box_111_jpg.rf.984cb554b43f0dd60a032dc162a48625.jpg  \n",
            " extracting: dataset/train/images/box_111_jpg.rf.99489d39f24d0f5c8e1f36196a9f291f.jpg  \n",
            " extracting: dataset/train/images/box_111_jpg.rf.a8a46631fa63249d36693eda695772bd.jpg  \n",
            " extracting: dataset/train/images/box_111_jpg.rf.c92a66168a1a0e18961ff13046f36b70.jpg  \n",
            " extracting: dataset/train/images/box_111_jpg.rf.d1643e522ea195c00a6b07f4be793d82.jpg  \n",
            " extracting: dataset/train/images/box_111_jpg.rf.d56cf1a75adf6355a8a00f8459c8ced4.jpg  \n",
            " extracting: dataset/train/images/box_111_jpg.rf.dfbc11b47599c89b8600b3caedeb9bea.jpg  \n",
            " extracting: dataset/train/images/box_111_jpg.rf.fc29bfb178af7c4d8b5538168f9333ae.jpg  \n",
            " extracting: dataset/train/images/box_112_jpg.rf.0e74712cb6d86de2595554991ccd3e48.jpg  \n",
            " extracting: dataset/train/images/box_112_jpg.rf.1719a2bc695fba9e96c055805708709a.jpg  \n",
            " extracting: dataset/train/images/box_112_jpg.rf.562345a4295a815d765ddde8482926fd.jpg  \n",
            " extracting: dataset/train/images/box_112_jpg.rf.5a8d6ecae4a60b638f468af1ceacd70e.jpg  \n",
            " extracting: dataset/train/images/box_112_jpg.rf.6ada457c44c1e293b3a75a5242c05852.jpg  \n",
            " extracting: dataset/train/images/box_112_jpg.rf.6c6baccfe98ecdd8720899446e21fc1b.jpg  \n",
            " extracting: dataset/train/images/box_112_jpg.rf.aac8003c77d38d6e7c15904bde528b0b.jpg  \n",
            " extracting: dataset/train/images/box_112_jpg.rf.afab1896d08a38d17084612475e781ed.jpg  \n",
            " extracting: dataset/train/images/box_112_jpg.rf.e6a4f36cece2e4ae082f5d6a19779586.jpg  \n",
            " extracting: dataset/train/images/box_113_jpg.rf.0ec144d3a38009c9c3889149a190003c.jpg  \n",
            " extracting: dataset/train/images/box_113_jpg.rf.1e4c0987efed0d3b816d0512088d2f31.jpg  \n",
            " extracting: dataset/train/images/box_113_jpg.rf.1fa05d4a3240f51a92863c0049e2eefd.jpg  \n",
            " extracting: dataset/train/images/box_113_jpg.rf.24918610bf5efc6c9f122a5bb946fb5d.jpg  \n",
            " extracting: dataset/train/images/box_113_jpg.rf.60a55d6070fb7c2b7af51672c383dfc7.jpg  \n",
            " extracting: dataset/train/images/box_113_jpg.rf.6718b9ed8a60775d7ccaad2513765193.jpg  \n",
            " extracting: dataset/train/images/box_113_jpg.rf.7b7e7d42e580fe6ef6d1ed4fcb5c8cff.jpg  \n",
            " extracting: dataset/train/images/box_113_jpg.rf.8ed4577ff866298f183a4f7355826539.jpg  \n",
            " extracting: dataset/train/images/box_113_jpg.rf.a6e3263c3aca3c30ae88bf924eb4030f.jpg  \n",
            " extracting: dataset/train/images/box_113_jpg.rf.c01e5499dc0a5585445e00859a0dd422.jpg  \n",
            " extracting: dataset/train/images/box_113_jpg.rf.c53ff497cb2cffd1b4145615c929b7cf.jpg  \n",
            " extracting: dataset/train/images/box_113_jpg.rf.db432464fe22c31f8cf2fb9c730fb4d5.jpg  \n",
            " extracting: dataset/train/images/box_113_jpg.rf.e3fc52c1a9aed384b3ca8704631b645e.jpg  \n",
            " extracting: dataset/train/images/box_113_jpg.rf.e6313a53fd129c3a66477d8f89704e8e.jpg  \n",
            " extracting: dataset/train/images/box_113_jpg.rf.ef5c2d9f0a91394dbcf74e6f2871961d.jpg  \n",
            " extracting: dataset/train/images/box_113_jpg.rf.fa346e0bbb61223f0c5892be3d8dd54b.jpg  \n",
            " extracting: dataset/train/images/box_114_jpg.rf.065f79fcc4506ee5ed1679b6ca1a1974.jpg  \n",
            " extracting: dataset/train/images/box_114_jpg.rf.1378631cd46271938884573eedcadf33.jpg  \n",
            " extracting: dataset/train/images/box_114_jpg.rf.295c2f529689ab2aaa1b464ea639a19a.jpg  \n",
            " extracting: dataset/train/images/box_114_jpg.rf.31fcf8aa321d32210d32351c2bbe32ef.jpg  \n",
            " extracting: dataset/train/images/box_114_jpg.rf.5453d130aaa4edcf173f92e7b50db8ee.jpg  \n",
            " extracting: dataset/train/images/box_114_jpg.rf.9479b23c5e783cf8f887ff102122c64c.jpg  \n",
            " extracting: dataset/train/images/box_114_jpg.rf.9910af7a4fcb58d63df5cef4b99e16bd.jpg  \n",
            " extracting: dataset/train/images/box_114_jpg.rf.b47d2d5ba9f3506456fbc58fb1401300.jpg  \n",
            " extracting: dataset/train/images/box_114_jpg.rf.ba250e06656ebb788e8f24b8edbeda75.jpg  \n",
            " extracting: dataset/train/images/box_114_jpg.rf.c122741cfd92f6072e20201f4eacaf81.jpg  \n",
            " extracting: dataset/train/images/box_114_jpg.rf.c9068fd7345027302d79f3054ad3b633.jpg  \n",
            " extracting: dataset/train/images/box_114_jpg.rf.e1d0ad5b43d43491ed5f017d8db9719c.jpg  \n",
            " extracting: dataset/train/images/box_114_jpg.rf.ee3b20b28d85d6a697495e6f67e0146c.jpg  \n",
            " extracting: dataset/train/images/box_114_jpg.rf.f6fbac253a21b75f1f4f6ea2f1498640.jpg  \n",
            " extracting: dataset/train/images/box_115_jpg.rf.0475e57aa9a7a11a9b9b5d3550b31e0e.jpg  \n",
            " extracting: dataset/train/images/box_115_jpg.rf.0ba9cecdf8b37cb9cfc9f936616b82b3.jpg  \n",
            " extracting: dataset/train/images/box_115_jpg.rf.2f5efdd0798c053586ec44ae8fc89c00.jpg  \n",
            " extracting: dataset/train/images/box_115_jpg.rf.5b1f76fcb2ff736cd555f62918eca3c0.jpg  \n",
            " extracting: dataset/train/images/box_115_jpg.rf.832ca0b9f93213b28e8c47688bbb3a7f.jpg  \n",
            " extracting: dataset/train/images/box_115_jpg.rf.9776383f2cefe5d5a80f87b3a7cc56b4.jpg  \n",
            " extracting: dataset/train/images/box_115_jpg.rf.9996b455e5c1c26aec4b9f91a0aa47bd.jpg  \n",
            " extracting: dataset/train/images/box_115_jpg.rf.a6d480ddd1f8d1f33c91bb4ee2dc7415.jpg  \n",
            " extracting: dataset/train/images/box_115_jpg.rf.bcf8d1a96d72c0d1f2c1d44352fc0b6a.jpg  \n",
            " extracting: dataset/train/images/box_115_jpg.rf.db4330bb38060229c3e651ddf46edb5f.jpg  \n",
            " extracting: dataset/train/images/box_115_jpg.rf.ed20b9cd21155fa553c740e6d870c84c.jpg  \n",
            " extracting: dataset/train/images/box_115_jpg.rf.f7b7338905bfe07d52cd801ad896d1cb.jpg  \n",
            " extracting: dataset/train/images/box_116_jpg.rf.10fae8a31ca9962beb2c675309f8f0fe.jpg  \n",
            " extracting: dataset/train/images/box_116_jpg.rf.1ee93e0ca2c645d7a00e52b08a45994c.jpg  \n",
            " extracting: dataset/train/images/box_116_jpg.rf.3410907179b06009eaa2d6744dd81ce9.jpg  \n",
            " extracting: dataset/train/images/box_116_jpg.rf.4bd8415ab2f7c75833db9a02c0c73ab1.jpg  \n",
            " extracting: dataset/train/images/box_116_jpg.rf.749ea84986df936bf560aba266245398.jpg  \n",
            " extracting: dataset/train/images/box_116_jpg.rf.8fc2a6d22c65773537be10ee91f3e505.jpg  \n",
            " extracting: dataset/train/images/box_116_jpg.rf.b8cea1f4dd746935a1b8a01983f21419.jpg  \n",
            " extracting: dataset/train/images/box_116_jpg.rf.d7c31aa0d2f7a79f3c2af5649aa898ec.jpg  \n",
            " extracting: dataset/train/images/box_116_jpg.rf.ed7d5a363f177dde2a6af194a9abe1f8.jpg  \n",
            " extracting: dataset/train/images/box_116_jpg.rf.fb674abaa1eb5db5cb3bbf403b37c58e.jpg  \n",
            " extracting: dataset/train/images/box_117_jpg.rf.14d43210b43c28ed267b22f9c4fe72ad.jpg  \n",
            " extracting: dataset/train/images/box_117_jpg.rf.172c6ede525f3642682154705c0a4def.jpg  \n",
            " extracting: dataset/train/images/box_117_jpg.rf.3567b0020b9f6e67283ebab69c3c946c.jpg  \n",
            " extracting: dataset/train/images/box_117_jpg.rf.3a20d8e09ff248fdbdabd88ba48537b2.jpg  \n",
            " extracting: dataset/train/images/box_117_jpg.rf.3e02948edc416eb2495a5cd07bf5cf5e.jpg  \n",
            " extracting: dataset/train/images/box_117_jpg.rf.640e70c28624f75ee55be6ea6d1701b1.jpg  \n",
            " extracting: dataset/train/images/box_117_jpg.rf.9bf4ee56ba41f9840cdaa73cc2f9f0cb.jpg  \n",
            " extracting: dataset/train/images/box_117_jpg.rf.a76b67d38180905d2e8a88e8c3bc0d29.jpg  \n",
            " extracting: dataset/train/images/box_117_jpg.rf.b1228baaf8a6a7b55dbfd6f6a250681a.jpg  \n",
            " extracting: dataset/train/images/box_117_jpg.rf.c1d2a9a3b9b042399899d7b5abf1ccdb.jpg  \n",
            " extracting: dataset/train/images/box_117_jpg.rf.ce70fb4792148fdb36069eb125776009.jpg  \n",
            " extracting: dataset/train/images/box_117_jpg.rf.d47bad4f09ae1d63d8e153e0955045ea.jpg  \n",
            " extracting: dataset/train/images/box_117_jpg.rf.db4709257e66ad7dc4b1b30aef3e57d1.jpg  \n",
            " extracting: dataset/train/images/box_118_jpg.rf.23b6b5ab2525ececbbe05ab85f18a8b3.jpg  \n",
            " extracting: dataset/train/images/box_118_jpg.rf.419e1549bc99de762a80b7c56eb5d454.jpg  \n",
            " extracting: dataset/train/images/box_118_jpg.rf.42c78b6616981e3140d73260c2b4d8fe.jpg  \n",
            " extracting: dataset/train/images/box_118_jpg.rf.49d8dce32fa15c6616c9af0c08d32458.jpg  \n",
            " extracting: dataset/train/images/box_118_jpg.rf.57921a323e6b5d3dc457990a53dd7825.jpg  \n",
            " extracting: dataset/train/images/box_118_jpg.rf.5d4f1494ea83c92b4eff0afedf137356.jpg  \n",
            " extracting: dataset/train/images/box_118_jpg.rf.70254b906588557b5a6e524de16cda0c.jpg  \n",
            " extracting: dataset/train/images/box_118_jpg.rf.7f53a2bd4e9b43ee4684b29c9ed842ba.jpg  \n",
            " extracting: dataset/train/images/box_118_jpg.rf.84e0f3019e184fb615cbf29789f11426.jpg  \n",
            " extracting: dataset/train/images/box_118_jpg.rf.8f6be95c82f78a6c428de956340b06fd.jpg  \n",
            " extracting: dataset/train/images/box_118_jpg.rf.9ce0c23d9ab332f7017e06f3ac8f9e94.jpg  \n",
            " extracting: dataset/train/images/box_118_jpg.rf.abb5fe9dd8ea4a99981f6d62c9c2f280.jpg  \n",
            " extracting: dataset/train/images/box_118_jpg.rf.ad162151988fcbe645c11a598e9c9ebc.jpg  \n",
            " extracting: dataset/train/images/box_118_jpg.rf.d6ce43d8b2da84daefaa2a6e4cc9c0db.jpg  \n",
            " extracting: dataset/train/images/box_118_jpg.rf.d73a6b980ed4f039979d6e1085045e55.jpg  \n",
            " extracting: dataset/train/images/box_118_jpg.rf.db503d6fd9e1288b5a96122a834c8f0d.jpg  \n",
            " extracting: dataset/train/images/box_118_jpg.rf.ea7cbebc23487f575b97cb15aff4bee8.jpg  \n",
            " extracting: dataset/train/images/box_118_jpg.rf.ea86014be2f2e443676ba33b8b93454f.jpg  \n",
            " extracting: dataset/train/images/box_119_jpg.rf.0915f17c4c1121bb14a9dd7f0055c7da.jpg  \n",
            " extracting: dataset/train/images/box_119_jpg.rf.46ec586d0fe2a2befa017aaf1bf6bd5b.jpg  \n",
            " extracting: dataset/train/images/box_119_jpg.rf.5d811ff02e3f2ce79b240bfbe6611f53.jpg  \n",
            " extracting: dataset/train/images/box_119_jpg.rf.671decb19a83a42dbf48ecd6a738944a.jpg  \n",
            " extracting: dataset/train/images/box_119_jpg.rf.7ed387067099a49a50ba1909cfe42535.jpg  \n",
            " extracting: dataset/train/images/box_119_jpg.rf.94ab5bad3899d10d0c493cc1e891aaec.jpg  \n",
            " extracting: dataset/train/images/box_119_jpg.rf.951565e41048c92e9c8770f3ad42a105.jpg  \n",
            " extracting: dataset/train/images/box_119_jpg.rf.99e9e18a1e024156cc8b28ee083fdb04.jpg  \n",
            " extracting: dataset/train/images/box_119_jpg.rf.ab376de12c44934ca0cb3358b34a6459.jpg  \n",
            " extracting: dataset/train/images/box_119_jpg.rf.b766641369bee0868d0d5379114a9dab.jpg  \n",
            " extracting: dataset/train/images/box_119_jpg.rf.b818157e05d40be7667acc4210df3ad6.jpg  \n",
            " extracting: dataset/train/images/box_119_jpg.rf.ea7b530d5644fc607eb51459f60bf404.jpg  \n",
            " extracting: dataset/train/images/box_120_jpg.rf.0e600c997716cc3dfe436c261c8295f1.jpg  \n",
            " extracting: dataset/train/images/box_120_jpg.rf.a664a4bf6eb4d72e7ef5750bd811f180.jpg  \n",
            " extracting: dataset/train/images/box_120_jpg.rf.dcc39d01a26065781689f6533c271faa.jpg  \n",
            " extracting: dataset/train/images/box_121_jpg.rf.1f7d259aa089f0cc2c9216e58cc6d23a.jpg  \n",
            " extracting: dataset/train/images/box_121_jpg.rf.1fdbb82acafd28cb8decb5e0cc51379e.jpg  \n",
            " extracting: dataset/train/images/box_121_jpg.rf.2c31d397b7214266ae86e4370d12a320.jpg  \n",
            " extracting: dataset/train/images/box_121_jpg.rf.34135eba38a8558c098b0480a92795c1.jpg  \n",
            " extracting: dataset/train/images/box_121_jpg.rf.4902adf09afcd0b697e98acdd7d542f3.jpg  \n",
            " extracting: dataset/train/images/box_121_jpg.rf.4ab70bfa9b52db90f091dbb28208471b.jpg  \n",
            " extracting: dataset/train/images/box_121_jpg.rf.74c3252b9797bc86a08f7a0a4f8c75c1.jpg  \n",
            " extracting: dataset/train/images/box_121_jpg.rf.75f16ddd29b037b821ed960b240d8521.jpg  \n",
            " extracting: dataset/train/images/box_121_jpg.rf.f49ef90be60ab421623c5e6ac5360b91.jpg  \n",
            " extracting: dataset/train/images/box_121_jpg.rf.fccac3a0bddca31c72ab6e574425270c.jpg  \n",
            " extracting: dataset/train/images/box_122_jpg.rf.0ba1824474cda4dac277b5dde0210268.jpg  \n",
            " extracting: dataset/train/images/box_122_jpg.rf.10d3f84b408f4cf7bd531af11a946db5.jpg  \n",
            " extracting: dataset/train/images/box_122_jpg.rf.179f211eca42cdc4ac4ac92ac990b012.jpg  \n",
            " extracting: dataset/train/images/box_122_jpg.rf.293fde6edda1b0c080853b442622514d.jpg  \n",
            " extracting: dataset/train/images/box_122_jpg.rf.32ec53507dbf8f5f431c75efc7e8e6d9.jpg  \n",
            " extracting: dataset/train/images/box_122_jpg.rf.33f707a201381429d45d9aa6d357f52e.jpg  \n",
            " extracting: dataset/train/images/box_122_jpg.rf.436077a7b0350beef4cf98639f324ea0.jpg  \n",
            " extracting: dataset/train/images/box_122_jpg.rf.46181390a2ffcba313729469e1b17a6c.jpg  \n",
            " extracting: dataset/train/images/box_122_jpg.rf.5278bd393213b55998c4a01930512b4d.jpg  \n",
            " extracting: dataset/train/images/box_122_jpg.rf.569da52ed8d5c5057835eb7274e9beff.jpg  \n",
            " extracting: dataset/train/images/box_122_jpg.rf.63b351b75f4ec1716dc0180e2afbbf27.jpg  \n",
            " extracting: dataset/train/images/box_122_jpg.rf.6925c98c466be924a3da1066bfb9a298.jpg  \n",
            " extracting: dataset/train/images/box_122_jpg.rf.7178f5df63efaceec8775d541ceedea5.jpg  \n",
            " extracting: dataset/train/images/box_122_jpg.rf.72b5a0f85135ae5c56f47b142154c4e6.jpg  \n",
            " extracting: dataset/train/images/box_122_jpg.rf.8022fc30009f4873d67100f21d48cee6.jpg  \n",
            " extracting: dataset/train/images/box_122_jpg.rf.8c392a13bd979c0e7d838588408ddd9c.jpg  \n",
            " extracting: dataset/train/images/box_122_jpg.rf.bbe1447a09d6d7e59b9360a61a6202b7.jpg  \n",
            " extracting: dataset/train/images/box_122_jpg.rf.ca142eea641c289fb82b86d481b8f5df.jpg  \n",
            " extracting: dataset/train/images/box_122_jpg.rf.da123550d92e892391cb92b186833214.jpg  \n",
            " extracting: dataset/train/images/box_122_jpg.rf.e6dadad2f06ce2178c024f889fd288c1.jpg  \n",
            " extracting: dataset/train/images/box_122_jpg.rf.ea08b4277f056c708d208a3d3537f899.jpg  \n",
            " extracting: dataset/train/images/box_123_jpg.rf.0403f80b577176bd9aeab9c28149c235.jpg  \n",
            " extracting: dataset/train/images/box_123_jpg.rf.1a02989ee2cc83f22300abacc1482135.jpg  \n",
            " extracting: dataset/train/images/box_123_jpg.rf.1b6e0e7d090a766ed7bff9dd8fb79662.jpg  \n",
            " extracting: dataset/train/images/box_123_jpg.rf.2ec5c80193cc1bd69e666f6f753c2502.jpg  \n",
            " extracting: dataset/train/images/box_123_jpg.rf.3560cb9de3734d52cbdccfa6b429c640.jpg  \n",
            " extracting: dataset/train/images/box_123_jpg.rf.5da47ebf087de43bb7119d7dc003005e.jpg  \n",
            " extracting: dataset/train/images/box_123_jpg.rf.7416a384f937fffdb88596b25dd813ac.jpg  \n",
            " extracting: dataset/train/images/box_123_jpg.rf.7bb8677cbd5dcfdf7f1ac7813e7eefb4.jpg  \n",
            " extracting: dataset/train/images/box_123_jpg.rf.aba3fb8a1c6b1363d36c7e50db78d1bb.jpg  \n",
            " extracting: dataset/train/images/box_123_jpg.rf.d8dd19727d8fd07dc5eba5bb94b4e77a.jpg  \n",
            " extracting: dataset/train/images/box_123_jpg.rf.ddd162cbffa049f01d6656cb5e05889c.jpg  \n",
            " extracting: dataset/train/images/box_123_jpg.rf.e24918df08a78ee7dfb36f7db7cb58be.jpg  \n",
            " extracting: dataset/train/images/box_16_jpg.rf.29db691304ccf3bdae6533905c1433b1.jpg  \n",
            " extracting: dataset/train/images/box_16_jpg.rf.43da93e1a68262da29a3996d82f0fd44.jpg  \n",
            " extracting: dataset/train/images/box_16_jpg.rf.4f5657de863237a3435356843d37ed84.jpg  \n",
            " extracting: dataset/train/images/box_16_jpg.rf.635b9b7b3bce6fe1b74988629f8ba4ca.jpg  \n",
            " extracting: dataset/train/images/box_16_jpg.rf.64796b4fe07044dabe9401899ad8350a.jpg  \n",
            " extracting: dataset/train/images/box_16_jpg.rf.671b43c0416226791d4e60b152e92d37.jpg  \n",
            " extracting: dataset/train/images/box_16_jpg.rf.773dfeafbbed32bdc788a6f641118d12.jpg  \n",
            " extracting: dataset/train/images/box_16_jpg.rf.96d3a900e6768f081d292d3358f82d64.jpg  \n",
            " extracting: dataset/train/images/box_16_jpg.rf.98465ee5f835adb4601a239dfef064f9.jpg  \n",
            " extracting: dataset/train/images/box_16_jpg.rf.c0b2a5e45f9ea3876c159b03d8a3182d.jpg  \n",
            " extracting: dataset/train/images/box_16_jpg.rf.c15551eba77c1f439a842b2e6f08d843.jpg  \n",
            " extracting: dataset/train/images/box_16_jpg.rf.c6043e8b4e38e2ab17495d3a6a77fdda.jpg  \n",
            " extracting: dataset/train/images/box_16_jpg.rf.e1c27ffe6513b4f5fc6f761718d1f78e.jpg  \n",
            " extracting: dataset/train/images/box_16_jpg.rf.efe610787ff7504431c6fb577662e264.jpg  \n",
            " extracting: dataset/train/images/box_16_jpg.rf.f7d3b19eed4ba8c7574d169975d99320.jpg  \n",
            " extracting: dataset/train/images/box_17_jpg.rf.2df2d69a19895bbe79170aded12da15f.jpg  \n",
            " extracting: dataset/train/images/box_17_jpg.rf.2f476969b512bc3388422c5d74f71570.jpg  \n",
            " extracting: dataset/train/images/box_17_jpg.rf.36f8ba58b401367740fd40c860d60653.jpg  \n",
            " extracting: dataset/train/images/box_17_jpg.rf.730a29e58fdcff7a4a641ff1fcb9db79.jpg  \n",
            " extracting: dataset/train/images/box_17_jpg.rf.8761aa7395bdcf7e1dbd6034929ba577.jpg  \n",
            " extracting: dataset/train/images/box_17_jpg.rf.a559afe20050102f5d957a1ddddab690.jpg  \n",
            " extracting: dataset/train/images/box_17_jpg.rf.aba357c2eb90a9bcda426f01ffafa12c.jpg  \n",
            " extracting: dataset/train/images/box_17_jpg.rf.b1e604cc0f13ad8aef08fd55523b060e.jpg  \n",
            " extracting: dataset/train/images/box_17_jpg.rf.cbde44279fe54f8586f05452cd00323d.jpg  \n",
            " extracting: dataset/train/images/box_18_jpg.rf.07b7cc1cbe9d3712eee21e2c131aff25.jpg  \n",
            " extracting: dataset/train/images/box_18_jpg.rf.1253675c9bd9557fe0bc8cd2a7867119.jpg  \n",
            " extracting: dataset/train/images/box_18_jpg.rf.140c887743189667bfd4e94d20ed434a.jpg  \n",
            " extracting: dataset/train/images/box_18_jpg.rf.251d943a3d3815bd731703e8c723cdc9.jpg  \n",
            " extracting: dataset/train/images/box_18_jpg.rf.3129a9a50ab539534e9f5aff43b50cdc.jpg  \n",
            " extracting: dataset/train/images/box_18_jpg.rf.49cae2aa74e2167a74e39cc2ca514cf8.jpg  \n",
            " extracting: dataset/train/images/box_18_jpg.rf.4e7960e091d3d7e700242bdbdb4b5aeb.jpg  \n",
            " extracting: dataset/train/images/box_18_jpg.rf.57293983070ef9fd61f7fa13ca1891ce.jpg  \n",
            " extracting: dataset/train/images/box_18_jpg.rf.8b3221c7e37c2c6a6f036ef95b21a200.jpg  \n",
            " extracting: dataset/train/images/box_18_jpg.rf.a1275ec6173841b43f6312d2104ef736.jpg  \n",
            " extracting: dataset/train/images/box_18_jpg.rf.ab0ed421f24fe90a83ed738a13163351.jpg  \n",
            " extracting: dataset/train/images/box_18_jpg.rf.c49538e4ebaa9741bb9b67d4952c5196.jpg  \n",
            " extracting: dataset/train/images/box_18_jpg.rf.cb03d943b688ff126bbaa5c5f14df7f2.jpg  \n",
            " extracting: dataset/train/images/box_18_jpg.rf.f67fa0caca5299a94524bcc4541a5c32.jpg  \n",
            " extracting: dataset/train/images/box_18_jpg.rf.f6ba561ae02da1bfa682235b6966b8b6.jpg  \n",
            " extracting: dataset/train/images/box_18_jpg.rf.f78b5e3d7945a7005ee7007e01dfcf6e.jpg  \n",
            " extracting: dataset/train/images/box_18_jpg.rf.fc320fa680315c14cbc5ac3289770720.jpg  \n",
            " extracting: dataset/train/images/box_18_jpg.rf.ffc7e210b6e346b984be96c1e6865d9c.jpg  \n",
            " extracting: dataset/train/images/box_19_jpg.rf.0b5f896fdbac74114aee3363e819bfe4.jpg  \n",
            " extracting: dataset/train/images/box_19_jpg.rf.3ce669bb9027122214d88f4a5d0f84c4.jpg  \n",
            " extracting: dataset/train/images/box_19_jpg.rf.48e9305525443fa3b3c0faa46c6e69a1.jpg  \n",
            " extracting: dataset/train/images/box_19_jpg.rf.49ab26c1ea09e9507266fbd065e33c5f.jpg  \n",
            " extracting: dataset/train/images/box_19_jpg.rf.5ce00f739c7ada3b35b70c54374739d3.jpg  \n",
            " extracting: dataset/train/images/box_19_jpg.rf.adca7bf5619026767b1b620dd92c16ae.jpg  \n",
            " extracting: dataset/train/images/box_19_jpg.rf.ba9938eb314f60fd0f186a0435e54703.jpg  \n",
            " extracting: dataset/train/images/box_19_jpg.rf.d0d5b7c0d4a1193ccdbeade0e52bd785.jpg  \n",
            " extracting: dataset/train/images/box_19_jpg.rf.d1b4c6cda992e0f090f45e73306d38e0.jpg  \n",
            " extracting: dataset/train/images/box_19_jpg.rf.f74cc68a37521a7e0ef56c17094c1ace.jpg  \n",
            " extracting: dataset/train/images/box_19_jpg.rf.fbb66fccfa68f74a9bd9c347295b813c.jpg  \n",
            " extracting: dataset/train/images/box_20_jpg.rf.0ef06e36db8244a69086c4ed5177ea44.jpg  \n",
            " extracting: dataset/train/images/box_20_jpg.rf.15cb9d866a877873204e7cf5b5918463.jpg  \n",
            " extracting: dataset/train/images/box_20_jpg.rf.18fc7a707380731484c4055f7364ada8.jpg  \n",
            " extracting: dataset/train/images/box_20_jpg.rf.3a4cc6ab75f997ffd102da43bb4854f5.jpg  \n",
            " extracting: dataset/train/images/box_20_jpg.rf.7a03873c6a97d11ba720d419ad07bb9a.jpg  \n",
            " extracting: dataset/train/images/box_20_jpg.rf.8d7281f95319961f96f8af4a5a8a0207.jpg  \n",
            " extracting: dataset/train/images/box_20_jpg.rf.94135f7ad67fc145f0c2f73e792478a5.jpg  \n",
            " extracting: dataset/train/images/box_20_jpg.rf.9a76f77090183f42837ec00472d92821.jpg  \n",
            " extracting: dataset/train/images/box_20_jpg.rf.c1df807054196661c784741228ec6e7a.jpg  \n",
            " extracting: dataset/train/images/box_20_jpg.rf.cfac95e8f91e2ec2a20b2b993c633fd3.jpg  \n",
            " extracting: dataset/train/images/box_20_jpg.rf.d7dacaf1c044b424608005c0aa8e8244.jpg  \n",
            " extracting: dataset/train/images/box_20_jpg.rf.e7b695506f754586e4b5207f38c138c4.jpg  \n",
            " extracting: dataset/train/images/box_20_jpg.rf.eab36683a55eb9faaafde59025ea9d62.jpg  \n",
            " extracting: dataset/train/images/box_20_jpg.rf.f97ea0fe0d3918cf633355ee80744858.jpg  \n",
            " extracting: dataset/train/images/box_21_jpg.rf.03a488a4d32db13adf38d2561d072eb7.jpg  \n",
            " extracting: dataset/train/images/box_21_jpg.rf.25c25161b56e9e4beb87252ecdc8059f.jpg  \n",
            " extracting: dataset/train/images/box_21_jpg.rf.3e6a4c9a85260566cbe8a1707b89f221.jpg  \n",
            " extracting: dataset/train/images/box_21_jpg.rf.61d7b1e524622a176de02098da03157b.jpg  \n",
            " extracting: dataset/train/images/box_21_jpg.rf.6ad8293a00637f9927c4f8a891cf3c13.jpg  \n",
            " extracting: dataset/train/images/box_21_jpg.rf.81bdfbddfa0d1805ed08f6faef3f0472.jpg  \n",
            " extracting: dataset/train/images/box_21_jpg.rf.98c4c9820b62ec8c6a5c0462db79ff4e.jpg  \n",
            " extracting: dataset/train/images/box_21_jpg.rf.c3f558ca1ef519125bc1b41ff1395e77.jpg  \n",
            " extracting: dataset/train/images/box_21_jpg.rf.cb67a5761a1f3b9b3e2a08d79943816e.jpg  \n",
            " extracting: dataset/train/images/box_21_jpg.rf.da9f30284166284989739d67b02c1a21.jpg  \n",
            " extracting: dataset/train/images/box_21_jpg.rf.e3fb8a425012731972d5ef14dc59c69e.jpg  \n",
            " extracting: dataset/train/images/box_21_jpg.rf.fd9d71e3cf8c01c55a0bcb1bf9246479.jpg  \n",
            " extracting: dataset/train/images/box_22_jpg.rf.10db80b8797b44f26bdb0740838cdc61.jpg  \n",
            " extracting: dataset/train/images/box_22_jpg.rf.24dc4078ea0f79e7f2e38cdfbe6742ad.jpg  \n",
            " extracting: dataset/train/images/box_22_jpg.rf.5599648823c5c7bf0178aadb916a3b56.jpg  \n",
            " extracting: dataset/train/images/box_22_jpg.rf.60782c2c7309a783dd5e86350d66921d.jpg  \n",
            " extracting: dataset/train/images/box_22_jpg.rf.63620c6f7c54d5f3a92c46827c9692f9.jpg  \n",
            " extracting: dataset/train/images/box_22_jpg.rf.793666d137b50ae04f7ddf2db8dc9aa1.jpg  \n",
            " extracting: dataset/train/images/box_22_jpg.rf.b820fc6bcf57da90b57ac82c14dd5ccd.jpg  \n",
            " extracting: dataset/train/images/box_22_jpg.rf.c5302a7de4638edcc58f145f578071fc.jpg  \n",
            " extracting: dataset/train/images/box_22_jpg.rf.d479c91f2f3a68c8b6cc47d8c9cac30a.jpg  \n",
            " extracting: dataset/train/images/box_22_jpg.rf.e5d7c5d6c07462f0c0bf327c22306b40.jpg  \n",
            " extracting: dataset/train/images/box_23_jpg.rf.2472b74cbd43aeb8fee15c1af649eab8.jpg  \n",
            " extracting: dataset/train/images/box_23_jpg.rf.2dc55189383b3494a99d782baac35d4b.jpg  \n",
            " extracting: dataset/train/images/box_23_jpg.rf.375d0e78959ffbce9d768d3afb3ee0c0.jpg  \n",
            " extracting: dataset/train/images/box_23_jpg.rf.406dae0f530921ace827635c3192c0ea.jpg  \n",
            " extracting: dataset/train/images/box_23_jpg.rf.47549e1564dc7ce012b92fe2757b7dd2.jpg  \n",
            " extracting: dataset/train/images/box_23_jpg.rf.529bef9946e9f447157d2e17a4dc68e8.jpg  \n",
            " extracting: dataset/train/images/box_23_jpg.rf.5a1f610f556bbd34e533c7890e98d6d5.jpg  \n",
            " extracting: dataset/train/images/box_23_jpg.rf.70565b1ce3f3f7c29ede84b110f50ca8.jpg  \n",
            " extracting: dataset/train/images/box_23_jpg.rf.74ead9bb25695e717c5aeb7063630216.jpg  \n",
            " extracting: dataset/train/images/box_23_jpg.rf.8b80758b2d9448030e64c5ab3a5b8572.jpg  \n",
            " extracting: dataset/train/images/box_23_jpg.rf.9ad2f6f5d722e892296e3e6d09affedb.jpg  \n",
            " extracting: dataset/train/images/box_23_jpg.rf.c41d5bcbb11976c772853daf8386106e.jpg  \n",
            " extracting: dataset/train/images/box_23_jpg.rf.ca17492c8bd58cb01124c35a90777108.jpg  \n",
            " extracting: dataset/train/images/box_23_jpg.rf.fb255abc62303ad4d83e25a8633a306b.jpg  \n",
            " extracting: dataset/train/images/box_24_jpg.rf.0048c79f462ec6c1750b7854d2eb30ae.jpg  \n",
            " extracting: dataset/train/images/box_24_jpg.rf.1538a2c0a1ffd646d987a9fe554231ce.jpg  \n",
            " extracting: dataset/train/images/box_24_jpg.rf.15ba5991b71ecd97e4edbb34da4e6354.jpg  \n",
            " extracting: dataset/train/images/box_24_jpg.rf.188d3d184aa5eae5cd29e7ed4a782120.jpg  \n",
            " extracting: dataset/train/images/box_24_jpg.rf.380307e4c45e7a891285c1f4ffb0a756.jpg  \n",
            " extracting: dataset/train/images/box_24_jpg.rf.4ac14a34c1a9fd0d6d18c039ce6ebef8.jpg  \n",
            " extracting: dataset/train/images/box_24_jpg.rf.5be2ab7251422916b2d796a3e85bea3e.jpg  \n",
            " extracting: dataset/train/images/box_24_jpg.rf.70b69e5e4bff185aa2c732fdd18d7adf.jpg  \n",
            " extracting: dataset/train/images/box_24_jpg.rf.864e0fdd757f5b5063a1da5d5a407f62.jpg  \n",
            " extracting: dataset/train/images/box_24_jpg.rf.a0fd0ce9c1b5966c162c15cfc1f4efff.jpg  \n",
            " extracting: dataset/train/images/box_24_jpg.rf.a39777428dc3f442f62c26b4388bacee.jpg  \n",
            " extracting: dataset/train/images/box_24_jpg.rf.c85b48591e4a3ddb6064e516c37b73b2.jpg  \n",
            " extracting: dataset/train/images/box_24_jpg.rf.db964e141c76cc40ff5199322a85e8ff.jpg  \n",
            " extracting: dataset/train/images/box_25_jpg.rf.478d47c059b08d26d23f9eb62e40a03f.jpg  \n",
            " extracting: dataset/train/images/box_25_jpg.rf.77ca93b41a2c1111160b84519e9eff23.jpg  \n",
            " extracting: dataset/train/images/box_25_jpg.rf.7ae50e16bd6e50f7a26eaf58c1820e3a.jpg  \n",
            " extracting: dataset/train/images/box_25_jpg.rf.7b07cddb35686088bf6a6d162eb37f8b.jpg  \n",
            " extracting: dataset/train/images/box_25_jpg.rf.7c4a2b80f345fd9a65f9baab240564a2.jpg  \n",
            " extracting: dataset/train/images/box_25_jpg.rf.8ac864633790e8225b480fb607a3bd0e.jpg  \n",
            " extracting: dataset/train/images/box_25_jpg.rf.8c261ff36f7600e90f798f624e2efa78.jpg  \n",
            " extracting: dataset/train/images/box_25_jpg.rf.96779babab70f277c1ead906e6aed3a2.jpg  \n",
            " extracting: dataset/train/images/box_25_jpg.rf.9c7e5cc2e01bee3ff11597484b4c3b41.jpg  \n",
            " extracting: dataset/train/images/box_25_jpg.rf.c80d34cd151ff6712f8ee93707c2b58d.jpg  \n",
            " extracting: dataset/train/images/box_26_jpg.rf.02de3435e667b1643772b48b5cead379.jpg  \n",
            " extracting: dataset/train/images/box_26_jpg.rf.093d7d7afcd9edde5bc32f7c034f1e7f.jpg  \n",
            " extracting: dataset/train/images/box_26_jpg.rf.0965f32acd4e6b6dccdaf9c462101bab.jpg  \n",
            " extracting: dataset/train/images/box_26_jpg.rf.3b9f72c492c0ba31a40bba2f2623f18d.jpg  \n",
            " extracting: dataset/train/images/box_26_jpg.rf.6363091d30243af798d0ed47d6f0c832.jpg  \n",
            " extracting: dataset/train/images/box_26_jpg.rf.63b3f952acf5abafb9382ff383b0edb0.jpg  \n",
            " extracting: dataset/train/images/box_26_jpg.rf.8e41b625e40f0a711c97fc91186edbe9.jpg  \n",
            " extracting: dataset/train/images/box_26_jpg.rf.9128d24e1f72071e373fa06d2ca6f759.jpg  \n",
            " extracting: dataset/train/images/box_27_jpg.rf.041e78d133dcd677153df1f20df13ac0.jpg  \n",
            " extracting: dataset/train/images/box_27_jpg.rf.0e0a83af63e9e694e5269e8259ba1ae0.jpg  \n",
            " extracting: dataset/train/images/box_27_jpg.rf.3cdefb718608ad95a0e44ecb55103074.jpg  \n",
            " extracting: dataset/train/images/box_27_jpg.rf.5183f361a3f0dda06194ac408e3b44f2.jpg  \n",
            " extracting: dataset/train/images/box_27_jpg.rf.68afc01d11c542b5dac236b9b115bfab.jpg  \n",
            " extracting: dataset/train/images/box_27_jpg.rf.88a3c1363f7e4135442b5d8062c1ea4c.jpg  \n",
            " extracting: dataset/train/images/box_27_jpg.rf.9068577a7f7fc665489df8e22b818027.jpg  \n",
            " extracting: dataset/train/images/box_27_jpg.rf.9585746e5ba81229a9a0c9237e7bf4af.jpg  \n",
            " extracting: dataset/train/images/box_27_jpg.rf.b39815935d934f2d7a47f0d0c8efe65f.jpg  \n",
            " extracting: dataset/train/images/box_27_jpg.rf.ceabc21e120abdb8e2144ac715672872.jpg  \n",
            " extracting: dataset/train/images/box_27_jpg.rf.d7e5f2446f03c605d45d383119d0a693.jpg  \n",
            " extracting: dataset/train/images/box_27_jpg.rf.d9dda55bc466763d678672fde96a2db3.jpg  \n",
            " extracting: dataset/train/images/box_27_jpg.rf.da53922d6211bb0b61dcef96441dbf8c.jpg  \n",
            " extracting: dataset/train/images/box_27_jpg.rf.e763fd11f01a6fc4da7dc4bc225eaed2.jpg  \n",
            " extracting: dataset/train/images/box_27_jpg.rf.ed4c026d37a5bcc5ebdf3185c43d92c6.jpg  \n",
            " extracting: dataset/train/images/box_28_jpg.rf.15e8f40ab522b9a3d7d581481cfcc3f4.jpg  \n",
            " extracting: dataset/train/images/box_28_jpg.rf.1fcf9c7e439798ff5a76e7bded560e43.jpg  \n",
            " extracting: dataset/train/images/box_28_jpg.rf.283830d3b58c72affce5d26b8fdb3d4e.jpg  \n",
            " extracting: dataset/train/images/box_28_jpg.rf.2c1229dafda15453ec95ceb1df1c063d.jpg  \n",
            " extracting: dataset/train/images/box_28_jpg.rf.72335293897f287800086ff375d01c8a.jpg  \n",
            " extracting: dataset/train/images/box_28_jpg.rf.7734b06184f240deb3ddec78b3202683.jpg  \n",
            " extracting: dataset/train/images/box_28_jpg.rf.7b7a95cf6339ed6be73c823441c6bc5d.jpg  \n",
            " extracting: dataset/train/images/box_28_jpg.rf.7cdecc2d8f2a81dc74f6d8d1d96d22ff.jpg  \n",
            " extracting: dataset/train/images/box_28_jpg.rf.83e7f4e99357a2783f254bf44bf1ed17.jpg  \n",
            " extracting: dataset/train/images/box_28_jpg.rf.95acd9e7d256b468a1ac8c8925dbc921.jpg  \n",
            " extracting: dataset/train/images/box_28_jpg.rf.95fe00597684f98a2886cb7d1a8b9139.jpg  \n",
            " extracting: dataset/train/images/box_28_jpg.rf.9b9cb481148e499f574edb1b567ea6fc.jpg  \n",
            " extracting: dataset/train/images/box_28_jpg.rf.b06998e334f6ddfbd1330c4d394dd95f.jpg  \n",
            " extracting: dataset/train/images/box_28_jpg.rf.cf411e1acf11f09861d151fcad020eaa.jpg  \n",
            " extracting: dataset/train/images/box_28_jpg.rf.f7cc4e85429eee0269084708652fd5b5.jpg  \n",
            " extracting: dataset/train/images/box_30_jpg.rf.078bcd070b37691a3f72fcbdf4e67ee1.jpg  \n",
            " extracting: dataset/train/images/box_30_jpg.rf.1c990d429f3405dab127a11c89341360.jpg  \n",
            " extracting: dataset/train/images/box_30_jpg.rf.258f680952e4b17fb567d0a499393158.jpg  \n",
            " extracting: dataset/train/images/box_30_jpg.rf.3374cc14a16a2305a125d97c65665fc6.jpg  \n",
            " extracting: dataset/train/images/box_30_jpg.rf.4e324b0f0403527f7e34d33d6c286fe8.jpg  \n",
            " extracting: dataset/train/images/box_30_jpg.rf.533b281edaa4e58308f955245ee36372.jpg  \n",
            " extracting: dataset/train/images/box_30_jpg.rf.56735f331f7cd9d5c6d0f60bbd33465a.jpg  \n",
            " extracting: dataset/train/images/box_30_jpg.rf.704d800f768ef7ab88f19a97d1eeadf7.jpg  \n",
            " extracting: dataset/train/images/box_30_jpg.rf.7e1649deba86053b9c1ba90a9a986028.jpg  \n",
            " extracting: dataset/train/images/box_30_jpg.rf.999a27263377c082020cd54fc3324a36.jpg  \n",
            " extracting: dataset/train/images/box_30_jpg.rf.9a467c06d6d92632d24339771df7aeb4.jpg  \n",
            " extracting: dataset/train/images/box_30_jpg.rf.9cc80a419daed5578603d45e36d49388.jpg  \n",
            " extracting: dataset/train/images/box_30_jpg.rf.a8ae31d27969f016adbf5d1a855acd3c.jpg  \n",
            " extracting: dataset/train/images/box_30_jpg.rf.ae6a2f4fef68ee3beaf9b30562a58c24.jpg  \n",
            " extracting: dataset/train/images/box_30_jpg.rf.c370bb59851199f7c2c2808b05934333.jpg  \n",
            " extracting: dataset/train/images/box_30_jpg.rf.c7198ebbd1d4ad1a2a10435f99440612.jpg  \n",
            " extracting: dataset/train/images/box_30_jpg.rf.ebc5c7d87db6bb1aef1a4a39c03f2fc7.jpg  \n",
            " extracting: dataset/train/images/box_30_jpg.rf.f375954950bfd9c9e46f2328254c0492.jpg  \n",
            " extracting: dataset/train/images/box_30_jpg.rf.f8cedcaeed825ef8d3fbec6524d78ae4.jpg  \n",
            " extracting: dataset/train/images/box_31_jpg.rf.34cd63d0f42bcdd7ead88bc2dea3d01c.jpg  \n",
            " extracting: dataset/train/images/box_31_jpg.rf.7535b60a801e1d0d226dcdb822baf212.jpg  \n",
            " extracting: dataset/train/images/box_31_jpg.rf.793e7ba95ba86fb6f85d45063f089111.jpg  \n",
            " extracting: dataset/train/images/box_31_jpg.rf.7c06a04f7e9da6ebd2802cc541cf729e.jpg  \n",
            " extracting: dataset/train/images/box_31_jpg.rf.8373856869e5d4c48c893a0d6f21c656.jpg  \n",
            " extracting: dataset/train/images/box_31_jpg.rf.9fbeb532cff324dad0951c429f0906e8.jpg  \n",
            " extracting: dataset/train/images/box_31_jpg.rf.a56dccd3a76486d3e35bf6dff9bd0eae.jpg  \n",
            " extracting: dataset/train/images/box_31_jpg.rf.a87727091f38a44e0698ea6da6842dcd.jpg  \n",
            " extracting: dataset/train/images/box_31_jpg.rf.ad3b0797ce75d7f9d649947007ffe979.jpg  \n",
            " extracting: dataset/train/images/box_31_jpg.rf.bba49caceb67e00bff0797d0abeab42a.jpg  \n",
            " extracting: dataset/train/images/box_31_jpg.rf.e82fcb947a5ad3582a22a204525892e4.jpg  \n",
            " extracting: dataset/train/images/box_31_jpg.rf.e96952d72194315187e01f158d6b80a7.jpg  \n",
            " extracting: dataset/train/images/box_32_jpg.rf.0ea15651c83ba80fef38948522c58681.jpg  \n",
            " extracting: dataset/train/images/box_32_jpg.rf.21272aec63466117d7b41d5329ffdd10.jpg  \n",
            " extracting: dataset/train/images/box_32_jpg.rf.272f6da61349141e2f7069d2f0517425.jpg  \n",
            " extracting: dataset/train/images/box_32_jpg.rf.2fc7dde13d52afef65d7891a215afb27.jpg  \n",
            " extracting: dataset/train/images/box_32_jpg.rf.4179718f8cedd933c6e6ccdbb23bce1f.jpg  \n",
            " extracting: dataset/train/images/box_32_jpg.rf.65eafc08a2f5802e1468a2274e48bd55.jpg  \n",
            " extracting: dataset/train/images/box_32_jpg.rf.69ecda45b40654bc83d7f806ae885d04.jpg  \n",
            " extracting: dataset/train/images/box_32_jpg.rf.9eb4d869042dba6ed01422b04b25a363.jpg  \n",
            " extracting: dataset/train/images/box_32_jpg.rf.e6d2a9f6061ace9e83a3b579baf27b38.jpg  \n",
            " extracting: dataset/train/images/box_32_jpg.rf.ec8034c45c2db1edabd098ccbec30424.jpg  \n",
            " extracting: dataset/train/images/box_33_jpg.rf.021e7b005247e2b185a5f8372b6ea3e6.jpg  \n",
            " extracting: dataset/train/images/box_33_jpg.rf.039d1dd2b219d590df01fc2cb9e0d2ca.jpg  \n",
            " extracting: dataset/train/images/box_33_jpg.rf.07115ccf81588655b7fd20ec28df0e51.jpg  \n",
            " extracting: dataset/train/images/box_33_jpg.rf.077dcc055d878bfadd97de65936852c8.jpg  \n",
            " extracting: dataset/train/images/box_33_jpg.rf.60d5090f1306f976c5df5284c4a7986d.jpg  \n",
            " extracting: dataset/train/images/box_33_jpg.rf.77f9a0adc43dc7763d53812ca7045bf2.jpg  \n",
            " extracting: dataset/train/images/box_33_jpg.rf.7dba749b65511995b2e4c3dc3042e01c.jpg  \n",
            " extracting: dataset/train/images/box_33_jpg.rf.8760196a3b97c39926d06f63c93b93f0.jpg  \n",
            " extracting: dataset/train/images/box_33_jpg.rf.95fff98d9d92b333e75e8f04145afc46.jpg  \n",
            " extracting: dataset/train/images/box_33_jpg.rf.a8f8a3afacf76d7ef8993766c22f5915.jpg  \n",
            " extracting: dataset/train/images/box_33_jpg.rf.b0a5f604da67304821ca42fb8e9d1c6a.jpg  \n",
            " extracting: dataset/train/images/box_33_jpg.rf.bc8e6b879772337a8079382458cdc385.jpg  \n",
            " extracting: dataset/train/images/box_33_jpg.rf.fa9886912de791266af3ecb2a5a9a051.jpg  \n",
            " extracting: dataset/train/images/box_39_jpg.rf.028153afc2922cbf8add1cb6e7fc4ee6.jpg  \n",
            " extracting: dataset/train/images/box_39_jpg.rf.2075c98a95a5c9b40db082506326ed4c.jpg  \n",
            " extracting: dataset/train/images/box_39_jpg.rf.46018be72bdf52987e27b6371c91a179.jpg  \n",
            " extracting: dataset/train/images/box_39_jpg.rf.4e7ea45c3e7c3aa525f3222097a759b9.jpg  \n",
            " extracting: dataset/train/images/box_39_jpg.rf.59662d788f8dbea8fc253d292e8c8c4c.jpg  \n",
            " extracting: dataset/train/images/box_39_jpg.rf.6b709eccd897b5ce31140f1997a67526.jpg  \n",
            " extracting: dataset/train/images/box_39_jpg.rf.7f46196b428e8d75238e6cbcb77ae12e.jpg  \n",
            " extracting: dataset/train/images/box_39_jpg.rf.7f8e5174a36c59c7a1f1bf8de5d10bb1.jpg  \n",
            " extracting: dataset/train/images/box_39_jpg.rf.8301678e10a46c2bbaf907ed36b7e143.jpg  \n",
            " extracting: dataset/train/images/box_39_jpg.rf.a83b45def3ba46de492e909eaf873a9b.jpg  \n",
            " extracting: dataset/train/images/box_39_jpg.rf.ad1f0bd268e45c2bea9cf0779d4cd0db.jpg  \n",
            " extracting: dataset/train/images/box_39_jpg.rf.bc8fbb40978115dfd55afde932d87eeb.jpg  \n",
            " extracting: dataset/train/images/box_39_jpg.rf.d11f1368fc73c2705c53b9a6460f21fa.jpg  \n",
            " extracting: dataset/train/images/box_39_jpg.rf.e510f07acb2398b1e45604c43c7911c7.jpg  \n",
            " extracting: dataset/train/images/box_39_jpg.rf.e729368e27e5d0797ca2925fc478e873.jpg  \n",
            " extracting: dataset/train/images/box_39_jpg.rf.f124e3053efa21bd1d700dce248c0592.jpg  \n",
            " extracting: dataset/train/images/box_39_jpg.rf.f6ffeaa2202f2c762e17d3f7f8f2de0f.jpg  \n",
            " extracting: dataset/train/images/box_41_jpg.rf.41510970ec2daedb1ae1935d20ad5144.jpg  \n",
            " extracting: dataset/train/images/box_41_jpg.rf.5e99ba56cb37f7b7dc38b3380b56ef5e.jpg  \n",
            " extracting: dataset/train/images/box_41_jpg.rf.795ddd5d4afa74edc1204167e5f58cd4.jpg  \n",
            " extracting: dataset/train/images/box_41_jpg.rf.a6ad3281c1dd69895195f2b32246c5b8.jpg  \n",
            " extracting: dataset/train/images/box_41_jpg.rf.beea1a83a0645ebbb8fdd2d5c35924da.jpg  \n",
            " extracting: dataset/train/images/box_41_jpg.rf.cf32d0135956764670f4258fa2ee2b07.jpg  \n",
            " extracting: dataset/train/images/box_41_jpg.rf.d3ade0a67e63fceffb369d5ffe63f8cf.jpg  \n",
            " extracting: dataset/train/images/box_41_jpg.rf.fad09cb2f12c6742100caec1e4f68064.jpg  \n",
            " extracting: dataset/train/images/box_43_jpg.rf.01afb1e2c48b1b0bdc95fa1cd3968a7d.jpg  \n",
            " extracting: dataset/train/images/box_43_jpg.rf.279b68da8aa185f0ae97aef3fe4791bf.jpg  \n",
            " extracting: dataset/train/images/box_43_jpg.rf.d173fe3b964629a3fb3c3b8321f7449b.jpg  \n",
            " extracting: dataset/train/images/box_43_jpg.rf.df045c26c00333c4882a1d129b4c2cc3.jpg  \n",
            " extracting: dataset/train/images/box_43_jpg.rf.f0a814187c340b37fe0cbab9dda90613.jpg  \n",
            " extracting: dataset/train/images/box_44_jpg.rf.16adbc750140e4df0795b6b253c339d4.jpg  \n",
            " extracting: dataset/train/images/box_44_jpg.rf.5e515c9de41120982372d910d3bcb135.jpg  \n",
            " extracting: dataset/train/images/box_44_jpg.rf.6c5b49ca038cea2f617df1b60792d54a.jpg  \n",
            " extracting: dataset/train/images/box_44_jpg.rf.6d3df3b7bf4ed1ef9d769375dadc13a3.jpg  \n",
            " extracting: dataset/train/images/box_44_jpg.rf.9df18f97ea158d89c216aa96b48eea15.jpg  \n",
            " extracting: dataset/train/images/box_44_jpg.rf.a7ada0e79745d01e4a71ecf9776f5d5e.jpg  \n",
            " extracting: dataset/train/images/box_44_jpg.rf.b3106f2bbe4154d61a58bac198583dcd.jpg  \n",
            " extracting: dataset/train/images/box_44_jpg.rf.bc114ad7a79bcd58a267948819b4ba31.jpg  \n",
            " extracting: dataset/train/images/box_44_jpg.rf.bdf7ac6247ce785ff9c2b41a63152bfe.jpg  \n",
            " extracting: dataset/train/images/box_44_jpg.rf.ce8a6e44e7f08ec86adbd257ff77b641.jpg  \n",
            " extracting: dataset/train/images/box_44_jpg.rf.da88c2beae4e1fd2475b37056aad068f.jpg  \n",
            " extracting: dataset/train/images/box_44_jpg.rf.ecb1d0f612edd68bf55a25c6a1c30a54.jpg  \n",
            " extracting: dataset/train/images/box_44_jpg.rf.f7e5e76619242053258d3e90f271bd13.jpg  \n",
            " extracting: dataset/train/images/box_45_jpg.rf.3a93e4079b00ab695822443e6689c821.jpg  \n",
            " extracting: dataset/train/images/box_45_jpg.rf.4f270fec1498d67c06d415cff886fc22.jpg  \n",
            " extracting: dataset/train/images/box_45_jpg.rf.76988b3f5bc654fd2b49976f1cb3cde7.jpg  \n",
            " extracting: dataset/train/images/box_45_jpg.rf.92236d15453a196b6610e84e1665390c.jpg  \n",
            " extracting: dataset/train/images/box_45_jpg.rf.aa430dfc1772e44b8d94356ab7b0e905.jpg  \n",
            " extracting: dataset/train/images/box_45_jpg.rf.ae6c23fb649f95df519e3af1de8d67f1.jpg  \n",
            " extracting: dataset/train/images/box_45_jpg.rf.bc3da7a65587c00a012b6d071365f249.jpg  \n",
            " extracting: dataset/train/images/box_45_jpg.rf.cfc66026de95b3895e96d8a80e4e1b5b.jpg  \n",
            " extracting: dataset/train/images/box_45_jpg.rf.f2bb6dc729fa1021d589d77099169f00.jpg  \n",
            " extracting: dataset/train/images/box_46_jpg.rf.032ab67c6d558c1eb60c05c36eeb732d.jpg  \n",
            " extracting: dataset/train/images/box_46_jpg.rf.36a49241815e97637eb6ec219bb39155.jpg  \n",
            " extracting: dataset/train/images/box_46_jpg.rf.411c6216082edfcd339061df03969a4f.jpg  \n",
            " extracting: dataset/train/images/box_46_jpg.rf.41adaf9a7129b5cfb8c1422ae23321d5.jpg  \n",
            " extracting: dataset/train/images/box_46_jpg.rf.55faf6147ffd0bc25762b5f2222cdc4a.jpg  \n",
            " extracting: dataset/train/images/box_46_jpg.rf.6c7dac12543188e778d4d6bb75d3d492.jpg  \n",
            " extracting: dataset/train/images/box_46_jpg.rf.9353c2e8fabb3cd3c8929910433237cd.jpg  \n",
            " extracting: dataset/train/images/box_46_jpg.rf.94a8cab27f2f96910241793a474a7990.jpg  \n",
            " extracting: dataset/train/images/box_46_jpg.rf.9c033447643cfad5797c269d0e2d0c65.jpg  \n",
            " extracting: dataset/train/images/box_46_jpg.rf.b7a4e36c3b0a5691ea3f3ff0bd0e4072.jpg  \n",
            " extracting: dataset/train/images/box_46_jpg.rf.bf5521c99435fa5b218b146c8c5b748c.jpg  \n",
            " extracting: dataset/train/images/box_46_jpg.rf.db198a5aa5b716acfbbc99e020f1192b.jpg  \n",
            " extracting: dataset/train/images/box_46_jpg.rf.ebdf7e9d5b0bfafa473879f18000845b.jpg  \n",
            " extracting: dataset/train/images/box_46_jpg.rf.f1381ff39914a7f30c5d76c358a5e874.jpg  \n",
            " extracting: dataset/train/images/box_47_jpg.rf.01c81399d9c91e743fa62557760d1fa8.jpg  \n",
            " extracting: dataset/train/images/box_47_jpg.rf.0c998931f314edbaea00e4e2c2faaa30.jpg  \n",
            " extracting: dataset/train/images/box_47_jpg.rf.1e3b5976b4c80deee7099ba07d9f54e6.jpg  \n",
            " extracting: dataset/train/images/box_47_jpg.rf.28d76f1cb902c3946181fb7e722a0fc5.jpg  \n",
            " extracting: dataset/train/images/box_47_jpg.rf.389974f0357eed87b3ca557acb1b8246.jpg  \n",
            " extracting: dataset/train/images/box_47_jpg.rf.fb7834c8d3a77f37dd47d6c287c925a8.jpg  \n",
            " extracting: dataset/train/images/box_47_jpg.rf.fb9ac3f110f52dda502881fb8f455f7b.jpg  \n",
            " extracting: dataset/train/images/box_48_jpg.rf.411c00b39e7f268c6ab926e7e95fb293.jpg  \n",
            " extracting: dataset/train/images/box_48_jpg.rf.68d8ca0a6f558b372483f10aeeb7b336.jpg  \n",
            " extracting: dataset/train/images/box_48_jpg.rf.b70db0003cd98a5f6bbf951f7d29312b.jpg  \n",
            " extracting: dataset/train/images/box_48_jpg.rf.c9ca5813cadc130f1f8f850c1814ff90.jpg  \n",
            " extracting: dataset/train/images/box_48_jpg.rf.efe3c78ae382e33060bc101bca61f33d.jpg  \n",
            " extracting: dataset/train/images/box_48_jpg.rf.f08969510cee8a51b2f7916baa5ee584.jpg  \n",
            " extracting: dataset/train/images/box_49_jpg.rf.0bd62f89ac41fbcb9a2c979e599dcae3.jpg  \n",
            " extracting: dataset/train/images/box_49_jpg.rf.18524a05a66879075e3bbdde217254aa.jpg  \n",
            " extracting: dataset/train/images/box_49_jpg.rf.1b80744a0e55d6a695d830a65e905dff.jpg  \n",
            " extracting: dataset/train/images/box_49_jpg.rf.2978ff859b734a503bce00b6e5a04417.jpg  \n",
            " extracting: dataset/train/images/box_49_jpg.rf.3f83dbbf1de335ae60134f843d5b239d.jpg  \n",
            " extracting: dataset/train/images/box_49_jpg.rf.3ff86c2385206d72733da85e3c4c4a0f.jpg  \n",
            " extracting: dataset/train/images/box_49_jpg.rf.94263a6aa3e285bdcb552192baa4815a.jpg  \n",
            " extracting: dataset/train/images/box_49_jpg.rf.958d5383184126d0507c9c0326adf747.jpg  \n",
            " extracting: dataset/train/images/box_49_jpg.rf.bee2193f0fbf962d11db867a73d56969.jpg  \n",
            " extracting: dataset/train/images/box_49_jpg.rf.d549dfd8f920b978c2f5a61371cd6176.jpg  \n",
            " extracting: dataset/train/images/box_49_jpg.rf.daaf809c0b6d1aed2f7f1a26ce5d8529.jpg  \n",
            " extracting: dataset/train/images/box_49_jpg.rf.ebb1b4052bfde3781dbc0bc1bd28d0d1.jpg  \n",
            " extracting: dataset/train/images/box_49_jpg.rf.f654281593c065ddaa648befc3eb76c6.jpg  \n",
            " extracting: dataset/train/images/box_50_jpg.rf.1949ec118cacf40d4d212cad9842458d.jpg  \n",
            " extracting: dataset/train/images/box_50_jpg.rf.23e80ef5b0369457c1a27bbc11ba3d22.jpg  \n",
            " extracting: dataset/train/images/box_50_jpg.rf.347e5fcdaeebcac2ac92eb254df7abe6.jpg  \n",
            " extracting: dataset/train/images/box_50_jpg.rf.632d8b506ad9c5a40e41e65fac672870.jpg  \n",
            " extracting: dataset/train/images/box_50_jpg.rf.6cc33ddc960632fa8987a6ef48555eae.jpg  \n",
            " extracting: dataset/train/images/box_50_jpg.rf.9e93e427546a57b8c1d3aedaad3f7b73.jpg  \n",
            " extracting: dataset/train/images/box_50_jpg.rf.a78ac82ef1a2c6a177f2cbda118223f5.jpg  \n",
            " extracting: dataset/train/images/box_50_jpg.rf.b680067d38fe07e1ae33a90a0eb3f1f9.jpg  \n",
            " extracting: dataset/train/images/box_50_jpg.rf.cb5b6c1904f17175744b918bc179e72a.jpg  \n",
            " extracting: dataset/train/images/box_50_jpg.rf.e989582f6119cb5d420712726243cec8.jpg  \n",
            " extracting: dataset/train/images/box_51_jpg.rf.0b388dbac47d5c54bf379efabaaef274.jpg  \n",
            " extracting: dataset/train/images/box_51_jpg.rf.0e4fa1ace16927daf2a3f819f6a865dd.jpg  \n",
            " extracting: dataset/train/images/box_51_jpg.rf.102b1e55a0a8fadfb84b4e8c87f1f29c.jpg  \n",
            " extracting: dataset/train/images/box_51_jpg.rf.1c50a1a028e1183fb7863394ab888c24.jpg  \n",
            " extracting: dataset/train/images/box_51_jpg.rf.24ded4fd275fc21d32a4e980c6ca1c12.jpg  \n",
            " extracting: dataset/train/images/box_51_jpg.rf.2e4940e87704660e1827e55cac353ba3.jpg  \n",
            " extracting: dataset/train/images/box_51_jpg.rf.49220010a4512bb12188e2b3bc6e296f.jpg  \n",
            " extracting: dataset/train/images/box_51_jpg.rf.54a3009970c8e5696b3e734a84e3f8d4.jpg  \n",
            " extracting: dataset/train/images/box_51_jpg.rf.615774e4ff6c45b77b3bf657b4313942.jpg  \n",
            " extracting: dataset/train/images/box_51_jpg.rf.618d7096945166a0b4e05c40a14434d0.jpg  \n",
            " extracting: dataset/train/images/box_51_jpg.rf.7fb7bf87dff06b315dcbf4ca6e124071.jpg  \n",
            " extracting: dataset/train/images/box_51_jpg.rf.80ba8a775d80ed1722dcc721be922c46.jpg  \n",
            " extracting: dataset/train/images/box_51_jpg.rf.bb1381536addb011ecb7ec70bebcd591.jpg  \n",
            " extracting: dataset/train/images/box_51_jpg.rf.c429e45a0169699b417cef1681f543ee.jpg  \n",
            " extracting: dataset/train/images/box_51_jpg.rf.c5791ca1d6d8670c70d45882543891ae.jpg  \n",
            " extracting: dataset/train/images/box_51_jpg.rf.dfbf87d3859cce3394b9fa7a9b9cffb8.jpg  \n",
            " extracting: dataset/train/images/box_51_jpg.rf.e108a192556ee2fa2644ef44b224f5e1.jpg  \n",
            " extracting: dataset/train/images/box_54_jpg.rf.2d1b6345fba7fc008c66d190e7034f94.jpg  \n",
            " extracting: dataset/train/images/box_54_jpg.rf.4c59edff562abe4dfcc93bccd8314020.jpg  \n",
            " extracting: dataset/train/images/box_54_jpg.rf.66acf7b68180048733709e7aade0f54b.jpg  \n",
            " extracting: dataset/train/images/box_54_jpg.rf.74b0d62c02a67e160f129a4252ba68d1.jpg  \n",
            " extracting: dataset/train/images/box_54_jpg.rf.90dc93db350495305b3d4aaa7bc386ff.jpg  \n",
            " extracting: dataset/train/images/box_54_jpg.rf.945a75d8c018e1202909a8ac3ba0a966.jpg  \n",
            " extracting: dataset/train/images/box_54_jpg.rf.aac02d58b000fd629f21c19576a3a68c.jpg  \n",
            " extracting: dataset/train/images/box_54_jpg.rf.c816bb86656573626a45c9f901b852db.jpg  \n",
            " extracting: dataset/train/images/box_54_jpg.rf.c8c0a36e2464f9fa5e113f2c0d1c6634.jpg  \n",
            " extracting: dataset/train/images/box_54_jpg.rf.d1395eb4fa5341fbddab04d30246aac2.jpg  \n",
            " extracting: dataset/train/images/box_54_jpg.rf.d8ba7ac9c1189678114cbac7c36fcdd1.jpg  \n",
            " extracting: dataset/train/images/box_54_jpg.rf.e18c69790bd2c788420d70537af012a9.jpg  \n",
            " extracting: dataset/train/images/box_54_jpg.rf.e373e11ca6da09ce6a125da2b4021366.jpg  \n",
            " extracting: dataset/train/images/box_55_jpg.rf.026593368f701e692818df64a9115050.jpg  \n",
            " extracting: dataset/train/images/box_55_jpg.rf.09745c78afb43bc7288a12ac26bfb2d9.jpg  \n",
            " extracting: dataset/train/images/box_55_jpg.rf.20e26f7e5503f4d92bdf1b4ca1eccdcd.jpg  \n",
            " extracting: dataset/train/images/box_55_jpg.rf.6c00b11dea461e2aafab323f02e46fe9.jpg  \n",
            " extracting: dataset/train/images/box_55_jpg.rf.ea88d25e9aa2b94703542f0003d03a31.jpg  \n",
            " extracting: dataset/train/images/box_55_jpg.rf.ee5e1c8fedf1c9d6d6e0dde2d564427f.jpg  \n",
            " extracting: dataset/train/images/box_55_jpg.rf.f3e1c2e91e3ecf690b7f7f3326fa1046.jpg  \n",
            " extracting: dataset/train/images/box_56_jpg.rf.02e7ca3793b57324b7eb88b64faf8a8d.jpg  \n",
            " extracting: dataset/train/images/box_56_jpg.rf.2b107c59b8a0a505723d77c0ca164447.jpg  \n",
            " extracting: dataset/train/images/box_56_jpg.rf.3ad6fa05f624c8d0e2be35c5323c03e3.jpg  \n",
            " extracting: dataset/train/images/box_56_jpg.rf.788bfd8d0d63d517a3c4ec1f77893236.jpg  \n",
            " extracting: dataset/train/images/box_56_jpg.rf.8a937b7d9a73021eac6721e468941a5f.jpg  \n",
            " extracting: dataset/train/images/box_56_jpg.rf.b879c7230cedbb17f6329ae3f79a3841.jpg  \n",
            " extracting: dataset/train/images/box_56_jpg.rf.ccd742af8e149cfb4b3683a3bdb77640.jpg  \n",
            " extracting: dataset/train/images/box_56_jpg.rf.cfefc3075b239b00dc8711d41ff38d50.jpg  \n",
            " extracting: dataset/train/images/box_56_jpg.rf.d1587afec76781bd38f704194336b7b0.jpg  \n",
            " extracting: dataset/train/images/box_56_jpg.rf.e90521741f431bac0fe9baf00b44c7cb.jpg  \n",
            " extracting: dataset/train/images/box_58_jpg.rf.2c795b8de6da59d8d5e3279bbdb838d9.jpg  \n",
            " extracting: dataset/train/images/box_58_jpg.rf.33ba76c5844c02f50e0e61aa9427162f.jpg  \n",
            " extracting: dataset/train/images/box_58_jpg.rf.35c7a4be606e7888eb00e7f49537b1b9.jpg  \n",
            " extracting: dataset/train/images/box_58_jpg.rf.586c5c1d7dd92593cb93faa531b7840e.jpg  \n",
            " extracting: dataset/train/images/box_58_jpg.rf.64cbfaf756b4265111579bad53b863c7.jpg  \n",
            " extracting: dataset/train/images/box_58_jpg.rf.ca3cedce6f068cd4ee347c43a5eadde0.jpg  \n",
            " extracting: dataset/train/images/box_58_jpg.rf.d527bbae0da1b6c4b21814ad59c95d09.jpg  \n",
            " extracting: dataset/train/images/box_59_jpg.rf.07d051ee4e7149c0c3814169b398e8f8.jpg  \n",
            " extracting: dataset/train/images/box_59_jpg.rf.24569c21612449b831c53db51e45f6e2.jpg  \n",
            " extracting: dataset/train/images/box_59_jpg.rf.396c4e247c74fbdba31a2eaabf3affdd.jpg  \n",
            " extracting: dataset/train/images/box_59_jpg.rf.4557c093e54054ea4fca592b18eb14f3.jpg  \n",
            " extracting: dataset/train/images/box_59_jpg.rf.5b3eb8313ab4ddd51f2ad17a8f560685.jpg  \n",
            " extracting: dataset/train/images/box_59_jpg.rf.95a626cb51e745113bb32064ee0f76c7.jpg  \n",
            " extracting: dataset/train/images/box_59_jpg.rf.a256eb72307a3c24ffe1bda6bc43ae00.jpg  \n",
            " extracting: dataset/train/images/box_59_jpg.rf.aa9196fa20075b406c0a8b2448740301.jpg  \n",
            " extracting: dataset/train/images/box_59_jpg.rf.b498841b06370322c848b8f63cbeffa3.jpg  \n",
            " extracting: dataset/train/images/box_59_jpg.rf.f2c763f3d30680dd6d7669e78ef1c631.jpg  \n",
            " extracting: dataset/train/images/box_59_jpg.rf.f4beee7a40641f1fde244b6ff2f56be3.jpg  \n",
            " extracting: dataset/train/images/box_60_jpg.rf.16aa604b0be963a49a79dfe9f0375b1a.jpg  \n",
            " extracting: dataset/train/images/box_60_jpg.rf.326d240928ca632ca1d56c0eac6688ff.jpg  \n",
            " extracting: dataset/train/images/box_60_jpg.rf.36b9324f2812c73be27e86f5c61e93a5.jpg  \n",
            " extracting: dataset/train/images/box_60_jpg.rf.4681544d0ceeb91eb883b00b28485b02.jpg  \n",
            " extracting: dataset/train/images/box_60_jpg.rf.5ac63c6efef16feea77108e26a14d657.jpg  \n",
            " extracting: dataset/train/images/box_60_jpg.rf.67cf129efb3c47ae2b05b2d7761b4206.jpg  \n",
            " extracting: dataset/train/images/box_60_jpg.rf.729ffa6c013b83d8eda0870caecd9f08.jpg  \n",
            " extracting: dataset/train/images/box_60_jpg.rf.900d219cd5760011e3d3493f4c9c95a2.jpg  \n",
            " extracting: dataset/train/images/box_60_jpg.rf.a1e27450c5affafce325b2f05fbe1cac.jpg  \n",
            " extracting: dataset/train/images/box_60_jpg.rf.a5e2e1ed8d0da4e1917369aa7fc1ed61.jpg  \n",
            " extracting: dataset/train/images/box_60_jpg.rf.baf8fe4dd9b8ddea8ef9a41b5f29736f.jpg  \n",
            " extracting: dataset/train/images/box_60_jpg.rf.c36fdbc0782c7ac2caa32faaaa140fcd.jpg  \n",
            " extracting: dataset/train/images/box_61_jpg.rf.0dfdeb302b1f619a52693db5775e3c7e.jpg  \n",
            " extracting: dataset/train/images/box_61_jpg.rf.25dc7892dc868e3a1ab60a7032aa2f34.jpg  \n",
            " extracting: dataset/train/images/box_61_jpg.rf.2b8c53104e9efa4753c0085bfbd20862.jpg  \n",
            " extracting: dataset/train/images/box_61_jpg.rf.478fa8deb0615f8c5f8ca7bd348b2754.jpg  \n",
            " extracting: dataset/train/images/box_61_jpg.rf.535c7c9b0dfd76d4f681a4c29d2c7223.jpg  \n",
            " extracting: dataset/train/images/box_61_jpg.rf.557c52412f9ad9e71d317e604a5d8817.jpg  \n",
            " extracting: dataset/train/images/box_61_jpg.rf.686247ba221a6ee6ff595deea7bc6e0e.jpg  \n",
            " extracting: dataset/train/images/box_61_jpg.rf.861eac1c8d4d4fce717409c6e97b01d3.jpg  \n",
            " extracting: dataset/train/images/box_61_jpg.rf.a08c0a89b5003c2adfb456c183d821a5.jpg  \n",
            " extracting: dataset/train/images/box_61_jpg.rf.a4e32c3f7312d85a98ea55474a4e6cf7.jpg  \n",
            " extracting: dataset/train/images/box_61_jpg.rf.a894ae2d996f0321409854c9a18bac80.jpg  \n",
            " extracting: dataset/train/images/box_61_jpg.rf.c8d21da50cafcadc41aa754e46c782be.jpg  \n",
            " extracting: dataset/train/images/box_62_jpg.rf.1ac317f3feea5eefdaf63d4801a5cfdb.jpg  \n",
            " extracting: dataset/train/images/box_62_jpg.rf.29d2b6e5d4f2da438bed3392dc6b7e0f.jpg  \n",
            " extracting: dataset/train/images/box_62_jpg.rf.4dd1f7b3e9c7980e05e2ad40d102f5c3.jpg  \n",
            " extracting: dataset/train/images/box_62_jpg.rf.6abe744acc9e45332955fca0ba2b6540.jpg  \n",
            " extracting: dataset/train/images/box_62_jpg.rf.a4568083647fb5605c5df68eea6b0d46.jpg  \n",
            " extracting: dataset/train/images/box_62_jpg.rf.c0f0669d7f26fac37e35c8a18109815e.jpg  \n",
            " extracting: dataset/train/images/box_62_jpg.rf.c257c358c087afebcfea34a9a02afb3e.jpg  \n",
            " extracting: dataset/train/images/box_62_jpg.rf.c7b82f7540c193b469fcdac8b9dc1cb2.jpg  \n",
            " extracting: dataset/train/images/box_62_jpg.rf.f1cfa1aaf081f0899de5633dad3bbd6d.jpg  \n",
            " extracting: dataset/train/images/box_63_jpg.rf.03854c94c73a46a2bff2f3d82df005bb.jpg  \n",
            " extracting: dataset/train/images/box_63_jpg.rf.1dc889bf883407d13405e51db8df51ca.jpg  \n",
            " extracting: dataset/train/images/box_63_jpg.rf.34853db7eccb1e17cd921a39fed48b97.jpg  \n",
            " extracting: dataset/train/images/box_63_jpg.rf.3cb8f0b4754304c7e0c777810a71d6c4.jpg  \n",
            " extracting: dataset/train/images/box_63_jpg.rf.9d9b8012d8f389320663de4d31a82803.jpg  \n",
            " extracting: dataset/train/images/box_63_jpg.rf.a740bacceab61255b298788a5fcf3353.jpg  \n",
            " extracting: dataset/train/images/box_63_jpg.rf.ce292c162043b7323a5758bf242f1eb9.jpg  \n",
            " extracting: dataset/train/images/box_63_jpg.rf.e06a5a5876e12a79bbf9575fd07a40ad.jpg  \n",
            " extracting: dataset/train/images/box_63_jpg.rf.e78bd09eb7fa0b7e8199cf5bd6af80a9.jpg  \n",
            " extracting: dataset/train/images/box_63_jpg.rf.f79f14ac79b8f824c6172e7f12dbcb6e.jpg  \n",
            " extracting: dataset/train/images/box_64_jpg.rf.063357ab5ba8bac0544ad8897d9ea438.jpg  \n",
            " extracting: dataset/train/images/box_64_jpg.rf.143737211935c60b56c65bddad8108f6.jpg  \n",
            " extracting: dataset/train/images/box_64_jpg.rf.1a0baf1ac95809da7aee3aaab11638aa.jpg  \n",
            " extracting: dataset/train/images/box_64_jpg.rf.2b70703ce3b34b88c9d3caf9c9312622.jpg  \n",
            " extracting: dataset/train/images/box_64_jpg.rf.5641d1af9b6f2224d2f02e11ce2c5d11.jpg  \n",
            " extracting: dataset/train/images/box_64_jpg.rf.802799a59279cb8691834a14bac54db1.jpg  \n",
            " extracting: dataset/train/images/box_64_jpg.rf.81539b9dbea68e97e2776873eec89a37.jpg  \n",
            " extracting: dataset/train/images/box_64_jpg.rf.9116d2c1aad320b3f6fe4f5659100377.jpg  \n",
            " extracting: dataset/train/images/box_64_jpg.rf.adedfba1ab1e20463601c94e799478cf.jpg  \n",
            " extracting: dataset/train/images/box_64_jpg.rf.b3bce6f107cfd322b5b18060662e5b85.jpg  \n",
            " extracting: dataset/train/images/box_64_jpg.rf.b70f40eb39aced060ce3fad7cc9e8586.jpg  \n",
            " extracting: dataset/train/images/box_64_jpg.rf.ba8e080eee7e4b4913946cc7ed1db239.jpg  \n",
            " extracting: dataset/train/images/box_64_jpg.rf.d81ced56f40be1ea495a0c90e18d51f1.jpg  \n",
            " extracting: dataset/train/images/box_64_jpg.rf.e1fa3968313fff6da9120864d1d66633.jpg  \n",
            " extracting: dataset/train/images/box_65_jpg.rf.09edf2364fdbdccfb1beccf857a12efa.jpg  \n",
            " extracting: dataset/train/images/box_65_jpg.rf.1d1f51f146b5b3888d21ec5b70cb8bc6.jpg  \n",
            " extracting: dataset/train/images/box_65_jpg.rf.5134d119bb64feb4010847b2c4f9f8f4.jpg  \n",
            " extracting: dataset/train/images/box_65_jpg.rf.5b7037544c1f0487e330d72c1a447617.jpg  \n",
            " extracting: dataset/train/images/box_65_jpg.rf.616a2d06b5b24f95ed0a1efa28405635.jpg  \n",
            " extracting: dataset/train/images/box_65_jpg.rf.760953153b32a9311b62133c32170775.jpg  \n",
            " extracting: dataset/train/images/box_65_jpg.rf.853ecced07ba459870efca16b2e7cc12.jpg  \n",
            " extracting: dataset/train/images/box_65_jpg.rf.8b945a39320fff95c1b98cf432ff7d39.jpg  \n",
            " extracting: dataset/train/images/box_65_jpg.rf.967c345700c34d9829f816a4c80cdf96.jpg  \n",
            " extracting: dataset/train/images/box_65_jpg.rf.b134f65020e12aef375a336456715501.jpg  \n",
            " extracting: dataset/train/images/box_65_jpg.rf.c2804c33c9567ba64c67dd57f0ef4cea.jpg  \n",
            " extracting: dataset/train/images/box_65_jpg.rf.ec2c8a59eea8682f1698cada25734aae.jpg  \n",
            " extracting: dataset/train/images/box_66_jpg.rf.1cb2b6c9346b8cb1dbe0b68126fb2268.jpg  \n",
            " extracting: dataset/train/images/box_66_jpg.rf.46453bb367dfc5a188500ea98d439c57.jpg  \n",
            " extracting: dataset/train/images/box_66_jpg.rf.4c5fc125c365c4cfc49deaa936b14fc9.jpg  \n",
            " extracting: dataset/train/images/box_66_jpg.rf.4f1c50e7591eb5b5d9f15099d2721e85.jpg  \n",
            " extracting: dataset/train/images/box_66_jpg.rf.6870149b7f9e73ac8ca9fdb10de4ff1c.jpg  \n",
            " extracting: dataset/train/images/box_66_jpg.rf.896f5b0d8d387e01d96de323868a17af.jpg  \n",
            " extracting: dataset/train/images/box_66_jpg.rf.bb167eaebe65d6af80a221fc3a9cf8ac.jpg  \n",
            " extracting: dataset/train/images/box_66_jpg.rf.e1f8ab8668c3a62fd3cf8325a7d8f0be.jpg  \n",
            " extracting: dataset/train/images/box_66_jpg.rf.ea9c516e2b5cbc869e89dc3678c82424.jpg  \n",
            " extracting: dataset/train/images/box_67_jpg.rf.083ae3b7558961e35bd5f821362feedf.jpg  \n",
            " extracting: dataset/train/images/box_67_jpg.rf.3297f0d957958759fd1bbe62b6ed2c67.jpg  \n",
            " extracting: dataset/train/images/box_67_jpg.rf.499680a46e7a9246c950ef43986229f3.jpg  \n",
            " extracting: dataset/train/images/box_67_jpg.rf.4a8a745656308d080cfb2b7262498f26.jpg  \n",
            " extracting: dataset/train/images/box_67_jpg.rf.4bacf42b5e209ba2c72229c5ff293008.jpg  \n",
            " extracting: dataset/train/images/box_67_jpg.rf.57728a44927b0cfbf95e995473dfea7c.jpg  \n",
            " extracting: dataset/train/images/box_67_jpg.rf.64aa685bcb269912b18f3eb305bb2fe7.jpg  \n",
            " extracting: dataset/train/images/box_67_jpg.rf.c01ef8766b087df687ce4f0a96b61fdd.jpg  \n",
            " extracting: dataset/train/images/box_67_jpg.rf.dc054d1f4d7f0ed96ef04ac7ab05a90e.jpg  \n",
            " extracting: dataset/train/images/box_67_jpg.rf.de91c843f93c61b7b1fa3fd019e5309f.jpg  \n",
            " extracting: dataset/train/images/box_67_jpg.rf.e021d854824b496798212caa548378a1.jpg  \n",
            " extracting: dataset/train/images/box_67_jpg.rf.e52b89c3a2a8febb34bc59e80433b2e8.jpg  \n",
            " extracting: dataset/train/images/box_67_jpg.rf.ed777af34f9d132154cdf40eb6eb5114.jpg  \n",
            " extracting: dataset/train/images/box_67_jpg.rf.f34ec93b026c96bfd42504c2fd51bc21.jpg  \n",
            " extracting: dataset/train/images/box_67_jpg.rf.fe81641963ab115f47f4aa34a8406eca.jpg  \n",
            " extracting: dataset/train/images/box_68_jpg.rf.0b8f6058ba71ef352b928612d80bf710.jpg  \n",
            " extracting: dataset/train/images/box_68_jpg.rf.1756b2de6e333eb8f42fa5b4cc4d5b25.jpg  \n",
            " extracting: dataset/train/images/box_68_jpg.rf.4f1594199ed9ce3fc3c01dfe9f3a5b5d.jpg  \n",
            " extracting: dataset/train/images/box_68_jpg.rf.6c2c3abb9ec02e67af81ef0dcc9df52d.jpg  \n",
            " extracting: dataset/train/images/box_68_jpg.rf.6cafd47005d925354cfe3520e006ad59.jpg  \n",
            " extracting: dataset/train/images/box_68_jpg.rf.86ccbdb63f7b13cdafc4752ccf06c570.jpg  \n",
            " extracting: dataset/train/images/box_68_jpg.rf.91c43b17327a5435daee2487283e0fab.jpg  \n",
            " extracting: dataset/train/images/box_68_jpg.rf.c6f2dd2339c0afb0faeda9a43d1b5e3c.jpg  \n",
            " extracting: dataset/train/images/box_68_jpg.rf.f1dba3da035508e498678e67079e6073.jpg  \n",
            " extracting: dataset/train/images/box_69_jpg.rf.0a582aee612e8b2dfc5b92b1d8baee31.jpg  \n",
            " extracting: dataset/train/images/box_69_jpg.rf.0f17c526af13db6bd5dadbc019b70b6e.jpg  \n",
            " extracting: dataset/train/images/box_69_jpg.rf.255691819c04b93cb375ac17535b153f.jpg  \n",
            " extracting: dataset/train/images/box_69_jpg.rf.4056526ff6b7d60d56336526f847e8d6.jpg  \n",
            " extracting: dataset/train/images/box_69_jpg.rf.40a00d27a4016a3ff71101eafc89d631.jpg  \n",
            " extracting: dataset/train/images/box_69_jpg.rf.8c593fc188dd954abffcdfa307df1be7.jpg  \n",
            " extracting: dataset/train/images/box_69_jpg.rf.97f16188faa210e74770c852d6c4cf2b.jpg  \n",
            " extracting: dataset/train/images/box_69_jpg.rf.9b6db1e077ffeeadb4059809f828767e.jpg  \n",
            " extracting: dataset/train/images/box_69_jpg.rf.b126addf50bf6f7c748981ac89b92b65.jpg  \n",
            " extracting: dataset/train/images/box_70_jpg.rf.09fd21a179483711ed7dfafbf0cc34b2.jpg  \n",
            " extracting: dataset/train/images/box_70_jpg.rf.70303d1c94c6903142d55f922d4f55d6.jpg  \n",
            " extracting: dataset/train/images/box_70_jpg.rf.90816a0d927a9c1e358aef40a98289e3.jpg  \n",
            " extracting: dataset/train/images/box_70_jpg.rf.a23d0523de669b59724dc0393a2e6b86.jpg  \n",
            " extracting: dataset/train/images/box_70_jpg.rf.b53ac7154170b50e4f91411b25a4d206.jpg  \n",
            " extracting: dataset/train/images/box_70_jpg.rf.c3a4dcdea4fe46b14daa2a7899025801.jpg  \n",
            " extracting: dataset/train/images/box_70_jpg.rf.c59a53003c36bc39555bcb4f49c0ffa3.jpg  \n",
            " extracting: dataset/train/images/box_71_jpg.rf.086928ff9d519accd93c3d3aa103dd66.jpg  \n",
            " extracting: dataset/train/images/box_71_jpg.rf.30f12f27a36ad9c5a4ab5a222cca6f11.jpg  \n",
            " extracting: dataset/train/images/box_71_jpg.rf.477617057d3f10296c977f0b538462c2.jpg  \n",
            " extracting: dataset/train/images/box_71_jpg.rf.8aab5dad123f78c5016b901d596bcc70.jpg  \n",
            " extracting: dataset/train/images/box_71_jpg.rf.90099044385bbdc18b89074b4060682d.jpg  \n",
            " extracting: dataset/train/images/box_71_jpg.rf.aeaf794ca618fe16f365b7446ee08010.jpg  \n",
            " extracting: dataset/train/images/box_71_jpg.rf.ddd8f025913a76f2c4abac2686cd85dd.jpg  \n",
            " extracting: dataset/train/images/box_71_jpg.rf.fa4d58417ae31a7dc486cd5543db6223.jpg  \n",
            " extracting: dataset/train/images/box_72_jpg.rf.19b8718a0293d2a96f3bceaebc69a2a7.jpg  \n",
            " extracting: dataset/train/images/box_72_jpg.rf.32b7f8e6386d7cf3e898b0c76b12dc5d.jpg  \n",
            " extracting: dataset/train/images/box_72_jpg.rf.a5700c7fc665b0638beb334da4326994.jpg  \n",
            " extracting: dataset/train/images/box_72_jpg.rf.a7d5923120b6d523c1b6c77803bc3823.jpg  \n",
            " extracting: dataset/train/images/box_72_jpg.rf.c2b72c1321d922b4efb1bb437d14c5c5.jpg  \n",
            " extracting: dataset/train/images/box_72_jpg.rf.e7fb7d1440cf725c94551b9b35e17d76.jpg  \n",
            " extracting: dataset/train/images/box_72_jpg.rf.e983ded60e8390188b22484dece69d1b.jpg  \n",
            " extracting: dataset/train/images/box_72_jpg.rf.e99cedc55742a90be067ebe0cda71c61.jpg  \n",
            " extracting: dataset/train/images/box_72_jpg.rf.ed6e933d1363757474d297281a28fcee.jpg  \n",
            " extracting: dataset/train/images/box_72_jpg.rf.f4c2028885e7aac49f463320627a2139.jpg  \n",
            " extracting: dataset/train/images/box_72_jpg.rf.f74fece8885bede62dd2f37553750ed8.jpg  \n",
            " extracting: dataset/train/images/box_73_jpg.rf.35c076258fa87bc563779bc655c0e0f6.jpg  \n",
            " extracting: dataset/train/images/box_73_jpg.rf.575bbbe48e4fbf0f6174ced8978ac3c3.jpg  \n",
            " extracting: dataset/train/images/box_73_jpg.rf.584e3d7d5635adc2c290cd187de04b8b.jpg  \n",
            " extracting: dataset/train/images/box_73_jpg.rf.6ba16a9c6577fafecd9f002e17533e05.jpg  \n",
            " extracting: dataset/train/images/box_73_jpg.rf.8899e125e0cfd6a751e6297d805f3da3.jpg  \n",
            " extracting: dataset/train/images/box_73_jpg.rf.8d3366b9142bee7d6592fa85f62975d8.jpg  \n",
            " extracting: dataset/train/images/box_73_jpg.rf.95b258c683cf17dc9b53cfabe4963922.jpg  \n",
            " extracting: dataset/train/images/box_73_jpg.rf.b39d170e308846c29b1163cb50212e50.jpg  \n",
            " extracting: dataset/train/images/box_73_jpg.rf.e13390e2ff563cab75c26966a866afdc.jpg  \n",
            " extracting: dataset/train/images/box_74_jpg.rf.13c581738aaa1af95ff505c310cef618.jpg  \n",
            " extracting: dataset/train/images/box_74_jpg.rf.2df01c8425837040ff572831efc06bab.jpg  \n",
            " extracting: dataset/train/images/box_74_jpg.rf.6fb0303e8b2dc5440c2c3b4841edcd34.jpg  \n",
            " extracting: dataset/train/images/box_74_jpg.rf.760d589d280908277e2a7b2fa9e782c5.jpg  \n",
            " extracting: dataset/train/images/box_74_jpg.rf.81b219473f1ace45f1b5e644c40dea80.jpg  \n",
            " extracting: dataset/train/images/box_74_jpg.rf.9fd2a9848196c509f3d2e6f30b287b4e.jpg  \n",
            " extracting: dataset/train/images/box_74_jpg.rf.d8f93936b2cca214e6e614b14077cf0a.jpg  \n",
            " extracting: dataset/train/images/box_74_jpg.rf.e3caa1a5b5d1fb748f779297d23577c4.jpg  \n",
            " extracting: dataset/train/images/box_74_jpg.rf.e6bcf272fa2178829de12de08d299b27.jpg  \n",
            " extracting: dataset/train/images/box_75_jpg.rf.039ffb1325af7acf927bbb71da6347b9.jpg  \n",
            " extracting: dataset/train/images/box_75_jpg.rf.0570f9a45ae12d43a63ebe7e8dabb1e6.jpg  \n",
            " extracting: dataset/train/images/box_75_jpg.rf.12bd721c1f76ba0bb841a97fa1460b93.jpg  \n",
            " extracting: dataset/train/images/box_75_jpg.rf.71919709d6c5e091ff191926104da833.jpg  \n",
            " extracting: dataset/train/images/box_75_jpg.rf.8df7f333d863235976ae13d06e6cd9eb.jpg  \n",
            " extracting: dataset/train/images/box_75_jpg.rf.a72483e9efd8801b8774ee408a8f99c4.jpg  \n",
            " extracting: dataset/train/images/box_75_jpg.rf.b9405bfaf2216c11483c28c57c467d8b.jpg  \n",
            " extracting: dataset/train/images/box_76_jpg.rf.2b446dbc1569e807d010fa9d63c50303.jpg  \n",
            " extracting: dataset/train/images/box_76_jpg.rf.3624d87ce5952b5d45c24b97699786e9.jpg  \n",
            " extracting: dataset/train/images/box_76_jpg.rf.42053d1b95e31b6e73b9b5552a8be88b.jpg  \n",
            " extracting: dataset/train/images/box_76_jpg.rf.56935a9348fe6fdb1d9b304f59e503f8.jpg  \n",
            " extracting: dataset/train/images/box_76_jpg.rf.64816c0a8a1785843a900006e8940e8d.jpg  \n",
            " extracting: dataset/train/images/box_76_jpg.rf.ad4beae431d9c01657f20c2dda60b31f.jpg  \n",
            " extracting: dataset/train/images/box_76_jpg.rf.bc0eaef31e1ca3150cce5bd9d88d4e0d.jpg  \n",
            " extracting: dataset/train/images/box_76_jpg.rf.d37db12a57ba6c9e0ec655ce3a54edd5.jpg  \n",
            " extracting: dataset/train/images/box_76_jpg.rf.d70dec6d453896627b8975d8742f03bf.jpg  \n",
            " extracting: dataset/train/images/box_76_jpg.rf.e56bffd8d2155557251208b0554fac7c.jpg  \n",
            " extracting: dataset/train/images/box_76_jpg.rf.eac97fbf122297e996a29e36fad15b88.jpg  \n",
            " extracting: dataset/train/images/box_76_jpg.rf.f69796af3dcb56cbc4efc2fd5461bb7f.jpg  \n",
            " extracting: dataset/train/images/box_77_jpg.rf.22ae8e36d5d999f7b1401fc986eb6156.jpg  \n",
            " extracting: dataset/train/images/box_77_jpg.rf.324a0b971b71365e29874db8d3a2856f.jpg  \n",
            " extracting: dataset/train/images/box_77_jpg.rf.3b0a4517d03d18e9917ce97945c15155.jpg  \n",
            " extracting: dataset/train/images/box_77_jpg.rf.4162324900080c34e7fab35406cbcfaf.jpg  \n",
            " extracting: dataset/train/images/box_77_jpg.rf.486d295c0c0bdc8853c1dd9b3bb41081.jpg  \n",
            " extracting: dataset/train/images/box_77_jpg.rf.81dc0568d3518e5c005b99fd9f8cd68c.jpg  \n",
            " extracting: dataset/train/images/box_77_jpg.rf.99a1dc8ecd6da1387173a2a18756f57e.jpg  \n",
            " extracting: dataset/train/images/box_77_jpg.rf.bff8cec3e487c56eff7c17b6e9ab48b4.jpg  \n",
            " extracting: dataset/train/images/box_77_jpg.rf.de9a5488498a45cc88700c46027be4c3.jpg  \n",
            " extracting: dataset/train/images/box_77_jpg.rf.e46936d5904949806c40f753e769b219.jpg  \n",
            " extracting: dataset/train/images/box_77_jpg.rf.f0eff30d6f03b67c71b1b6364cd4deca.jpg  \n",
            " extracting: dataset/train/images/box_78_jpg.rf.38b42c36c3016ca156fbf100797c4604.jpg  \n",
            " extracting: dataset/train/images/box_78_jpg.rf.50a10ddce260c92420f1928266d0b7d5.jpg  \n",
            " extracting: dataset/train/images/box_78_jpg.rf.59ce3840a18a4770cb411ae373ad6219.jpg  \n",
            " extracting: dataset/train/images/box_78_jpg.rf.81bfee4c32c442601f061b2eeb8fa834.jpg  \n",
            " extracting: dataset/train/images/box_78_jpg.rf.8f93ea5ed4f04155ebbc07733bdfa1f2.jpg  \n",
            " extracting: dataset/train/images/box_78_jpg.rf.94e99b5d169575f147698da10b240f0d.jpg  \n",
            " extracting: dataset/train/images/box_78_jpg.rf.975a1ef2e83154be07768827c330ab76.jpg  \n",
            " extracting: dataset/train/images/box_78_jpg.rf.b6bd225ce23495cd27d39f5fdc11d71a.jpg  \n",
            " extracting: dataset/train/images/box_78_jpg.rf.cf76a50fbb74be437f37ed8c5931d717.jpg  \n",
            " extracting: dataset/train/images/box_78_jpg.rf.d622573938c4e973cc41c28180204566.jpg  \n",
            " extracting: dataset/train/images/box_78_jpg.rf.e4f96f4e9fcdd0e0303c03e069ace180.jpg  \n",
            " extracting: dataset/train/images/box_78_jpg.rf.e6fd598edef89da4a8689341eead7033.jpg  \n",
            " extracting: dataset/train/images/box_78_jpg.rf.e74533afd32b673b05b87154f55ab894.jpg  \n",
            " extracting: dataset/train/images/box_78_jpg.rf.f8de7293531f41564bf9da2acf65330e.jpg  \n",
            " extracting: dataset/train/images/box_79_jpg.rf.0c9f9ee674a3bb28f17611a5f1427fed.jpg  \n",
            " extracting: dataset/train/images/box_79_jpg.rf.2e14152750784ac10bf89fbc8e70a4cc.jpg  \n",
            " extracting: dataset/train/images/box_79_jpg.rf.44b775970e312a94d41bd7a5b95935eb.jpg  \n",
            " extracting: dataset/train/images/box_79_jpg.rf.46c80314dfaefea3c1bf501b254bd33b.jpg  \n",
            " extracting: dataset/train/images/box_79_jpg.rf.555b04f96b558d0cd28eb95d860ab601.jpg  \n",
            " extracting: dataset/train/images/box_79_jpg.rf.85b2660ab697a8a3fbf436d358f73e6e.jpg  \n",
            " extracting: dataset/train/images/box_79_jpg.rf.8715fdf4b2aa3ecda9c01ca9addc8626.jpg  \n",
            " extracting: dataset/train/images/box_79_jpg.rf.884390236f8f92d9702ecbd471c0fc28.jpg  \n",
            " extracting: dataset/train/images/box_79_jpg.rf.96f61dacbd9ab048b6d880ce53f779f9.jpg  \n",
            " extracting: dataset/train/images/box_79_jpg.rf.98d7ffd6ab5386c2eab167653ca4d69b.jpg  \n",
            " extracting: dataset/train/images/box_79_jpg.rf.9e9fdead328103a8494712fe6d33bc4d.jpg  \n",
            " extracting: dataset/train/images/box_79_jpg.rf.b37582e0e4980797a3b9103753191b8f.jpg  \n",
            " extracting: dataset/train/images/box_79_jpg.rf.c1e8f205db1cabbc7f844df2cb62d0af.jpg  \n",
            " extracting: dataset/train/images/box_79_jpg.rf.c2a1e2db3ab9373f8958976a41b71ddc.jpg  \n",
            " extracting: dataset/train/images/box_79_jpg.rf.fe17bea281fc6e67f2c75c8b242c8d73.jpg  \n",
            " extracting: dataset/train/images/box_80_jpg.rf.0ec45a2d5629c893d8b19790be1f12eb.jpg  \n",
            " extracting: dataset/train/images/box_80_jpg.rf.3b4110c5ea07276ea1ede1ee0218219c.jpg  \n",
            " extracting: dataset/train/images/box_80_jpg.rf.457ad82b9e8e044da1f35b8435ee5d73.jpg  \n",
            " extracting: dataset/train/images/box_80_jpg.rf.755c6930dbb9aa24be7d97025e99a44a.jpg  \n",
            " extracting: dataset/train/images/box_80_jpg.rf.7cdc58b8152013dd39b6faf646fc5273.jpg  \n",
            " extracting: dataset/train/images/box_80_jpg.rf.c31b614dc7b169fc9829bfa5dee8d06c.jpg  \n",
            " extracting: dataset/train/images/box_80_jpg.rf.d1c4d5253d016737a96408b82abb5272.jpg  \n",
            " extracting: dataset/train/images/box_80_jpg.rf.d84403aae6244c8a13218e07fa21a009.jpg  \n",
            " extracting: dataset/train/images/box_80_jpg.rf.ebfdfe018bd01d5d67e5b1368aaea633.jpg  \n",
            " extracting: dataset/train/images/box_80_jpg.rf.ed2bc0076f56b1ce1d31ed8a68f3c93d.jpg  \n",
            " extracting: dataset/train/images/box_81_jpg.rf.07dd68c72d208ec05bcbbae2e8a8f3bd.jpg  \n",
            " extracting: dataset/train/images/box_81_jpg.rf.4e5e3102f26f5d135ab1315f9442feec.jpg  \n",
            " extracting: dataset/train/images/box_81_jpg.rf.7bb6a28ac8c7330640f6767d7feeb73a.jpg  \n",
            " extracting: dataset/train/images/box_81_jpg.rf.82ec0ee9ccee9bafc5633c3b9ce8386d.jpg  \n",
            " extracting: dataset/train/images/box_81_jpg.rf.924ce8373b82153946599b8c21966645.jpg  \n",
            " extracting: dataset/train/images/box_81_jpg.rf.95d1ab321720082733fe1aa2fdc941fb.jpg  \n",
            " extracting: dataset/train/images/box_81_jpg.rf.a42a1256a017258ba6987c917e232252.jpg  \n",
            " extracting: dataset/train/images/box_81_jpg.rf.ec13324ad0476461636086131b75c1fb.jpg  \n",
            " extracting: dataset/train/images/box_81_jpg.rf.ef6616ff1b1dd26846e78607c621c8cc.jpg  \n",
            " extracting: dataset/train/images/box_81_jpg.rf.f1f95b39d6c8695117ac07a65a22aa64.jpg  \n",
            " extracting: dataset/train/images/box_82_jpg.rf.197d359123ff6f0154d1d5d68552322e.jpg  \n",
            " extracting: dataset/train/images/box_82_jpg.rf.1a430899b3a76d9f8b817171cebb56e5.jpg  \n",
            " extracting: dataset/train/images/box_82_jpg.rf.1eca9749268eddec2258a4f3fb9c2983.jpg  \n",
            " extracting: dataset/train/images/box_82_jpg.rf.2f19a6df15262418b84853fb9917ce5a.jpg  \n",
            " extracting: dataset/train/images/box_82_jpg.rf.45ff466de36a1310ddd199b0fd98fcc2.jpg  \n",
            " extracting: dataset/train/images/box_82_jpg.rf.6d968adaca0d2df79dec29f91549d2df.jpg  \n",
            " extracting: dataset/train/images/box_82_jpg.rf.77600fcf6d86d0e34f353affe469ee62.jpg  \n",
            " extracting: dataset/train/images/box_82_jpg.rf.836c70ff39dd97eb03f3dcf472110c9c.jpg  \n",
            " extracting: dataset/train/images/box_82_jpg.rf.839bc8b390588d52085be5e68ed8d896.jpg  \n",
            " extracting: dataset/train/images/box_82_jpg.rf.88983d4f5a6bb35fd434987478bb86ec.jpg  \n",
            " extracting: dataset/train/images/box_82_jpg.rf.a0ec245bb7ceb55edd22f721a786310d.jpg  \n",
            " extracting: dataset/train/images/box_82_jpg.rf.ae567c46849bb1e5aa10ef17504923e8.jpg  \n",
            " extracting: dataset/train/images/box_82_jpg.rf.c56216287141b56993bb4d5602c5b743.jpg  \n",
            " extracting: dataset/train/images/box_82_jpg.rf.dd6bc2ad98188bf99ed100110d0bf3d1.jpg  \n",
            " extracting: dataset/train/images/box_82_jpg.rf.f6cc09c82e3555080efdc5ff3e1f187f.jpg  \n",
            " extracting: dataset/train/images/box_83_jpg.rf.0c7c17c889805f2a1ee9351fff530d8d.jpg  \n",
            " extracting: dataset/train/images/box_83_jpg.rf.0c818680e3644d07443680085dcf4357.jpg  \n",
            " extracting: dataset/train/images/box_83_jpg.rf.107fdfcef52d36dac6c85129f733a818.jpg  \n",
            " extracting: dataset/train/images/box_83_jpg.rf.305c011b64bad5a0af5d2ed28473f5c0.jpg  \n",
            " extracting: dataset/train/images/box_83_jpg.rf.36f19f7e9edfac748ffdb06f2a51594d.jpg  \n",
            " extracting: dataset/train/images/box_83_jpg.rf.49e5df4140c3bd5a14abbc5082855697.jpg  \n",
            " extracting: dataset/train/images/box_83_jpg.rf.6cc0bcd3926a9938615989e19bd9f4c3.jpg  \n",
            " extracting: dataset/train/images/box_83_jpg.rf.7998db5e3aeaf674797333221bbb0d38.jpg  \n",
            " extracting: dataset/train/images/box_83_jpg.rf.7cb03af9dea84c7e32e92bf21cb953ab.jpg  \n",
            " extracting: dataset/train/images/box_83_jpg.rf.b5bb086cf193dba98b1a52184620ca70.jpg  \n",
            " extracting: dataset/train/images/box_83_jpg.rf.cbb3780a44ee0e78c758024f8cb23810.jpg  \n",
            " extracting: dataset/train/images/box_83_jpg.rf.cc3e5f9a5538de92d2716f67fd615360.jpg  \n",
            " extracting: dataset/train/images/box_83_jpg.rf.e2270fcaa51d80140af1b788debda4e0.jpg  \n",
            " extracting: dataset/train/images/box_83_jpg.rf.f8f90d1298741e0003d45936fbeb6b85.jpg  \n",
            " extracting: dataset/train/images/box_84_jpg.rf.09e8e84e7781cbc565b9340eee3cce26.jpg  \n",
            " extracting: dataset/train/images/box_84_jpg.rf.0c8284af438918d6381e4673664b7170.jpg  \n",
            " extracting: dataset/train/images/box_84_jpg.rf.146e1d8af478bbab03997f3cbef0a9ae.jpg  \n",
            " extracting: dataset/train/images/box_84_jpg.rf.225e27d86a732f7c48aa9cdd19f6de74.jpg  \n",
            " extracting: dataset/train/images/box_84_jpg.rf.37bd6038dc369db08ae5891d44088a2c.jpg  \n",
            " extracting: dataset/train/images/box_84_jpg.rf.3eb6a6fdf4df702841ad9dc32d2f65b1.jpg  \n",
            " extracting: dataset/train/images/box_84_jpg.rf.432d08840e7417aab35f7ba43a87d96c.jpg  \n",
            " extracting: dataset/train/images/box_84_jpg.rf.75e285bf0902344d3f7d6f7bc8a50711.jpg  \n",
            " extracting: dataset/train/images/box_84_jpg.rf.945f96aac58143d617545018f5e8672b.jpg  \n",
            " extracting: dataset/train/images/box_84_jpg.rf.94bc7a5cdbad44b730447328f6dad4c1.jpg  \n",
            " extracting: dataset/train/images/box_84_jpg.rf.c2c6d3f4f44e0b1b8944b743148d16fe.jpg  \n",
            " extracting: dataset/train/images/box_84_jpg.rf.db04abbfe3e249b4af963efb4a3def52.jpg  \n",
            " extracting: dataset/train/images/box_84_jpg.rf.fbd6670da5d4d5d6634cc19c357a3e4b.jpg  \n",
            " extracting: dataset/train/images/box_85_jpg.rf.07bba3f48c07b52bfdd8602941bd7933.jpg  \n",
            " extracting: dataset/train/images/box_85_jpg.rf.1048114cce9299caea7699fe36655ceb.jpg  \n",
            " extracting: dataset/train/images/box_85_jpg.rf.12db441474385f17f7581528cbd3d5f4.jpg  \n",
            " extracting: dataset/train/images/box_85_jpg.rf.155a099086481c591a83ea798a7de4f2.jpg  \n",
            " extracting: dataset/train/images/box_85_jpg.rf.17974edefea3b1b34bd46c4035336096.jpg  \n",
            " extracting: dataset/train/images/box_85_jpg.rf.50b45de5b5b213a3fe112030c1b1abde.jpg  \n",
            " extracting: dataset/train/images/box_85_jpg.rf.61fa9300d23d7ac7244d37d2b82edc9d.jpg  \n",
            " extracting: dataset/train/images/box_85_jpg.rf.62a24e665c41e2fa0a5f1666152d17d0.jpg  \n",
            " extracting: dataset/train/images/box_85_jpg.rf.7e667ed6acf906f4d59cdab302014cf0.jpg  \n",
            " extracting: dataset/train/images/box_85_jpg.rf.8979d4702595fb2130dc743172b938cd.jpg  \n",
            " extracting: dataset/train/images/box_85_jpg.rf.acbddd3b3f1bfd08ec4458a28d06da62.jpg  \n",
            " extracting: dataset/train/images/box_85_jpg.rf.c4824ced9b3a718132a1c21cf54f4364.jpg  \n",
            " extracting: dataset/train/images/box_85_jpg.rf.d62732ed657afc5568d5241eb59481fe.jpg  \n",
            " extracting: dataset/train/images/box_86_jpg.rf.2415d5c87f1d64891c754ee956db62b5.jpg  \n",
            " extracting: dataset/train/images/box_86_jpg.rf.cc1000c507414c388f408fc00b2bda10.jpg  \n",
            " extracting: dataset/train/images/box_86_jpg.rf.d5d146af408175eca11455a1f3026d71.jpg  \n",
            " extracting: dataset/train/images/box_87_jpg.rf.0fe8d2f8827fcea14f0f4d6aa1bcf20e.jpg  \n",
            " extracting: dataset/train/images/box_87_jpg.rf.1e4f3e45fd5f60401bdd46a1d4ef41b2.jpg  \n",
            " extracting: dataset/train/images/box_87_jpg.rf.22b89be564fa36509a322745f23ee63f.jpg  \n",
            " extracting: dataset/train/images/box_87_jpg.rf.269a1d22f6ad2b4d07276b2ff4db0c89.jpg  \n",
            " extracting: dataset/train/images/box_87_jpg.rf.2a4edafc66a2d68c4564750131dd748e.jpg  \n",
            " extracting: dataset/train/images/box_87_jpg.rf.3312d6f04e2c47d44bdb1d339df944d2.jpg  \n",
            " extracting: dataset/train/images/box_87_jpg.rf.3e91c0c0f56a1ffcc7e09dfac979a8dd.jpg  \n",
            " extracting: dataset/train/images/box_87_jpg.rf.4219de2ba888d7c1ec2d8ed88e6e5283.jpg  \n",
            " extracting: dataset/train/images/box_87_jpg.rf.53180b4a253f4c893e3b4c6c0a7b9a45.jpg  \n",
            " extracting: dataset/train/images/box_87_jpg.rf.598d062309788e4ee13b90caf6185f9c.jpg  \n",
            " extracting: dataset/train/images/box_87_jpg.rf.5bfc164e8bde3dca8094a4793d0fa283.jpg  \n",
            " extracting: dataset/train/images/box_87_jpg.rf.72e77de0609b8042b10f102dfb447ead.jpg  \n",
            " extracting: dataset/train/images/box_87_jpg.rf.887594c7e918a785f97c916732bf4ac0.jpg  \n",
            " extracting: dataset/train/images/box_87_jpg.rf.a2b3085cad61f72a06b56e1a9e77cb1e.jpg  \n",
            " extracting: dataset/train/images/box_87_jpg.rf.b817e79aef06fa0fb9a64bc2cc20baa9.jpg  \n",
            " extracting: dataset/train/images/box_87_jpg.rf.c8fd3cf09da73caf27924e4c3a208bcd.jpg  \n",
            " extracting: dataset/train/images/box_87_jpg.rf.f03c7dc06303bfb3fd1bbf1dcbd8291c.jpg  \n",
            " extracting: dataset/train/images/box_88_jpg.rf.0321c8bb53ccc3c5cdee4c620927bed9.jpg  \n",
            " extracting: dataset/train/images/box_88_jpg.rf.2ad501342b263069f955ebdcf02ccd1b.jpg  \n",
            " extracting: dataset/train/images/box_88_jpg.rf.32107d203319c088ab9d7978c4c7ed85.jpg  \n",
            " extracting: dataset/train/images/box_88_jpg.rf.4f680963d3203da662eaf375dbd3a50d.jpg  \n",
            " extracting: dataset/train/images/box_88_jpg.rf.62cf65217420ab5a0f651483999c432f.jpg  \n",
            " extracting: dataset/train/images/box_88_jpg.rf.6e31fd95e6b585fc45d2d351b8d8b337.jpg  \n",
            " extracting: dataset/train/images/box_88_jpg.rf.773c25268f596dd1d7593e74c62a9f60.jpg  \n",
            " extracting: dataset/train/images/box_88_jpg.rf.a69b9ea33bcb9290a35d5f541f142a2c.jpg  \n",
            " extracting: dataset/train/images/box_88_jpg.rf.ac2db2dfb0a3f562ebc9a04c76757cd4.jpg  \n",
            " extracting: dataset/train/images/box_88_jpg.rf.ad9506ee8b71f83a399785d950d1d430.jpg  \n",
            " extracting: dataset/train/images/box_88_jpg.rf.afc1ffcacf565a4d912afdf48ecdbd05.jpg  \n",
            " extracting: dataset/train/images/box_88_jpg.rf.c6951818bf089a3141570c64dc1b194e.jpg  \n",
            " extracting: dataset/train/images/box_88_jpg.rf.c9f4f43c9c20d52e2ab1593c686fa75b.jpg  \n",
            " extracting: dataset/train/images/box_88_jpg.rf.ca2843df215c7b09e78719e04ab4cd97.jpg  \n",
            " extracting: dataset/train/images/box_88_jpg.rf.d67bcebf55434e18d534242eced5dd6e.jpg  \n",
            " extracting: dataset/train/images/box_88_jpg.rf.e42f71e02aeba19afbb871d3a90d1911.jpg  \n",
            " extracting: dataset/train/images/box_89_jpg.rf.181531a82bdb3a102a38f6013739597c.jpg  \n",
            " extracting: dataset/train/images/box_89_jpg.rf.1b55e7d2a5de7e32fb84f0a361303dea.jpg  \n",
            " extracting: dataset/train/images/box_89_jpg.rf.1e161e28df4cb39a0f29f4139cc5cf30.jpg  \n",
            " extracting: dataset/train/images/box_89_jpg.rf.1f758532cc92100ab898481e0e37dc05.jpg  \n",
            " extracting: dataset/train/images/box_89_jpg.rf.3ed33e509d07da9ae2834a732948a011.jpg  \n",
            " extracting: dataset/train/images/box_89_jpg.rf.8fdaa6f2e78ad6e8d63e3fbe75335f8a.jpg  \n",
            " extracting: dataset/train/images/box_89_jpg.rf.af3b9570839d14d218ff4cc26fa2ee5c.jpg  \n",
            " extracting: dataset/train/images/box_89_jpg.rf.b1f6b1d6c67cdc9bc2b27dcdbe6ffb74.jpg  \n",
            " extracting: dataset/train/images/box_89_jpg.rf.bdca02ea43205eb0c5c761a707be865d.jpg  \n",
            " extracting: dataset/train/images/box_89_jpg.rf.c738c91b97e92dc79d8113d44103a40a.jpg  \n",
            " extracting: dataset/train/images/box_89_jpg.rf.cc482dcdf53f1560b605272d826f827e.jpg  \n",
            " extracting: dataset/train/images/box_90_jpg.rf.1620b82e64b39a251707dfa8a75847ac.jpg  \n",
            " extracting: dataset/train/images/box_90_jpg.rf.76645905f1a37c01de6261e015b807fa.jpg  \n",
            " extracting: dataset/train/images/box_90_jpg.rf.8c6608e8c1c560f3b45b19c969b5abcc.jpg  \n",
            " extracting: dataset/train/images/box_90_jpg.rf.c33f8597fb2a5c880e434a6d0f90415c.jpg  \n",
            " extracting: dataset/train/images/box_90_jpg.rf.d845418115c66772fd40d1e416c362c4.jpg  \n",
            " extracting: dataset/train/images/box_90_jpg.rf.ef54296a46bda6401f32948f1c9c39ac.jpg  \n",
            " extracting: dataset/train/images/box_91_jpg.rf.4dc752f6dab05efdd9d37c3dddc5ef56.jpg  \n",
            " extracting: dataset/train/images/box_91_jpg.rf.59da250ea1f706c40108d3569c3aaf2d.jpg  \n",
            " extracting: dataset/train/images/box_91_jpg.rf.5be9251ed8ede8326ee9e4146484ee65.jpg  \n",
            " extracting: dataset/train/images/box_91_jpg.rf.88dab805ef62f6aba0b78bde7aee0200.jpg  \n",
            " extracting: dataset/train/images/box_91_jpg.rf.9353f8807e8c294b617ba657fa0aa0b9.jpg  \n",
            " extracting: dataset/train/images/box_91_jpg.rf.b288f8271c096099d856ccc3ed3c483f.jpg  \n",
            " extracting: dataset/train/images/box_91_jpg.rf.c7604a6c99bf170784f7a6e1532194c1.jpg  \n",
            " extracting: dataset/train/images/box_91_jpg.rf.d1f6dfea2801fbf6b044f1771963e18b.jpg  \n",
            " extracting: dataset/train/images/box_93_jpg.rf.049377207b4477c08bea0e83fdd1ef4e.jpg  \n",
            " extracting: dataset/train/images/box_93_jpg.rf.34e134e0de3d0f3d4099c1a770f9e74a.jpg  \n",
            " extracting: dataset/train/images/box_93_jpg.rf.4c6b88e449fe6337ff1d7c9cbb42b524.jpg  \n",
            " extracting: dataset/train/images/box_93_jpg.rf.584f1574530598a66784a26b4c962b90.jpg  \n",
            " extracting: dataset/train/images/box_93_jpg.rf.6315570087eb06504e7bf363e5a7582f.jpg  \n",
            " extracting: dataset/train/images/box_93_jpg.rf.83e052acc0d68dde23219671e395ae93.jpg  \n",
            " extracting: dataset/train/images/box_93_jpg.rf.a065b2f5986bb926fbf35a38225de95c.jpg  \n",
            " extracting: dataset/train/images/box_94_jpg.rf.0126474857d8aff09a9e8c60e9d93492.jpg  \n",
            " extracting: dataset/train/images/box_94_jpg.rf.0c04e70a441b8cb23a4b7eb40339a247.jpg  \n",
            " extracting: dataset/train/images/box_94_jpg.rf.3f3e9cabbfadc6c45359dc628932204f.jpg  \n",
            " extracting: dataset/train/images/box_94_jpg.rf.501a455d9cace10604af93b5b2b9b4fa.jpg  \n",
            " extracting: dataset/train/images/box_94_jpg.rf.6e092903de9a9bfdfaf63c1513ede892.jpg  \n",
            " extracting: dataset/train/images/box_94_jpg.rf.70f7d7fd0e3eecb7df2b1ee82f8a06a7.jpg  \n",
            " extracting: dataset/train/images/box_94_jpg.rf.85bae4c954b682f648eba0c5be4bf3ea.jpg  \n",
            " extracting: dataset/train/images/box_94_jpg.rf.91716d2488fe6f4fad1245f3bd95c026.jpg  \n",
            " extracting: dataset/train/images/box_94_jpg.rf.d9e974ff185a809ae3a476f3761a13ad.jpg  \n",
            " extracting: dataset/train/images/box_94_jpg.rf.def068030b34dd52677ec40a94c7cafe.jpg  \n",
            " extracting: dataset/train/images/box_94_jpg.rf.e3234a1c85d36eaafae5a1af55e5683f.jpg  \n",
            " extracting: dataset/train/images/box_95_jpg.rf.025a9ad2977bd4718151a6906ce6c545.jpg  \n",
            " extracting: dataset/train/images/box_95_jpg.rf.10caba3844609ac3b6a9e8f138090c99.jpg  \n",
            " extracting: dataset/train/images/box_95_jpg.rf.4b90fe16b0a1a198b8d6f2158ec1468b.jpg  \n",
            " extracting: dataset/train/images/box_95_jpg.rf.615f7e143df1b8baf7fd58d09bf052dd.jpg  \n",
            " extracting: dataset/train/images/box_95_jpg.rf.6ae31a70e7dbe8c5a250fc384e7e4032.jpg  \n",
            " extracting: dataset/train/images/box_95_jpg.rf.7c4e61789c1f0596766e29cee9360971.jpg  \n",
            " extracting: dataset/train/images/box_95_jpg.rf.95e58811ee3551088f26be95d65d83a6.jpg  \n",
            " extracting: dataset/train/images/box_95_jpg.rf.a9981961ebf4f6da34fb888eb3b353fe.jpg  \n",
            " extracting: dataset/train/images/box_95_jpg.rf.b333cd9561254c872f5099046c2969e1.jpg  \n",
            " extracting: dataset/train/images/box_95_jpg.rf.e78522f44015182bb4f94df3d43cdafd.jpg  \n",
            " extracting: dataset/train/images/box_95_jpg.rf.e9106fd40d5d78031716ded54ea8d755.jpg  \n",
            " extracting: dataset/train/images/box_95_jpg.rf.eac164bc786f5d460d1ea3e019e88c56.jpg  \n",
            " extracting: dataset/train/images/box_96_jpg.rf.139dbdaa2e87fe9b43ae0ad3d5c5d87e.jpg  \n",
            " extracting: dataset/train/images/box_96_jpg.rf.24e73b8f0e706bba362696fb72ad55c7.jpg  \n",
            " extracting: dataset/train/images/box_96_jpg.rf.4c8814833b9b779a5ddfd3d821de8beb.jpg  \n",
            " extracting: dataset/train/images/box_96_jpg.rf.4ed427c5c5836558cb5bbc8e7d013df3.jpg  \n",
            " extracting: dataset/train/images/box_96_jpg.rf.7042184c0c0b5dbacc3160e348e0a66f.jpg  \n",
            " extracting: dataset/train/images/box_96_jpg.rf.803a1bb0ef5de0ebf279b89833a39e38.jpg  \n",
            " extracting: dataset/train/images/box_96_jpg.rf.835edaae27b13c0230927811222e9e25.jpg  \n",
            " extracting: dataset/train/images/box_96_jpg.rf.a785ca58d5a1890ef0e4434bcabb53dd.jpg  \n",
            " extracting: dataset/train/images/box_96_jpg.rf.b4575cb40936809b86ce8567450444a4.jpg  \n",
            " extracting: dataset/train/images/box_96_jpg.rf.b62e3cfe6d27d7e21accecd4fddfea5c.jpg  \n",
            " extracting: dataset/train/images/box_96_jpg.rf.b7d0d4be16419e784a681153550d2002.jpg  \n",
            " extracting: dataset/train/images/box_96_jpg.rf.c534d8bbb81e6a82c157b891d2004a99.jpg  \n",
            " extracting: dataset/train/images/box_96_jpg.rf.d253e83f9d7b798aa428e39eee701dbf.jpg  \n",
            " extracting: dataset/train/images/box_96_jpg.rf.e2b76670a5ca815dfe2abce1d91b24fa.jpg  \n",
            " extracting: dataset/train/images/box_96_jpg.rf.e7e65b7ecdc1e1570dbc4b35e3c15f37.jpg  \n",
            " extracting: dataset/train/images/box_96_jpg.rf.ebed61c587f5dba89925d04afdc4a1d4.jpg  \n",
            " extracting: dataset/train/images/box_96_jpg.rf.ed3a83f67702180f22271113450436f5.jpg  \n",
            " extracting: dataset/train/images/box_96_jpg.rf.f6b0f27f6c7b8da35ef5667bbcbad6aa.jpg  \n",
            " extracting: dataset/train/images/box_96_jpg.rf.feb524c4adffe33771a49bd04028ddef.jpg  \n",
            " extracting: dataset/train/images/box_97_jpg.rf.09cc9735d94a739409d49d0256103ed2.jpg  \n",
            " extracting: dataset/train/images/box_97_jpg.rf.1c3423e7aea84acae6eed5f99fb69aef.jpg  \n",
            " extracting: dataset/train/images/box_97_jpg.rf.20384448b0ef32632f57e5e4c2126ade.jpg  \n",
            " extracting: dataset/train/images/box_97_jpg.rf.26ef78fa0e8d1e48eb5c78ea6da72206.jpg  \n",
            " extracting: dataset/train/images/box_97_jpg.rf.4e08d070815d3398f3cf699262b822b8.jpg  \n",
            " extracting: dataset/train/images/box_97_jpg.rf.58bce2a8ec3f87fef6aa02178687bc7e.jpg  \n",
            " extracting: dataset/train/images/box_97_jpg.rf.78eb66177bb792ba9fddfadbeb0e1ada.jpg  \n",
            " extracting: dataset/train/images/box_97_jpg.rf.86a5b5e5af19fc08aaf4707b261a4e1c.jpg  \n",
            " extracting: dataset/train/images/box_97_jpg.rf.d4e587d9ea1ebef95b76062de417845c.jpg  \n",
            " extracting: dataset/train/images/box_98_jpg.rf.66c7f4806b1f3254bb5109bf94620de8.jpg  \n",
            " extracting: dataset/train/images/box_98_jpg.rf.73571fbdb85661543abc15d2e7a4f627.jpg  \n",
            " extracting: dataset/train/images/box_98_jpg.rf.86ee31dcf3ac03f57d7047f946de4379.jpg  \n",
            " extracting: dataset/train/images/box_98_jpg.rf.883136c5b0ae5995efc9ea05bd2fee30.jpg  \n",
            " extracting: dataset/train/images/box_98_jpg.rf.939063715f4af5809e47cd80afda4e55.jpg  \n",
            " extracting: dataset/train/images/box_98_jpg.rf.a33208e54e7c4bfb6470f5316178509f.jpg  \n",
            " extracting: dataset/train/images/box_98_jpg.rf.c7c20b946b63ce8a5cfd6bd8ae72af8e.jpg  \n",
            " extracting: dataset/train/images/box_98_jpg.rf.f0e558817c6282a183719c18e843ca17.jpg  \n",
            " extracting: dataset/train/images/box_99_jpg.rf.1eb8f9166339b0622ee5cb43f92b2458.jpg  \n",
            " extracting: dataset/train/images/box_99_jpg.rf.214dd7c076a03e31998c65b28b2aced0.jpg  \n",
            " extracting: dataset/train/images/box_99_jpg.rf.2a7fc139d7612f0904a3379f79ddcb59.jpg  \n",
            " extracting: dataset/train/images/box_99_jpg.rf.4349137f2708e0d7013c907fb451c514.jpg  \n",
            " extracting: dataset/train/images/box_99_jpg.rf.48f0b15e502fd0dcab5e36ce4593d258.jpg  \n",
            " extracting: dataset/train/images/box_99_jpg.rf.6dc12e86b8e0134419da903bca7f6981.jpg  \n",
            " extracting: dataset/train/images/box_99_jpg.rf.88c0cedf722b10913fb17413fae601eb.jpg  \n",
            " extracting: dataset/train/images/box_99_jpg.rf.b8a701dfe9dc7e2d3537551730c51b1c.jpg  \n",
            " extracting: dataset/train/images/box_99_jpg.rf.ce07122a7e23208f9b83321cb8e207d3.jpg  \n",
            " extracting: dataset/train/images/box_99_jpg.rf.d82301ee12ee6f90fb844188a02108a5.jpg  \n",
            " extracting: dataset/train/images/box_99_jpg.rf.d84be0ca0e28ca19e92ce808ba1004b6.jpg  \n",
            " extracting: dataset/train/images/test01_jpg.rf.0bc76fd8e97d3da34d16ee11d8179e18.jpg  \n",
            " extracting: dataset/train/images/test01_jpg.rf.175f774e092a59b6c73df136e75134bb.jpg  \n",
            " extracting: dataset/train/images/test01_jpg.rf.2aac4f5ae40cc68c5c46773b71f9c41b.jpg  \n",
            " extracting: dataset/train/images/test01_jpg.rf.334716bd79aaf78afc57663338e79eda.jpg  \n",
            " extracting: dataset/train/images/test01_jpg.rf.355453630c87ea7c728ee07547f645b3.jpg  \n",
            " extracting: dataset/train/images/test01_jpg.rf.3dfc1b749d2f7fb409e5566bfe21a148.jpg  \n",
            " extracting: dataset/train/images/test01_jpg.rf.3f28a1cff670e1863b8bdaef5e20db81.jpg  \n",
            " extracting: dataset/train/images/test01_jpg.rf.417bcccea617b47531b9c53432fe5b5a.jpg  \n",
            " extracting: dataset/train/images/test01_jpg.rf.45d7c42d7dd7dac527475adac9c8e242.jpg  \n",
            " extracting: dataset/train/images/test01_jpg.rf.5537f6173ff107e4f39438b1f09c5ebc.jpg  \n",
            " extracting: dataset/train/images/test01_jpg.rf.5dc46311f8b9496a1fedb7029a1a432d.jpg  \n",
            " extracting: dataset/train/images/test01_jpg.rf.6dcde088387ec08ff6121460956664b1.jpg  \n",
            " extracting: dataset/train/images/test01_jpg.rf.6fa3bfd9664c5f1daa761666c57e2ba6.jpg  \n",
            " extracting: dataset/train/images/test01_jpg.rf.78b14a40aab455fae974dee224d0d80c.jpg  \n",
            " extracting: dataset/train/images/test01_jpg.rf.7d7242664ec6105ada0d6cbcc8453253.jpg  \n",
            " extracting: dataset/train/images/test01_jpg.rf.88068ee234f52e36571bdb67fd60574d.jpg  \n",
            " extracting: dataset/train/images/test01_jpg.rf.92f4a29afa05968a7b1fc9f5a4726e36.jpg  \n",
            " extracting: dataset/train/images/test01_jpg.rf.94dade8e6f24c467b69062049f74b3e9.jpg  \n",
            " extracting: dataset/train/images/test01_jpg.rf.95567b4264c364d34bf4077d7c5d834b.jpg  \n",
            " extracting: dataset/train/images/test01_jpg.rf.a73e18098dc9f4176802a98cd9856f96.jpg  \n",
            " extracting: dataset/train/images/test01_jpg.rf.a9fc31e0548a4cf2bff5329baea862d8.jpg  \n",
            " extracting: dataset/train/images/test01_jpg.rf.c2a897a4e3e779284a8f81fb769508b7.jpg  \n",
            " extracting: dataset/train/images/test01_jpg.rf.c322e8b91c1882f290e36a28438f4cce.jpg  \n",
            " extracting: dataset/train/images/test01_jpg.rf.d0ea4c2653a2dc338972098789915c2b.jpg  \n",
            " extracting: dataset/train/images/test01_jpg.rf.d10516d9a99a59f04dd751683a1971c8.jpg  \n",
            " extracting: dataset/train/images/test01_jpg.rf.dae68cc773f68f50dbcbb510d025f54d.jpg  \n",
            " extracting: dataset/train/images/test01_jpg.rf.dc83c72c6374bf3ec648afe85c0f9cfe.jpg  \n",
            " extracting: dataset/train/images/test01_jpg.rf.dcdc24eee4cd69953ca022cbd30d971c.jpg  \n",
            " extracting: dataset/train/images/test01_jpg.rf.ea27cd5b21596d42b1ffc31aaf5ce8d6.jpg  \n",
            " extracting: dataset/train/images/test01_jpg.rf.f1d17643b9fcb57a1473fd7a0c6bf8dc.jpg  \n",
            " extracting: dataset/train/images/test01_jpg.rf.f83365d95c9e1247bc585eb89ba5370e.jpg  \n",
            " extracting: dataset/train/images/test01_jpg.rf.fe6d976e69e1d6be97ffb9cce7085c37.jpg  \n",
            " extracting: dataset/train/images/test02_jpg.rf.185821fd39cf1d5bc046f8c332636913.jpg  \n",
            " extracting: dataset/train/images/test02_jpg.rf.1a13b59e8d49e1b6033bfe0a4917c00d.jpg  \n",
            " extracting: dataset/train/images/test02_jpg.rf.1a781a04eea3f6bd3da879715a37af29.jpg  \n",
            " extracting: dataset/train/images/test02_jpg.rf.2928fa6a1258b0555186c78851026753.jpg  \n",
            " extracting: dataset/train/images/test02_jpg.rf.2eef0afd19930fe19a5b6a7c13a4599c.jpg  \n",
            " extracting: dataset/train/images/test02_jpg.rf.3396c8ad475bc49d82243077d501ca32.jpg  \n",
            " extracting: dataset/train/images/test02_jpg.rf.465a290568c5694e3246929464c37efc.jpg  \n",
            " extracting: dataset/train/images/test02_jpg.rf.5340e41f4a7174c3afa4380845b38e22.jpg  \n",
            " extracting: dataset/train/images/test02_jpg.rf.555b3da29ccff788361ada98a6e615e2.jpg  \n",
            " extracting: dataset/train/images/test02_jpg.rf.564bd5f7c7c7e6a32042fc0ad5afd4c7.jpg  \n",
            " extracting: dataset/train/images/test02_jpg.rf.5ae7ee7e3b6963086e5f6302fcb2a0d1.jpg  \n",
            " extracting: dataset/train/images/test02_jpg.rf.5bc8715c3df1fd8248045b15e9aee009.jpg  \n",
            " extracting: dataset/train/images/test02_jpg.rf.7c491ed9c0b6a558f9d440122050efe0.jpg  \n",
            " extracting: dataset/train/images/test02_jpg.rf.976b9f9a293e20d2b9712dc04dadf2fd.jpg  \n",
            " extracting: dataset/train/images/test02_jpg.rf.996b1f0f39c79f9d3ecc9555d8a992f1.jpg  \n",
            " extracting: dataset/train/images/test02_jpg.rf.9a553372de3c48538cb7b24295c6d389.jpg  \n",
            " extracting: dataset/train/images/test02_jpg.rf.9e715b010f9f978ac867ab954dd41477.jpg  \n",
            " extracting: dataset/train/images/test02_jpg.rf.9e8deadcd76e2bcb427b8e1ec3bcb4ac.jpg  \n",
            " extracting: dataset/train/images/test02_jpg.rf.ac6723aff6e102658ec0210fbeea024f.jpg  \n",
            " extracting: dataset/train/images/test02_jpg.rf.b302380aa63876d027e8ee494f6d7544.jpg  \n",
            " extracting: dataset/train/images/test02_jpg.rf.bb7076b5afec336345892094bcc283dc.jpg  \n",
            " extracting: dataset/train/images/test02_jpg.rf.bdbb4763ad5c19c7bce025866e9ff7ad.jpg  \n",
            " extracting: dataset/train/images/test02_jpg.rf.f8ea4ee575feae44b81651e9e3e8a513.jpg  \n",
            " extracting: dataset/train/images/test02_jpg.rf.fae9a1fb41933340eb10639ac1d800d7.jpg  \n",
            " extracting: dataset/train/images/test03_jpg.rf.167ca05b8d1955f7a527226aaeaed8a8.jpg  \n",
            " extracting: dataset/train/images/test03_jpg.rf.19d14f439525ec2d45e4d04c0999700e.jpg  \n",
            " extracting: dataset/train/images/test03_jpg.rf.291a9c971a833adb00d84136bbaf0388.jpg  \n",
            " extracting: dataset/train/images/test03_jpg.rf.4389e75e4325090764e57abb73586a13.jpg  \n",
            " extracting: dataset/train/images/test03_jpg.rf.4da57a93aafe523a7191f6f36eee3313.jpg  \n",
            " extracting: dataset/train/images/test03_jpg.rf.55b86bc236876d18d07217eeef33f360.jpg  \n",
            " extracting: dataset/train/images/test03_jpg.rf.5bb07673bd7c8d61bc1593e75a0a2b70.jpg  \n",
            " extracting: dataset/train/images/test03_jpg.rf.773a6e3516c1c1dfe8e5fc174bbb3e2f.jpg  \n",
            " extracting: dataset/train/images/test03_jpg.rf.8169d453244ac3e58de29f9692ecea70.jpg  \n",
            " extracting: dataset/train/images/test03_jpg.rf.be04e48f7105dd0760dcc4812ef41475.jpg  \n",
            " extracting: dataset/train/images/test03_jpg.rf.df7de4338d7d3a784f9d3c4a3d78ca86.jpg  \n",
            " extracting: dataset/train/images/test03_jpg.rf.e44b1f0531d8ee4b9885b93929ac091a.jpg  \n",
            " extracting: dataset/train/images/test03_jpg.rf.e9c0a6ab416a0368ad4024660de91d36.jpg  \n",
            " extracting: dataset/train/images/test03_jpg.rf.f05699592432d3a7423bfd2a2369a7cc.jpg  \n",
            " extracting: dataset/train/images/test03_jpg.rf.f3b88849ea520fb97baee3bc76bed934.jpg  \n",
            " extracting: dataset/train/images/test03_jpg.rf.f65612759ca6208d7ce66d8c0d935807.jpg  \n",
            "   creating: dataset/train/labels/\n",
            "  inflating: dataset/train/labels/Image1_jpg.rf.074394ec22acc5fa83367744d4d78444.txt  \n",
            "  inflating: dataset/train/labels/Image1_jpg.rf.099c2bbf5f5b23866dfa05d95d6dd2a9.txt  \n",
            "  inflating: dataset/train/labels/Image1_jpg.rf.1511db90b13e20e4b2914c032d13180f.txt  \n",
            "  inflating: dataset/train/labels/Image1_jpg.rf.1e3312ced0488a41228fd8a31cb39eea.txt  \n",
            "  inflating: dataset/train/labels/Image1_jpg.rf.1ff0f00f6dc847c0f9f76c91903fc7f4.txt  \n",
            "  inflating: dataset/train/labels/Image1_jpg.rf.3e5ba1ad0cc2c67727e4328bd5b38d04.txt  \n",
            "  inflating: dataset/train/labels/Image1_jpg.rf.62821c330d413830db3b82e4caf80c0a.txt  \n",
            "  inflating: dataset/train/labels/Image1_jpg.rf.6c20decaed892e044fecc202b4b1895b.txt  \n",
            "  inflating: dataset/train/labels/Image1_jpg.rf.75a28542fe719ba09746421eb179bb5c.txt  \n",
            "  inflating: dataset/train/labels/Image1_jpg.rf.7cd99129d0d9c624031320df0525cfcd.txt  \n",
            "  inflating: dataset/train/labels/Image1_jpg.rf.87b05a0cefd75021580d761bb34e1a71.txt  \n",
            "  inflating: dataset/train/labels/Image1_jpg.rf.8ab498fa151e9fbd158897badc6a91ac.txt  \n",
            "  inflating: dataset/train/labels/Image1_jpg.rf.97b1bff715565c47df6504b6cbc0fa9f.txt  \n",
            "  inflating: dataset/train/labels/Image1_jpg.rf.9ade5cd25ac6a1d6bc5679b759d39598.txt  \n",
            "  inflating: dataset/train/labels/Image1_jpg.rf.a736a190a951e62d4bce8520a5eecdc1.txt  \n",
            "  inflating: dataset/train/labels/Image1_jpg.rf.ad8b0ed36d8b6fbae381371290fa89c4.txt  \n",
            "  inflating: dataset/train/labels/Image1_jpg.rf.ae700a67d0396a57a6444431ba2ac579.txt  \n",
            "  inflating: dataset/train/labels/Image1_jpg.rf.b6ac4d8865f8b608ae1eb3953bc2dfd9.txt  \n",
            "  inflating: dataset/train/labels/Image1_jpg.rf.babd56b2a007f51c867088ac82dc28fa.txt  \n",
            "  inflating: dataset/train/labels/Image1_jpg.rf.bc95b32061b397a909bc6b713d5bd40e.txt  \n",
            "  inflating: dataset/train/labels/Image1_jpg.rf.c165e878c52f7bbbd91edf7c62f8ceb6.txt  \n",
            "  inflating: dataset/train/labels/Image1_jpg.rf.c413d886a812628e367a1515ce68483b.txt  \n",
            "  inflating: dataset/train/labels/Image1_jpg.rf.c46b8a529c3a0c26f5edd61c8642838b.txt  \n",
            "  inflating: dataset/train/labels/Image1_jpg.rf.d8404477564f95193587beba275ad86a.txt  \n",
            "  inflating: dataset/train/labels/Image1_jpg.rf.eaf443d8436941bb187b582bd6332199.txt  \n",
            "  inflating: dataset/train/labels/Image1_jpg.rf.eb05e5db716329a56ffdcf44eea9a378.txt  \n",
            "  inflating: dataset/train/labels/Image1_jpg.rf.f70b863fddc8ec79bd14084197ec393a.txt  \n",
            "  inflating: dataset/train/labels/Image1_jpg.rf.f966eb305bfd9c0e2ed0205b15d5eaf6.txt  \n",
            "  inflating: dataset/train/labels/Image1_jpg.rf.f9e1dbf9b35d45bdedbb2ab4f56a6f34.txt  \n",
            "  inflating: dataset/train/labels/Image1_jpg.rf.fdc8ab507519686d58c18ac6924fb7b2.txt  \n",
            "  inflating: dataset/train/labels/Image2_jpg.rf.0b7fdda715d4b4f6b2da8d89303b4b36.txt  \n",
            "  inflating: dataset/train/labels/Image2_jpg.rf.16074c424d9c303176b9083cf3cc7d43.txt  \n",
            "  inflating: dataset/train/labels/Image2_jpg.rf.17f558e63ba8a27cc4744001fbfd1b93.txt  \n",
            "  inflating: dataset/train/labels/Image2_jpg.rf.254d90dc85de1b997b60e7557bbabcdf.txt  \n",
            "  inflating: dataset/train/labels/Image2_jpg.rf.2a5bc2e402835419a7bf0a74050b9d78.txt  \n",
            "  inflating: dataset/train/labels/Image2_jpg.rf.2ffe6ba0878c16c2d4ebb9e60cd35260.txt  \n",
            "  inflating: dataset/train/labels/Image2_jpg.rf.32626307d6408fe101ae13b6acfca0b8.txt  \n",
            "  inflating: dataset/train/labels/Image2_jpg.rf.46cf823455bdaa16eef33afbd6780fc7.txt  \n",
            "  inflating: dataset/train/labels/Image2_jpg.rf.53ab9e9887d5079abaf8456be43b33dd.txt  \n",
            "  inflating: dataset/train/labels/Image2_jpg.rf.62f0317993e1206d8890e4668d91c3ca.txt  \n",
            "  inflating: dataset/train/labels/Image2_jpg.rf.71747ef10847876984b77d6b8c71124f.txt  \n",
            "  inflating: dataset/train/labels/Image2_jpg.rf.9b4b079c226c355156c6ebbc89f62715.txt  \n",
            "  inflating: dataset/train/labels/Image2_jpg.rf.9f686d71a487ffd734eff60dd5df44a2.txt  \n",
            "  inflating: dataset/train/labels/Image2_jpg.rf.a8d87f04cb48fe1a3802b151071098f8.txt  \n",
            "  inflating: dataset/train/labels/Image2_jpg.rf.b06d279fb5e6b78b7d669db33a7c2290.txt  \n",
            "  inflating: dataset/train/labels/Image2_jpg.rf.b10b31eb0af2bfd45e3a8cfddeb601c2.txt  \n",
            "  inflating: dataset/train/labels/Image2_jpg.rf.b151dfbe073072181990f94fa63d0980.txt  \n",
            "  inflating: dataset/train/labels/Image2_jpg.rf.bc157ef18d53715c2df7a9644dc696ee.txt  \n",
            "  inflating: dataset/train/labels/Image2_jpg.rf.bcb226bfc14721119269ec3124cf40b0.txt  \n",
            "  inflating: dataset/train/labels/Image2_jpg.rf.c1e7b84014a2a78fc6dc5f3fe588e544.txt  \n",
            "  inflating: dataset/train/labels/Image2_jpg.rf.ceecbf11e6fe81730671aad7fa8f07a2.txt  \n",
            "  inflating: dataset/train/labels/Image2_jpg.rf.d269ec414c01eb27f6b426c88a664c2e.txt  \n",
            "  inflating: dataset/train/labels/Image2_jpg.rf.d4632819627f5943bbde16ef801d1405.txt  \n",
            "  inflating: dataset/train/labels/Image2_jpg.rf.d7f7f400d66241c9f681f2f8b949c51e.txt  \n",
            "  inflating: dataset/train/labels/Image2_jpg.rf.e0e10302bcacb3ee38583c11fd1f0790.txt  \n",
            "  inflating: dataset/train/labels/Image2_jpg.rf.e63873498a56e10a022e1df1d44e2f26.txt  \n",
            "  inflating: dataset/train/labels/Image2_jpg.rf.edfbe18675c32418579c6e1435ae4cce.txt  \n",
            "  inflating: dataset/train/labels/Image2_jpg.rf.f0577a0fb100acc9789b3196dfdccb14.txt  \n",
            "  inflating: dataset/train/labels/Image2_jpg.rf.f4ea169590ef8f81977a28b790166ae0.txt  \n",
            "  inflating: dataset/train/labels/Image2_jpg.rf.f59bd8e0c5589ae1d72f734986f80506.txt  \n",
            "  inflating: dataset/train/labels/Image2_jpg.rf.fb22642b6ffa83526520029f51f488ac.txt  \n",
            "  inflating: dataset/train/labels/Image2_jpg.rf.fef43f9ad6c277c33c9e9c37bfc52fce.txt  \n",
            "  inflating: dataset/train/labels/Image3_jpg.rf.062bde63e19d5dc22a02ae2b117d8cf3.txt  \n",
            "  inflating: dataset/train/labels/Image3_jpg.rf.16468c3f5bb9b2ea01dbadf7ecf5cefe.txt  \n",
            "  inflating: dataset/train/labels/Image3_jpg.rf.17e8cf7e3798bf477f9603ec6563cb59.txt  \n",
            "  inflating: dataset/train/labels/Image3_jpg.rf.1b562336c9b6f06f5bf3db4375be70a0.txt  \n",
            "  inflating: dataset/train/labels/Image3_jpg.rf.26fe03aca8f4f43bfdd03557ee5dc414.txt  \n",
            "  inflating: dataset/train/labels/Image3_jpg.rf.2c633708000a34eae90babf2ea4e3a20.txt  \n",
            "  inflating: dataset/train/labels/Image3_jpg.rf.316b699ac39f13506edd157b86cd1a1b.txt  \n",
            "  inflating: dataset/train/labels/Image3_jpg.rf.3b4b252f1aa68daef215e4c00e40fe6c.txt  \n",
            "  inflating: dataset/train/labels/Image3_jpg.rf.3cfc24d187705c0153e77fcf6909c08f.txt  \n",
            "  inflating: dataset/train/labels/Image3_jpg.rf.496ec9dbdeda401e768d340729189c12.txt  \n",
            "  inflating: dataset/train/labels/Image3_jpg.rf.4f65771988f1b2cf92a8e5d53c7e0db3.txt  \n",
            "  inflating: dataset/train/labels/Image3_jpg.rf.546da5228d1501566b2b82c030dab5ee.txt  \n",
            "  inflating: dataset/train/labels/Image3_jpg.rf.569c6598cb0bd4ff172d6fe5a38197de.txt  \n",
            "  inflating: dataset/train/labels/Image3_jpg.rf.61eed9a2a35d451c39355b98fbb5d44a.txt  \n",
            "  inflating: dataset/train/labels/Image3_jpg.rf.8708ba21f48cc68c6b6a4a86b951769e.txt  \n",
            "  inflating: dataset/train/labels/Image3_jpg.rf.8d44c53569818eb1f08d4d45c433c77b.txt  \n",
            "  inflating: dataset/train/labels/Image3_jpg.rf.948febfd0788345c71e0b55014fdfbc6.txt  \n",
            "  inflating: dataset/train/labels/Image3_jpg.rf.a01dc747a173bd2a5018f2b92340dde8.txt  \n",
            "  inflating: dataset/train/labels/Image3_jpg.rf.b9026376fa7a421ea7722f854423f7f1.txt  \n",
            "  inflating: dataset/train/labels/Image3_jpg.rf.bd02fbb3a5d33ac6331343c3a852e5bd.txt  \n",
            "  inflating: dataset/train/labels/Image3_jpg.rf.d29321010952a292ef49049a101c2147.txt  \n",
            "  inflating: dataset/train/labels/Image3_jpg.rf.d8c74d6201f0973470a0cb2ed2e325d2.txt  \n",
            "  inflating: dataset/train/labels/Image3_jpg.rf.dad16dfe82237a76ebc76ba7c3187b63.txt  \n",
            "  inflating: dataset/train/labels/Image3_jpg.rf.e32ecb0be132eabcd174bd75d25aa4ac.txt  \n",
            "  inflating: dataset/train/labels/Image3_jpg.rf.ec10f2f5b4b9003749f8e3d4c871bc00.txt  \n",
            "  inflating: dataset/train/labels/Image3_jpg.rf.eff09be4f878fac45f0b1506439c87ef.txt  \n",
            "  inflating: dataset/train/labels/Image3_jpg.rf.f27843a1eff62245447ba982690b1b9f.txt  \n",
            "  inflating: dataset/train/labels/Image3_jpg.rf.f824926c862bf5cfbe596a6a498401c5.txt  \n",
            "  inflating: dataset/train/labels/Image3_jpg.rf.f82f6735c37cd14fb62fd39df7ac2ec4.txt  \n",
            "  inflating: dataset/train/labels/Image4_jpg.rf.09e24f9705d0879332540d22555fcd20.txt  \n",
            "  inflating: dataset/train/labels/Image4_jpg.rf.163b4722e5a2b2bbb31262b74746a043.txt  \n",
            "  inflating: dataset/train/labels/Image4_jpg.rf.19abe7e5b68243dc7456f64b971cfb54.txt  \n",
            "  inflating: dataset/train/labels/Image4_jpg.rf.1a4bbc6e4414e6c3db4f93341290c416.txt  \n",
            "  inflating: dataset/train/labels/Image4_jpg.rf.1ad32c6f52baab89e94b66b578635e16.txt  \n",
            "  inflating: dataset/train/labels/Image4_jpg.rf.206d9ed6057c28f61adcf047f0647611.txt  \n",
            "  inflating: dataset/train/labels/Image4_jpg.rf.2123bbb887d0d668efba3c3d52398f77.txt  \n",
            "  inflating: dataset/train/labels/Image4_jpg.rf.4135d6c7703f966cfa5b29e3d32083cd.txt  \n",
            "  inflating: dataset/train/labels/Image4_jpg.rf.44ee31a51eea5ccdc94eaadb38bfb879.txt  \n",
            "  inflating: dataset/train/labels/Image4_jpg.rf.4b60b995b6bc22bb87588b007924fddc.txt  \n",
            "  inflating: dataset/train/labels/Image4_jpg.rf.4d987f5764051fdfdee1d02d0ed7bb09.txt  \n",
            "  inflating: dataset/train/labels/Image4_jpg.rf.57377363d1700bf70484ba2271a24531.txt  \n",
            "  inflating: dataset/train/labels/Image4_jpg.rf.5af8f6cc26833ab44140bc0d7b05e802.txt  \n",
            "  inflating: dataset/train/labels/Image4_jpg.rf.64f51b96bec2d7c04968cbcfac41b578.txt  \n",
            "  inflating: dataset/train/labels/Image4_jpg.rf.6be6816978eb07249288ddabc32a3768.txt  \n",
            "  inflating: dataset/train/labels/Image4_jpg.rf.6f5b286858fa0b4218c24235a0087171.txt  \n",
            "  inflating: dataset/train/labels/Image4_jpg.rf.77756164a4af2d0c828589a3fa79de1d.txt  \n",
            "  inflating: dataset/train/labels/Image4_jpg.rf.7885c1d8d58209d17926038765a6edf4.txt  \n",
            "  inflating: dataset/train/labels/Image4_jpg.rf.90da8101f100246a491cc9e0474982b8.txt  \n",
            "  inflating: dataset/train/labels/Image4_jpg.rf.96f5a0803ad050532090123a0cfcc203.txt  \n",
            "  inflating: dataset/train/labels/Image4_jpg.rf.a48744ca11bcf847f24a4063bbd653c3.txt  \n",
            "  inflating: dataset/train/labels/Image4_jpg.rf.b0b0ccc7bf78f3285d31518341656edb.txt  \n",
            "  inflating: dataset/train/labels/Image4_jpg.rf.b8f8114d0c4a3e92f9d2242a4688bb3e.txt  \n",
            "  inflating: dataset/train/labels/Image4_jpg.rf.c94e38ad2aedf9d16e878ad5efef336b.txt  \n",
            "  inflating: dataset/train/labels/Image4_jpg.rf.cb194888b3d536e78eaf9aab9954e28e.txt  \n",
            "  inflating: dataset/train/labels/Image4_jpg.rf.cca3e59abe0bcb8d1e89dc04932f7fde.txt  \n",
            "  inflating: dataset/train/labels/Image4_jpg.rf.d302fc4270221caf57d76c6029639adf.txt  \n",
            "  inflating: dataset/train/labels/Image4_jpg.rf.df3f2c819747e0a235d8b75e51680be4.txt  \n",
            "  inflating: dataset/train/labels/Image5_jpg.rf.089c6682d7178022578d4c25b60f8d4f.txt  \n",
            "  inflating: dataset/train/labels/Image5_jpg.rf.16b62b2a44baf172c563df9c04ca4880.txt  \n",
            "  inflating: dataset/train/labels/Image5_jpg.rf.1f333bfbd51fd82bd2d10228ffb83980.txt  \n",
            "  inflating: dataset/train/labels/Image5_jpg.rf.21413a749738ef2b502d6d1e9f555069.txt  \n",
            "  inflating: dataset/train/labels/Image5_jpg.rf.2de45105a60f981ce22270bf722c15dd.txt  \n",
            "  inflating: dataset/train/labels/Image5_jpg.rf.32741d1a71251a91eaf8ebd048a23ecd.txt  \n",
            "  inflating: dataset/train/labels/Image5_jpg.rf.3fe24b09df0b21c4bc18d233e6f3557a.txt  \n",
            "  inflating: dataset/train/labels/Image5_jpg.rf.456b338cd0af996c101fb281ad2891cb.txt  \n",
            "  inflating: dataset/train/labels/Image5_jpg.rf.49271c9893d9e406f0bb2c4bfa09bf76.txt  \n",
            "  inflating: dataset/train/labels/Image5_jpg.rf.59ca2314c36d1cca3c91ce0cfea5de3e.txt  \n",
            "  inflating: dataset/train/labels/Image5_jpg.rf.5c5f68a21a8de8f29f93f44cc265e453.txt  \n",
            "  inflating: dataset/train/labels/Image5_jpg.rf.5d3be0a480bd5460c131671067a95b2b.txt  \n",
            "  inflating: dataset/train/labels/Image5_jpg.rf.5d66bebc0a834b2dc89b468090c9d0e2.txt  \n",
            "  inflating: dataset/train/labels/Image5_jpg.rf.67971f7dca2a0051a1caff040525ff81.txt  \n",
            "  inflating: dataset/train/labels/Image5_jpg.rf.67cd2255bb12aa506dbdfdc6fc6b4558.txt  \n",
            "  inflating: dataset/train/labels/Image5_jpg.rf.7303eb62dc45b233a69a4ab7c2e1d557.txt  \n",
            "  inflating: dataset/train/labels/Image5_jpg.rf.7b1f545551981756f49d4a6deffa00e0.txt  \n",
            "  inflating: dataset/train/labels/Image5_jpg.rf.80aedadb645378296c84ffbfc2f54a69.txt  \n",
            "  inflating: dataset/train/labels/Image5_jpg.rf.8641268f0206310d8f076d844675fb5d.txt  \n",
            "  inflating: dataset/train/labels/Image5_jpg.rf.8b0f58b521b93ea7360499774dc483dc.txt  \n",
            "  inflating: dataset/train/labels/Image5_jpg.rf.8e04763bd745cb6891705051c52fab0c.txt  \n",
            "  inflating: dataset/train/labels/Image5_jpg.rf.9bf0e3ead8cea2248754042b9dd2b803.txt  \n",
            "  inflating: dataset/train/labels/Image5_jpg.rf.9c02d66bc5de0c767ff2f587da2ed1fd.txt  \n",
            "  inflating: dataset/train/labels/Image5_jpg.rf.a006dfa0e28c3d29213cb7f01f5117cb.txt  \n",
            "  inflating: dataset/train/labels/Image5_jpg.rf.a60a76d1655dd7c77f7912d866e841a0.txt  \n",
            "  inflating: dataset/train/labels/Image5_jpg.rf.a9480b769174acece14a9342e15383d4.txt  \n",
            "  inflating: dataset/train/labels/Image5_jpg.rf.ae082d90d2134e72341157a1abe856d0.txt  \n",
            "  inflating: dataset/train/labels/Image5_jpg.rf.b086d0dbbb63b8991ca987e6eb79004c.txt  \n",
            "  inflating: dataset/train/labels/Image5_jpg.rf.b0dd2534b1e96b0c822d22dbaf52ba82.txt  \n",
            "  inflating: dataset/train/labels/Image5_jpg.rf.b4c3af07144a7ab538a2e6743a085a55.txt  \n",
            "  inflating: dataset/train/labels/Image5_jpg.rf.c05da59a92b88f6c2bfb90ff718822e4.txt  \n",
            "  inflating: dataset/train/labels/Image5_jpg.rf.cf64409a1a91708107f5dfa8f4a03857.txt  \n",
            "  inflating: dataset/train/labels/Image5_jpg.rf.d23ef6461d244006935634b60c231176.txt  \n",
            "  inflating: dataset/train/labels/Image5_jpg.rf.d755c67f485d16f8ee24b460998b81eb.txt  \n",
            "  inflating: dataset/train/labels/Image5_jpg.rf.dcd95677fca0ff1189ac11da1247f656.txt  \n",
            "  inflating: dataset/train/labels/Image5_jpg.rf.e53cfc63e363990877ce1b9644972b3a.txt  \n",
            "  inflating: dataset/train/labels/Image5_jpg.rf.f5e51fac8cbd28fd7f1dde7345e1c201.txt  \n",
            "  inflating: dataset/train/labels/Image5_jpg.rf.fe39bc3449e51925f7358542dad6e6e3.txt  \n",
            "  inflating: dataset/train/labels/Image5_jpg.rf.ffefac236ea539c994b8186745505134.txt  \n",
            "  inflating: dataset/train/labels/Image6R_jpg.rf.05d6210adfcae24c35e25d74bf7c71c8.txt  \n",
            "  inflating: dataset/train/labels/Image6R_jpg.rf.0c214e770a90b5d88a7ac3175e418b14.txt  \n",
            "  inflating: dataset/train/labels/Image6R_jpg.rf.12ffea6257637380ff5bd894c4d811b9.txt  \n",
            "  inflating: dataset/train/labels/Image6R_jpg.rf.24034e9c82f2362175749d610bc7e7a9.txt  \n",
            "  inflating: dataset/train/labels/Image6R_jpg.rf.325b0e1a987f2041c446387a1dfb37a6.txt  \n",
            "  inflating: dataset/train/labels/Image6R_jpg.rf.33c5f80fbdd54b915fbd99187e006411.txt  \n",
            "  inflating: dataset/train/labels/Image6R_jpg.rf.37c3d654af77604e0bac4f9664526c9d.txt  \n",
            "  inflating: dataset/train/labels/Image6R_jpg.rf.4b6427cdade0f9666f78d6ac05b0da43.txt  \n",
            "  inflating: dataset/train/labels/Image6R_jpg.rf.4d6edec7d65de5264d0312d837316814.txt  \n",
            "  inflating: dataset/train/labels/Image6R_jpg.rf.4dff134d7ad4e97721eb4ee636f19f3c.txt  \n",
            "  inflating: dataset/train/labels/Image6R_jpg.rf.5ca9d3a732ce09f534dcd76d45a3048f.txt  \n",
            "  inflating: dataset/train/labels/Image6R_jpg.rf.6621a02660ba601b1520c46af1ed36e3.txt  \n",
            "  inflating: dataset/train/labels/Image6R_jpg.rf.823b9421773b1b86fd1637eb4734d1bf.txt  \n",
            "  inflating: dataset/train/labels/Image6R_jpg.rf.8a24d29e18a293f1a19c3a6e8dc98f22.txt  \n",
            "  inflating: dataset/train/labels/Image6R_jpg.rf.8b1acef91d4c6bdbb079281cd8158119.txt  \n",
            "  inflating: dataset/train/labels/Image6R_jpg.rf.92c63760652a44793347bfdf582b8810.txt  \n",
            "  inflating: dataset/train/labels/Image6R_jpg.rf.941770ea1b83d8c6d2e9cc404d75adff.txt  \n",
            "  inflating: dataset/train/labels/Image6R_jpg.rf.94df1fdd84160714e013f21a031f1fa2.txt  \n",
            "  inflating: dataset/train/labels/Image6R_jpg.rf.963f0d5462a9bb802c1a6850c84d31bd.txt  \n",
            "  inflating: dataset/train/labels/Image6R_jpg.rf.9d89499e7c517baffde96bb5ad39dfa7.txt  \n",
            "  inflating: dataset/train/labels/Image6R_jpg.rf.aa9e2c6a4a6755f53976340cac9ab47d.txt  \n",
            "  inflating: dataset/train/labels/Image6R_jpg.rf.bd690792d0410dac673f1209ff498671.txt  \n",
            "  inflating: dataset/train/labels/Image6R_jpg.rf.c1103fb38f21896666450444c1a9ff4c.txt  \n",
            "  inflating: dataset/train/labels/Image6R_jpg.rf.c4da4d3258765e3c1e82e3f5bb47a860.txt  \n",
            "  inflating: dataset/train/labels/Image6R_jpg.rf.ca5a19568dfbb7d74e9c11740538aba7.txt  \n",
            "  inflating: dataset/train/labels/Image6R_jpg.rf.cc67bc6f8ae6b779ce83f7b44234d0c2.txt  \n",
            "  inflating: dataset/train/labels/Image6R_jpg.rf.dc8a31b6784a2b5788c22a224392dced.txt  \n",
            "  inflating: dataset/train/labels/Image6R_jpg.rf.dec332a550a930ec4e8b64538863760e.txt  \n",
            "  inflating: dataset/train/labels/Image6R_jpg.rf.e2f3c7f52501b1d612beef86958fab50.txt  \n",
            "  inflating: dataset/train/labels/Image6R_jpg.rf.efd753fc6535774a96fe5133ea3bd4c9.txt  \n",
            "  inflating: dataset/train/labels/Image6R_jpg.rf.f66540458017ad529aca873e488000da.txt  \n",
            "  inflating: dataset/train/labels/Image6R_jpg.rf.f93c030ce7a31ce012eab035ecbbeafc.txt  \n",
            "  inflating: dataset/train/labels/Image6_jpg.rf.085becb021ce234b22a882eefaf523ae.txt  \n",
            "  inflating: dataset/train/labels/Image6_jpg.rf.0cf02b92577709ef987c4d9d530a2ca6.txt  \n",
            "  inflating: dataset/train/labels/Image6_jpg.rf.10bcec42730cd6f436ff2ffc0df68ddf.txt  \n",
            "  inflating: dataset/train/labels/Image6_jpg.rf.1cbd357fe11d2fca34bb02e8f2b4a7b0.txt  \n",
            "  inflating: dataset/train/labels/Image6_jpg.rf.1e30b0c215258f5b8519d159982b643d.txt  \n",
            "  inflating: dataset/train/labels/Image6_jpg.rf.255a67ebb981544f732a2d41050e88f0.txt  \n",
            "  inflating: dataset/train/labels/Image6_jpg.rf.2c751247fb776314440fbb1c43890956.txt  \n",
            "  inflating: dataset/train/labels/Image6_jpg.rf.2ef32d08845b9d0afcdf2f8fd8fe5090.txt  \n",
            "  inflating: dataset/train/labels/Image6_jpg.rf.36684ea11a8c59ff744a25ab12107345.txt  \n",
            "  inflating: dataset/train/labels/Image6_jpg.rf.3959a10bf2ad0a6f4dd5ba2fbb35343b.txt  \n",
            "  inflating: dataset/train/labels/Image6_jpg.rf.43291f648b7424960b08671a8c08bbd4.txt  \n",
            "  inflating: dataset/train/labels/Image6_jpg.rf.4675437a49fa3df170217c6af01fd0cc.txt  \n",
            "  inflating: dataset/train/labels/Image6_jpg.rf.4cc3d5d9b75cef2311d7cd93517d1db2.txt  \n",
            "  inflating: dataset/train/labels/Image6_jpg.rf.579d62cd74303f83b88805346d9aef14.txt  \n",
            "  inflating: dataset/train/labels/Image6_jpg.rf.59649a4fa6a7f4205905203ace921167.txt  \n",
            "  inflating: dataset/train/labels/Image6_jpg.rf.5ced0e245cdc7888112809bf2120888f.txt  \n",
            "  inflating: dataset/train/labels/Image6_jpg.rf.5efceee4b9cffe9ebed1e3ad8562c088.txt  \n",
            "  inflating: dataset/train/labels/Image6_jpg.rf.658311971dd863bf939979603c1c88e5.txt  \n",
            "  inflating: dataset/train/labels/Image6_jpg.rf.66cca1dab4c6cb830905c240e73f25ec.txt  \n",
            "  inflating: dataset/train/labels/Image6_jpg.rf.7fd3ed16dd9d6b5540a1ae9f388e6b97.txt  \n",
            "  inflating: dataset/train/labels/Image6_jpg.rf.84b2c2d948e1756b98eab3c3ad15244e.txt  \n",
            "  inflating: dataset/train/labels/Image6_jpg.rf.858a5368efdd147e02ff545819c046dc.txt  \n",
            "  inflating: dataset/train/labels/Image6_jpg.rf.8c3645fed98b2be8e3315864503bf395.txt  \n",
            "  inflating: dataset/train/labels/Image6_jpg.rf.95456b96c4011090050a92c31a881c0f.txt  \n",
            "  inflating: dataset/train/labels/Image6_jpg.rf.a9a253d348732b91cb14846608c47f69.txt  \n",
            "  inflating: dataset/train/labels/Image6_jpg.rf.b2545929006e01ebb3b9344fda149416.txt  \n",
            "  inflating: dataset/train/labels/Image6_jpg.rf.b738db7c8baae53ac308081c4dc5e0aa.txt  \n",
            "  inflating: dataset/train/labels/Image6_jpg.rf.c65118bcbdaee5c88cf36b2564a9e750.txt  \n",
            "  inflating: dataset/train/labels/Image6_jpg.rf.d9b8e0e412a7f05ea9a6a4927d1288d5.txt  \n",
            "  inflating: dataset/train/labels/Image6_jpg.rf.e09493c937d698ba6aa0cc563a33e027.txt  \n",
            "  inflating: dataset/train/labels/Image6_jpg.rf.f284a5d66177dd66638a68c0925a1801.txt  \n",
            "  inflating: dataset/train/labels/Image6_jpg.rf.f70094bb38f8a66403c9f5ee8b2bef79.txt  \n",
            "  inflating: dataset/train/labels/Image6_jpg.rf.fe2ca75ebcef0e4f24bc81ed2a248508.txt  \n",
            "  inflating: dataset/train/labels/box_100_jpg.rf.19f58fe537fb450b39546a49ff27ca4c.txt  \n",
            "  inflating: dataset/train/labels/box_100_jpg.rf.730aedc85ba7d645a2d9da8976e86e89.txt  \n",
            "  inflating: dataset/train/labels/box_100_jpg.rf.7c94d08f1eee639eac235edb106824ec.txt  \n",
            "  inflating: dataset/train/labels/box_100_jpg.rf.7f2f04029d8793b480f95ec481f5f07e.txt  \n",
            "  inflating: dataset/train/labels/box_100_jpg.rf.e0d28841d576aaaf7f1831850fa16d77.txt  \n",
            "  inflating: dataset/train/labels/box_101_jpg.rf.164ce98b83efccfe3468101865686ac9.txt  \n",
            "  inflating: dataset/train/labels/box_101_jpg.rf.22637ba8b08ec3e3afaa2ec444c9ed0a.txt  \n",
            "  inflating: dataset/train/labels/box_101_jpg.rf.283a6fe1fc3843d5ed2458bdf3ce8812.txt  \n",
            "  inflating: dataset/train/labels/box_101_jpg.rf.3d54b42ec0ac97547bafb86133be4f74.txt  \n",
            "  inflating: dataset/train/labels/box_101_jpg.rf.74cec55672887ec747004a5e2f4ac510.txt  \n",
            "  inflating: dataset/train/labels/box_101_jpg.rf.bffcb464dfbaa53f4af2185077ad66f1.txt  \n",
            "  inflating: dataset/train/labels/box_101_jpg.rf.cc57d76eed120a10559bfab50804c68e.txt  \n",
            "  inflating: dataset/train/labels/box_101_jpg.rf.ed8e3feea1de7e36b4db642bbac54bab.txt  \n",
            "  inflating: dataset/train/labels/box_102_jpg.rf.48221285f019e1230d1f8c8a4d5577ca.txt  \n",
            "  inflating: dataset/train/labels/box_102_jpg.rf.4d297b9e816f0d6b4f2225e854e58b80.txt  \n",
            "  inflating: dataset/train/labels/box_102_jpg.rf.53a24886c1ced136a518d455ecc63194.txt  \n",
            "  inflating: dataset/train/labels/box_102_jpg.rf.55be1d13ede32b4e53c77dacc1cbe19e.txt  \n",
            "  inflating: dataset/train/labels/box_102_jpg.rf.7679dcf7db9f2c3b76be341bda48d505.txt  \n",
            "  inflating: dataset/train/labels/box_102_jpg.rf.8ca732cf5efaa0091cda9785d4219689.txt  \n",
            "  inflating: dataset/train/labels/box_102_jpg.rf.9df3fcecafa7fcde540467d5545283c3.txt  \n",
            "  inflating: dataset/train/labels/box_102_jpg.rf.becac3e5b8a4213d6fa581e59b3a8f7c.txt  \n",
            "  inflating: dataset/train/labels/box_102_jpg.rf.c29321921eaa716cfe0adf9e5b37d480.txt  \n",
            "  inflating: dataset/train/labels/box_102_jpg.rf.f640295aeba5d02a13f31b272bda8781.txt  \n",
            "  inflating: dataset/train/labels/box_102_jpg.rf.f87be58cd150a2a652b77f8c1f4f1595.txt  \n",
            "  inflating: dataset/train/labels/box_103_jpg.rf.378dd2f167b12644530d6a6812c11cec.txt  \n",
            "  inflating: dataset/train/labels/box_103_jpg.rf.47fda0656187d74daf3bb7c69946b6ef.txt  \n",
            "  inflating: dataset/train/labels/box_103_jpg.rf.52d3f80445d6d34951d86c99e85f51f2.txt  \n",
            "  inflating: dataset/train/labels/box_103_jpg.rf.a8c4714a47812e925205c852ffc1f65f.txt  \n",
            "  inflating: dataset/train/labels/box_103_jpg.rf.f07cbae54df905c75448bb0b869aaa4e.txt  \n",
            "  inflating: dataset/train/labels/box_103_jpg.rf.f348978bea62a742f29d023d180ba639.txt  \n",
            "  inflating: dataset/train/labels/box_103_jpg.rf.f9a5ca4b729f9b7c3bb39b12aa54511b.txt  \n",
            "  inflating: dataset/train/labels/box_104_jpg.rf.04da06dd85ff014cc2dafd408b1b9f6d.txt  \n",
            "  inflating: dataset/train/labels/box_104_jpg.rf.0f8504c0ee8252e65db9578eab645ba9.txt  \n",
            "  inflating: dataset/train/labels/box_104_jpg.rf.31a8ac7da9f28c75c1dc54c2d654dc88.txt  \n",
            "  inflating: dataset/train/labels/box_104_jpg.rf.3e8f54552b11a41c07e7df50b1420f61.txt  \n",
            "  inflating: dataset/train/labels/box_104_jpg.rf.4aa030485e1dc10c654ba45a630974e9.txt  \n",
            "  inflating: dataset/train/labels/box_104_jpg.rf.a30ee5a194516c41ea3e95b60ee589e9.txt  \n",
            "  inflating: dataset/train/labels/box_104_jpg.rf.cb92395426bdbf3660baeccb2d488eb9.txt  \n",
            "  inflating: dataset/train/labels/box_104_jpg.rf.ce959db43fa993d9d7030ff6a901df9a.txt  \n",
            "  inflating: dataset/train/labels/box_104_jpg.rf.f28c63e3fe3271d786d4d9769f0f7166.txt  \n",
            "  inflating: dataset/train/labels/box_104_jpg.rf.fd80e6d4620775b828b2dbc37cc1b881.txt  \n",
            "  inflating: dataset/train/labels/box_104_jpg.rf.fdb75eae0265f56519a73df66a08796c.txt  \n",
            "  inflating: dataset/train/labels/box_105_jpg.rf.003472d03c2b34189f8a77f7c0e3778c.txt  \n",
            "  inflating: dataset/train/labels/box_105_jpg.rf.1055110eb5ff0bf05f37b5320513e086.txt  \n",
            "  inflating: dataset/train/labels/box_105_jpg.rf.2520af1fbfb44d58e8bf857a44c133fd.txt  \n",
            "  inflating: dataset/train/labels/box_105_jpg.rf.35f7a5a34f393349a76ce622262a0d8f.txt  \n",
            "  inflating: dataset/train/labels/box_105_jpg.rf.5702691bae6408230b988c220f3e028a.txt  \n",
            "  inflating: dataset/train/labels/box_105_jpg.rf.67f5be537091a2e447a8053a666a1de1.txt  \n",
            "  inflating: dataset/train/labels/box_105_jpg.rf.7269522af25b0d5ddc88f0081e906aaa.txt  \n",
            "  inflating: dataset/train/labels/box_105_jpg.rf.731afeb18d51c6fd8a9c9ed21669e36a.txt  \n",
            "  inflating: dataset/train/labels/box_105_jpg.rf.7eed3cbfe339b2c81859f89c7c82783b.txt  \n",
            "  inflating: dataset/train/labels/box_105_jpg.rf.9ca125ba762be0744a91a34708c2a953.txt  \n",
            "  inflating: dataset/train/labels/box_105_jpg.rf.a3795cafeb5657ca03d68bf7a3b98497.txt  \n",
            "  inflating: dataset/train/labels/box_105_jpg.rf.a42098129490f24da014fb8cf4450780.txt  \n",
            "  inflating: dataset/train/labels/box_105_jpg.rf.a9e97e8e3f7bf2a7c36a8c54e03c755b.txt  \n",
            "  inflating: dataset/train/labels/box_105_jpg.rf.af825e6d891dd349ea8f2f74bf0ebef0.txt  \n",
            "  inflating: dataset/train/labels/box_105_jpg.rf.b20ae454276826363f2d17913b795e53.txt  \n",
            "  inflating: dataset/train/labels/box_105_jpg.rf.cb16d1f366727ba7b7cb131a95085e02.txt  \n",
            "  inflating: dataset/train/labels/box_105_jpg.rf.d3c7f686346eab28ebf64b9ec0bc97cf.txt  \n",
            "  inflating: dataset/train/labels/box_105_jpg.rf.eee365c344f66b7af90ce866c7f195cd.txt  \n",
            "  inflating: dataset/train/labels/box_105_jpg.rf.f733795d371ddac252dba006e8b48dc9.txt  \n",
            "  inflating: dataset/train/labels/box_106_jpg.rf.0b9fbd97172bb6a7cc6bfd21a24827b6.txt  \n",
            "  inflating: dataset/train/labels/box_106_jpg.rf.18c14749939e7a6315fb2af69a375878.txt  \n",
            "  inflating: dataset/train/labels/box_106_jpg.rf.2bec4cd7624ae43cde990baa55020e98.txt  \n",
            "  inflating: dataset/train/labels/box_106_jpg.rf.3351357bc137bfcb3b5c7e3f3ffc0b7c.txt  \n",
            "  inflating: dataset/train/labels/box_106_jpg.rf.413e18e70caf2f8b015ee37194196c55.txt  \n",
            "  inflating: dataset/train/labels/box_106_jpg.rf.8ff5d533dd7980f4d04527145f6705dc.txt  \n",
            "  inflating: dataset/train/labels/box_106_jpg.rf.a8ab9a7b3754db035b5086f3c3a77a30.txt  \n",
            "  inflating: dataset/train/labels/box_106_jpg.rf.dbf29acb2dbbeea33cb1377c0dc439f7.txt  \n",
            "  inflating: dataset/train/labels/box_106_jpg.rf.ec925f7fc637fb5b9b1366cc9cce074b.txt  \n",
            "  inflating: dataset/train/labels/box_106_jpg.rf.f4b5237adf14dc50aeeebc79b8ed2673.txt  \n",
            "  inflating: dataset/train/labels/box_106_jpg.rf.f6fb4f9999163e64c1c1d85cd2968d7e.txt  \n",
            "  inflating: dataset/train/labels/box_106_jpg.rf.fde791ab9db3cd3f58e517a1522fa79a.txt  \n",
            "  inflating: dataset/train/labels/box_107_jpg.rf.16fd73a76aebb280bc59319cd025e607.txt  \n",
            "  inflating: dataset/train/labels/box_107_jpg.rf.3b85d90c0e1e33b73612a11d99106848.txt  \n",
            "  inflating: dataset/train/labels/box_107_jpg.rf.508b79ec6db7c6d3521ca1c211f61490.txt  \n",
            "  inflating: dataset/train/labels/box_107_jpg.rf.8213da8021e6062a44d5317dd8b1abec.txt  \n",
            "  inflating: dataset/train/labels/box_107_jpg.rf.87e54cd55c49578b1ad4bd1c0f17557e.txt  \n",
            "  inflating: dataset/train/labels/box_107_jpg.rf.92b7f971c72c6e91b0a7a0ea22216ee0.txt  \n",
            "  inflating: dataset/train/labels/box_107_jpg.rf.a2795ed1ba97ec84821ef3079e2d622a.txt  \n",
            "  inflating: dataset/train/labels/box_107_jpg.rf.b4248aaa55aa1ce02fa7a7399cb46579.txt  \n",
            "  inflating: dataset/train/labels/box_107_jpg.rf.b8bcefc6b7f02311a73a556b8a120658.txt  \n",
            "  inflating: dataset/train/labels/box_107_jpg.rf.b8c31109d66df7b9efc893a5239f253a.txt  \n",
            "  inflating: dataset/train/labels/box_107_jpg.rf.bd3bc02da49a5e8cb0081a6bfbbb57a8.txt  \n",
            "  inflating: dataset/train/labels/box_107_jpg.rf.c39f3dec8c5305bd5c57a655d0f177a0.txt  \n",
            "  inflating: dataset/train/labels/box_108_jpg.rf.0b920a1f010234cb105c3e38f1927cf4.txt  \n",
            "  inflating: dataset/train/labels/box_108_jpg.rf.0e62dc51c5e8ef6fe8317695cd93527c.txt  \n",
            "  inflating: dataset/train/labels/box_108_jpg.rf.432b50e2b9f4bff6e5f39f62a8c2afc1.txt  \n",
            "  inflating: dataset/train/labels/box_108_jpg.rf.445d76f4ab41fb8ddb641aff9f9f37f9.txt  \n",
            "  inflating: dataset/train/labels/box_108_jpg.rf.60c6b99be26c641fde2aeea49a74d5e4.txt  \n",
            "  inflating: dataset/train/labels/box_108_jpg.rf.688638bab186e9ba7002f5ce3ebab7b9.txt  \n",
            "  inflating: dataset/train/labels/box_108_jpg.rf.6bd8fb3a6a9e5ad957e7fdc559658fcc.txt  \n",
            "  inflating: dataset/train/labels/box_108_jpg.rf.7a190c8a9d6b086d225951df81a521a3.txt  \n",
            "  inflating: dataset/train/labels/box_108_jpg.rf.a6eb77ef33297f77cbf55a7caa35c2c7.txt  \n",
            "  inflating: dataset/train/labels/box_108_jpg.rf.a74a2ea01210ebb397a6813a6d20d662.txt  \n",
            "  inflating: dataset/train/labels/box_108_jpg.rf.b2775c1dc66be2cc76d677bb2532f721.txt  \n",
            "  inflating: dataset/train/labels/box_108_jpg.rf.c2437c1e240327db9bee9dd129db3307.txt  \n",
            "  inflating: dataset/train/labels/box_108_jpg.rf.d5e9983c9fa3b6484b489691ab409488.txt  \n",
            "  inflating: dataset/train/labels/box_108_jpg.rf.ebdb428f10b1f83acea60a52f2d4dcbd.txt  \n",
            "  inflating: dataset/train/labels/box_108_jpg.rf.f2f783f0877914ac339e3a7689c14f2f.txt  \n",
            "  inflating: dataset/train/labels/box_108_jpg.rf.ff00fc0f8612c2f19caf9a44c5d56cea.txt  \n",
            "  inflating: dataset/train/labels/box_109_jpg.rf.0d630edd11418aa746346f822e176aa7.txt  \n",
            "  inflating: dataset/train/labels/box_109_jpg.rf.162e4cbf5fe70a45124cc2750c965772.txt  \n",
            "  inflating: dataset/train/labels/box_109_jpg.rf.282b0d5674030cb5ebb84d4324294463.txt  \n",
            "  inflating: dataset/train/labels/box_109_jpg.rf.46715b7a6c79ad2d35848ebdea45c65c.txt  \n",
            "  inflating: dataset/train/labels/box_109_jpg.rf.7a57b9a9c2a3ea3d015bc8df3afe0b03.txt  \n",
            "  inflating: dataset/train/labels/box_109_jpg.rf.811dd31272a20384742b960cbd137f44.txt  \n",
            "  inflating: dataset/train/labels/box_109_jpg.rf.965aef0ee6ad1d8e3dd25900426ecf22.txt  \n",
            "  inflating: dataset/train/labels/box_109_jpg.rf.9a6a8c13c16518e21c0bedcaf355304a.txt  \n",
            "  inflating: dataset/train/labels/box_109_jpg.rf.9f4f199ef78a77c3d356d9954137e80a.txt  \n",
            "  inflating: dataset/train/labels/box_109_jpg.rf.a2282389ec402e7295ccc8b17413cb0d.txt  \n",
            "  inflating: dataset/train/labels/box_109_jpg.rf.a252e8cc6467c8b45c65d462baa94768.txt  \n",
            "  inflating: dataset/train/labels/box_109_jpg.rf.a4d881cda1b9093fcde9cbc3f891ba07.txt  \n",
            "  inflating: dataset/train/labels/box_109_jpg.rf.a5c8571bd3be6f0f53f0c5cef085a15c.txt  \n",
            "  inflating: dataset/train/labels/box_109_jpg.rf.a5d6b6a53349374f5793339aae92592d.txt  \n",
            "  inflating: dataset/train/labels/box_109_jpg.rf.d0d12dabb6df0b59d337b2d470f14da6.txt  \n",
            "  inflating: dataset/train/labels/box_109_jpg.rf.e07b916a8d2a26ad3ff7293395effc38.txt  \n",
            "  inflating: dataset/train/labels/box_110_jpg.rf.1c09680328d6226e58a7af38b27e33ed.txt  \n",
            "  inflating: dataset/train/labels/box_110_jpg.rf.1e21acb88c4bef18918914629ff378a4.txt  \n",
            "  inflating: dataset/train/labels/box_110_jpg.rf.268dcdbaf415d66bb33560f972f936db.txt  \n",
            "  inflating: dataset/train/labels/box_110_jpg.rf.2f0551609f689065219858670fd1f7c3.txt  \n",
            "  inflating: dataset/train/labels/box_110_jpg.rf.62fa1f8869d86721929f8cb61d3432a7.txt  \n",
            "  inflating: dataset/train/labels/box_110_jpg.rf.638e6ce12d4b0ae1b503498bd72742a8.txt  \n",
            "  inflating: dataset/train/labels/box_110_jpg.rf.66ef6167960a8fb774e9fbadbb19fd5f.txt  \n",
            "  inflating: dataset/train/labels/box_110_jpg.rf.6726fb29e468e82ed5841a21f75e558f.txt  \n",
            "  inflating: dataset/train/labels/box_110_jpg.rf.94adac78587257ed9a03bea93b8e8957.txt  \n",
            "  inflating: dataset/train/labels/box_110_jpg.rf.b7feaab9c609fbbb013458f7ea0b0baa.txt  \n",
            "  inflating: dataset/train/labels/box_110_jpg.rf.bf40cfa14ea2970679aaf5036212bf62.txt  \n",
            "  inflating: dataset/train/labels/box_110_jpg.rf.d61c08157a10f50283bbced51d459615.txt  \n",
            "  inflating: dataset/train/labels/box_110_jpg.rf.e4fb228f82a4bc4ef38238da36397f88.txt  \n",
            "  inflating: dataset/train/labels/box_110_jpg.rf.eb348420c0b4e955ffd548b720244360.txt  \n",
            "  inflating: dataset/train/labels/box_111_jpg.rf.22340e3d73f903266074653e104b6e98.txt  \n",
            "  inflating: dataset/train/labels/box_111_jpg.rf.4f99d023609e6c490ed703ee45cd482f.txt  \n",
            "  inflating: dataset/train/labels/box_111_jpg.rf.71803fc865ee483df27fd54a589f42b6.txt  \n",
            "  inflating: dataset/train/labels/box_111_jpg.rf.792b9e151c35691c304f44b112b845d3.txt  \n",
            "  inflating: dataset/train/labels/box_111_jpg.rf.8f97e508ba24a080ae616c227ca8741a.txt  \n",
            "  inflating: dataset/train/labels/box_111_jpg.rf.984cb554b43f0dd60a032dc162a48625.txt  \n",
            "  inflating: dataset/train/labels/box_111_jpg.rf.99489d39f24d0f5c8e1f36196a9f291f.txt  \n",
            "  inflating: dataset/train/labels/box_111_jpg.rf.a8a46631fa63249d36693eda695772bd.txt  \n",
            "  inflating: dataset/train/labels/box_111_jpg.rf.c92a66168a1a0e18961ff13046f36b70.txt  \n",
            "  inflating: dataset/train/labels/box_111_jpg.rf.d1643e522ea195c00a6b07f4be793d82.txt  \n",
            "  inflating: dataset/train/labels/box_111_jpg.rf.d56cf1a75adf6355a8a00f8459c8ced4.txt  \n",
            "  inflating: dataset/train/labels/box_111_jpg.rf.dfbc11b47599c89b8600b3caedeb9bea.txt  \n",
            "  inflating: dataset/train/labels/box_111_jpg.rf.fc29bfb178af7c4d8b5538168f9333ae.txt  \n",
            "  inflating: dataset/train/labels/box_112_jpg.rf.0e74712cb6d86de2595554991ccd3e48.txt  \n",
            "  inflating: dataset/train/labels/box_112_jpg.rf.1719a2bc695fba9e96c055805708709a.txt  \n",
            "  inflating: dataset/train/labels/box_112_jpg.rf.562345a4295a815d765ddde8482926fd.txt  \n",
            "  inflating: dataset/train/labels/box_112_jpg.rf.5a8d6ecae4a60b638f468af1ceacd70e.txt  \n",
            "  inflating: dataset/train/labels/box_112_jpg.rf.6ada457c44c1e293b3a75a5242c05852.txt  \n",
            "  inflating: dataset/train/labels/box_112_jpg.rf.6c6baccfe98ecdd8720899446e21fc1b.txt  \n",
            "  inflating: dataset/train/labels/box_112_jpg.rf.aac8003c77d38d6e7c15904bde528b0b.txt  \n",
            "  inflating: dataset/train/labels/box_112_jpg.rf.afab1896d08a38d17084612475e781ed.txt  \n",
            "  inflating: dataset/train/labels/box_112_jpg.rf.e6a4f36cece2e4ae082f5d6a19779586.txt  \n",
            "  inflating: dataset/train/labels/box_113_jpg.rf.0ec144d3a38009c9c3889149a190003c.txt  \n",
            "  inflating: dataset/train/labels/box_113_jpg.rf.1e4c0987efed0d3b816d0512088d2f31.txt  \n",
            "  inflating: dataset/train/labels/box_113_jpg.rf.1fa05d4a3240f51a92863c0049e2eefd.txt  \n",
            "  inflating: dataset/train/labels/box_113_jpg.rf.24918610bf5efc6c9f122a5bb946fb5d.txt  \n",
            "  inflating: dataset/train/labels/box_113_jpg.rf.60a55d6070fb7c2b7af51672c383dfc7.txt  \n",
            "  inflating: dataset/train/labels/box_113_jpg.rf.6718b9ed8a60775d7ccaad2513765193.txt  \n",
            "  inflating: dataset/train/labels/box_113_jpg.rf.7b7e7d42e580fe6ef6d1ed4fcb5c8cff.txt  \n",
            "  inflating: dataset/train/labels/box_113_jpg.rf.8ed4577ff866298f183a4f7355826539.txt  \n",
            "  inflating: dataset/train/labels/box_113_jpg.rf.a6e3263c3aca3c30ae88bf924eb4030f.txt  \n",
            "  inflating: dataset/train/labels/box_113_jpg.rf.c01e5499dc0a5585445e00859a0dd422.txt  \n",
            "  inflating: dataset/train/labels/box_113_jpg.rf.c53ff497cb2cffd1b4145615c929b7cf.txt  \n",
            "  inflating: dataset/train/labels/box_113_jpg.rf.db432464fe22c31f8cf2fb9c730fb4d5.txt  \n",
            "  inflating: dataset/train/labels/box_113_jpg.rf.e3fc52c1a9aed384b3ca8704631b645e.txt  \n",
            "  inflating: dataset/train/labels/box_113_jpg.rf.e6313a53fd129c3a66477d8f89704e8e.txt  \n",
            "  inflating: dataset/train/labels/box_113_jpg.rf.ef5c2d9f0a91394dbcf74e6f2871961d.txt  \n",
            "  inflating: dataset/train/labels/box_113_jpg.rf.fa346e0bbb61223f0c5892be3d8dd54b.txt  \n",
            "  inflating: dataset/train/labels/box_114_jpg.rf.065f79fcc4506ee5ed1679b6ca1a1974.txt  \n",
            "  inflating: dataset/train/labels/box_114_jpg.rf.1378631cd46271938884573eedcadf33.txt  \n",
            "  inflating: dataset/train/labels/box_114_jpg.rf.295c2f529689ab2aaa1b464ea639a19a.txt  \n",
            "  inflating: dataset/train/labels/box_114_jpg.rf.31fcf8aa321d32210d32351c2bbe32ef.txt  \n",
            "  inflating: dataset/train/labels/box_114_jpg.rf.5453d130aaa4edcf173f92e7b50db8ee.txt  \n",
            "  inflating: dataset/train/labels/box_114_jpg.rf.9479b23c5e783cf8f887ff102122c64c.txt  \n",
            "  inflating: dataset/train/labels/box_114_jpg.rf.9910af7a4fcb58d63df5cef4b99e16bd.txt  \n",
            "  inflating: dataset/train/labels/box_114_jpg.rf.b47d2d5ba9f3506456fbc58fb1401300.txt  \n",
            "  inflating: dataset/train/labels/box_114_jpg.rf.ba250e06656ebb788e8f24b8edbeda75.txt  \n",
            "  inflating: dataset/train/labels/box_114_jpg.rf.c122741cfd92f6072e20201f4eacaf81.txt  \n",
            "  inflating: dataset/train/labels/box_114_jpg.rf.c9068fd7345027302d79f3054ad3b633.txt  \n",
            "  inflating: dataset/train/labels/box_114_jpg.rf.e1d0ad5b43d43491ed5f017d8db9719c.txt  \n",
            "  inflating: dataset/train/labels/box_114_jpg.rf.ee3b20b28d85d6a697495e6f67e0146c.txt  \n",
            "  inflating: dataset/train/labels/box_114_jpg.rf.f6fbac253a21b75f1f4f6ea2f1498640.txt  \n",
            "  inflating: dataset/train/labels/box_115_jpg.rf.0475e57aa9a7a11a9b9b5d3550b31e0e.txt  \n",
            "  inflating: dataset/train/labels/box_115_jpg.rf.0ba9cecdf8b37cb9cfc9f936616b82b3.txt  \n",
            "  inflating: dataset/train/labels/box_115_jpg.rf.2f5efdd0798c053586ec44ae8fc89c00.txt  \n",
            "  inflating: dataset/train/labels/box_115_jpg.rf.5b1f76fcb2ff736cd555f62918eca3c0.txt  \n",
            "  inflating: dataset/train/labels/box_115_jpg.rf.832ca0b9f93213b28e8c47688bbb3a7f.txt  \n",
            "  inflating: dataset/train/labels/box_115_jpg.rf.9776383f2cefe5d5a80f87b3a7cc56b4.txt  \n",
            "  inflating: dataset/train/labels/box_115_jpg.rf.9996b455e5c1c26aec4b9f91a0aa47bd.txt  \n",
            "  inflating: dataset/train/labels/box_115_jpg.rf.a6d480ddd1f8d1f33c91bb4ee2dc7415.txt  \n",
            "  inflating: dataset/train/labels/box_115_jpg.rf.bcf8d1a96d72c0d1f2c1d44352fc0b6a.txt  \n",
            "  inflating: dataset/train/labels/box_115_jpg.rf.db4330bb38060229c3e651ddf46edb5f.txt  \n",
            "  inflating: dataset/train/labels/box_115_jpg.rf.ed20b9cd21155fa553c740e6d870c84c.txt  \n",
            "  inflating: dataset/train/labels/box_115_jpg.rf.f7b7338905bfe07d52cd801ad896d1cb.txt  \n",
            "  inflating: dataset/train/labels/box_116_jpg.rf.10fae8a31ca9962beb2c675309f8f0fe.txt  \n",
            "  inflating: dataset/train/labels/box_116_jpg.rf.1ee93e0ca2c645d7a00e52b08a45994c.txt  \n",
            "  inflating: dataset/train/labels/box_116_jpg.rf.3410907179b06009eaa2d6744dd81ce9.txt  \n",
            "  inflating: dataset/train/labels/box_116_jpg.rf.4bd8415ab2f7c75833db9a02c0c73ab1.txt  \n",
            "  inflating: dataset/train/labels/box_116_jpg.rf.749ea84986df936bf560aba266245398.txt  \n",
            "  inflating: dataset/train/labels/box_116_jpg.rf.8fc2a6d22c65773537be10ee91f3e505.txt  \n",
            "  inflating: dataset/train/labels/box_116_jpg.rf.b8cea1f4dd746935a1b8a01983f21419.txt  \n",
            "  inflating: dataset/train/labels/box_116_jpg.rf.d7c31aa0d2f7a79f3c2af5649aa898ec.txt  \n",
            "  inflating: dataset/train/labels/box_116_jpg.rf.ed7d5a363f177dde2a6af194a9abe1f8.txt  \n",
            "  inflating: dataset/train/labels/box_116_jpg.rf.fb674abaa1eb5db5cb3bbf403b37c58e.txt  \n",
            "  inflating: dataset/train/labels/box_117_jpg.rf.14d43210b43c28ed267b22f9c4fe72ad.txt  \n",
            "  inflating: dataset/train/labels/box_117_jpg.rf.172c6ede525f3642682154705c0a4def.txt  \n",
            "  inflating: dataset/train/labels/box_117_jpg.rf.3567b0020b9f6e67283ebab69c3c946c.txt  \n",
            "  inflating: dataset/train/labels/box_117_jpg.rf.3a20d8e09ff248fdbdabd88ba48537b2.txt  \n",
            "  inflating: dataset/train/labels/box_117_jpg.rf.3e02948edc416eb2495a5cd07bf5cf5e.txt  \n",
            "  inflating: dataset/train/labels/box_117_jpg.rf.640e70c28624f75ee55be6ea6d1701b1.txt  \n",
            "  inflating: dataset/train/labels/box_117_jpg.rf.9bf4ee56ba41f9840cdaa73cc2f9f0cb.txt  \n",
            "  inflating: dataset/train/labels/box_117_jpg.rf.a76b67d38180905d2e8a88e8c3bc0d29.txt  \n",
            "  inflating: dataset/train/labels/box_117_jpg.rf.b1228baaf8a6a7b55dbfd6f6a250681a.txt  \n",
            "  inflating: dataset/train/labels/box_117_jpg.rf.c1d2a9a3b9b042399899d7b5abf1ccdb.txt  \n",
            "  inflating: dataset/train/labels/box_117_jpg.rf.ce70fb4792148fdb36069eb125776009.txt  \n",
            "  inflating: dataset/train/labels/box_117_jpg.rf.d47bad4f09ae1d63d8e153e0955045ea.txt  \n",
            "  inflating: dataset/train/labels/box_117_jpg.rf.db4709257e66ad7dc4b1b30aef3e57d1.txt  \n",
            "  inflating: dataset/train/labels/box_118_jpg.rf.23b6b5ab2525ececbbe05ab85f18a8b3.txt  \n",
            "  inflating: dataset/train/labels/box_118_jpg.rf.419e1549bc99de762a80b7c56eb5d454.txt  \n",
            "  inflating: dataset/train/labels/box_118_jpg.rf.42c78b6616981e3140d73260c2b4d8fe.txt  \n",
            "  inflating: dataset/train/labels/box_118_jpg.rf.49d8dce32fa15c6616c9af0c08d32458.txt  \n",
            "  inflating: dataset/train/labels/box_118_jpg.rf.57921a323e6b5d3dc457990a53dd7825.txt  \n",
            "  inflating: dataset/train/labels/box_118_jpg.rf.5d4f1494ea83c92b4eff0afedf137356.txt  \n",
            "  inflating: dataset/train/labels/box_118_jpg.rf.70254b906588557b5a6e524de16cda0c.txt  \n",
            "  inflating: dataset/train/labels/box_118_jpg.rf.7f53a2bd4e9b43ee4684b29c9ed842ba.txt  \n",
            "  inflating: dataset/train/labels/box_118_jpg.rf.84e0f3019e184fb615cbf29789f11426.txt  \n",
            "  inflating: dataset/train/labels/box_118_jpg.rf.8f6be95c82f78a6c428de956340b06fd.txt  \n",
            "  inflating: dataset/train/labels/box_118_jpg.rf.9ce0c23d9ab332f7017e06f3ac8f9e94.txt  \n",
            "  inflating: dataset/train/labels/box_118_jpg.rf.abb5fe9dd8ea4a99981f6d62c9c2f280.txt  \n",
            "  inflating: dataset/train/labels/box_118_jpg.rf.ad162151988fcbe645c11a598e9c9ebc.txt  \n",
            "  inflating: dataset/train/labels/box_118_jpg.rf.d6ce43d8b2da84daefaa2a6e4cc9c0db.txt  \n",
            "  inflating: dataset/train/labels/box_118_jpg.rf.d73a6b980ed4f039979d6e1085045e55.txt  \n",
            "  inflating: dataset/train/labels/box_118_jpg.rf.db503d6fd9e1288b5a96122a834c8f0d.txt  \n",
            "  inflating: dataset/train/labels/box_118_jpg.rf.ea7cbebc23487f575b97cb15aff4bee8.txt  \n",
            "  inflating: dataset/train/labels/box_118_jpg.rf.ea86014be2f2e443676ba33b8b93454f.txt  \n",
            "  inflating: dataset/train/labels/box_119_jpg.rf.0915f17c4c1121bb14a9dd7f0055c7da.txt  \n",
            "  inflating: dataset/train/labels/box_119_jpg.rf.46ec586d0fe2a2befa017aaf1bf6bd5b.txt  \n",
            "  inflating: dataset/train/labels/box_119_jpg.rf.5d811ff02e3f2ce79b240bfbe6611f53.txt  \n",
            "  inflating: dataset/train/labels/box_119_jpg.rf.671decb19a83a42dbf48ecd6a738944a.txt  \n",
            "  inflating: dataset/train/labels/box_119_jpg.rf.7ed387067099a49a50ba1909cfe42535.txt  \n",
            "  inflating: dataset/train/labels/box_119_jpg.rf.94ab5bad3899d10d0c493cc1e891aaec.txt  \n",
            "  inflating: dataset/train/labels/box_119_jpg.rf.951565e41048c92e9c8770f3ad42a105.txt  \n",
            "  inflating: dataset/train/labels/box_119_jpg.rf.99e9e18a1e024156cc8b28ee083fdb04.txt  \n",
            "  inflating: dataset/train/labels/box_119_jpg.rf.ab376de12c44934ca0cb3358b34a6459.txt  \n",
            "  inflating: dataset/train/labels/box_119_jpg.rf.b766641369bee0868d0d5379114a9dab.txt  \n",
            "  inflating: dataset/train/labels/box_119_jpg.rf.b818157e05d40be7667acc4210df3ad6.txt  \n",
            "  inflating: dataset/train/labels/box_119_jpg.rf.ea7b530d5644fc607eb51459f60bf404.txt  \n",
            "  inflating: dataset/train/labels/box_120_jpg.rf.0e600c997716cc3dfe436c261c8295f1.txt  \n",
            "  inflating: dataset/train/labels/box_120_jpg.rf.a664a4bf6eb4d72e7ef5750bd811f180.txt  \n",
            "  inflating: dataset/train/labels/box_120_jpg.rf.dcc39d01a26065781689f6533c271faa.txt  \n",
            "  inflating: dataset/train/labels/box_121_jpg.rf.1f7d259aa089f0cc2c9216e58cc6d23a.txt  \n",
            "  inflating: dataset/train/labels/box_121_jpg.rf.1fdbb82acafd28cb8decb5e0cc51379e.txt  \n",
            "  inflating: dataset/train/labels/box_121_jpg.rf.2c31d397b7214266ae86e4370d12a320.txt  \n",
            "  inflating: dataset/train/labels/box_121_jpg.rf.34135eba38a8558c098b0480a92795c1.txt  \n",
            "  inflating: dataset/train/labels/box_121_jpg.rf.4902adf09afcd0b697e98acdd7d542f3.txt  \n",
            "  inflating: dataset/train/labels/box_121_jpg.rf.4ab70bfa9b52db90f091dbb28208471b.txt  \n",
            "  inflating: dataset/train/labels/box_121_jpg.rf.74c3252b9797bc86a08f7a0a4f8c75c1.txt  \n",
            "  inflating: dataset/train/labels/box_121_jpg.rf.75f16ddd29b037b821ed960b240d8521.txt  \n",
            "  inflating: dataset/train/labels/box_121_jpg.rf.f49ef90be60ab421623c5e6ac5360b91.txt  \n",
            "  inflating: dataset/train/labels/box_121_jpg.rf.fccac3a0bddca31c72ab6e574425270c.txt  \n",
            "  inflating: dataset/train/labels/box_122_jpg.rf.0ba1824474cda4dac277b5dde0210268.txt  \n",
            "  inflating: dataset/train/labels/box_122_jpg.rf.10d3f84b408f4cf7bd531af11a946db5.txt  \n",
            "  inflating: dataset/train/labels/box_122_jpg.rf.179f211eca42cdc4ac4ac92ac990b012.txt  \n",
            "  inflating: dataset/train/labels/box_122_jpg.rf.293fde6edda1b0c080853b442622514d.txt  \n",
            "  inflating: dataset/train/labels/box_122_jpg.rf.32ec53507dbf8f5f431c75efc7e8e6d9.txt  \n",
            "  inflating: dataset/train/labels/box_122_jpg.rf.33f707a201381429d45d9aa6d357f52e.txt  \n",
            "  inflating: dataset/train/labels/box_122_jpg.rf.436077a7b0350beef4cf98639f324ea0.txt  \n",
            "  inflating: dataset/train/labels/box_122_jpg.rf.46181390a2ffcba313729469e1b17a6c.txt  \n",
            "  inflating: dataset/train/labels/box_122_jpg.rf.5278bd393213b55998c4a01930512b4d.txt  \n",
            "  inflating: dataset/train/labels/box_122_jpg.rf.569da52ed8d5c5057835eb7274e9beff.txt  \n",
            "  inflating: dataset/train/labels/box_122_jpg.rf.63b351b75f4ec1716dc0180e2afbbf27.txt  \n",
            "  inflating: dataset/train/labels/box_122_jpg.rf.6925c98c466be924a3da1066bfb9a298.txt  \n",
            "  inflating: dataset/train/labels/box_122_jpg.rf.7178f5df63efaceec8775d541ceedea5.txt  \n",
            "  inflating: dataset/train/labels/box_122_jpg.rf.72b5a0f85135ae5c56f47b142154c4e6.txt  \n",
            "  inflating: dataset/train/labels/box_122_jpg.rf.8022fc30009f4873d67100f21d48cee6.txt  \n",
            "  inflating: dataset/train/labels/box_122_jpg.rf.8c392a13bd979c0e7d838588408ddd9c.txt  \n",
            "  inflating: dataset/train/labels/box_122_jpg.rf.bbe1447a09d6d7e59b9360a61a6202b7.txt  \n",
            "  inflating: dataset/train/labels/box_122_jpg.rf.ca142eea641c289fb82b86d481b8f5df.txt  \n",
            "  inflating: dataset/train/labels/box_122_jpg.rf.da123550d92e892391cb92b186833214.txt  \n",
            "  inflating: dataset/train/labels/box_122_jpg.rf.e6dadad2f06ce2178c024f889fd288c1.txt  \n",
            "  inflating: dataset/train/labels/box_122_jpg.rf.ea08b4277f056c708d208a3d3537f899.txt  \n",
            "  inflating: dataset/train/labels/box_123_jpg.rf.0403f80b577176bd9aeab9c28149c235.txt  \n",
            "  inflating: dataset/train/labels/box_123_jpg.rf.1a02989ee2cc83f22300abacc1482135.txt  \n",
            "  inflating: dataset/train/labels/box_123_jpg.rf.1b6e0e7d090a766ed7bff9dd8fb79662.txt  \n",
            "  inflating: dataset/train/labels/box_123_jpg.rf.2ec5c80193cc1bd69e666f6f753c2502.txt  \n",
            "  inflating: dataset/train/labels/box_123_jpg.rf.3560cb9de3734d52cbdccfa6b429c640.txt  \n",
            "  inflating: dataset/train/labels/box_123_jpg.rf.5da47ebf087de43bb7119d7dc003005e.txt  \n",
            "  inflating: dataset/train/labels/box_123_jpg.rf.7416a384f937fffdb88596b25dd813ac.txt  \n",
            "  inflating: dataset/train/labels/box_123_jpg.rf.7bb8677cbd5dcfdf7f1ac7813e7eefb4.txt  \n",
            "  inflating: dataset/train/labels/box_123_jpg.rf.aba3fb8a1c6b1363d36c7e50db78d1bb.txt  \n",
            "  inflating: dataset/train/labels/box_123_jpg.rf.d8dd19727d8fd07dc5eba5bb94b4e77a.txt  \n",
            "  inflating: dataset/train/labels/box_123_jpg.rf.ddd162cbffa049f01d6656cb5e05889c.txt  \n",
            "  inflating: dataset/train/labels/box_123_jpg.rf.e24918df08a78ee7dfb36f7db7cb58be.txt  \n",
            "  inflating: dataset/train/labels/box_16_jpg.rf.29db691304ccf3bdae6533905c1433b1.txt  \n",
            "  inflating: dataset/train/labels/box_16_jpg.rf.43da93e1a68262da29a3996d82f0fd44.txt  \n",
            "  inflating: dataset/train/labels/box_16_jpg.rf.4f5657de863237a3435356843d37ed84.txt  \n",
            "  inflating: dataset/train/labels/box_16_jpg.rf.635b9b7b3bce6fe1b74988629f8ba4ca.txt  \n",
            "  inflating: dataset/train/labels/box_16_jpg.rf.64796b4fe07044dabe9401899ad8350a.txt  \n",
            "  inflating: dataset/train/labels/box_16_jpg.rf.671b43c0416226791d4e60b152e92d37.txt  \n",
            "  inflating: dataset/train/labels/box_16_jpg.rf.773dfeafbbed32bdc788a6f641118d12.txt  \n",
            "  inflating: dataset/train/labels/box_16_jpg.rf.96d3a900e6768f081d292d3358f82d64.txt  \n",
            "  inflating: dataset/train/labels/box_16_jpg.rf.98465ee5f835adb4601a239dfef064f9.txt  \n",
            "  inflating: dataset/train/labels/box_16_jpg.rf.c0b2a5e45f9ea3876c159b03d8a3182d.txt  \n",
            "  inflating: dataset/train/labels/box_16_jpg.rf.c15551eba77c1f439a842b2e6f08d843.txt  \n",
            "  inflating: dataset/train/labels/box_16_jpg.rf.c6043e8b4e38e2ab17495d3a6a77fdda.txt  \n",
            "  inflating: dataset/train/labels/box_16_jpg.rf.e1c27ffe6513b4f5fc6f761718d1f78e.txt  \n",
            "  inflating: dataset/train/labels/box_16_jpg.rf.efe610787ff7504431c6fb577662e264.txt  \n",
            "  inflating: dataset/train/labels/box_16_jpg.rf.f7d3b19eed4ba8c7574d169975d99320.txt  \n",
            "  inflating: dataset/train/labels/box_17_jpg.rf.2df2d69a19895bbe79170aded12da15f.txt  \n",
            "  inflating: dataset/train/labels/box_17_jpg.rf.2f476969b512bc3388422c5d74f71570.txt  \n",
            "  inflating: dataset/train/labels/box_17_jpg.rf.36f8ba58b401367740fd40c860d60653.txt  \n",
            "  inflating: dataset/train/labels/box_17_jpg.rf.730a29e58fdcff7a4a641ff1fcb9db79.txt  \n",
            "  inflating: dataset/train/labels/box_17_jpg.rf.8761aa7395bdcf7e1dbd6034929ba577.txt  \n",
            "  inflating: dataset/train/labels/box_17_jpg.rf.a559afe20050102f5d957a1ddddab690.txt  \n",
            "  inflating: dataset/train/labels/box_17_jpg.rf.aba357c2eb90a9bcda426f01ffafa12c.txt  \n",
            "  inflating: dataset/train/labels/box_17_jpg.rf.b1e604cc0f13ad8aef08fd55523b060e.txt  \n",
            "  inflating: dataset/train/labels/box_17_jpg.rf.cbde44279fe54f8586f05452cd00323d.txt  \n",
            "  inflating: dataset/train/labels/box_18_jpg.rf.07b7cc1cbe9d3712eee21e2c131aff25.txt  \n",
            "  inflating: dataset/train/labels/box_18_jpg.rf.1253675c9bd9557fe0bc8cd2a7867119.txt  \n",
            "  inflating: dataset/train/labels/box_18_jpg.rf.140c887743189667bfd4e94d20ed434a.txt  \n",
            "  inflating: dataset/train/labels/box_18_jpg.rf.251d943a3d3815bd731703e8c723cdc9.txt  \n",
            "  inflating: dataset/train/labels/box_18_jpg.rf.3129a9a50ab539534e9f5aff43b50cdc.txt  \n",
            "  inflating: dataset/train/labels/box_18_jpg.rf.49cae2aa74e2167a74e39cc2ca514cf8.txt  \n",
            "  inflating: dataset/train/labels/box_18_jpg.rf.4e7960e091d3d7e700242bdbdb4b5aeb.txt  \n",
            "  inflating: dataset/train/labels/box_18_jpg.rf.57293983070ef9fd61f7fa13ca1891ce.txt  \n",
            "  inflating: dataset/train/labels/box_18_jpg.rf.8b3221c7e37c2c6a6f036ef95b21a200.txt  \n",
            "  inflating: dataset/train/labels/box_18_jpg.rf.a1275ec6173841b43f6312d2104ef736.txt  \n",
            "  inflating: dataset/train/labels/box_18_jpg.rf.ab0ed421f24fe90a83ed738a13163351.txt  \n",
            "  inflating: dataset/train/labels/box_18_jpg.rf.c49538e4ebaa9741bb9b67d4952c5196.txt  \n",
            "  inflating: dataset/train/labels/box_18_jpg.rf.cb03d943b688ff126bbaa5c5f14df7f2.txt  \n",
            "  inflating: dataset/train/labels/box_18_jpg.rf.f67fa0caca5299a94524bcc4541a5c32.txt  \n",
            "  inflating: dataset/train/labels/box_18_jpg.rf.f6ba561ae02da1bfa682235b6966b8b6.txt  \n",
            "  inflating: dataset/train/labels/box_18_jpg.rf.f78b5e3d7945a7005ee7007e01dfcf6e.txt  \n",
            "  inflating: dataset/train/labels/box_18_jpg.rf.fc320fa680315c14cbc5ac3289770720.txt  \n",
            "  inflating: dataset/train/labels/box_18_jpg.rf.ffc7e210b6e346b984be96c1e6865d9c.txt  \n",
            "  inflating: dataset/train/labels/box_19_jpg.rf.0b5f896fdbac74114aee3363e819bfe4.txt  \n",
            "  inflating: dataset/train/labels/box_19_jpg.rf.3ce669bb9027122214d88f4a5d0f84c4.txt  \n",
            "  inflating: dataset/train/labels/box_19_jpg.rf.48e9305525443fa3b3c0faa46c6e69a1.txt  \n",
            "  inflating: dataset/train/labels/box_19_jpg.rf.49ab26c1ea09e9507266fbd065e33c5f.txt  \n",
            "  inflating: dataset/train/labels/box_19_jpg.rf.5ce00f739c7ada3b35b70c54374739d3.txt  \n",
            "  inflating: dataset/train/labels/box_19_jpg.rf.adca7bf5619026767b1b620dd92c16ae.txt  \n",
            "  inflating: dataset/train/labels/box_19_jpg.rf.ba9938eb314f60fd0f186a0435e54703.txt  \n",
            "  inflating: dataset/train/labels/box_19_jpg.rf.d0d5b7c0d4a1193ccdbeade0e52bd785.txt  \n",
            "  inflating: dataset/train/labels/box_19_jpg.rf.d1b4c6cda992e0f090f45e73306d38e0.txt  \n",
            "  inflating: dataset/train/labels/box_19_jpg.rf.f74cc68a37521a7e0ef56c17094c1ace.txt  \n",
            "  inflating: dataset/train/labels/box_19_jpg.rf.fbb66fccfa68f74a9bd9c347295b813c.txt  \n",
            "  inflating: dataset/train/labels/box_20_jpg.rf.0ef06e36db8244a69086c4ed5177ea44.txt  \n",
            "  inflating: dataset/train/labels/box_20_jpg.rf.15cb9d866a877873204e7cf5b5918463.txt  \n",
            "  inflating: dataset/train/labels/box_20_jpg.rf.18fc7a707380731484c4055f7364ada8.txt  \n",
            "  inflating: dataset/train/labels/box_20_jpg.rf.3a4cc6ab75f997ffd102da43bb4854f5.txt  \n",
            "  inflating: dataset/train/labels/box_20_jpg.rf.7a03873c6a97d11ba720d419ad07bb9a.txt  \n",
            "  inflating: dataset/train/labels/box_20_jpg.rf.8d7281f95319961f96f8af4a5a8a0207.txt  \n",
            "  inflating: dataset/train/labels/box_20_jpg.rf.94135f7ad67fc145f0c2f73e792478a5.txt  \n",
            "  inflating: dataset/train/labels/box_20_jpg.rf.9a76f77090183f42837ec00472d92821.txt  \n",
            "  inflating: dataset/train/labels/box_20_jpg.rf.c1df807054196661c784741228ec6e7a.txt  \n",
            "  inflating: dataset/train/labels/box_20_jpg.rf.cfac95e8f91e2ec2a20b2b993c633fd3.txt  \n",
            "  inflating: dataset/train/labels/box_20_jpg.rf.d7dacaf1c044b424608005c0aa8e8244.txt  \n",
            "  inflating: dataset/train/labels/box_20_jpg.rf.e7b695506f754586e4b5207f38c138c4.txt  \n",
            "  inflating: dataset/train/labels/box_20_jpg.rf.eab36683a55eb9faaafde59025ea9d62.txt  \n",
            "  inflating: dataset/train/labels/box_20_jpg.rf.f97ea0fe0d3918cf633355ee80744858.txt  \n",
            "  inflating: dataset/train/labels/box_21_jpg.rf.03a488a4d32db13adf38d2561d072eb7.txt  \n",
            "  inflating: dataset/train/labels/box_21_jpg.rf.25c25161b56e9e4beb87252ecdc8059f.txt  \n",
            "  inflating: dataset/train/labels/box_21_jpg.rf.3e6a4c9a85260566cbe8a1707b89f221.txt  \n",
            "  inflating: dataset/train/labels/box_21_jpg.rf.61d7b1e524622a176de02098da03157b.txt  \n",
            "  inflating: dataset/train/labels/box_21_jpg.rf.6ad8293a00637f9927c4f8a891cf3c13.txt  \n",
            "  inflating: dataset/train/labels/box_21_jpg.rf.81bdfbddfa0d1805ed08f6faef3f0472.txt  \n",
            "  inflating: dataset/train/labels/box_21_jpg.rf.98c4c9820b62ec8c6a5c0462db79ff4e.txt  \n",
            "  inflating: dataset/train/labels/box_21_jpg.rf.c3f558ca1ef519125bc1b41ff1395e77.txt  \n",
            "  inflating: dataset/train/labels/box_21_jpg.rf.cb67a5761a1f3b9b3e2a08d79943816e.txt  \n",
            "  inflating: dataset/train/labels/box_21_jpg.rf.da9f30284166284989739d67b02c1a21.txt  \n",
            "  inflating: dataset/train/labels/box_21_jpg.rf.e3fb8a425012731972d5ef14dc59c69e.txt  \n",
            "  inflating: dataset/train/labels/box_21_jpg.rf.fd9d71e3cf8c01c55a0bcb1bf9246479.txt  \n",
            "  inflating: dataset/train/labels/box_22_jpg.rf.10db80b8797b44f26bdb0740838cdc61.txt  \n",
            "  inflating: dataset/train/labels/box_22_jpg.rf.24dc4078ea0f79e7f2e38cdfbe6742ad.txt  \n",
            "  inflating: dataset/train/labels/box_22_jpg.rf.5599648823c5c7bf0178aadb916a3b56.txt  \n",
            "  inflating: dataset/train/labels/box_22_jpg.rf.60782c2c7309a783dd5e86350d66921d.txt  \n",
            "  inflating: dataset/train/labels/box_22_jpg.rf.63620c6f7c54d5f3a92c46827c9692f9.txt  \n",
            "  inflating: dataset/train/labels/box_22_jpg.rf.793666d137b50ae04f7ddf2db8dc9aa1.txt  \n",
            "  inflating: dataset/train/labels/box_22_jpg.rf.b820fc6bcf57da90b57ac82c14dd5ccd.txt  \n",
            "  inflating: dataset/train/labels/box_22_jpg.rf.c5302a7de4638edcc58f145f578071fc.txt  \n",
            "  inflating: dataset/train/labels/box_22_jpg.rf.d479c91f2f3a68c8b6cc47d8c9cac30a.txt  \n",
            "  inflating: dataset/train/labels/box_22_jpg.rf.e5d7c5d6c07462f0c0bf327c22306b40.txt  \n",
            "  inflating: dataset/train/labels/box_23_jpg.rf.2472b74cbd43aeb8fee15c1af649eab8.txt  \n",
            "  inflating: dataset/train/labels/box_23_jpg.rf.2dc55189383b3494a99d782baac35d4b.txt  \n",
            "  inflating: dataset/train/labels/box_23_jpg.rf.375d0e78959ffbce9d768d3afb3ee0c0.txt  \n",
            "  inflating: dataset/train/labels/box_23_jpg.rf.406dae0f530921ace827635c3192c0ea.txt  \n",
            "  inflating: dataset/train/labels/box_23_jpg.rf.47549e1564dc7ce012b92fe2757b7dd2.txt  \n",
            "  inflating: dataset/train/labels/box_23_jpg.rf.529bef9946e9f447157d2e17a4dc68e8.txt  \n",
            "  inflating: dataset/train/labels/box_23_jpg.rf.5a1f610f556bbd34e533c7890e98d6d5.txt  \n",
            "  inflating: dataset/train/labels/box_23_jpg.rf.70565b1ce3f3f7c29ede84b110f50ca8.txt  \n",
            "  inflating: dataset/train/labels/box_23_jpg.rf.74ead9bb25695e717c5aeb7063630216.txt  \n",
            "  inflating: dataset/train/labels/box_23_jpg.rf.8b80758b2d9448030e64c5ab3a5b8572.txt  \n",
            "  inflating: dataset/train/labels/box_23_jpg.rf.9ad2f6f5d722e892296e3e6d09affedb.txt  \n",
            "  inflating: dataset/train/labels/box_23_jpg.rf.c41d5bcbb11976c772853daf8386106e.txt  \n",
            "  inflating: dataset/train/labels/box_23_jpg.rf.ca17492c8bd58cb01124c35a90777108.txt  \n",
            "  inflating: dataset/train/labels/box_23_jpg.rf.fb255abc62303ad4d83e25a8633a306b.txt  \n",
            "  inflating: dataset/train/labels/box_24_jpg.rf.0048c79f462ec6c1750b7854d2eb30ae.txt  \n",
            "  inflating: dataset/train/labels/box_24_jpg.rf.1538a2c0a1ffd646d987a9fe554231ce.txt  \n",
            "  inflating: dataset/train/labels/box_24_jpg.rf.15ba5991b71ecd97e4edbb34da4e6354.txt  \n",
            "  inflating: dataset/train/labels/box_24_jpg.rf.188d3d184aa5eae5cd29e7ed4a782120.txt  \n",
            "  inflating: dataset/train/labels/box_24_jpg.rf.380307e4c45e7a891285c1f4ffb0a756.txt  \n",
            "  inflating: dataset/train/labels/box_24_jpg.rf.4ac14a34c1a9fd0d6d18c039ce6ebef8.txt  \n",
            "  inflating: dataset/train/labels/box_24_jpg.rf.5be2ab7251422916b2d796a3e85bea3e.txt  \n",
            "  inflating: dataset/train/labels/box_24_jpg.rf.70b69e5e4bff185aa2c732fdd18d7adf.txt  \n",
            "  inflating: dataset/train/labels/box_24_jpg.rf.864e0fdd757f5b5063a1da5d5a407f62.txt  \n",
            "  inflating: dataset/train/labels/box_24_jpg.rf.a0fd0ce9c1b5966c162c15cfc1f4efff.txt  \n",
            "  inflating: dataset/train/labels/box_24_jpg.rf.a39777428dc3f442f62c26b4388bacee.txt  \n",
            "  inflating: dataset/train/labels/box_24_jpg.rf.c85b48591e4a3ddb6064e516c37b73b2.txt  \n",
            "  inflating: dataset/train/labels/box_24_jpg.rf.db964e141c76cc40ff5199322a85e8ff.txt  \n",
            "  inflating: dataset/train/labels/box_25_jpg.rf.478d47c059b08d26d23f9eb62e40a03f.txt  \n",
            "  inflating: dataset/train/labels/box_25_jpg.rf.77ca93b41a2c1111160b84519e9eff23.txt  \n",
            "  inflating: dataset/train/labels/box_25_jpg.rf.7ae50e16bd6e50f7a26eaf58c1820e3a.txt  \n",
            "  inflating: dataset/train/labels/box_25_jpg.rf.7b07cddb35686088bf6a6d162eb37f8b.txt  \n",
            "  inflating: dataset/train/labels/box_25_jpg.rf.7c4a2b80f345fd9a65f9baab240564a2.txt  \n",
            "  inflating: dataset/train/labels/box_25_jpg.rf.8ac864633790e8225b480fb607a3bd0e.txt  \n",
            "  inflating: dataset/train/labels/box_25_jpg.rf.8c261ff36f7600e90f798f624e2efa78.txt  \n",
            "  inflating: dataset/train/labels/box_25_jpg.rf.96779babab70f277c1ead906e6aed3a2.txt  \n",
            "  inflating: dataset/train/labels/box_25_jpg.rf.9c7e5cc2e01bee3ff11597484b4c3b41.txt  \n",
            "  inflating: dataset/train/labels/box_25_jpg.rf.c80d34cd151ff6712f8ee93707c2b58d.txt  \n",
            "  inflating: dataset/train/labels/box_26_jpg.rf.02de3435e667b1643772b48b5cead379.txt  \n",
            "  inflating: dataset/train/labels/box_26_jpg.rf.093d7d7afcd9edde5bc32f7c034f1e7f.txt  \n",
            "  inflating: dataset/train/labels/box_26_jpg.rf.0965f32acd4e6b6dccdaf9c462101bab.txt  \n",
            "  inflating: dataset/train/labels/box_26_jpg.rf.3b9f72c492c0ba31a40bba2f2623f18d.txt  \n",
            "  inflating: dataset/train/labels/box_26_jpg.rf.6363091d30243af798d0ed47d6f0c832.txt  \n",
            "  inflating: dataset/train/labels/box_26_jpg.rf.63b3f952acf5abafb9382ff383b0edb0.txt  \n",
            "  inflating: dataset/train/labels/box_26_jpg.rf.8e41b625e40f0a711c97fc91186edbe9.txt  \n",
            "  inflating: dataset/train/labels/box_26_jpg.rf.9128d24e1f72071e373fa06d2ca6f759.txt  \n",
            "  inflating: dataset/train/labels/box_27_jpg.rf.041e78d133dcd677153df1f20df13ac0.txt  \n",
            "  inflating: dataset/train/labels/box_27_jpg.rf.0e0a83af63e9e694e5269e8259ba1ae0.txt  \n",
            "  inflating: dataset/train/labels/box_27_jpg.rf.3cdefb718608ad95a0e44ecb55103074.txt  \n",
            "  inflating: dataset/train/labels/box_27_jpg.rf.5183f361a3f0dda06194ac408e3b44f2.txt  \n",
            "  inflating: dataset/train/labels/box_27_jpg.rf.68afc01d11c542b5dac236b9b115bfab.txt  \n",
            "  inflating: dataset/train/labels/box_27_jpg.rf.88a3c1363f7e4135442b5d8062c1ea4c.txt  \n",
            "  inflating: dataset/train/labels/box_27_jpg.rf.9068577a7f7fc665489df8e22b818027.txt  \n",
            "  inflating: dataset/train/labels/box_27_jpg.rf.9585746e5ba81229a9a0c9237e7bf4af.txt  \n",
            "  inflating: dataset/train/labels/box_27_jpg.rf.b39815935d934f2d7a47f0d0c8efe65f.txt  \n",
            "  inflating: dataset/train/labels/box_27_jpg.rf.ceabc21e120abdb8e2144ac715672872.txt  \n",
            "  inflating: dataset/train/labels/box_27_jpg.rf.d7e5f2446f03c605d45d383119d0a693.txt  \n",
            "  inflating: dataset/train/labels/box_27_jpg.rf.d9dda55bc466763d678672fde96a2db3.txt  \n",
            "  inflating: dataset/train/labels/box_27_jpg.rf.da53922d6211bb0b61dcef96441dbf8c.txt  \n",
            "  inflating: dataset/train/labels/box_27_jpg.rf.e763fd11f01a6fc4da7dc4bc225eaed2.txt  \n",
            "  inflating: dataset/train/labels/box_27_jpg.rf.ed4c026d37a5bcc5ebdf3185c43d92c6.txt  \n",
            "  inflating: dataset/train/labels/box_28_jpg.rf.15e8f40ab522b9a3d7d581481cfcc3f4.txt  \n",
            "  inflating: dataset/train/labels/box_28_jpg.rf.1fcf9c7e439798ff5a76e7bded560e43.txt  \n",
            "  inflating: dataset/train/labels/box_28_jpg.rf.283830d3b58c72affce5d26b8fdb3d4e.txt  \n",
            "  inflating: dataset/train/labels/box_28_jpg.rf.2c1229dafda15453ec95ceb1df1c063d.txt  \n",
            "  inflating: dataset/train/labels/box_28_jpg.rf.72335293897f287800086ff375d01c8a.txt  \n",
            "  inflating: dataset/train/labels/box_28_jpg.rf.7734b06184f240deb3ddec78b3202683.txt  \n",
            "  inflating: dataset/train/labels/box_28_jpg.rf.7b7a95cf6339ed6be73c823441c6bc5d.txt  \n",
            "  inflating: dataset/train/labels/box_28_jpg.rf.7cdecc2d8f2a81dc74f6d8d1d96d22ff.txt  \n",
            "  inflating: dataset/train/labels/box_28_jpg.rf.83e7f4e99357a2783f254bf44bf1ed17.txt  \n",
            "  inflating: dataset/train/labels/box_28_jpg.rf.95acd9e7d256b468a1ac8c8925dbc921.txt  \n",
            "  inflating: dataset/train/labels/box_28_jpg.rf.95fe00597684f98a2886cb7d1a8b9139.txt  \n",
            "  inflating: dataset/train/labels/box_28_jpg.rf.9b9cb481148e499f574edb1b567ea6fc.txt  \n",
            "  inflating: dataset/train/labels/box_28_jpg.rf.b06998e334f6ddfbd1330c4d394dd95f.txt  \n",
            "  inflating: dataset/train/labels/box_28_jpg.rf.cf411e1acf11f09861d151fcad020eaa.txt  \n",
            "  inflating: dataset/train/labels/box_28_jpg.rf.f7cc4e85429eee0269084708652fd5b5.txt  \n",
            "  inflating: dataset/train/labels/box_30_jpg.rf.078bcd070b37691a3f72fcbdf4e67ee1.txt  \n",
            "  inflating: dataset/train/labels/box_30_jpg.rf.1c990d429f3405dab127a11c89341360.txt  \n",
            "  inflating: dataset/train/labels/box_30_jpg.rf.258f680952e4b17fb567d0a499393158.txt  \n",
            "  inflating: dataset/train/labels/box_30_jpg.rf.3374cc14a16a2305a125d97c65665fc6.txt  \n",
            "  inflating: dataset/train/labels/box_30_jpg.rf.4e324b0f0403527f7e34d33d6c286fe8.txt  \n",
            "  inflating: dataset/train/labels/box_30_jpg.rf.533b281edaa4e58308f955245ee36372.txt  \n",
            "  inflating: dataset/train/labels/box_30_jpg.rf.56735f331f7cd9d5c6d0f60bbd33465a.txt  \n",
            "  inflating: dataset/train/labels/box_30_jpg.rf.704d800f768ef7ab88f19a97d1eeadf7.txt  \n",
            "  inflating: dataset/train/labels/box_30_jpg.rf.7e1649deba86053b9c1ba90a9a986028.txt  \n",
            "  inflating: dataset/train/labels/box_30_jpg.rf.999a27263377c082020cd54fc3324a36.txt  \n",
            "  inflating: dataset/train/labels/box_30_jpg.rf.9a467c06d6d92632d24339771df7aeb4.txt  \n",
            "  inflating: dataset/train/labels/box_30_jpg.rf.9cc80a419daed5578603d45e36d49388.txt  \n",
            "  inflating: dataset/train/labels/box_30_jpg.rf.a8ae31d27969f016adbf5d1a855acd3c.txt  \n",
            "  inflating: dataset/train/labels/box_30_jpg.rf.ae6a2f4fef68ee3beaf9b30562a58c24.txt  \n",
            "  inflating: dataset/train/labels/box_30_jpg.rf.c370bb59851199f7c2c2808b05934333.txt  \n",
            "  inflating: dataset/train/labels/box_30_jpg.rf.c7198ebbd1d4ad1a2a10435f99440612.txt  \n",
            "  inflating: dataset/train/labels/box_30_jpg.rf.ebc5c7d87db6bb1aef1a4a39c03f2fc7.txt  \n",
            "  inflating: dataset/train/labels/box_30_jpg.rf.f375954950bfd9c9e46f2328254c0492.txt  \n",
            "  inflating: dataset/train/labels/box_30_jpg.rf.f8cedcaeed825ef8d3fbec6524d78ae4.txt  \n",
            "  inflating: dataset/train/labels/box_31_jpg.rf.34cd63d0f42bcdd7ead88bc2dea3d01c.txt  \n",
            "  inflating: dataset/train/labels/box_31_jpg.rf.7535b60a801e1d0d226dcdb822baf212.txt  \n",
            "  inflating: dataset/train/labels/box_31_jpg.rf.793e7ba95ba86fb6f85d45063f089111.txt  \n",
            "  inflating: dataset/train/labels/box_31_jpg.rf.7c06a04f7e9da6ebd2802cc541cf729e.txt  \n",
            "  inflating: dataset/train/labels/box_31_jpg.rf.8373856869e5d4c48c893a0d6f21c656.txt  \n",
            "  inflating: dataset/train/labels/box_31_jpg.rf.9fbeb532cff324dad0951c429f0906e8.txt  \n",
            "  inflating: dataset/train/labels/box_31_jpg.rf.a56dccd3a76486d3e35bf6dff9bd0eae.txt  \n",
            "  inflating: dataset/train/labels/box_31_jpg.rf.a87727091f38a44e0698ea6da6842dcd.txt  \n",
            "  inflating: dataset/train/labels/box_31_jpg.rf.ad3b0797ce75d7f9d649947007ffe979.txt  \n",
            "  inflating: dataset/train/labels/box_31_jpg.rf.bba49caceb67e00bff0797d0abeab42a.txt  \n",
            "  inflating: dataset/train/labels/box_31_jpg.rf.e82fcb947a5ad3582a22a204525892e4.txt  \n",
            "  inflating: dataset/train/labels/box_31_jpg.rf.e96952d72194315187e01f158d6b80a7.txt  \n",
            "  inflating: dataset/train/labels/box_32_jpg.rf.0ea15651c83ba80fef38948522c58681.txt  \n",
            "  inflating: dataset/train/labels/box_32_jpg.rf.21272aec63466117d7b41d5329ffdd10.txt  \n",
            "  inflating: dataset/train/labels/box_32_jpg.rf.272f6da61349141e2f7069d2f0517425.txt  \n",
            "  inflating: dataset/train/labels/box_32_jpg.rf.2fc7dde13d52afef65d7891a215afb27.txt  \n",
            "  inflating: dataset/train/labels/box_32_jpg.rf.4179718f8cedd933c6e6ccdbb23bce1f.txt  \n",
            "  inflating: dataset/train/labels/box_32_jpg.rf.65eafc08a2f5802e1468a2274e48bd55.txt  \n",
            "  inflating: dataset/train/labels/box_32_jpg.rf.69ecda45b40654bc83d7f806ae885d04.txt  \n",
            "  inflating: dataset/train/labels/box_32_jpg.rf.9eb4d869042dba6ed01422b04b25a363.txt  \n",
            "  inflating: dataset/train/labels/box_32_jpg.rf.e6d2a9f6061ace9e83a3b579baf27b38.txt  \n",
            "  inflating: dataset/train/labels/box_32_jpg.rf.ec8034c45c2db1edabd098ccbec30424.txt  \n",
            "  inflating: dataset/train/labels/box_33_jpg.rf.021e7b005247e2b185a5f8372b6ea3e6.txt  \n",
            "  inflating: dataset/train/labels/box_33_jpg.rf.039d1dd2b219d590df01fc2cb9e0d2ca.txt  \n",
            "  inflating: dataset/train/labels/box_33_jpg.rf.07115ccf81588655b7fd20ec28df0e51.txt  \n",
            "  inflating: dataset/train/labels/box_33_jpg.rf.077dcc055d878bfadd97de65936852c8.txt  \n",
            "  inflating: dataset/train/labels/box_33_jpg.rf.60d5090f1306f976c5df5284c4a7986d.txt  \n",
            "  inflating: dataset/train/labels/box_33_jpg.rf.77f9a0adc43dc7763d53812ca7045bf2.txt  \n",
            "  inflating: dataset/train/labels/box_33_jpg.rf.7dba749b65511995b2e4c3dc3042e01c.txt  \n",
            "  inflating: dataset/train/labels/box_33_jpg.rf.8760196a3b97c39926d06f63c93b93f0.txt  \n",
            "  inflating: dataset/train/labels/box_33_jpg.rf.95fff98d9d92b333e75e8f04145afc46.txt  \n",
            "  inflating: dataset/train/labels/box_33_jpg.rf.a8f8a3afacf76d7ef8993766c22f5915.txt  \n",
            "  inflating: dataset/train/labels/box_33_jpg.rf.b0a5f604da67304821ca42fb8e9d1c6a.txt  \n",
            "  inflating: dataset/train/labels/box_33_jpg.rf.bc8e6b879772337a8079382458cdc385.txt  \n",
            "  inflating: dataset/train/labels/box_33_jpg.rf.fa9886912de791266af3ecb2a5a9a051.txt  \n",
            "  inflating: dataset/train/labels/box_39_jpg.rf.028153afc2922cbf8add1cb6e7fc4ee6.txt  \n",
            "  inflating: dataset/train/labels/box_39_jpg.rf.2075c98a95a5c9b40db082506326ed4c.txt  \n",
            "  inflating: dataset/train/labels/box_39_jpg.rf.46018be72bdf52987e27b6371c91a179.txt  \n",
            "  inflating: dataset/train/labels/box_39_jpg.rf.4e7ea45c3e7c3aa525f3222097a759b9.txt  \n",
            "  inflating: dataset/train/labels/box_39_jpg.rf.59662d788f8dbea8fc253d292e8c8c4c.txt  \n",
            "  inflating: dataset/train/labels/box_39_jpg.rf.6b709eccd897b5ce31140f1997a67526.txt  \n",
            "  inflating: dataset/train/labels/box_39_jpg.rf.7f46196b428e8d75238e6cbcb77ae12e.txt  \n",
            "  inflating: dataset/train/labels/box_39_jpg.rf.7f8e5174a36c59c7a1f1bf8de5d10bb1.txt  \n",
            "  inflating: dataset/train/labels/box_39_jpg.rf.8301678e10a46c2bbaf907ed36b7e143.txt  \n",
            "  inflating: dataset/train/labels/box_39_jpg.rf.a83b45def3ba46de492e909eaf873a9b.txt  \n",
            "  inflating: dataset/train/labels/box_39_jpg.rf.ad1f0bd268e45c2bea9cf0779d4cd0db.txt  \n",
            "  inflating: dataset/train/labels/box_39_jpg.rf.bc8fbb40978115dfd55afde932d87eeb.txt  \n",
            "  inflating: dataset/train/labels/box_39_jpg.rf.d11f1368fc73c2705c53b9a6460f21fa.txt  \n",
            "  inflating: dataset/train/labels/box_39_jpg.rf.e510f07acb2398b1e45604c43c7911c7.txt  \n",
            "  inflating: dataset/train/labels/box_39_jpg.rf.e729368e27e5d0797ca2925fc478e873.txt  \n",
            "  inflating: dataset/train/labels/box_39_jpg.rf.f124e3053efa21bd1d700dce248c0592.txt  \n",
            "  inflating: dataset/train/labels/box_39_jpg.rf.f6ffeaa2202f2c762e17d3f7f8f2de0f.txt  \n",
            "  inflating: dataset/train/labels/box_41_jpg.rf.41510970ec2daedb1ae1935d20ad5144.txt  \n",
            "  inflating: dataset/train/labels/box_41_jpg.rf.5e99ba56cb37f7b7dc38b3380b56ef5e.txt  \n",
            "  inflating: dataset/train/labels/box_41_jpg.rf.795ddd5d4afa74edc1204167e5f58cd4.txt  \n",
            "  inflating: dataset/train/labels/box_41_jpg.rf.a6ad3281c1dd69895195f2b32246c5b8.txt  \n",
            "  inflating: dataset/train/labels/box_41_jpg.rf.beea1a83a0645ebbb8fdd2d5c35924da.txt  \n",
            "  inflating: dataset/train/labels/box_41_jpg.rf.cf32d0135956764670f4258fa2ee2b07.txt  \n",
            "  inflating: dataset/train/labels/box_41_jpg.rf.d3ade0a67e63fceffb369d5ffe63f8cf.txt  \n",
            "  inflating: dataset/train/labels/box_41_jpg.rf.fad09cb2f12c6742100caec1e4f68064.txt  \n",
            "  inflating: dataset/train/labels/box_43_jpg.rf.01afb1e2c48b1b0bdc95fa1cd3968a7d.txt  \n",
            "  inflating: dataset/train/labels/box_43_jpg.rf.279b68da8aa185f0ae97aef3fe4791bf.txt  \n",
            "  inflating: dataset/train/labels/box_43_jpg.rf.d173fe3b964629a3fb3c3b8321f7449b.txt  \n",
            "  inflating: dataset/train/labels/box_43_jpg.rf.df045c26c00333c4882a1d129b4c2cc3.txt  \n",
            "  inflating: dataset/train/labels/box_43_jpg.rf.f0a814187c340b37fe0cbab9dda90613.txt  \n",
            "  inflating: dataset/train/labels/box_44_jpg.rf.16adbc750140e4df0795b6b253c339d4.txt  \n",
            "  inflating: dataset/train/labels/box_44_jpg.rf.5e515c9de41120982372d910d3bcb135.txt  \n",
            "  inflating: dataset/train/labels/box_44_jpg.rf.6c5b49ca038cea2f617df1b60792d54a.txt  \n",
            "  inflating: dataset/train/labels/box_44_jpg.rf.6d3df3b7bf4ed1ef9d769375dadc13a3.txt  \n",
            "  inflating: dataset/train/labels/box_44_jpg.rf.9df18f97ea158d89c216aa96b48eea15.txt  \n",
            "  inflating: dataset/train/labels/box_44_jpg.rf.a7ada0e79745d01e4a71ecf9776f5d5e.txt  \n",
            "  inflating: dataset/train/labels/box_44_jpg.rf.b3106f2bbe4154d61a58bac198583dcd.txt  \n",
            "  inflating: dataset/train/labels/box_44_jpg.rf.bc114ad7a79bcd58a267948819b4ba31.txt  \n",
            "  inflating: dataset/train/labels/box_44_jpg.rf.bdf7ac6247ce785ff9c2b41a63152bfe.txt  \n",
            "  inflating: dataset/train/labels/box_44_jpg.rf.ce8a6e44e7f08ec86adbd257ff77b641.txt  \n",
            "  inflating: dataset/train/labels/box_44_jpg.rf.da88c2beae4e1fd2475b37056aad068f.txt  \n",
            "  inflating: dataset/train/labels/box_44_jpg.rf.ecb1d0f612edd68bf55a25c6a1c30a54.txt  \n",
            "  inflating: dataset/train/labels/box_44_jpg.rf.f7e5e76619242053258d3e90f271bd13.txt  \n",
            "  inflating: dataset/train/labels/box_45_jpg.rf.3a93e4079b00ab695822443e6689c821.txt  \n",
            "  inflating: dataset/train/labels/box_45_jpg.rf.4f270fec1498d67c06d415cff886fc22.txt  \n",
            "  inflating: dataset/train/labels/box_45_jpg.rf.76988b3f5bc654fd2b49976f1cb3cde7.txt  \n",
            "  inflating: dataset/train/labels/box_45_jpg.rf.92236d15453a196b6610e84e1665390c.txt  \n",
            "  inflating: dataset/train/labels/box_45_jpg.rf.aa430dfc1772e44b8d94356ab7b0e905.txt  \n",
            "  inflating: dataset/train/labels/box_45_jpg.rf.ae6c23fb649f95df519e3af1de8d67f1.txt  \n",
            "  inflating: dataset/train/labels/box_45_jpg.rf.bc3da7a65587c00a012b6d071365f249.txt  \n",
            "  inflating: dataset/train/labels/box_45_jpg.rf.cfc66026de95b3895e96d8a80e4e1b5b.txt  \n",
            "  inflating: dataset/train/labels/box_45_jpg.rf.f2bb6dc729fa1021d589d77099169f00.txt  \n",
            "  inflating: dataset/train/labels/box_46_jpg.rf.032ab67c6d558c1eb60c05c36eeb732d.txt  \n",
            "  inflating: dataset/train/labels/box_46_jpg.rf.36a49241815e97637eb6ec219bb39155.txt  \n",
            "  inflating: dataset/train/labels/box_46_jpg.rf.411c6216082edfcd339061df03969a4f.txt  \n",
            "  inflating: dataset/train/labels/box_46_jpg.rf.41adaf9a7129b5cfb8c1422ae23321d5.txt  \n",
            "  inflating: dataset/train/labels/box_46_jpg.rf.55faf6147ffd0bc25762b5f2222cdc4a.txt  \n",
            "  inflating: dataset/train/labels/box_46_jpg.rf.6c7dac12543188e778d4d6bb75d3d492.txt  \n",
            "  inflating: dataset/train/labels/box_46_jpg.rf.9353c2e8fabb3cd3c8929910433237cd.txt  \n",
            "  inflating: dataset/train/labels/box_46_jpg.rf.94a8cab27f2f96910241793a474a7990.txt  \n",
            "  inflating: dataset/train/labels/box_46_jpg.rf.9c033447643cfad5797c269d0e2d0c65.txt  \n",
            "  inflating: dataset/train/labels/box_46_jpg.rf.b7a4e36c3b0a5691ea3f3ff0bd0e4072.txt  \n",
            "  inflating: dataset/train/labels/box_46_jpg.rf.bf5521c99435fa5b218b146c8c5b748c.txt  \n",
            "  inflating: dataset/train/labels/box_46_jpg.rf.db198a5aa5b716acfbbc99e020f1192b.txt  \n",
            "  inflating: dataset/train/labels/box_46_jpg.rf.ebdf7e9d5b0bfafa473879f18000845b.txt  \n",
            "  inflating: dataset/train/labels/box_46_jpg.rf.f1381ff39914a7f30c5d76c358a5e874.txt  \n",
            "  inflating: dataset/train/labels/box_47_jpg.rf.01c81399d9c91e743fa62557760d1fa8.txt  \n",
            "  inflating: dataset/train/labels/box_47_jpg.rf.0c998931f314edbaea00e4e2c2faaa30.txt  \n",
            "  inflating: dataset/train/labels/box_47_jpg.rf.1e3b5976b4c80deee7099ba07d9f54e6.txt  \n",
            "  inflating: dataset/train/labels/box_47_jpg.rf.28d76f1cb902c3946181fb7e722a0fc5.txt  \n",
            "  inflating: dataset/train/labels/box_47_jpg.rf.389974f0357eed87b3ca557acb1b8246.txt  \n",
            "  inflating: dataset/train/labels/box_47_jpg.rf.fb7834c8d3a77f37dd47d6c287c925a8.txt  \n",
            "  inflating: dataset/train/labels/box_47_jpg.rf.fb9ac3f110f52dda502881fb8f455f7b.txt  \n",
            "  inflating: dataset/train/labels/box_48_jpg.rf.411c00b39e7f268c6ab926e7e95fb293.txt  \n",
            "  inflating: dataset/train/labels/box_48_jpg.rf.68d8ca0a6f558b372483f10aeeb7b336.txt  \n",
            "  inflating: dataset/train/labels/box_48_jpg.rf.b70db0003cd98a5f6bbf951f7d29312b.txt  \n",
            "  inflating: dataset/train/labels/box_48_jpg.rf.c9ca5813cadc130f1f8f850c1814ff90.txt  \n",
            "  inflating: dataset/train/labels/box_48_jpg.rf.efe3c78ae382e33060bc101bca61f33d.txt  \n",
            "  inflating: dataset/train/labels/box_48_jpg.rf.f08969510cee8a51b2f7916baa5ee584.txt  \n",
            "  inflating: dataset/train/labels/box_49_jpg.rf.0bd62f89ac41fbcb9a2c979e599dcae3.txt  \n",
            "  inflating: dataset/train/labels/box_49_jpg.rf.18524a05a66879075e3bbdde217254aa.txt  \n",
            "  inflating: dataset/train/labels/box_49_jpg.rf.1b80744a0e55d6a695d830a65e905dff.txt  \n",
            "  inflating: dataset/train/labels/box_49_jpg.rf.2978ff859b734a503bce00b6e5a04417.txt  \n",
            "  inflating: dataset/train/labels/box_49_jpg.rf.3f83dbbf1de335ae60134f843d5b239d.txt  \n",
            "  inflating: dataset/train/labels/box_49_jpg.rf.3ff86c2385206d72733da85e3c4c4a0f.txt  \n",
            "  inflating: dataset/train/labels/box_49_jpg.rf.94263a6aa3e285bdcb552192baa4815a.txt  \n",
            "  inflating: dataset/train/labels/box_49_jpg.rf.958d5383184126d0507c9c0326adf747.txt  \n",
            "  inflating: dataset/train/labels/box_49_jpg.rf.bee2193f0fbf962d11db867a73d56969.txt  \n",
            "  inflating: dataset/train/labels/box_49_jpg.rf.d549dfd8f920b978c2f5a61371cd6176.txt  \n",
            "  inflating: dataset/train/labels/box_49_jpg.rf.daaf809c0b6d1aed2f7f1a26ce5d8529.txt  \n",
            "  inflating: dataset/train/labels/box_49_jpg.rf.ebb1b4052bfde3781dbc0bc1bd28d0d1.txt  \n",
            "  inflating: dataset/train/labels/box_49_jpg.rf.f654281593c065ddaa648befc3eb76c6.txt  \n",
            "  inflating: dataset/train/labels/box_50_jpg.rf.1949ec118cacf40d4d212cad9842458d.txt  \n",
            "  inflating: dataset/train/labels/box_50_jpg.rf.23e80ef5b0369457c1a27bbc11ba3d22.txt  \n",
            "  inflating: dataset/train/labels/box_50_jpg.rf.347e5fcdaeebcac2ac92eb254df7abe6.txt  \n",
            "  inflating: dataset/train/labels/box_50_jpg.rf.632d8b506ad9c5a40e41e65fac672870.txt  \n",
            "  inflating: dataset/train/labels/box_50_jpg.rf.6cc33ddc960632fa8987a6ef48555eae.txt  \n",
            "  inflating: dataset/train/labels/box_50_jpg.rf.9e93e427546a57b8c1d3aedaad3f7b73.txt  \n",
            "  inflating: dataset/train/labels/box_50_jpg.rf.a78ac82ef1a2c6a177f2cbda118223f5.txt  \n",
            "  inflating: dataset/train/labels/box_50_jpg.rf.b680067d38fe07e1ae33a90a0eb3f1f9.txt  \n",
            "  inflating: dataset/train/labels/box_50_jpg.rf.cb5b6c1904f17175744b918bc179e72a.txt  \n",
            "  inflating: dataset/train/labels/box_50_jpg.rf.e989582f6119cb5d420712726243cec8.txt  \n",
            "  inflating: dataset/train/labels/box_51_jpg.rf.0b388dbac47d5c54bf379efabaaef274.txt  \n",
            "  inflating: dataset/train/labels/box_51_jpg.rf.0e4fa1ace16927daf2a3f819f6a865dd.txt  \n",
            "  inflating: dataset/train/labels/box_51_jpg.rf.102b1e55a0a8fadfb84b4e8c87f1f29c.txt  \n",
            "  inflating: dataset/train/labels/box_51_jpg.rf.1c50a1a028e1183fb7863394ab888c24.txt  \n",
            "  inflating: dataset/train/labels/box_51_jpg.rf.24ded4fd275fc21d32a4e980c6ca1c12.txt  \n",
            "  inflating: dataset/train/labels/box_51_jpg.rf.2e4940e87704660e1827e55cac353ba3.txt  \n",
            "  inflating: dataset/train/labels/box_51_jpg.rf.49220010a4512bb12188e2b3bc6e296f.txt  \n",
            "  inflating: dataset/train/labels/box_51_jpg.rf.54a3009970c8e5696b3e734a84e3f8d4.txt  \n",
            "  inflating: dataset/train/labels/box_51_jpg.rf.615774e4ff6c45b77b3bf657b4313942.txt  \n",
            "  inflating: dataset/train/labels/box_51_jpg.rf.618d7096945166a0b4e05c40a14434d0.txt  \n",
            "  inflating: dataset/train/labels/box_51_jpg.rf.7fb7bf87dff06b315dcbf4ca6e124071.txt  \n",
            "  inflating: dataset/train/labels/box_51_jpg.rf.80ba8a775d80ed1722dcc721be922c46.txt  \n",
            "  inflating: dataset/train/labels/box_51_jpg.rf.bb1381536addb011ecb7ec70bebcd591.txt  \n",
            "  inflating: dataset/train/labels/box_51_jpg.rf.c429e45a0169699b417cef1681f543ee.txt  \n",
            "  inflating: dataset/train/labels/box_51_jpg.rf.c5791ca1d6d8670c70d45882543891ae.txt  \n",
            "  inflating: dataset/train/labels/box_51_jpg.rf.dfbf87d3859cce3394b9fa7a9b9cffb8.txt  \n",
            "  inflating: dataset/train/labels/box_51_jpg.rf.e108a192556ee2fa2644ef44b224f5e1.txt  \n",
            "  inflating: dataset/train/labels/box_54_jpg.rf.2d1b6345fba7fc008c66d190e7034f94.txt  \n",
            "  inflating: dataset/train/labels/box_54_jpg.rf.4c59edff562abe4dfcc93bccd8314020.txt  \n",
            "  inflating: dataset/train/labels/box_54_jpg.rf.66acf7b68180048733709e7aade0f54b.txt  \n",
            "  inflating: dataset/train/labels/box_54_jpg.rf.74b0d62c02a67e160f129a4252ba68d1.txt  \n",
            "  inflating: dataset/train/labels/box_54_jpg.rf.90dc93db350495305b3d4aaa7bc386ff.txt  \n",
            "  inflating: dataset/train/labels/box_54_jpg.rf.945a75d8c018e1202909a8ac3ba0a966.txt  \n",
            "  inflating: dataset/train/labels/box_54_jpg.rf.aac02d58b000fd629f21c19576a3a68c.txt  \n",
            "  inflating: dataset/train/labels/box_54_jpg.rf.c816bb86656573626a45c9f901b852db.txt  \n",
            "  inflating: dataset/train/labels/box_54_jpg.rf.c8c0a36e2464f9fa5e113f2c0d1c6634.txt  \n",
            "  inflating: dataset/train/labels/box_54_jpg.rf.d1395eb4fa5341fbddab04d30246aac2.txt  \n",
            "  inflating: dataset/train/labels/box_54_jpg.rf.d8ba7ac9c1189678114cbac7c36fcdd1.txt  \n",
            "  inflating: dataset/train/labels/box_54_jpg.rf.e18c69790bd2c788420d70537af012a9.txt  \n",
            "  inflating: dataset/train/labels/box_54_jpg.rf.e373e11ca6da09ce6a125da2b4021366.txt  \n",
            "  inflating: dataset/train/labels/box_55_jpg.rf.026593368f701e692818df64a9115050.txt  \n",
            "  inflating: dataset/train/labels/box_55_jpg.rf.09745c78afb43bc7288a12ac26bfb2d9.txt  \n",
            "  inflating: dataset/train/labels/box_55_jpg.rf.20e26f7e5503f4d92bdf1b4ca1eccdcd.txt  \n",
            "  inflating: dataset/train/labels/box_55_jpg.rf.6c00b11dea461e2aafab323f02e46fe9.txt  \n",
            "  inflating: dataset/train/labels/box_55_jpg.rf.ea88d25e9aa2b94703542f0003d03a31.txt  \n",
            "  inflating: dataset/train/labels/box_55_jpg.rf.ee5e1c8fedf1c9d6d6e0dde2d564427f.txt  \n",
            "  inflating: dataset/train/labels/box_55_jpg.rf.f3e1c2e91e3ecf690b7f7f3326fa1046.txt  \n",
            "  inflating: dataset/train/labels/box_56_jpg.rf.02e7ca3793b57324b7eb88b64faf8a8d.txt  \n",
            "  inflating: dataset/train/labels/box_56_jpg.rf.2b107c59b8a0a505723d77c0ca164447.txt  \n",
            "  inflating: dataset/train/labels/box_56_jpg.rf.3ad6fa05f624c8d0e2be35c5323c03e3.txt  \n",
            "  inflating: dataset/train/labels/box_56_jpg.rf.788bfd8d0d63d517a3c4ec1f77893236.txt  \n",
            "  inflating: dataset/train/labels/box_56_jpg.rf.8a937b7d9a73021eac6721e468941a5f.txt  \n",
            "  inflating: dataset/train/labels/box_56_jpg.rf.b879c7230cedbb17f6329ae3f79a3841.txt  \n",
            "  inflating: dataset/train/labels/box_56_jpg.rf.ccd742af8e149cfb4b3683a3bdb77640.txt  \n",
            "  inflating: dataset/train/labels/box_56_jpg.rf.cfefc3075b239b00dc8711d41ff38d50.txt  \n",
            "  inflating: dataset/train/labels/box_56_jpg.rf.d1587afec76781bd38f704194336b7b0.txt  \n",
            "  inflating: dataset/train/labels/box_56_jpg.rf.e90521741f431bac0fe9baf00b44c7cb.txt  \n",
            "  inflating: dataset/train/labels/box_58_jpg.rf.2c795b8de6da59d8d5e3279bbdb838d9.txt  \n",
            "  inflating: dataset/train/labels/box_58_jpg.rf.33ba76c5844c02f50e0e61aa9427162f.txt  \n",
            "  inflating: dataset/train/labels/box_58_jpg.rf.35c7a4be606e7888eb00e7f49537b1b9.txt  \n",
            "  inflating: dataset/train/labels/box_58_jpg.rf.586c5c1d7dd92593cb93faa531b7840e.txt  \n",
            "  inflating: dataset/train/labels/box_58_jpg.rf.64cbfaf756b4265111579bad53b863c7.txt  \n",
            "  inflating: dataset/train/labels/box_58_jpg.rf.ca3cedce6f068cd4ee347c43a5eadde0.txt  \n",
            "  inflating: dataset/train/labels/box_58_jpg.rf.d527bbae0da1b6c4b21814ad59c95d09.txt  \n",
            "  inflating: dataset/train/labels/box_59_jpg.rf.07d051ee4e7149c0c3814169b398e8f8.txt  \n",
            "  inflating: dataset/train/labels/box_59_jpg.rf.24569c21612449b831c53db51e45f6e2.txt  \n",
            "  inflating: dataset/train/labels/box_59_jpg.rf.396c4e247c74fbdba31a2eaabf3affdd.txt  \n",
            "  inflating: dataset/train/labels/box_59_jpg.rf.4557c093e54054ea4fca592b18eb14f3.txt  \n",
            "  inflating: dataset/train/labels/box_59_jpg.rf.5b3eb8313ab4ddd51f2ad17a8f560685.txt  \n",
            "  inflating: dataset/train/labels/box_59_jpg.rf.95a626cb51e745113bb32064ee0f76c7.txt  \n",
            "  inflating: dataset/train/labels/box_59_jpg.rf.a256eb72307a3c24ffe1bda6bc43ae00.txt  \n",
            "  inflating: dataset/train/labels/box_59_jpg.rf.aa9196fa20075b406c0a8b2448740301.txt  \n",
            "  inflating: dataset/train/labels/box_59_jpg.rf.b498841b06370322c848b8f63cbeffa3.txt  \n",
            "  inflating: dataset/train/labels/box_59_jpg.rf.f2c763f3d30680dd6d7669e78ef1c631.txt  \n",
            "  inflating: dataset/train/labels/box_59_jpg.rf.f4beee7a40641f1fde244b6ff2f56be3.txt  \n",
            "  inflating: dataset/train/labels/box_60_jpg.rf.16aa604b0be963a49a79dfe9f0375b1a.txt  \n",
            "  inflating: dataset/train/labels/box_60_jpg.rf.326d240928ca632ca1d56c0eac6688ff.txt  \n",
            "  inflating: dataset/train/labels/box_60_jpg.rf.36b9324f2812c73be27e86f5c61e93a5.txt  \n",
            "  inflating: dataset/train/labels/box_60_jpg.rf.4681544d0ceeb91eb883b00b28485b02.txt  \n",
            "  inflating: dataset/train/labels/box_60_jpg.rf.5ac63c6efef16feea77108e26a14d657.txt  \n",
            "  inflating: dataset/train/labels/box_60_jpg.rf.67cf129efb3c47ae2b05b2d7761b4206.txt  \n",
            "  inflating: dataset/train/labels/box_60_jpg.rf.729ffa6c013b83d8eda0870caecd9f08.txt  \n",
            "  inflating: dataset/train/labels/box_60_jpg.rf.900d219cd5760011e3d3493f4c9c95a2.txt  \n",
            "  inflating: dataset/train/labels/box_60_jpg.rf.a1e27450c5affafce325b2f05fbe1cac.txt  \n",
            "  inflating: dataset/train/labels/box_60_jpg.rf.a5e2e1ed8d0da4e1917369aa7fc1ed61.txt  \n",
            "  inflating: dataset/train/labels/box_60_jpg.rf.baf8fe4dd9b8ddea8ef9a41b5f29736f.txt  \n",
            "  inflating: dataset/train/labels/box_60_jpg.rf.c36fdbc0782c7ac2caa32faaaa140fcd.txt  \n",
            "  inflating: dataset/train/labels/box_61_jpg.rf.0dfdeb302b1f619a52693db5775e3c7e.txt  \n",
            "  inflating: dataset/train/labels/box_61_jpg.rf.25dc7892dc868e3a1ab60a7032aa2f34.txt  \n",
            "  inflating: dataset/train/labels/box_61_jpg.rf.2b8c53104e9efa4753c0085bfbd20862.txt  \n",
            "  inflating: dataset/train/labels/box_61_jpg.rf.478fa8deb0615f8c5f8ca7bd348b2754.txt  \n",
            "  inflating: dataset/train/labels/box_61_jpg.rf.535c7c9b0dfd76d4f681a4c29d2c7223.txt  \n",
            "  inflating: dataset/train/labels/box_61_jpg.rf.557c52412f9ad9e71d317e604a5d8817.txt  \n",
            "  inflating: dataset/train/labels/box_61_jpg.rf.686247ba221a6ee6ff595deea7bc6e0e.txt  \n",
            "  inflating: dataset/train/labels/box_61_jpg.rf.861eac1c8d4d4fce717409c6e97b01d3.txt  \n",
            "  inflating: dataset/train/labels/box_61_jpg.rf.a08c0a89b5003c2adfb456c183d821a5.txt  \n",
            "  inflating: dataset/train/labels/box_61_jpg.rf.a4e32c3f7312d85a98ea55474a4e6cf7.txt  \n",
            "  inflating: dataset/train/labels/box_61_jpg.rf.a894ae2d996f0321409854c9a18bac80.txt  \n",
            "  inflating: dataset/train/labels/box_61_jpg.rf.c8d21da50cafcadc41aa754e46c782be.txt  \n",
            "  inflating: dataset/train/labels/box_62_jpg.rf.1ac317f3feea5eefdaf63d4801a5cfdb.txt  \n",
            "  inflating: dataset/train/labels/box_62_jpg.rf.29d2b6e5d4f2da438bed3392dc6b7e0f.txt  \n",
            "  inflating: dataset/train/labels/box_62_jpg.rf.4dd1f7b3e9c7980e05e2ad40d102f5c3.txt  \n",
            "  inflating: dataset/train/labels/box_62_jpg.rf.6abe744acc9e45332955fca0ba2b6540.txt  \n",
            "  inflating: dataset/train/labels/box_62_jpg.rf.a4568083647fb5605c5df68eea6b0d46.txt  \n",
            "  inflating: dataset/train/labels/box_62_jpg.rf.c0f0669d7f26fac37e35c8a18109815e.txt  \n",
            "  inflating: dataset/train/labels/box_62_jpg.rf.c257c358c087afebcfea34a9a02afb3e.txt  \n",
            "  inflating: dataset/train/labels/box_62_jpg.rf.c7b82f7540c193b469fcdac8b9dc1cb2.txt  \n",
            "  inflating: dataset/train/labels/box_62_jpg.rf.f1cfa1aaf081f0899de5633dad3bbd6d.txt  \n",
            "  inflating: dataset/train/labels/box_63_jpg.rf.03854c94c73a46a2bff2f3d82df005bb.txt  \n",
            "  inflating: dataset/train/labels/box_63_jpg.rf.1dc889bf883407d13405e51db8df51ca.txt  \n",
            "  inflating: dataset/train/labels/box_63_jpg.rf.34853db7eccb1e17cd921a39fed48b97.txt  \n",
            "  inflating: dataset/train/labels/box_63_jpg.rf.3cb8f0b4754304c7e0c777810a71d6c4.txt  \n",
            "  inflating: dataset/train/labels/box_63_jpg.rf.9d9b8012d8f389320663de4d31a82803.txt  \n",
            "  inflating: dataset/train/labels/box_63_jpg.rf.a740bacceab61255b298788a5fcf3353.txt  \n",
            "  inflating: dataset/train/labels/box_63_jpg.rf.ce292c162043b7323a5758bf242f1eb9.txt  \n",
            "  inflating: dataset/train/labels/box_63_jpg.rf.e06a5a5876e12a79bbf9575fd07a40ad.txt  \n",
            "  inflating: dataset/train/labels/box_63_jpg.rf.e78bd09eb7fa0b7e8199cf5bd6af80a9.txt  \n",
            "  inflating: dataset/train/labels/box_63_jpg.rf.f79f14ac79b8f824c6172e7f12dbcb6e.txt  \n",
            "  inflating: dataset/train/labels/box_64_jpg.rf.063357ab5ba8bac0544ad8897d9ea438.txt  \n",
            "  inflating: dataset/train/labels/box_64_jpg.rf.143737211935c60b56c65bddad8108f6.txt  \n",
            "  inflating: dataset/train/labels/box_64_jpg.rf.1a0baf1ac95809da7aee3aaab11638aa.txt  \n",
            "  inflating: dataset/train/labels/box_64_jpg.rf.2b70703ce3b34b88c9d3caf9c9312622.txt  \n",
            "  inflating: dataset/train/labels/box_64_jpg.rf.5641d1af9b6f2224d2f02e11ce2c5d11.txt  \n",
            "  inflating: dataset/train/labels/box_64_jpg.rf.802799a59279cb8691834a14bac54db1.txt  \n",
            "  inflating: dataset/train/labels/box_64_jpg.rf.81539b9dbea68e97e2776873eec89a37.txt  \n",
            "  inflating: dataset/train/labels/box_64_jpg.rf.9116d2c1aad320b3f6fe4f5659100377.txt  \n",
            "  inflating: dataset/train/labels/box_64_jpg.rf.adedfba1ab1e20463601c94e799478cf.txt  \n",
            "  inflating: dataset/train/labels/box_64_jpg.rf.b3bce6f107cfd322b5b18060662e5b85.txt  \n",
            "  inflating: dataset/train/labels/box_64_jpg.rf.b70f40eb39aced060ce3fad7cc9e8586.txt  \n",
            "  inflating: dataset/train/labels/box_64_jpg.rf.ba8e080eee7e4b4913946cc7ed1db239.txt  \n",
            "  inflating: dataset/train/labels/box_64_jpg.rf.d81ced56f40be1ea495a0c90e18d51f1.txt  \n",
            "  inflating: dataset/train/labels/box_64_jpg.rf.e1fa3968313fff6da9120864d1d66633.txt  \n",
            "  inflating: dataset/train/labels/box_65_jpg.rf.09edf2364fdbdccfb1beccf857a12efa.txt  \n",
            "  inflating: dataset/train/labels/box_65_jpg.rf.1d1f51f146b5b3888d21ec5b70cb8bc6.txt  \n",
            "  inflating: dataset/train/labels/box_65_jpg.rf.5134d119bb64feb4010847b2c4f9f8f4.txt  \n",
            "  inflating: dataset/train/labels/box_65_jpg.rf.5b7037544c1f0487e330d72c1a447617.txt  \n",
            "  inflating: dataset/train/labels/box_65_jpg.rf.616a2d06b5b24f95ed0a1efa28405635.txt  \n",
            "  inflating: dataset/train/labels/box_65_jpg.rf.760953153b32a9311b62133c32170775.txt  \n",
            "  inflating: dataset/train/labels/box_65_jpg.rf.853ecced07ba459870efca16b2e7cc12.txt  \n",
            "  inflating: dataset/train/labels/box_65_jpg.rf.8b945a39320fff95c1b98cf432ff7d39.txt  \n",
            "  inflating: dataset/train/labels/box_65_jpg.rf.967c345700c34d9829f816a4c80cdf96.txt  \n",
            "  inflating: dataset/train/labels/box_65_jpg.rf.b134f65020e12aef375a336456715501.txt  \n",
            "  inflating: dataset/train/labels/box_65_jpg.rf.c2804c33c9567ba64c67dd57f0ef4cea.txt  \n",
            "  inflating: dataset/train/labels/box_65_jpg.rf.ec2c8a59eea8682f1698cada25734aae.txt  \n",
            "  inflating: dataset/train/labels/box_66_jpg.rf.1cb2b6c9346b8cb1dbe0b68126fb2268.txt  \n",
            "  inflating: dataset/train/labels/box_66_jpg.rf.46453bb367dfc5a188500ea98d439c57.txt  \n",
            "  inflating: dataset/train/labels/box_66_jpg.rf.4c5fc125c365c4cfc49deaa936b14fc9.txt  \n",
            "  inflating: dataset/train/labels/box_66_jpg.rf.4f1c50e7591eb5b5d9f15099d2721e85.txt  \n",
            "  inflating: dataset/train/labels/box_66_jpg.rf.6870149b7f9e73ac8ca9fdb10de4ff1c.txt  \n",
            "  inflating: dataset/train/labels/box_66_jpg.rf.896f5b0d8d387e01d96de323868a17af.txt  \n",
            "  inflating: dataset/train/labels/box_66_jpg.rf.bb167eaebe65d6af80a221fc3a9cf8ac.txt  \n",
            "  inflating: dataset/train/labels/box_66_jpg.rf.e1f8ab8668c3a62fd3cf8325a7d8f0be.txt  \n",
            "  inflating: dataset/train/labels/box_66_jpg.rf.ea9c516e2b5cbc869e89dc3678c82424.txt  \n",
            "  inflating: dataset/train/labels/box_67_jpg.rf.083ae3b7558961e35bd5f821362feedf.txt  \n",
            "  inflating: dataset/train/labels/box_67_jpg.rf.3297f0d957958759fd1bbe62b6ed2c67.txt  \n",
            "  inflating: dataset/train/labels/box_67_jpg.rf.499680a46e7a9246c950ef43986229f3.txt  \n",
            "  inflating: dataset/train/labels/box_67_jpg.rf.4a8a745656308d080cfb2b7262498f26.txt  \n",
            "  inflating: dataset/train/labels/box_67_jpg.rf.4bacf42b5e209ba2c72229c5ff293008.txt  \n",
            "  inflating: dataset/train/labels/box_67_jpg.rf.57728a44927b0cfbf95e995473dfea7c.txt  \n",
            "  inflating: dataset/train/labels/box_67_jpg.rf.64aa685bcb269912b18f3eb305bb2fe7.txt  \n",
            "  inflating: dataset/train/labels/box_67_jpg.rf.c01ef8766b087df687ce4f0a96b61fdd.txt  \n",
            "  inflating: dataset/train/labels/box_67_jpg.rf.dc054d1f4d7f0ed96ef04ac7ab05a90e.txt  \n",
            "  inflating: dataset/train/labels/box_67_jpg.rf.de91c843f93c61b7b1fa3fd019e5309f.txt  \n",
            "  inflating: dataset/train/labels/box_67_jpg.rf.e021d854824b496798212caa548378a1.txt  \n",
            "  inflating: dataset/train/labels/box_67_jpg.rf.e52b89c3a2a8febb34bc59e80433b2e8.txt  \n",
            "  inflating: dataset/train/labels/box_67_jpg.rf.ed777af34f9d132154cdf40eb6eb5114.txt  \n",
            "  inflating: dataset/train/labels/box_67_jpg.rf.f34ec93b026c96bfd42504c2fd51bc21.txt  \n",
            "  inflating: dataset/train/labels/box_67_jpg.rf.fe81641963ab115f47f4aa34a8406eca.txt  \n",
            "  inflating: dataset/train/labels/box_68_jpg.rf.0b8f6058ba71ef352b928612d80bf710.txt  \n",
            "  inflating: dataset/train/labels/box_68_jpg.rf.1756b2de6e333eb8f42fa5b4cc4d5b25.txt  \n",
            "  inflating: dataset/train/labels/box_68_jpg.rf.4f1594199ed9ce3fc3c01dfe9f3a5b5d.txt  \n",
            "  inflating: dataset/train/labels/box_68_jpg.rf.6c2c3abb9ec02e67af81ef0dcc9df52d.txt  \n",
            "  inflating: dataset/train/labels/box_68_jpg.rf.6cafd47005d925354cfe3520e006ad59.txt  \n",
            "  inflating: dataset/train/labels/box_68_jpg.rf.86ccbdb63f7b13cdafc4752ccf06c570.txt  \n",
            "  inflating: dataset/train/labels/box_68_jpg.rf.91c43b17327a5435daee2487283e0fab.txt  \n",
            "  inflating: dataset/train/labels/box_68_jpg.rf.c6f2dd2339c0afb0faeda9a43d1b5e3c.txt  \n",
            "  inflating: dataset/train/labels/box_68_jpg.rf.f1dba3da035508e498678e67079e6073.txt  \n",
            "  inflating: dataset/train/labels/box_69_jpg.rf.0a582aee612e8b2dfc5b92b1d8baee31.txt  \n",
            "  inflating: dataset/train/labels/box_69_jpg.rf.0f17c526af13db6bd5dadbc019b70b6e.txt  \n",
            "  inflating: dataset/train/labels/box_69_jpg.rf.255691819c04b93cb375ac17535b153f.txt  \n",
            "  inflating: dataset/train/labels/box_69_jpg.rf.4056526ff6b7d60d56336526f847e8d6.txt  \n",
            "  inflating: dataset/train/labels/box_69_jpg.rf.40a00d27a4016a3ff71101eafc89d631.txt  \n",
            "  inflating: dataset/train/labels/box_69_jpg.rf.8c593fc188dd954abffcdfa307df1be7.txt  \n",
            "  inflating: dataset/train/labels/box_69_jpg.rf.97f16188faa210e74770c852d6c4cf2b.txt  \n",
            "  inflating: dataset/train/labels/box_69_jpg.rf.9b6db1e077ffeeadb4059809f828767e.txt  \n",
            "  inflating: dataset/train/labels/box_69_jpg.rf.b126addf50bf6f7c748981ac89b92b65.txt  \n",
            "  inflating: dataset/train/labels/box_70_jpg.rf.09fd21a179483711ed7dfafbf0cc34b2.txt  \n",
            "  inflating: dataset/train/labels/box_70_jpg.rf.70303d1c94c6903142d55f922d4f55d6.txt  \n",
            "  inflating: dataset/train/labels/box_70_jpg.rf.90816a0d927a9c1e358aef40a98289e3.txt  \n",
            "  inflating: dataset/train/labels/box_70_jpg.rf.a23d0523de669b59724dc0393a2e6b86.txt  \n",
            "  inflating: dataset/train/labels/box_70_jpg.rf.b53ac7154170b50e4f91411b25a4d206.txt  \n",
            "  inflating: dataset/train/labels/box_70_jpg.rf.c3a4dcdea4fe46b14daa2a7899025801.txt  \n",
            "  inflating: dataset/train/labels/box_70_jpg.rf.c59a53003c36bc39555bcb4f49c0ffa3.txt  \n",
            "  inflating: dataset/train/labels/box_71_jpg.rf.086928ff9d519accd93c3d3aa103dd66.txt  \n",
            "  inflating: dataset/train/labels/box_71_jpg.rf.30f12f27a36ad9c5a4ab5a222cca6f11.txt  \n",
            "  inflating: dataset/train/labels/box_71_jpg.rf.477617057d3f10296c977f0b538462c2.txt  \n",
            "  inflating: dataset/train/labels/box_71_jpg.rf.8aab5dad123f78c5016b901d596bcc70.txt  \n",
            "  inflating: dataset/train/labels/box_71_jpg.rf.90099044385bbdc18b89074b4060682d.txt  \n",
            "  inflating: dataset/train/labels/box_71_jpg.rf.aeaf794ca618fe16f365b7446ee08010.txt  \n",
            "  inflating: dataset/train/labels/box_71_jpg.rf.ddd8f025913a76f2c4abac2686cd85dd.txt  \n",
            "  inflating: dataset/train/labels/box_71_jpg.rf.fa4d58417ae31a7dc486cd5543db6223.txt  \n",
            "  inflating: dataset/train/labels/box_72_jpg.rf.19b8718a0293d2a96f3bceaebc69a2a7.txt  \n",
            "  inflating: dataset/train/labels/box_72_jpg.rf.32b7f8e6386d7cf3e898b0c76b12dc5d.txt  \n",
            "  inflating: dataset/train/labels/box_72_jpg.rf.a5700c7fc665b0638beb334da4326994.txt  \n",
            "  inflating: dataset/train/labels/box_72_jpg.rf.a7d5923120b6d523c1b6c77803bc3823.txt  \n",
            "  inflating: dataset/train/labels/box_72_jpg.rf.c2b72c1321d922b4efb1bb437d14c5c5.txt  \n",
            "  inflating: dataset/train/labels/box_72_jpg.rf.e7fb7d1440cf725c94551b9b35e17d76.txt  \n",
            "  inflating: dataset/train/labels/box_72_jpg.rf.e983ded60e8390188b22484dece69d1b.txt  \n",
            "  inflating: dataset/train/labels/box_72_jpg.rf.e99cedc55742a90be067ebe0cda71c61.txt  \n",
            "  inflating: dataset/train/labels/box_72_jpg.rf.ed6e933d1363757474d297281a28fcee.txt  \n",
            "  inflating: dataset/train/labels/box_72_jpg.rf.f4c2028885e7aac49f463320627a2139.txt  \n",
            "  inflating: dataset/train/labels/box_72_jpg.rf.f74fece8885bede62dd2f37553750ed8.txt  \n",
            "  inflating: dataset/train/labels/box_73_jpg.rf.35c076258fa87bc563779bc655c0e0f6.txt  \n",
            "  inflating: dataset/train/labels/box_73_jpg.rf.575bbbe48e4fbf0f6174ced8978ac3c3.txt  \n",
            "  inflating: dataset/train/labels/box_73_jpg.rf.584e3d7d5635adc2c290cd187de04b8b.txt  \n",
            "  inflating: dataset/train/labels/box_73_jpg.rf.6ba16a9c6577fafecd9f002e17533e05.txt  \n",
            "  inflating: dataset/train/labels/box_73_jpg.rf.8899e125e0cfd6a751e6297d805f3da3.txt  \n",
            "  inflating: dataset/train/labels/box_73_jpg.rf.8d3366b9142bee7d6592fa85f62975d8.txt  \n",
            "  inflating: dataset/train/labels/box_73_jpg.rf.95b258c683cf17dc9b53cfabe4963922.txt  \n",
            "  inflating: dataset/train/labels/box_73_jpg.rf.b39d170e308846c29b1163cb50212e50.txt  \n",
            "  inflating: dataset/train/labels/box_73_jpg.rf.e13390e2ff563cab75c26966a866afdc.txt  \n",
            "  inflating: dataset/train/labels/box_74_jpg.rf.13c581738aaa1af95ff505c310cef618.txt  \n",
            "  inflating: dataset/train/labels/box_74_jpg.rf.2df01c8425837040ff572831efc06bab.txt  \n",
            "  inflating: dataset/train/labels/box_74_jpg.rf.6fb0303e8b2dc5440c2c3b4841edcd34.txt  \n",
            "  inflating: dataset/train/labels/box_74_jpg.rf.760d589d280908277e2a7b2fa9e782c5.txt  \n",
            "  inflating: dataset/train/labels/box_74_jpg.rf.81b219473f1ace45f1b5e644c40dea80.txt  \n",
            "  inflating: dataset/train/labels/box_74_jpg.rf.9fd2a9848196c509f3d2e6f30b287b4e.txt  \n",
            "  inflating: dataset/train/labels/box_74_jpg.rf.d8f93936b2cca214e6e614b14077cf0a.txt  \n",
            "  inflating: dataset/train/labels/box_74_jpg.rf.e3caa1a5b5d1fb748f779297d23577c4.txt  \n",
            "  inflating: dataset/train/labels/box_74_jpg.rf.e6bcf272fa2178829de12de08d299b27.txt  \n",
            "  inflating: dataset/train/labels/box_75_jpg.rf.039ffb1325af7acf927bbb71da6347b9.txt  \n",
            "  inflating: dataset/train/labels/box_75_jpg.rf.0570f9a45ae12d43a63ebe7e8dabb1e6.txt  \n",
            "  inflating: dataset/train/labels/box_75_jpg.rf.12bd721c1f76ba0bb841a97fa1460b93.txt  \n",
            "  inflating: dataset/train/labels/box_75_jpg.rf.71919709d6c5e091ff191926104da833.txt  \n",
            "  inflating: dataset/train/labels/box_75_jpg.rf.8df7f333d863235976ae13d06e6cd9eb.txt  \n",
            "  inflating: dataset/train/labels/box_75_jpg.rf.a72483e9efd8801b8774ee408a8f99c4.txt  \n",
            "  inflating: dataset/train/labels/box_75_jpg.rf.b9405bfaf2216c11483c28c57c467d8b.txt  \n",
            "  inflating: dataset/train/labels/box_76_jpg.rf.2b446dbc1569e807d010fa9d63c50303.txt  \n",
            "  inflating: dataset/train/labels/box_76_jpg.rf.3624d87ce5952b5d45c24b97699786e9.txt  \n",
            "  inflating: dataset/train/labels/box_76_jpg.rf.42053d1b95e31b6e73b9b5552a8be88b.txt  \n",
            "  inflating: dataset/train/labels/box_76_jpg.rf.56935a9348fe6fdb1d9b304f59e503f8.txt  \n",
            "  inflating: dataset/train/labels/box_76_jpg.rf.64816c0a8a1785843a900006e8940e8d.txt  \n",
            "  inflating: dataset/train/labels/box_76_jpg.rf.ad4beae431d9c01657f20c2dda60b31f.txt  \n",
            "  inflating: dataset/train/labels/box_76_jpg.rf.bc0eaef31e1ca3150cce5bd9d88d4e0d.txt  \n",
            "  inflating: dataset/train/labels/box_76_jpg.rf.d37db12a57ba6c9e0ec655ce3a54edd5.txt  \n",
            "  inflating: dataset/train/labels/box_76_jpg.rf.d70dec6d453896627b8975d8742f03bf.txt  \n",
            "  inflating: dataset/train/labels/box_76_jpg.rf.e56bffd8d2155557251208b0554fac7c.txt  \n",
            "  inflating: dataset/train/labels/box_76_jpg.rf.eac97fbf122297e996a29e36fad15b88.txt  \n",
            "  inflating: dataset/train/labels/box_76_jpg.rf.f69796af3dcb56cbc4efc2fd5461bb7f.txt  \n",
            "  inflating: dataset/train/labels/box_77_jpg.rf.22ae8e36d5d999f7b1401fc986eb6156.txt  \n",
            "  inflating: dataset/train/labels/box_77_jpg.rf.324a0b971b71365e29874db8d3a2856f.txt  \n",
            "  inflating: dataset/train/labels/box_77_jpg.rf.3b0a4517d03d18e9917ce97945c15155.txt  \n",
            "  inflating: dataset/train/labels/box_77_jpg.rf.4162324900080c34e7fab35406cbcfaf.txt  \n",
            "  inflating: dataset/train/labels/box_77_jpg.rf.486d295c0c0bdc8853c1dd9b3bb41081.txt  \n",
            "  inflating: dataset/train/labels/box_77_jpg.rf.81dc0568d3518e5c005b99fd9f8cd68c.txt  \n",
            "  inflating: dataset/train/labels/box_77_jpg.rf.99a1dc8ecd6da1387173a2a18756f57e.txt  \n",
            "  inflating: dataset/train/labels/box_77_jpg.rf.bff8cec3e487c56eff7c17b6e9ab48b4.txt  \n",
            "  inflating: dataset/train/labels/box_77_jpg.rf.de9a5488498a45cc88700c46027be4c3.txt  \n",
            "  inflating: dataset/train/labels/box_77_jpg.rf.e46936d5904949806c40f753e769b219.txt  \n",
            "  inflating: dataset/train/labels/box_77_jpg.rf.f0eff30d6f03b67c71b1b6364cd4deca.txt  \n",
            "  inflating: dataset/train/labels/box_78_jpg.rf.38b42c36c3016ca156fbf100797c4604.txt  \n",
            "  inflating: dataset/train/labels/box_78_jpg.rf.50a10ddce260c92420f1928266d0b7d5.txt  \n",
            "  inflating: dataset/train/labels/box_78_jpg.rf.59ce3840a18a4770cb411ae373ad6219.txt  \n",
            "  inflating: dataset/train/labels/box_78_jpg.rf.81bfee4c32c442601f061b2eeb8fa834.txt  \n",
            "  inflating: dataset/train/labels/box_78_jpg.rf.8f93ea5ed4f04155ebbc07733bdfa1f2.txt  \n",
            "  inflating: dataset/train/labels/box_78_jpg.rf.94e99b5d169575f147698da10b240f0d.txt  \n",
            "  inflating: dataset/train/labels/box_78_jpg.rf.975a1ef2e83154be07768827c330ab76.txt  \n",
            "  inflating: dataset/train/labels/box_78_jpg.rf.b6bd225ce23495cd27d39f5fdc11d71a.txt  \n",
            "  inflating: dataset/train/labels/box_78_jpg.rf.cf76a50fbb74be437f37ed8c5931d717.txt  \n",
            "  inflating: dataset/train/labels/box_78_jpg.rf.d622573938c4e973cc41c28180204566.txt  \n",
            "  inflating: dataset/train/labels/box_78_jpg.rf.e4f96f4e9fcdd0e0303c03e069ace180.txt  \n",
            "  inflating: dataset/train/labels/box_78_jpg.rf.e6fd598edef89da4a8689341eead7033.txt  \n",
            "  inflating: dataset/train/labels/box_78_jpg.rf.e74533afd32b673b05b87154f55ab894.txt  \n",
            "  inflating: dataset/train/labels/box_78_jpg.rf.f8de7293531f41564bf9da2acf65330e.txt  \n",
            "  inflating: dataset/train/labels/box_79_jpg.rf.0c9f9ee674a3bb28f17611a5f1427fed.txt  \n",
            "  inflating: dataset/train/labels/box_79_jpg.rf.2e14152750784ac10bf89fbc8e70a4cc.txt  \n",
            "  inflating: dataset/train/labels/box_79_jpg.rf.44b775970e312a94d41bd7a5b95935eb.txt  \n",
            "  inflating: dataset/train/labels/box_79_jpg.rf.46c80314dfaefea3c1bf501b254bd33b.txt  \n",
            "  inflating: dataset/train/labels/box_79_jpg.rf.555b04f96b558d0cd28eb95d860ab601.txt  \n",
            "  inflating: dataset/train/labels/box_79_jpg.rf.85b2660ab697a8a3fbf436d358f73e6e.txt  \n",
            "  inflating: dataset/train/labels/box_79_jpg.rf.8715fdf4b2aa3ecda9c01ca9addc8626.txt  \n",
            "  inflating: dataset/train/labels/box_79_jpg.rf.884390236f8f92d9702ecbd471c0fc28.txt  \n",
            "  inflating: dataset/train/labels/box_79_jpg.rf.96f61dacbd9ab048b6d880ce53f779f9.txt  \n",
            "  inflating: dataset/train/labels/box_79_jpg.rf.98d7ffd6ab5386c2eab167653ca4d69b.txt  \n",
            "  inflating: dataset/train/labels/box_79_jpg.rf.9e9fdead328103a8494712fe6d33bc4d.txt  \n",
            "  inflating: dataset/train/labels/box_79_jpg.rf.b37582e0e4980797a3b9103753191b8f.txt  \n",
            "  inflating: dataset/train/labels/box_79_jpg.rf.c1e8f205db1cabbc7f844df2cb62d0af.txt  \n",
            "  inflating: dataset/train/labels/box_79_jpg.rf.c2a1e2db3ab9373f8958976a41b71ddc.txt  \n",
            "  inflating: dataset/train/labels/box_79_jpg.rf.fe17bea281fc6e67f2c75c8b242c8d73.txt  \n",
            "  inflating: dataset/train/labels/box_80_jpg.rf.0ec45a2d5629c893d8b19790be1f12eb.txt  \n",
            "  inflating: dataset/train/labels/box_80_jpg.rf.3b4110c5ea07276ea1ede1ee0218219c.txt  \n",
            "  inflating: dataset/train/labels/box_80_jpg.rf.457ad82b9e8e044da1f35b8435ee5d73.txt  \n",
            "  inflating: dataset/train/labels/box_80_jpg.rf.755c6930dbb9aa24be7d97025e99a44a.txt  \n",
            "  inflating: dataset/train/labels/box_80_jpg.rf.7cdc58b8152013dd39b6faf646fc5273.txt  \n",
            "  inflating: dataset/train/labels/box_80_jpg.rf.c31b614dc7b169fc9829bfa5dee8d06c.txt  \n",
            "  inflating: dataset/train/labels/box_80_jpg.rf.d1c4d5253d016737a96408b82abb5272.txt  \n",
            "  inflating: dataset/train/labels/box_80_jpg.rf.d84403aae6244c8a13218e07fa21a009.txt  \n",
            "  inflating: dataset/train/labels/box_80_jpg.rf.ebfdfe018bd01d5d67e5b1368aaea633.txt  \n",
            "  inflating: dataset/train/labels/box_80_jpg.rf.ed2bc0076f56b1ce1d31ed8a68f3c93d.txt  \n",
            "  inflating: dataset/train/labels/box_81_jpg.rf.07dd68c72d208ec05bcbbae2e8a8f3bd.txt  \n",
            "  inflating: dataset/train/labels/box_81_jpg.rf.4e5e3102f26f5d135ab1315f9442feec.txt  \n",
            "  inflating: dataset/train/labels/box_81_jpg.rf.7bb6a28ac8c7330640f6767d7feeb73a.txt  \n",
            "  inflating: dataset/train/labels/box_81_jpg.rf.82ec0ee9ccee9bafc5633c3b9ce8386d.txt  \n",
            "  inflating: dataset/train/labels/box_81_jpg.rf.924ce8373b82153946599b8c21966645.txt  \n",
            "  inflating: dataset/train/labels/box_81_jpg.rf.95d1ab321720082733fe1aa2fdc941fb.txt  \n",
            "  inflating: dataset/train/labels/box_81_jpg.rf.a42a1256a017258ba6987c917e232252.txt  \n",
            "  inflating: dataset/train/labels/box_81_jpg.rf.ec13324ad0476461636086131b75c1fb.txt  \n",
            "  inflating: dataset/train/labels/box_81_jpg.rf.ef6616ff1b1dd26846e78607c621c8cc.txt  \n",
            "  inflating: dataset/train/labels/box_81_jpg.rf.f1f95b39d6c8695117ac07a65a22aa64.txt  \n",
            "  inflating: dataset/train/labels/box_82_jpg.rf.197d359123ff6f0154d1d5d68552322e.txt  \n",
            "  inflating: dataset/train/labels/box_82_jpg.rf.1a430899b3a76d9f8b817171cebb56e5.txt  \n",
            "  inflating: dataset/train/labels/box_82_jpg.rf.1eca9749268eddec2258a4f3fb9c2983.txt  \n",
            "  inflating: dataset/train/labels/box_82_jpg.rf.2f19a6df15262418b84853fb9917ce5a.txt  \n",
            "  inflating: dataset/train/labels/box_82_jpg.rf.45ff466de36a1310ddd199b0fd98fcc2.txt  \n",
            "  inflating: dataset/train/labels/box_82_jpg.rf.6d968adaca0d2df79dec29f91549d2df.txt  \n",
            "  inflating: dataset/train/labels/box_82_jpg.rf.77600fcf6d86d0e34f353affe469ee62.txt  \n",
            "  inflating: dataset/train/labels/box_82_jpg.rf.836c70ff39dd97eb03f3dcf472110c9c.txt  \n",
            "  inflating: dataset/train/labels/box_82_jpg.rf.839bc8b390588d52085be5e68ed8d896.txt  \n",
            "  inflating: dataset/train/labels/box_82_jpg.rf.88983d4f5a6bb35fd434987478bb86ec.txt  \n",
            "  inflating: dataset/train/labels/box_82_jpg.rf.a0ec245bb7ceb55edd22f721a786310d.txt  \n",
            "  inflating: dataset/train/labels/box_82_jpg.rf.ae567c46849bb1e5aa10ef17504923e8.txt  \n",
            "  inflating: dataset/train/labels/box_82_jpg.rf.c56216287141b56993bb4d5602c5b743.txt  \n",
            "  inflating: dataset/train/labels/box_82_jpg.rf.dd6bc2ad98188bf99ed100110d0bf3d1.txt  \n",
            "  inflating: dataset/train/labels/box_82_jpg.rf.f6cc09c82e3555080efdc5ff3e1f187f.txt  \n",
            "  inflating: dataset/train/labels/box_83_jpg.rf.0c7c17c889805f2a1ee9351fff530d8d.txt  \n",
            "  inflating: dataset/train/labels/box_83_jpg.rf.0c818680e3644d07443680085dcf4357.txt  \n",
            "  inflating: dataset/train/labels/box_83_jpg.rf.107fdfcef52d36dac6c85129f733a818.txt  \n",
            "  inflating: dataset/train/labels/box_83_jpg.rf.305c011b64bad5a0af5d2ed28473f5c0.txt  \n",
            "  inflating: dataset/train/labels/box_83_jpg.rf.36f19f7e9edfac748ffdb06f2a51594d.txt  \n",
            "  inflating: dataset/train/labels/box_83_jpg.rf.49e5df4140c3bd5a14abbc5082855697.txt  \n",
            "  inflating: dataset/train/labels/box_83_jpg.rf.6cc0bcd3926a9938615989e19bd9f4c3.txt  \n",
            "  inflating: dataset/train/labels/box_83_jpg.rf.7998db5e3aeaf674797333221bbb0d38.txt  \n",
            "  inflating: dataset/train/labels/box_83_jpg.rf.7cb03af9dea84c7e32e92bf21cb953ab.txt  \n",
            "  inflating: dataset/train/labels/box_83_jpg.rf.b5bb086cf193dba98b1a52184620ca70.txt  \n",
            "  inflating: dataset/train/labels/box_83_jpg.rf.cbb3780a44ee0e78c758024f8cb23810.txt  \n",
            "  inflating: dataset/train/labels/box_83_jpg.rf.cc3e5f9a5538de92d2716f67fd615360.txt  \n",
            "  inflating: dataset/train/labels/box_83_jpg.rf.e2270fcaa51d80140af1b788debda4e0.txt  \n",
            "  inflating: dataset/train/labels/box_83_jpg.rf.f8f90d1298741e0003d45936fbeb6b85.txt  \n",
            "  inflating: dataset/train/labels/box_84_jpg.rf.09e8e84e7781cbc565b9340eee3cce26.txt  \n",
            "  inflating: dataset/train/labels/box_84_jpg.rf.0c8284af438918d6381e4673664b7170.txt  \n",
            "  inflating: dataset/train/labels/box_84_jpg.rf.146e1d8af478bbab03997f3cbef0a9ae.txt  \n",
            "  inflating: dataset/train/labels/box_84_jpg.rf.225e27d86a732f7c48aa9cdd19f6de74.txt  \n",
            "  inflating: dataset/train/labels/box_84_jpg.rf.37bd6038dc369db08ae5891d44088a2c.txt  \n",
            "  inflating: dataset/train/labels/box_84_jpg.rf.3eb6a6fdf4df702841ad9dc32d2f65b1.txt  \n",
            "  inflating: dataset/train/labels/box_84_jpg.rf.432d08840e7417aab35f7ba43a87d96c.txt  \n",
            "  inflating: dataset/train/labels/box_84_jpg.rf.75e285bf0902344d3f7d6f7bc8a50711.txt  \n",
            "  inflating: dataset/train/labels/box_84_jpg.rf.945f96aac58143d617545018f5e8672b.txt  \n",
            "  inflating: dataset/train/labels/box_84_jpg.rf.94bc7a5cdbad44b730447328f6dad4c1.txt  \n",
            "  inflating: dataset/train/labels/box_84_jpg.rf.c2c6d3f4f44e0b1b8944b743148d16fe.txt  \n",
            "  inflating: dataset/train/labels/box_84_jpg.rf.db04abbfe3e249b4af963efb4a3def52.txt  \n",
            "  inflating: dataset/train/labels/box_84_jpg.rf.fbd6670da5d4d5d6634cc19c357a3e4b.txt  \n",
            "  inflating: dataset/train/labels/box_85_jpg.rf.07bba3f48c07b52bfdd8602941bd7933.txt  \n",
            "  inflating: dataset/train/labels/box_85_jpg.rf.1048114cce9299caea7699fe36655ceb.txt  \n",
            "  inflating: dataset/train/labels/box_85_jpg.rf.12db441474385f17f7581528cbd3d5f4.txt  \n",
            "  inflating: dataset/train/labels/box_85_jpg.rf.155a099086481c591a83ea798a7de4f2.txt  \n",
            "  inflating: dataset/train/labels/box_85_jpg.rf.17974edefea3b1b34bd46c4035336096.txt  \n",
            "  inflating: dataset/train/labels/box_85_jpg.rf.50b45de5b5b213a3fe112030c1b1abde.txt  \n",
            "  inflating: dataset/train/labels/box_85_jpg.rf.61fa9300d23d7ac7244d37d2b82edc9d.txt  \n",
            "  inflating: dataset/train/labels/box_85_jpg.rf.62a24e665c41e2fa0a5f1666152d17d0.txt  \n",
            "  inflating: dataset/train/labels/box_85_jpg.rf.7e667ed6acf906f4d59cdab302014cf0.txt  \n",
            "  inflating: dataset/train/labels/box_85_jpg.rf.8979d4702595fb2130dc743172b938cd.txt  \n",
            "  inflating: dataset/train/labels/box_85_jpg.rf.acbddd3b3f1bfd08ec4458a28d06da62.txt  \n",
            "  inflating: dataset/train/labels/box_85_jpg.rf.c4824ced9b3a718132a1c21cf54f4364.txt  \n",
            "  inflating: dataset/train/labels/box_85_jpg.rf.d62732ed657afc5568d5241eb59481fe.txt  \n",
            "  inflating: dataset/train/labels/box_86_jpg.rf.2415d5c87f1d64891c754ee956db62b5.txt  \n",
            "  inflating: dataset/train/labels/box_86_jpg.rf.cc1000c507414c388f408fc00b2bda10.txt  \n",
            "  inflating: dataset/train/labels/box_86_jpg.rf.d5d146af408175eca11455a1f3026d71.txt  \n",
            "  inflating: dataset/train/labels/box_87_jpg.rf.0fe8d2f8827fcea14f0f4d6aa1bcf20e.txt  \n",
            "  inflating: dataset/train/labels/box_87_jpg.rf.1e4f3e45fd5f60401bdd46a1d4ef41b2.txt  \n",
            "  inflating: dataset/train/labels/box_87_jpg.rf.22b89be564fa36509a322745f23ee63f.txt  \n",
            "  inflating: dataset/train/labels/box_87_jpg.rf.269a1d22f6ad2b4d07276b2ff4db0c89.txt  \n",
            "  inflating: dataset/train/labels/box_87_jpg.rf.2a4edafc66a2d68c4564750131dd748e.txt  \n",
            "  inflating: dataset/train/labels/box_87_jpg.rf.3312d6f04e2c47d44bdb1d339df944d2.txt  \n",
            "  inflating: dataset/train/labels/box_87_jpg.rf.3e91c0c0f56a1ffcc7e09dfac979a8dd.txt  \n",
            "  inflating: dataset/train/labels/box_87_jpg.rf.4219de2ba888d7c1ec2d8ed88e6e5283.txt  \n",
            "  inflating: dataset/train/labels/box_87_jpg.rf.53180b4a253f4c893e3b4c6c0a7b9a45.txt  \n",
            "  inflating: dataset/train/labels/box_87_jpg.rf.598d062309788e4ee13b90caf6185f9c.txt  \n",
            "  inflating: dataset/train/labels/box_87_jpg.rf.5bfc164e8bde3dca8094a4793d0fa283.txt  \n",
            "  inflating: dataset/train/labels/box_87_jpg.rf.72e77de0609b8042b10f102dfb447ead.txt  \n",
            "  inflating: dataset/train/labels/box_87_jpg.rf.887594c7e918a785f97c916732bf4ac0.txt  \n",
            "  inflating: dataset/train/labels/box_87_jpg.rf.a2b3085cad61f72a06b56e1a9e77cb1e.txt  \n",
            "  inflating: dataset/train/labels/box_87_jpg.rf.b817e79aef06fa0fb9a64bc2cc20baa9.txt  \n",
            "  inflating: dataset/train/labels/box_87_jpg.rf.c8fd3cf09da73caf27924e4c3a208bcd.txt  \n",
            "  inflating: dataset/train/labels/box_87_jpg.rf.f03c7dc06303bfb3fd1bbf1dcbd8291c.txt  \n",
            "  inflating: dataset/train/labels/box_88_jpg.rf.0321c8bb53ccc3c5cdee4c620927bed9.txt  \n",
            "  inflating: dataset/train/labels/box_88_jpg.rf.2ad501342b263069f955ebdcf02ccd1b.txt  \n",
            "  inflating: dataset/train/labels/box_88_jpg.rf.32107d203319c088ab9d7978c4c7ed85.txt  \n",
            "  inflating: dataset/train/labels/box_88_jpg.rf.4f680963d3203da662eaf375dbd3a50d.txt  \n",
            "  inflating: dataset/train/labels/box_88_jpg.rf.62cf65217420ab5a0f651483999c432f.txt  \n",
            "  inflating: dataset/train/labels/box_88_jpg.rf.6e31fd95e6b585fc45d2d351b8d8b337.txt  \n",
            "  inflating: dataset/train/labels/box_88_jpg.rf.773c25268f596dd1d7593e74c62a9f60.txt  \n",
            "  inflating: dataset/train/labels/box_88_jpg.rf.a69b9ea33bcb9290a35d5f541f142a2c.txt  \n",
            "  inflating: dataset/train/labels/box_88_jpg.rf.ac2db2dfb0a3f562ebc9a04c76757cd4.txt  \n",
            "  inflating: dataset/train/labels/box_88_jpg.rf.ad9506ee8b71f83a399785d950d1d430.txt  \n",
            "  inflating: dataset/train/labels/box_88_jpg.rf.afc1ffcacf565a4d912afdf48ecdbd05.txt  \n",
            "  inflating: dataset/train/labels/box_88_jpg.rf.c6951818bf089a3141570c64dc1b194e.txt  \n",
            "  inflating: dataset/train/labels/box_88_jpg.rf.c9f4f43c9c20d52e2ab1593c686fa75b.txt  \n",
            "  inflating: dataset/train/labels/box_88_jpg.rf.ca2843df215c7b09e78719e04ab4cd97.txt  \n",
            "  inflating: dataset/train/labels/box_88_jpg.rf.d67bcebf55434e18d534242eced5dd6e.txt  \n",
            "  inflating: dataset/train/labels/box_88_jpg.rf.e42f71e02aeba19afbb871d3a90d1911.txt  \n",
            "  inflating: dataset/train/labels/box_89_jpg.rf.181531a82bdb3a102a38f6013739597c.txt  \n",
            "  inflating: dataset/train/labels/box_89_jpg.rf.1b55e7d2a5de7e32fb84f0a361303dea.txt  \n",
            "  inflating: dataset/train/labels/box_89_jpg.rf.1e161e28df4cb39a0f29f4139cc5cf30.txt  \n",
            "  inflating: dataset/train/labels/box_89_jpg.rf.1f758532cc92100ab898481e0e37dc05.txt  \n",
            "  inflating: dataset/train/labels/box_89_jpg.rf.3ed33e509d07da9ae2834a732948a011.txt  \n",
            "  inflating: dataset/train/labels/box_89_jpg.rf.8fdaa6f2e78ad6e8d63e3fbe75335f8a.txt  \n",
            "  inflating: dataset/train/labels/box_89_jpg.rf.af3b9570839d14d218ff4cc26fa2ee5c.txt  \n",
            "  inflating: dataset/train/labels/box_89_jpg.rf.b1f6b1d6c67cdc9bc2b27dcdbe6ffb74.txt  \n",
            "  inflating: dataset/train/labels/box_89_jpg.rf.bdca02ea43205eb0c5c761a707be865d.txt  \n",
            "  inflating: dataset/train/labels/box_89_jpg.rf.c738c91b97e92dc79d8113d44103a40a.txt  \n",
            "  inflating: dataset/train/labels/box_89_jpg.rf.cc482dcdf53f1560b605272d826f827e.txt  \n",
            "  inflating: dataset/train/labels/box_90_jpg.rf.1620b82e64b39a251707dfa8a75847ac.txt  \n",
            "  inflating: dataset/train/labels/box_90_jpg.rf.76645905f1a37c01de6261e015b807fa.txt  \n",
            "  inflating: dataset/train/labels/box_90_jpg.rf.8c6608e8c1c560f3b45b19c969b5abcc.txt  \n",
            "  inflating: dataset/train/labels/box_90_jpg.rf.c33f8597fb2a5c880e434a6d0f90415c.txt  \n",
            "  inflating: dataset/train/labels/box_90_jpg.rf.d845418115c66772fd40d1e416c362c4.txt  \n",
            "  inflating: dataset/train/labels/box_90_jpg.rf.ef54296a46bda6401f32948f1c9c39ac.txt  \n",
            "  inflating: dataset/train/labels/box_91_jpg.rf.4dc752f6dab05efdd9d37c3dddc5ef56.txt  \n",
            "  inflating: dataset/train/labels/box_91_jpg.rf.59da250ea1f706c40108d3569c3aaf2d.txt  \n",
            "  inflating: dataset/train/labels/box_91_jpg.rf.5be9251ed8ede8326ee9e4146484ee65.txt  \n",
            "  inflating: dataset/train/labels/box_91_jpg.rf.88dab805ef62f6aba0b78bde7aee0200.txt  \n",
            "  inflating: dataset/train/labels/box_91_jpg.rf.9353f8807e8c294b617ba657fa0aa0b9.txt  \n",
            "  inflating: dataset/train/labels/box_91_jpg.rf.b288f8271c096099d856ccc3ed3c483f.txt  \n",
            "  inflating: dataset/train/labels/box_91_jpg.rf.c7604a6c99bf170784f7a6e1532194c1.txt  \n",
            "  inflating: dataset/train/labels/box_91_jpg.rf.d1f6dfea2801fbf6b044f1771963e18b.txt  \n",
            "  inflating: dataset/train/labels/box_93_jpg.rf.049377207b4477c08bea0e83fdd1ef4e.txt  \n",
            "  inflating: dataset/train/labels/box_93_jpg.rf.34e134e0de3d0f3d4099c1a770f9e74a.txt  \n",
            "  inflating: dataset/train/labels/box_93_jpg.rf.4c6b88e449fe6337ff1d7c9cbb42b524.txt  \n",
            "  inflating: dataset/train/labels/box_93_jpg.rf.584f1574530598a66784a26b4c962b90.txt  \n",
            "  inflating: dataset/train/labels/box_93_jpg.rf.6315570087eb06504e7bf363e5a7582f.txt  \n",
            "  inflating: dataset/train/labels/box_93_jpg.rf.83e052acc0d68dde23219671e395ae93.txt  \n",
            "  inflating: dataset/train/labels/box_93_jpg.rf.a065b2f5986bb926fbf35a38225de95c.txt  \n",
            "  inflating: dataset/train/labels/box_94_jpg.rf.0126474857d8aff09a9e8c60e9d93492.txt  \n",
            "  inflating: dataset/train/labels/box_94_jpg.rf.0c04e70a441b8cb23a4b7eb40339a247.txt  \n",
            "  inflating: dataset/train/labels/box_94_jpg.rf.3f3e9cabbfadc6c45359dc628932204f.txt  \n",
            "  inflating: dataset/train/labels/box_94_jpg.rf.501a455d9cace10604af93b5b2b9b4fa.txt  \n",
            "  inflating: dataset/train/labels/box_94_jpg.rf.6e092903de9a9bfdfaf63c1513ede892.txt  \n",
            "  inflating: dataset/train/labels/box_94_jpg.rf.70f7d7fd0e3eecb7df2b1ee82f8a06a7.txt  \n",
            "  inflating: dataset/train/labels/box_94_jpg.rf.85bae4c954b682f648eba0c5be4bf3ea.txt  \n",
            "  inflating: dataset/train/labels/box_94_jpg.rf.91716d2488fe6f4fad1245f3bd95c026.txt  \n",
            "  inflating: dataset/train/labels/box_94_jpg.rf.d9e974ff185a809ae3a476f3761a13ad.txt  \n",
            "  inflating: dataset/train/labels/box_94_jpg.rf.def068030b34dd52677ec40a94c7cafe.txt  \n",
            "  inflating: dataset/train/labels/box_94_jpg.rf.e3234a1c85d36eaafae5a1af55e5683f.txt  \n",
            "  inflating: dataset/train/labels/box_95_jpg.rf.025a9ad2977bd4718151a6906ce6c545.txt  \n",
            "  inflating: dataset/train/labels/box_95_jpg.rf.10caba3844609ac3b6a9e8f138090c99.txt  \n",
            "  inflating: dataset/train/labels/box_95_jpg.rf.4b90fe16b0a1a198b8d6f2158ec1468b.txt  \n",
            "  inflating: dataset/train/labels/box_95_jpg.rf.615f7e143df1b8baf7fd58d09bf052dd.txt  \n",
            "  inflating: dataset/train/labels/box_95_jpg.rf.6ae31a70e7dbe8c5a250fc384e7e4032.txt  \n",
            "  inflating: dataset/train/labels/box_95_jpg.rf.7c4e61789c1f0596766e29cee9360971.txt  \n",
            "  inflating: dataset/train/labels/box_95_jpg.rf.95e58811ee3551088f26be95d65d83a6.txt  \n",
            "  inflating: dataset/train/labels/box_95_jpg.rf.a9981961ebf4f6da34fb888eb3b353fe.txt  \n",
            "  inflating: dataset/train/labels/box_95_jpg.rf.b333cd9561254c872f5099046c2969e1.txt  \n",
            "  inflating: dataset/train/labels/box_95_jpg.rf.e78522f44015182bb4f94df3d43cdafd.txt  \n",
            "  inflating: dataset/train/labels/box_95_jpg.rf.e9106fd40d5d78031716ded54ea8d755.txt  \n",
            "  inflating: dataset/train/labels/box_95_jpg.rf.eac164bc786f5d460d1ea3e019e88c56.txt  \n",
            "  inflating: dataset/train/labels/box_96_jpg.rf.139dbdaa2e87fe9b43ae0ad3d5c5d87e.txt  \n",
            "  inflating: dataset/train/labels/box_96_jpg.rf.24e73b8f0e706bba362696fb72ad55c7.txt  \n",
            "  inflating: dataset/train/labels/box_96_jpg.rf.4c8814833b9b779a5ddfd3d821de8beb.txt  \n",
            "  inflating: dataset/train/labels/box_96_jpg.rf.4ed427c5c5836558cb5bbc8e7d013df3.txt  \n",
            "  inflating: dataset/train/labels/box_96_jpg.rf.7042184c0c0b5dbacc3160e348e0a66f.txt  \n",
            "  inflating: dataset/train/labels/box_96_jpg.rf.803a1bb0ef5de0ebf279b89833a39e38.txt  \n",
            "  inflating: dataset/train/labels/box_96_jpg.rf.835edaae27b13c0230927811222e9e25.txt  \n",
            "  inflating: dataset/train/labels/box_96_jpg.rf.a785ca58d5a1890ef0e4434bcabb53dd.txt  \n",
            "  inflating: dataset/train/labels/box_96_jpg.rf.b4575cb40936809b86ce8567450444a4.txt  \n",
            "  inflating: dataset/train/labels/box_96_jpg.rf.b62e3cfe6d27d7e21accecd4fddfea5c.txt  \n",
            "  inflating: dataset/train/labels/box_96_jpg.rf.b7d0d4be16419e784a681153550d2002.txt  \n",
            "  inflating: dataset/train/labels/box_96_jpg.rf.c534d8bbb81e6a82c157b891d2004a99.txt  \n",
            "  inflating: dataset/train/labels/box_96_jpg.rf.d253e83f9d7b798aa428e39eee701dbf.txt  \n",
            "  inflating: dataset/train/labels/box_96_jpg.rf.e2b76670a5ca815dfe2abce1d91b24fa.txt  \n",
            "  inflating: dataset/train/labels/box_96_jpg.rf.e7e65b7ecdc1e1570dbc4b35e3c15f37.txt  \n",
            "  inflating: dataset/train/labels/box_96_jpg.rf.ebed61c587f5dba89925d04afdc4a1d4.txt  \n",
            "  inflating: dataset/train/labels/box_96_jpg.rf.ed3a83f67702180f22271113450436f5.txt  \n",
            "  inflating: dataset/train/labels/box_96_jpg.rf.f6b0f27f6c7b8da35ef5667bbcbad6aa.txt  \n",
            "  inflating: dataset/train/labels/box_96_jpg.rf.feb524c4adffe33771a49bd04028ddef.txt  \n",
            "  inflating: dataset/train/labels/box_97_jpg.rf.09cc9735d94a739409d49d0256103ed2.txt  \n",
            "  inflating: dataset/train/labels/box_97_jpg.rf.1c3423e7aea84acae6eed5f99fb69aef.txt  \n",
            "  inflating: dataset/train/labels/box_97_jpg.rf.20384448b0ef32632f57e5e4c2126ade.txt  \n",
            "  inflating: dataset/train/labels/box_97_jpg.rf.26ef78fa0e8d1e48eb5c78ea6da72206.txt  \n",
            "  inflating: dataset/train/labels/box_97_jpg.rf.4e08d070815d3398f3cf699262b822b8.txt  \n",
            "  inflating: dataset/train/labels/box_97_jpg.rf.58bce2a8ec3f87fef6aa02178687bc7e.txt  \n",
            "  inflating: dataset/train/labels/box_97_jpg.rf.78eb66177bb792ba9fddfadbeb0e1ada.txt  \n",
            "  inflating: dataset/train/labels/box_97_jpg.rf.86a5b5e5af19fc08aaf4707b261a4e1c.txt  \n",
            "  inflating: dataset/train/labels/box_97_jpg.rf.d4e587d9ea1ebef95b76062de417845c.txt  \n",
            "  inflating: dataset/train/labels/box_98_jpg.rf.66c7f4806b1f3254bb5109bf94620de8.txt  \n",
            "  inflating: dataset/train/labels/box_98_jpg.rf.73571fbdb85661543abc15d2e7a4f627.txt  \n",
            "  inflating: dataset/train/labels/box_98_jpg.rf.86ee31dcf3ac03f57d7047f946de4379.txt  \n",
            "  inflating: dataset/train/labels/box_98_jpg.rf.883136c5b0ae5995efc9ea05bd2fee30.txt  \n",
            "  inflating: dataset/train/labels/box_98_jpg.rf.939063715f4af5809e47cd80afda4e55.txt  \n",
            "  inflating: dataset/train/labels/box_98_jpg.rf.a33208e54e7c4bfb6470f5316178509f.txt  \n",
            "  inflating: dataset/train/labels/box_98_jpg.rf.c7c20b946b63ce8a5cfd6bd8ae72af8e.txt  \n",
            "  inflating: dataset/train/labels/box_98_jpg.rf.f0e558817c6282a183719c18e843ca17.txt  \n",
            "  inflating: dataset/train/labels/box_99_jpg.rf.1eb8f9166339b0622ee5cb43f92b2458.txt  \n",
            "  inflating: dataset/train/labels/box_99_jpg.rf.214dd7c076a03e31998c65b28b2aced0.txt  \n",
            "  inflating: dataset/train/labels/box_99_jpg.rf.2a7fc139d7612f0904a3379f79ddcb59.txt  \n",
            "  inflating: dataset/train/labels/box_99_jpg.rf.4349137f2708e0d7013c907fb451c514.txt  \n",
            "  inflating: dataset/train/labels/box_99_jpg.rf.48f0b15e502fd0dcab5e36ce4593d258.txt  \n",
            "  inflating: dataset/train/labels/box_99_jpg.rf.6dc12e86b8e0134419da903bca7f6981.txt  \n",
            "  inflating: dataset/train/labels/box_99_jpg.rf.88c0cedf722b10913fb17413fae601eb.txt  \n",
            "  inflating: dataset/train/labels/box_99_jpg.rf.b8a701dfe9dc7e2d3537551730c51b1c.txt  \n",
            "  inflating: dataset/train/labels/box_99_jpg.rf.ce07122a7e23208f9b83321cb8e207d3.txt  \n",
            "  inflating: dataset/train/labels/box_99_jpg.rf.d82301ee12ee6f90fb844188a02108a5.txt  \n",
            "  inflating: dataset/train/labels/box_99_jpg.rf.d84be0ca0e28ca19e92ce808ba1004b6.txt  \n",
            "  inflating: dataset/train/labels/test01_jpg.rf.0bc76fd8e97d3da34d16ee11d8179e18.txt  \n",
            "  inflating: dataset/train/labels/test01_jpg.rf.175f774e092a59b6c73df136e75134bb.txt  \n",
            "  inflating: dataset/train/labels/test01_jpg.rf.2aac4f5ae40cc68c5c46773b71f9c41b.txt  \n",
            "  inflating: dataset/train/labels/test01_jpg.rf.334716bd79aaf78afc57663338e79eda.txt  \n",
            "  inflating: dataset/train/labels/test01_jpg.rf.355453630c87ea7c728ee07547f645b3.txt  \n",
            "  inflating: dataset/train/labels/test01_jpg.rf.3dfc1b749d2f7fb409e5566bfe21a148.txt  \n",
            "  inflating: dataset/train/labels/test01_jpg.rf.3f28a1cff670e1863b8bdaef5e20db81.txt  \n",
            "  inflating: dataset/train/labels/test01_jpg.rf.417bcccea617b47531b9c53432fe5b5a.txt  \n",
            "  inflating: dataset/train/labels/test01_jpg.rf.45d7c42d7dd7dac527475adac9c8e242.txt  \n",
            "  inflating: dataset/train/labels/test01_jpg.rf.5537f6173ff107e4f39438b1f09c5ebc.txt  \n",
            "  inflating: dataset/train/labels/test01_jpg.rf.5dc46311f8b9496a1fedb7029a1a432d.txt  \n",
            "  inflating: dataset/train/labels/test01_jpg.rf.6dcde088387ec08ff6121460956664b1.txt  \n",
            "  inflating: dataset/train/labels/test01_jpg.rf.6fa3bfd9664c5f1daa761666c57e2ba6.txt  \n",
            "  inflating: dataset/train/labels/test01_jpg.rf.78b14a40aab455fae974dee224d0d80c.txt  \n",
            "  inflating: dataset/train/labels/test01_jpg.rf.7d7242664ec6105ada0d6cbcc8453253.txt  \n",
            "  inflating: dataset/train/labels/test01_jpg.rf.88068ee234f52e36571bdb67fd60574d.txt  \n",
            "  inflating: dataset/train/labels/test01_jpg.rf.92f4a29afa05968a7b1fc9f5a4726e36.txt  \n",
            "  inflating: dataset/train/labels/test01_jpg.rf.94dade8e6f24c467b69062049f74b3e9.txt  \n",
            "  inflating: dataset/train/labels/test01_jpg.rf.95567b4264c364d34bf4077d7c5d834b.txt  \n",
            "  inflating: dataset/train/labels/test01_jpg.rf.a73e18098dc9f4176802a98cd9856f96.txt  \n",
            "  inflating: dataset/train/labels/test01_jpg.rf.a9fc31e0548a4cf2bff5329baea862d8.txt  \n",
            "  inflating: dataset/train/labels/test01_jpg.rf.c2a897a4e3e779284a8f81fb769508b7.txt  \n",
            "  inflating: dataset/train/labels/test01_jpg.rf.c322e8b91c1882f290e36a28438f4cce.txt  \n",
            "  inflating: dataset/train/labels/test01_jpg.rf.d0ea4c2653a2dc338972098789915c2b.txt  \n",
            "  inflating: dataset/train/labels/test01_jpg.rf.d10516d9a99a59f04dd751683a1971c8.txt  \n",
            "  inflating: dataset/train/labels/test01_jpg.rf.dae68cc773f68f50dbcbb510d025f54d.txt  \n",
            "  inflating: dataset/train/labels/test01_jpg.rf.dc83c72c6374bf3ec648afe85c0f9cfe.txt  \n",
            "  inflating: dataset/train/labels/test01_jpg.rf.dcdc24eee4cd69953ca022cbd30d971c.txt  \n",
            "  inflating: dataset/train/labels/test01_jpg.rf.ea27cd5b21596d42b1ffc31aaf5ce8d6.txt  \n",
            "  inflating: dataset/train/labels/test01_jpg.rf.f1d17643b9fcb57a1473fd7a0c6bf8dc.txt  \n",
            "  inflating: dataset/train/labels/test01_jpg.rf.f83365d95c9e1247bc585eb89ba5370e.txt  \n",
            "  inflating: dataset/train/labels/test01_jpg.rf.fe6d976e69e1d6be97ffb9cce7085c37.txt  \n",
            "  inflating: dataset/train/labels/test02_jpg.rf.185821fd39cf1d5bc046f8c332636913.txt  \n",
            "  inflating: dataset/train/labels/test02_jpg.rf.1a13b59e8d49e1b6033bfe0a4917c00d.txt  \n",
            "  inflating: dataset/train/labels/test02_jpg.rf.1a781a04eea3f6bd3da879715a37af29.txt  \n",
            "  inflating: dataset/train/labels/test02_jpg.rf.2928fa6a1258b0555186c78851026753.txt  \n",
            "  inflating: dataset/train/labels/test02_jpg.rf.2eef0afd19930fe19a5b6a7c13a4599c.txt  \n",
            "  inflating: dataset/train/labels/test02_jpg.rf.3396c8ad475bc49d82243077d501ca32.txt  \n",
            "  inflating: dataset/train/labels/test02_jpg.rf.465a290568c5694e3246929464c37efc.txt  \n",
            "  inflating: dataset/train/labels/test02_jpg.rf.5340e41f4a7174c3afa4380845b38e22.txt  \n",
            "  inflating: dataset/train/labels/test02_jpg.rf.555b3da29ccff788361ada98a6e615e2.txt  \n",
            "  inflating: dataset/train/labels/test02_jpg.rf.564bd5f7c7c7e6a32042fc0ad5afd4c7.txt  \n",
            "  inflating: dataset/train/labels/test02_jpg.rf.5ae7ee7e3b6963086e5f6302fcb2a0d1.txt  \n",
            "  inflating: dataset/train/labels/test02_jpg.rf.5bc8715c3df1fd8248045b15e9aee009.txt  \n",
            "  inflating: dataset/train/labels/test02_jpg.rf.7c491ed9c0b6a558f9d440122050efe0.txt  \n",
            "  inflating: dataset/train/labels/test02_jpg.rf.976b9f9a293e20d2b9712dc04dadf2fd.txt  \n",
            "  inflating: dataset/train/labels/test02_jpg.rf.996b1f0f39c79f9d3ecc9555d8a992f1.txt  \n",
            "  inflating: dataset/train/labels/test02_jpg.rf.9a553372de3c48538cb7b24295c6d389.txt  \n",
            "  inflating: dataset/train/labels/test02_jpg.rf.9e715b010f9f978ac867ab954dd41477.txt  \n",
            "  inflating: dataset/train/labels/test02_jpg.rf.9e8deadcd76e2bcb427b8e1ec3bcb4ac.txt  \n",
            "  inflating: dataset/train/labels/test02_jpg.rf.ac6723aff6e102658ec0210fbeea024f.txt  \n",
            "  inflating: dataset/train/labels/test02_jpg.rf.b302380aa63876d027e8ee494f6d7544.txt  \n",
            "  inflating: dataset/train/labels/test02_jpg.rf.bb7076b5afec336345892094bcc283dc.txt  \n",
            "  inflating: dataset/train/labels/test02_jpg.rf.bdbb4763ad5c19c7bce025866e9ff7ad.txt  \n",
            "  inflating: dataset/train/labels/test02_jpg.rf.f8ea4ee575feae44b81651e9e3e8a513.txt  \n",
            "  inflating: dataset/train/labels/test02_jpg.rf.fae9a1fb41933340eb10639ac1d800d7.txt  \n",
            "  inflating: dataset/train/labels/test03_jpg.rf.167ca05b8d1955f7a527226aaeaed8a8.txt  \n",
            "  inflating: dataset/train/labels/test03_jpg.rf.19d14f439525ec2d45e4d04c0999700e.txt  \n",
            "  inflating: dataset/train/labels/test03_jpg.rf.291a9c971a833adb00d84136bbaf0388.txt  \n",
            "  inflating: dataset/train/labels/test03_jpg.rf.4389e75e4325090764e57abb73586a13.txt  \n",
            "  inflating: dataset/train/labels/test03_jpg.rf.4da57a93aafe523a7191f6f36eee3313.txt  \n",
            "  inflating: dataset/train/labels/test03_jpg.rf.55b86bc236876d18d07217eeef33f360.txt  \n",
            "  inflating: dataset/train/labels/test03_jpg.rf.5bb07673bd7c8d61bc1593e75a0a2b70.txt  \n",
            "  inflating: dataset/train/labels/test03_jpg.rf.773a6e3516c1c1dfe8e5fc174bbb3e2f.txt  \n",
            "  inflating: dataset/train/labels/test03_jpg.rf.8169d453244ac3e58de29f9692ecea70.txt  \n",
            "  inflating: dataset/train/labels/test03_jpg.rf.be04e48f7105dd0760dcc4812ef41475.txt  \n",
            "  inflating: dataset/train/labels/test03_jpg.rf.df7de4338d7d3a784f9d3c4a3d78ca86.txt  \n",
            "  inflating: dataset/train/labels/test03_jpg.rf.e44b1f0531d8ee4b9885b93929ac091a.txt  \n",
            "  inflating: dataset/train/labels/test03_jpg.rf.e9c0a6ab416a0368ad4024660de91d36.txt  \n",
            "  inflating: dataset/train/labels/test03_jpg.rf.f05699592432d3a7423bfd2a2369a7cc.txt  \n",
            "  inflating: dataset/train/labels/test03_jpg.rf.f3b88849ea520fb97baee3bc76bed934.txt  \n",
            "  inflating: dataset/train/labels/test03_jpg.rf.f65612759ca6208d7ce66d8c0d935807.txt  \n",
            "   creating: dataset/valid/\n",
            "   creating: dataset/valid/images/\n",
            " extracting: dataset/valid/images/Image1_jpg.rf.5a929af728ed165506e5deba5ec293f2.jpg  \n",
            " extracting: dataset/valid/images/Image1_jpg.rf.6797b819ebc9d88739f8b1be78b899f3.jpg  \n",
            " extracting: dataset/valid/images/Image1_jpg.rf.877c961b3acaefbba43eddfeaf8bdeb1.jpg  \n",
            " extracting: dataset/valid/images/Image1_jpg.rf.89834d9804587b8ca70ce079fb1099f3.jpg  \n",
            " extracting: dataset/valid/images/Image1_jpg.rf.90e57ea43547fcf3eda1b8000b227af1.jpg  \n",
            " extracting: dataset/valid/images/Image1_jpg.rf.96b9a4ba7c55e2c95018e8b40c17ae88.jpg  \n",
            " extracting: dataset/valid/images/Image1_jpg.rf.adcd4478ba1887d2730ed0f658325f74.jpg  \n",
            " extracting: dataset/valid/images/Image1_jpg.rf.bfa1b4be76856f374f60b99420841ac2.jpg  \n",
            " extracting: dataset/valid/images/Image1_jpg.rf.df011a2ae97de713848c40c1393ad06c.jpg  \n",
            " extracting: dataset/valid/images/Image1_jpg.rf.dfed1cc1547fe1a4acc61d8caa31b724.jpg  \n",
            " extracting: dataset/valid/images/Image1_jpg.rf.e1a907eb0ffc954007c7146b607a0ea7.jpg  \n",
            " extracting: dataset/valid/images/Image1_jpg.rf.e32cf178eb01caac0696af7593e89a07.jpg  \n",
            " extracting: dataset/valid/images/Image1_jpg.rf.e9d082b21ce12ac08ce0689ca3432d5d.jpg  \n",
            " extracting: dataset/valid/images/Image1_jpg.rf.fef8d76c5ab79c95b402ab5e04e9c32b.jpg  \n",
            " extracting: dataset/valid/images/Image2_jpg.rf.03ba72efac4dcd3de6c281ecadc2235d.jpg  \n",
            " extracting: dataset/valid/images/Image2_jpg.rf.0882d9ff65b83d01ebd99f1284a5ffdf.jpg  \n",
            " extracting: dataset/valid/images/Image2_jpg.rf.1db9eee91c6aa1dc5ae4f5581810afcf.jpg  \n",
            " extracting: dataset/valid/images/Image2_jpg.rf.2d40c789966e8567fed439197639698b.jpg  \n",
            " extracting: dataset/valid/images/Image2_jpg.rf.68786036386baea59d8f0cf1d8d94e01.jpg  \n",
            " extracting: dataset/valid/images/Image2_jpg.rf.8e7a72fedc56f55887cb4a1de8cc9372.jpg  \n",
            " extracting: dataset/valid/images/Image2_jpg.rf.8f073ec5a41305c14c1c5b9fdbd2a208.jpg  \n",
            " extracting: dataset/valid/images/Image2_jpg.rf.95aa5b9f411c4cc5a9b6d81fcdf2ba7c.jpg  \n",
            " extracting: dataset/valid/images/Image2_jpg.rf.d21659605b252e233d283663b6296ca2.jpg  \n",
            " extracting: dataset/valid/images/Image2_jpg.rf.ddd896dc3259d2ac731b3b7a3b13bd07.jpg  \n",
            " extracting: dataset/valid/images/Image2_jpg.rf.e207d2243ad6a2628ad517af22582bc0.jpg  \n",
            " extracting: dataset/valid/images/Image2_jpg.rf.ebd2aa38ba9f8f3bed6fea9baaf139d3.jpg  \n",
            " extracting: dataset/valid/images/Image2_jpg.rf.ed3857e1b792498ee76c8059b0be62a4.jpg  \n",
            " extracting: dataset/valid/images/Image2_jpg.rf.f40e82d3ba96b0298c7fc28c36891f40.jpg  \n",
            " extracting: dataset/valid/images/Image2_jpg.rf.f463ecdb4b21523d719f8ed38dae91d1.jpg  \n",
            " extracting: dataset/valid/images/Image3_jpg.rf.0bf61db3041e7edcdd04ad087df4d27f.jpg  \n",
            " extracting: dataset/valid/images/Image3_jpg.rf.142e1eac911fb07a7c894ed7758aecb3.jpg  \n",
            " extracting: dataset/valid/images/Image3_jpg.rf.3d95ff288cfa39866e46ab9729341b6e.jpg  \n",
            " extracting: dataset/valid/images/Image3_jpg.rf.661e3a1b80447426824735fc070174e2.jpg  \n",
            " extracting: dataset/valid/images/Image3_jpg.rf.7a03eb13f79944f45ec133df912012ae.jpg  \n",
            " extracting: dataset/valid/images/Image3_jpg.rf.89c5aa4127a986b47f675ee43cf8afaf.jpg  \n",
            " extracting: dataset/valid/images/Image3_jpg.rf.912e74dc5d3772ebfb1bc47f57a446e1.jpg  \n",
            " extracting: dataset/valid/images/Image3_jpg.rf.9639f582db46e180f5a2e56369c67447.jpg  \n",
            " extracting: dataset/valid/images/Image3_jpg.rf.a8f647492ed42387e6beb3b22830e0da.jpg  \n",
            " extracting: dataset/valid/images/Image3_jpg.rf.c0c7939e8788a3413cadb192dd0f3bb0.jpg  \n",
            " extracting: dataset/valid/images/Image3_jpg.rf.c2305072624cc788a41fb2395f26afdb.jpg  \n",
            " extracting: dataset/valid/images/Image3_jpg.rf.c641a2eb7154621d42e5840e92560aed.jpg  \n",
            " extracting: dataset/valid/images/Image3_jpg.rf.c8aaa6d012c5d467b621b191c91355b1.jpg  \n",
            " extracting: dataset/valid/images/Image3_jpg.rf.c8b0c6c8501f760c919f873d9eeaa130.jpg  \n",
            " extracting: dataset/valid/images/Image3_jpg.rf.d1be611a1b25a9a35ad7349130e0ae32.jpg  \n",
            " extracting: dataset/valid/images/Image3_jpg.rf.f0e6747b6807a57a8562bfad4ee904a7.jpg  \n",
            " extracting: dataset/valid/images/Image4_jpg.rf.05eeff1f705e127940829bb05d803334.jpg  \n",
            " extracting: dataset/valid/images/Image4_jpg.rf.16544ac75ed667fc40ad2bff5b29404b.jpg  \n",
            " extracting: dataset/valid/images/Image4_jpg.rf.229b8cc6b773e248b97d3b5cefc32d45.jpg  \n",
            " extracting: dataset/valid/images/Image4_jpg.rf.33083dc8aacd5877e5a5e4a7533c9d3d.jpg  \n",
            " extracting: dataset/valid/images/Image4_jpg.rf.3748751b2dd4a2bd56a1a20504854c59.jpg  \n",
            " extracting: dataset/valid/images/Image4_jpg.rf.5a2db2051243ed64799edb028735667d.jpg  \n",
            " extracting: dataset/valid/images/Image4_jpg.rf.d4168c084359a0c2d6d6f04652890f95.jpg  \n",
            " extracting: dataset/valid/images/Image4_jpg.rf.da657fbeb44244df32ffaf6bc4b299e4.jpg  \n",
            " extracting: dataset/valid/images/Image4_jpg.rf.f7cd4dd8dc09c183e2f10a6ceb687c64.jpg  \n",
            " extracting: dataset/valid/images/Image4_jpg.rf.ff19fc8533edc1fd29e0fe2b35df49ec.jpg  \n",
            " extracting: dataset/valid/images/Image5_jpg.rf.00e67cd6b8cec9a262a8edb2007572a4.jpg  \n",
            " extracting: dataset/valid/images/Image5_jpg.rf.1c03e851818f971fcabf6b403ca2f197.jpg  \n",
            " extracting: dataset/valid/images/Image5_jpg.rf.27b372a83a15e801946f904ff6a01336.jpg  \n",
            " extracting: dataset/valid/images/Image5_jpg.rf.3bee33315a9674a9f83d6f3668c8c385.jpg  \n",
            " extracting: dataset/valid/images/Image5_jpg.rf.55d1508dbca80240f23443e497b948f5.jpg  \n",
            " extracting: dataset/valid/images/Image5_jpg.rf.63fa63330f9f55f543ced00ef558390c.jpg  \n",
            " extracting: dataset/valid/images/Image5_jpg.rf.651052180b242db1540bc06eacdda9e2.jpg  \n",
            " extracting: dataset/valid/images/Image5_jpg.rf.92dc139650a598b875697b6ecfe6db10.jpg  \n",
            " extracting: dataset/valid/images/Image5_jpg.rf.a1c5137a44dbbb0010da1b253c0abb07.jpg  \n",
            " extracting: dataset/valid/images/Image5_jpg.rf.aaac4da61ce741a65b712e224015bec8.jpg  \n",
            " extracting: dataset/valid/images/Image5_jpg.rf.dcbd4023292899361e565f0ef1f452a0.jpg  \n",
            " extracting: dataset/valid/images/Image5_jpg.rf.dd0d398657637d0941900dc3a3f5f3db.jpg  \n",
            " extracting: dataset/valid/images/Image5_jpg.rf.f52b5b67129e380dc3e8bc1b77073ed6.jpg  \n",
            " extracting: dataset/valid/images/Image6R_jpg.rf.0b982cff621ac9a4215926a5db3966aa.jpg  \n",
            " extracting: dataset/valid/images/Image6R_jpg.rf.114c9928023c7b153514d5624c1484de.jpg  \n",
            " extracting: dataset/valid/images/Image6R_jpg.rf.1f010d2070205dec7c45166e6818b912.jpg  \n",
            " extracting: dataset/valid/images/Image6R_jpg.rf.33b8d69d787d282535ba6161107a2f08.jpg  \n",
            " extracting: dataset/valid/images/Image6R_jpg.rf.714bab648e72c5a36c707a2b7e7bcd1e.jpg  \n",
            " extracting: dataset/valid/images/Image6R_jpg.rf.72dea9be25d35a33259c08aa762707ae.jpg  \n",
            " extracting: dataset/valid/images/Image6R_jpg.rf.78bb5c50a7a532b9ce9a601069189687.jpg  \n",
            " extracting: dataset/valid/images/Image6R_jpg.rf.ac03cbe45b0248e20c789a26aa94d46d.jpg  \n",
            " extracting: dataset/valid/images/Image6R_jpg.rf.ba986c66781d67661f4383ab57d2b494.jpg  \n",
            " extracting: dataset/valid/images/Image6R_jpg.rf.f27542d0432ea8fa5814f9e28f517bbb.jpg  \n",
            " extracting: dataset/valid/images/Image6R_jpg.rf.f6d562b4b1981885f56223bd50a5922b.jpg  \n",
            " extracting: dataset/valid/images/Image6R_jpg.rf.f9a8ed2cb5c435f3a667ccda7f8a70d4.jpg  \n",
            " extracting: dataset/valid/images/Image6_jpg.rf.3312598f40445d9d259a9651eef232bd.jpg  \n",
            " extracting: dataset/valid/images/Image6_jpg.rf.4167e76e9977d65808c0189043ad2bff.jpg  \n",
            " extracting: dataset/valid/images/Image6_jpg.rf.4df5288f87ce2081dfaa183c3e2b45e8.jpg  \n",
            " extracting: dataset/valid/images/Image6_jpg.rf.6047a4872af4139bbf425d8ed4e14092.jpg  \n",
            " extracting: dataset/valid/images/Image6_jpg.rf.73e9bbdaef8ae5aeaeed4a597d88def2.jpg  \n",
            " extracting: dataset/valid/images/Image6_jpg.rf.762efb3a9e3f6d0a14960c569e0ea93f.jpg  \n",
            " extracting: dataset/valid/images/Image6_jpg.rf.8f8c4572e9fb8de06545a761fe9e5a3d.jpg  \n",
            " extracting: dataset/valid/images/Image6_jpg.rf.baf206029a9050c94665848eda7e2455.jpg  \n",
            " extracting: dataset/valid/images/Image6_jpg.rf.c236ab393a099e1c8268516096f07d2e.jpg  \n",
            " extracting: dataset/valid/images/Image6_jpg.rf.e0b2d4b93d6b5857c832a2b65ea79ac2.jpg  \n",
            " extracting: dataset/valid/images/Image6_jpg.rf.ed8ab63e8c87a75822c8493754edc69f.jpg  \n",
            " extracting: dataset/valid/images/box_100_jpg.rf.55ffa48eb9c1d580664540ad59afce37.jpg  \n",
            " extracting: dataset/valid/images/box_101_jpg.rf.b1ca32172369bbc7fe55b21fe69d47b9.jpg  \n",
            " extracting: dataset/valid/images/box_102_jpg.rf.06fa7c6f8db54d581e88fce3989c3fe4.jpg  \n",
            " extracting: dataset/valid/images/box_102_jpg.rf.1232cb2b04a8450706267d3dca40fe14.jpg  \n",
            " extracting: dataset/valid/images/box_102_jpg.rf.1b80ebbf3a5235d70a6152280cb524a3.jpg  \n",
            " extracting: dataset/valid/images/box_102_jpg.rf.5f8e8cd5026489b8d89e58512be9cf2a.jpg  \n",
            " extracting: dataset/valid/images/box_102_jpg.rf.bc1260ef29a8ba6fefde464597ea24a6.jpg  \n",
            " extracting: dataset/valid/images/box_102_jpg.rf.cf599aa6c6d0d1e52bd0c17fa9134e51.jpg  \n",
            " extracting: dataset/valid/images/box_102_jpg.rf.f253ecce3f7220f83e9cac23df4b83f6.jpg  \n",
            " extracting: dataset/valid/images/box_103_jpg.rf.1aa95a7479f24b34d0bd67963505aa46.jpg  \n",
            " extracting: dataset/valid/images/box_103_jpg.rf.617e7ce24e653703909239fc7def87f4.jpg  \n",
            " extracting: dataset/valid/images/box_103_jpg.rf.859cafa4519ab1ff69502f9c8f6b0c36.jpg  \n",
            " extracting: dataset/valid/images/box_103_jpg.rf.c8e0dd193001e35488cfc6759fad41dc.jpg  \n",
            " extracting: dataset/valid/images/box_104_jpg.rf.0fb7b1b94327960eaa596d16dbba35f2.jpg  \n",
            " extracting: dataset/valid/images/box_104_jpg.rf.4e1b18ccde4462a721eba69dd04526b0.jpg  \n",
            " extracting: dataset/valid/images/box_104_jpg.rf.5e1a89f2fe0d0659ceb79db882b00ffd.jpg  \n",
            " extracting: dataset/valid/images/box_104_jpg.rf.b0897268a5b21d4f2f14457164d1b127.jpg  \n",
            " extracting: dataset/valid/images/box_105_jpg.rf.4267273e501154b5114b8eff66d8b5e9.jpg  \n",
            " extracting: dataset/valid/images/box_105_jpg.rf.5f4ef1001c5e1442c39c44b477b4528d.jpg  \n",
            " extracting: dataset/valid/images/box_105_jpg.rf.84ca8b4bcf1fc9f4e2c2097f65bae6f7.jpg  \n",
            " extracting: dataset/valid/images/box_105_jpg.rf.90dde3e68e117092ef3372f9fa2f9698.jpg  \n",
            " extracting: dataset/valid/images/box_105_jpg.rf.b1def1448a8c6b7fd2883949e8735e17.jpg  \n",
            " extracting: dataset/valid/images/box_105_jpg.rf.cda9194b331c2ae0f5516b9494bc8b79.jpg  \n",
            " extracting: dataset/valid/images/box_105_jpg.rf.d11a49bf0118e1f717ced1b92e9e5740.jpg  \n",
            " extracting: dataset/valid/images/box_105_jpg.rf.dc33c8758b4dce61573a963ca9e8ef93.jpg  \n",
            " extracting: dataset/valid/images/box_106_jpg.rf.14a52a9b2e61ba2277cf16bd2804e211.jpg  \n",
            " extracting: dataset/valid/images/box_106_jpg.rf.548cf2c55fa48aadb2362a955b3ea7d6.jpg  \n",
            " extracting: dataset/valid/images/box_106_jpg.rf.8cf2d40acec7e19651dd4b68c7ba5c63.jpg  \n",
            " extracting: dataset/valid/images/box_106_jpg.rf.ad7ee45f3297d4958cac36d8ce46a7fc.jpg  \n",
            " extracting: dataset/valid/images/box_106_jpg.rf.b5eb93bc37471a565dc20d75c0621bad.jpg  \n",
            " extracting: dataset/valid/images/box_106_jpg.rf.cc66460b9baf1eb3d976a32e15badac3.jpg  \n",
            " extracting: dataset/valid/images/box_106_jpg.rf.d327274422f65405323e0d94d67569dc.jpg  \n",
            " extracting: dataset/valid/images/box_107_jpg.rf.03a2fccd7ea6a8893a3ace67de2ac2f4.jpg  \n",
            " extracting: dataset/valid/images/box_107_jpg.rf.15d2d7f75c7f64bf3c6b32b2da2eff21.jpg  \n",
            " extracting: dataset/valid/images/box_107_jpg.rf.19f430e717f3c285e5abcc011c280d66.jpg  \n",
            " extracting: dataset/valid/images/box_107_jpg.rf.9ba6d81c501eb354b122c4aa4108cca7.jpg  \n",
            " extracting: dataset/valid/images/box_107_jpg.rf.a92b6ee71ded6dfea6243f6191763d9c.jpg  \n",
            " extracting: dataset/valid/images/box_107_jpg.rf.f200857c425f827ac04132125930aab0.jpg  \n",
            " extracting: dataset/valid/images/box_108_jpg.rf.3b3039c297a67e0dffada03d1759d1c0.jpg  \n",
            " extracting: dataset/valid/images/box_108_jpg.rf.3e75fe804ce20158d44e063c83fd4fe3.jpg  \n",
            " extracting: dataset/valid/images/box_108_jpg.rf.7653245fced3ddca81246fe241831cad.jpg  \n",
            " extracting: dataset/valid/images/box_108_jpg.rf.7b2c1d9b98f90f04e5dec55c035f76e6.jpg  \n",
            " extracting: dataset/valid/images/box_108_jpg.rf.b4577c0aa537e10be2a119d67218f402.jpg  \n",
            " extracting: dataset/valid/images/box_108_jpg.rf.c92cc5e5ba1d0d5818deba2f75958f19.jpg  \n",
            " extracting: dataset/valid/images/box_108_jpg.rf.cb9475ff7d60dbd65960ea756451bf3f.jpg  \n",
            " extracting: dataset/valid/images/box_108_jpg.rf.d656bdabe0febdbeb8ee1ec8a0b73a3d.jpg  \n",
            " extracting: dataset/valid/images/box_109_jpg.rf.2c6a1eca123c99b42eb5e1d105bdc538.jpg  \n",
            " extracting: dataset/valid/images/box_109_jpg.rf.934621e920bb79a6cd0ac8df888104b1.jpg  \n",
            " extracting: dataset/valid/images/box_109_jpg.rf.a0193cddb4383a3f1ae53b1d75a687b1.jpg  \n",
            " extracting: dataset/valid/images/box_109_jpg.rf.aed13a83c65f095cb57523fc07ab7ce4.jpg  \n",
            " extracting: dataset/valid/images/box_109_jpg.rf.b96836ca485caae5b64df1afae43aac5.jpg  \n",
            " extracting: dataset/valid/images/box_109_jpg.rf.d6a4d223f6066f4e9e3178aab85d899e.jpg  \n",
            " extracting: dataset/valid/images/box_109_jpg.rf.f3142b36f3b6c0c0180f081e63e8eb2d.jpg  \n",
            " extracting: dataset/valid/images/box_110_jpg.rf.0dc6cb9dcaa325d0f905ce43a0fbdd11.jpg  \n",
            " extracting: dataset/valid/images/box_110_jpg.rf.46c16f7491a1930768db05b2c3321963.jpg  \n",
            " extracting: dataset/valid/images/box_110_jpg.rf.7f5dfd5c4e2a442d01851e7694e6099c.jpg  \n",
            " extracting: dataset/valid/images/box_110_jpg.rf.81e7d478b86b5df6af30f0802e9b19d7.jpg  \n",
            " extracting: dataset/valid/images/box_110_jpg.rf.b876a4b3d7de161781eb649b3ac7876f.jpg  \n",
            " extracting: dataset/valid/images/box_110_jpg.rf.f6e76931e8c47d5d5959fc31044c30d8.jpg  \n",
            " extracting: dataset/valid/images/box_111_jpg.rf.0211531f82e5180b007cc853cee841df.jpg  \n",
            " extracting: dataset/valid/images/box_111_jpg.rf.9a45259fff8f9252c70e4f7c70ab4afc.jpg  \n",
            " extracting: dataset/valid/images/box_112_jpg.rf.830dc3eb7ddb7cc393aa007fbba52574.jpg  \n",
            " extracting: dataset/valid/images/box_112_jpg.rf.8882bd8dee9908f4f52d28b2c7c8b32f.jpg  \n",
            " extracting: dataset/valid/images/box_112_jpg.rf.8c19c0866341e26e2eeec430fd53aa63.jpg  \n",
            " extracting: dataset/valid/images/box_113_jpg.rf.2b51d4f37fbf08d7479e309bf013cc7a.jpg  \n",
            " extracting: dataset/valid/images/box_113_jpg.rf.55d4e2d572ccbcc424d879112cf5d79b.jpg  \n",
            " extracting: dataset/valid/images/box_113_jpg.rf.a1f7c5ab74c8ca8c8af526bedfa25771.jpg  \n",
            " extracting: dataset/valid/images/box_113_jpg.rf.d23e1d73c9e228d3713ada12d16da2ab.jpg  \n",
            " extracting: dataset/valid/images/box_113_jpg.rf.e15f75d2c9720706415bfa285398f2c7.jpg  \n",
            " extracting: dataset/valid/images/box_114_jpg.rf.32110f78e4ab8a7a42a06b844e398b21.jpg  \n",
            " extracting: dataset/valid/images/box_114_jpg.rf.428dca8086219f2b65a031f375762ecd.jpg  \n",
            " extracting: dataset/valid/images/box_114_jpg.rf.719391d99d5fb5acfd0d0f086f5672d6.jpg  \n",
            " extracting: dataset/valid/images/box_114_jpg.rf.ae28e9a28d124723513527e2551540bd.jpg  \n",
            " extracting: dataset/valid/images/box_114_jpg.rf.e9c44a2751362c27312e9c3465c8f35f.jpg  \n",
            " extracting: dataset/valid/images/box_114_jpg.rf.f629efa4668766047edf04b29f9b1cbf.jpg  \n",
            " extracting: dataset/valid/images/box_115_jpg.rf.193ab28ea99df0d613e4e489ea60aa9a.jpg  \n",
            " extracting: dataset/valid/images/box_115_jpg.rf.4d52c6fd62a1fda123664e246922bf88.jpg  \n",
            " extracting: dataset/valid/images/box_116_jpg.rf.0a50b735c8c0967b6dbe05454d32a4e0.jpg  \n",
            " extracting: dataset/valid/images/box_116_jpg.rf.15f61d2640a85bf5eb16143ba0e3a374.jpg  \n",
            " extracting: dataset/valid/images/box_116_jpg.rf.287f213d21886ba9a5549543ecf5667c.jpg  \n",
            " extracting: dataset/valid/images/box_116_jpg.rf.8350ccb599a852c3142568fa68bcdb3b.jpg  \n",
            " extracting: dataset/valid/images/box_116_jpg.rf.a86389a9beab191cb4061d0ede63036c.jpg  \n",
            " extracting: dataset/valid/images/box_116_jpg.rf.d6dd9f1505bbfa5246238643ed750a95.jpg  \n",
            " extracting: dataset/valid/images/box_116_jpg.rf.d784d82ce2ab5f145e93a61754e2010d.jpg  \n",
            " extracting: dataset/valid/images/box_117_jpg.rf.d85b23912b5259794c7c843eb986ae99.jpg  \n",
            " extracting: dataset/valid/images/box_118_jpg.rf.588c7b40fddde949940bbdba383da9cd.jpg  \n",
            " extracting: dataset/valid/images/box_118_jpg.rf.69035d59115f646460065ed127bef8a0.jpg  \n",
            " extracting: dataset/valid/images/box_118_jpg.rf.b6ac709725117a60f7559a374be249d1.jpg  \n",
            " extracting: dataset/valid/images/box_119_jpg.rf.8b00103147609f7e0a11fa661781578b.jpg  \n",
            " extracting: dataset/valid/images/box_119_jpg.rf.bb8b32c373bc86c9d65e21c8ca54ea52.jpg  \n",
            " extracting: dataset/valid/images/box_119_jpg.rf.cc337bef5cb7061ffeaee697cf018c97.jpg  \n",
            " extracting: dataset/valid/images/box_120_jpg.rf.5cbea31d2f1153a07e91015b95095caf.jpg  \n",
            " extracting: dataset/valid/images/box_120_jpg.rf.b0b3c9fa7a5f34b5db86cff495cc4d9d.jpg  \n",
            " extracting: dataset/valid/images/box_121_jpg.rf.1221ea470f7e98b989b93806f421a047.jpg  \n",
            " extracting: dataset/valid/images/box_121_jpg.rf.6e1468d3a8cf81e428ffc55a39426e38.jpg  \n",
            " extracting: dataset/valid/images/box_121_jpg.rf.8e9cec5f7b71fa3fd1c0843ecd26aaa3.jpg  \n",
            " extracting: dataset/valid/images/box_122_jpg.rf.002d51aefdfbdf3283eb31796b02a22e.jpg  \n",
            " extracting: dataset/valid/images/box_122_jpg.rf.7a565c162cbb951692757f277b8f12ca.jpg  \n",
            " extracting: dataset/valid/images/box_122_jpg.rf.7edb7457700ab9cbea6dea3c36aacd31.jpg  \n",
            " extracting: dataset/valid/images/box_122_jpg.rf.8fe2a358288d30ea5d0d9262482f58e0.jpg  \n",
            " extracting: dataset/valid/images/box_122_jpg.rf.ec6625ef1a8b4f578afc62eebf9a54d2.jpg  \n",
            " extracting: dataset/valid/images/box_122_jpg.rf.ee4fe75aaba9e5ab968a1126a7007aa4.jpg  \n",
            " extracting: dataset/valid/images/box_123_jpg.rf.0a4da6852254be83a4c440d74c88967d.jpg  \n",
            " extracting: dataset/valid/images/box_123_jpg.rf.23a09f79f526e69b8b00fe83a4e63673.jpg  \n",
            " extracting: dataset/valid/images/box_123_jpg.rf.6814dfaf4d1a26e7a203760c7320e73b.jpg  \n",
            " extracting: dataset/valid/images/box_123_jpg.rf.689d662f53979a0be750b4f01085e220.jpg  \n",
            " extracting: dataset/valid/images/box_123_jpg.rf.dd60a1c906f19e8bad4dcf604aff84d9.jpg  \n",
            " extracting: dataset/valid/images/box_16_jpg.rf.022b3a4b173c09e247afd9bfad4376fa.jpg  \n",
            " extracting: dataset/valid/images/box_16_jpg.rf.21956fe7e86efbeba49cc6ac3e3f3283.jpg  \n",
            " extracting: dataset/valid/images/box_16_jpg.rf.b63d522f2141aab376d882fdea9be13d.jpg  \n",
            " extracting: dataset/valid/images/box_17_jpg.rf.217531d1fb47c3e00eb40a0d5fb492bd.jpg  \n",
            " extracting: dataset/valid/images/box_17_jpg.rf.26ba76a66247eb202ecdd08c36d17c42.jpg  \n",
            " extracting: dataset/valid/images/box_17_jpg.rf.282236673639792d3d36f4297aa06395.jpg  \n",
            " extracting: dataset/valid/images/box_17_jpg.rf.44ddcea3807b71581469cff252245229.jpg  \n",
            " extracting: dataset/valid/images/box_17_jpg.rf.4eca5561c885a5d8167b08a4b4058d1b.jpg  \n",
            " extracting: dataset/valid/images/box_17_jpg.rf.5318732e442cb60fe8eac9998afada51.jpg  \n",
            " extracting: dataset/valid/images/box_17_jpg.rf.7c55eb4a93937683d97838951348a6f0.jpg  \n",
            " extracting: dataset/valid/images/box_17_jpg.rf.a8951d06cdd53ba5c5ff0a894ea52484.jpg  \n",
            " extracting: dataset/valid/images/box_18_jpg.rf.060d56e9b241cff01637734b82855a76.jpg  \n",
            " extracting: dataset/valid/images/box_18_jpg.rf.384816b3d7c61a302f6f4949b24cf35f.jpg  \n",
            " extracting: dataset/valid/images/box_18_jpg.rf.3ee5b7ff5798796479bfc821959af2a2.jpg  \n",
            " extracting: dataset/valid/images/box_18_jpg.rf.616e188f113efa8f6f85bcd091b7b003.jpg  \n",
            " extracting: dataset/valid/images/box_18_jpg.rf.94788d0ff52afc38283e589b5404e187.jpg  \n",
            " extracting: dataset/valid/images/box_18_jpg.rf.b31b5330e81f2da5799d07838632fbf5.jpg  \n",
            " extracting: dataset/valid/images/box_18_jpg.rf.d8488ece9903e59b38f845d83f6d39e3.jpg  \n",
            " extracting: dataset/valid/images/box_18_jpg.rf.f082ca304e2683277fef100533b40eb3.jpg  \n",
            " extracting: dataset/valid/images/box_18_jpg.rf.fca4ba8f79a1357a21c5ff715b089cf7.jpg  \n",
            " extracting: dataset/valid/images/box_19_jpg.rf.09d0e0b060b903f802ab6bbfef138386.jpg  \n",
            " extracting: dataset/valid/images/box_19_jpg.rf.0add849a788aa6ef9c6e59b633c4f837.jpg  \n",
            " extracting: dataset/valid/images/box_19_jpg.rf.3f8aa7af040b21e704d97d1347d47b9f.jpg  \n",
            " extracting: dataset/valid/images/box_19_jpg.rf.9e14cedf4d37990289ad25b3a2ba2fc9.jpg  \n",
            " extracting: dataset/valid/images/box_19_jpg.rf.be39754750e3cb4061d9a760edacf6a5.jpg  \n",
            " extracting: dataset/valid/images/box_19_jpg.rf.db590641ad7ce638c4800ad098311338.jpg  \n",
            " extracting: dataset/valid/images/box_19_jpg.rf.ec9a2dc327e1337f4451ba6bfd113307.jpg  \n",
            " extracting: dataset/valid/images/box_20_jpg.rf.4b565981b36715f4e07fa74cd66592dc.jpg  \n",
            " extracting: dataset/valid/images/box_20_jpg.rf.4c44941ed6c387c1c96155be0bd83424.jpg  \n",
            " extracting: dataset/valid/images/box_20_jpg.rf.6773769bcfa31221b8f6bb06ccdba485.jpg  \n",
            " extracting: dataset/valid/images/box_20_jpg.rf.77793629eb18350d51bf324ab347ac97.jpg  \n",
            " extracting: dataset/valid/images/box_20_jpg.rf.8980f200c76d45d78b3c82ebeb60eb1c.jpg  \n",
            " extracting: dataset/valid/images/box_20_jpg.rf.c63d0ee9fc64ac3953388d9d2287b51c.jpg  \n",
            " extracting: dataset/valid/images/box_20_jpg.rf.ca421cfbe576fa993337ff89bff92432.jpg  \n",
            " extracting: dataset/valid/images/box_21_jpg.rf.00c0c44b9eba869b3534f3ace9f5b86f.jpg  \n",
            " extracting: dataset/valid/images/box_21_jpg.rf.597f6763dc2216cd4efd59e4e9533898.jpg  \n",
            " extracting: dataset/valid/images/box_21_jpg.rf.647cf684635cd617836cde0e45ed628d.jpg  \n",
            " extracting: dataset/valid/images/box_21_jpg.rf.8b68f2158bdc69fc6d3a8d9617e9cc05.jpg  \n",
            " extracting: dataset/valid/images/box_21_jpg.rf.909d125e2e5a62d35211b2475e522b84.jpg  \n",
            " extracting: dataset/valid/images/box_21_jpg.rf.c0f7c48a4b4b18cf38bec28f0ec65beb.jpg  \n",
            " extracting: dataset/valid/images/box_22_jpg.rf.cecf7f4f407d3de0ffda5d8c72260397.jpg  \n",
            " extracting: dataset/valid/images/box_22_jpg.rf.ea7de962b80da78c99906d02d1fd6964.jpg  \n",
            " extracting: dataset/valid/images/box_23_jpg.rf.1ceffd0057f5f842484ce9a0120dc6c2.jpg  \n",
            " extracting: dataset/valid/images/box_23_jpg.rf.55b5e67416acc43bdeaa685f553e4de8.jpg  \n",
            " extracting: dataset/valid/images/box_23_jpg.rf.61365f6b25ce1057e5912e240f8e6649.jpg  \n",
            " extracting: dataset/valid/images/box_23_jpg.rf.73e1ae75e2725dccf5f9e236e4fc4b05.jpg  \n",
            " extracting: dataset/valid/images/box_23_jpg.rf.9bd19a191ae7267b904be967e5f55cc3.jpg  \n",
            " extracting: dataset/valid/images/box_23_jpg.rf.c6566fb3a56f0bb308c12da95a34488b.jpg  \n",
            " extracting: dataset/valid/images/box_23_jpg.rf.f8c70fc0c9de82233660f92833ee7bc1.jpg  \n",
            " extracting: dataset/valid/images/box_24_jpg.rf.03059ac95ca859f8329e2e570dc4a9cb.jpg  \n",
            " extracting: dataset/valid/images/box_24_jpg.rf.0bfc77accdce4f0aca198b79a184a1be.jpg  \n",
            " extracting: dataset/valid/images/box_24_jpg.rf.18e85150ea6fddd078cf0eb688cf07f1.jpg  \n",
            " extracting: dataset/valid/images/box_24_jpg.rf.1b39451be9720e41facb29dfdfa32a0b.jpg  \n",
            " extracting: dataset/valid/images/box_24_jpg.rf.26153b5cb012954dde2f08e14e9c2239.jpg  \n",
            " extracting: dataset/valid/images/box_24_jpg.rf.321a12a3bf56081062c62fc2b1f6b2ab.jpg  \n",
            " extracting: dataset/valid/images/box_24_jpg.rf.43d177b80f1c60f99c801bce742f1073.jpg  \n",
            " extracting: dataset/valid/images/box_24_jpg.rf.6debbab62c1420ba335351ac5fc70e35.jpg  \n",
            " extracting: dataset/valid/images/box_24_jpg.rf.9e861db6b5218bd45337323cdf2a0543.jpg  \n",
            " extracting: dataset/valid/images/box_24_jpg.rf.fb3b5c202b06f2d37c23d7acf968d2ce.jpg  \n",
            " extracting: dataset/valid/images/box_24_jpg.rf.fc31b042478073c5db6e3918a9207320.jpg  \n",
            " extracting: dataset/valid/images/box_25_jpg.rf.10d132fc449867952298b4436b34e052.jpg  \n",
            " extracting: dataset/valid/images/box_25_jpg.rf.48768c2b0c49307fe7f58c082583e78b.jpg  \n",
            " extracting: dataset/valid/images/box_26_jpg.rf.264bf3b9af2a8dca02d7240f6f150b3b.jpg  \n",
            " extracting: dataset/valid/images/box_26_jpg.rf.3b59f83b3a5d506e38c3a50a7996bdcc.jpg  \n",
            " extracting: dataset/valid/images/box_26_jpg.rf.41e3e714341898b63c06a2f73963e2a5.jpg  \n",
            " extracting: dataset/valid/images/box_26_jpg.rf.75cc642204a29f0c7788c68f0f645dd4.jpg  \n",
            " extracting: dataset/valid/images/box_26_jpg.rf.99462abc3c2f5920034a4ecc004ff246.jpg  \n",
            " extracting: dataset/valid/images/box_26_jpg.rf.b55ece135154a1652b3740b92a935cb1.jpg  \n",
            " extracting: dataset/valid/images/box_26_jpg.rf.d9bd25a58a8de8c7373f90a35fcd26ec.jpg  \n",
            " extracting: dataset/valid/images/box_27_jpg.rf.0ab08ff79b6dbf48cfa11fd62e540444.jpg  \n",
            " extracting: dataset/valid/images/box_27_jpg.rf.aa819ffef2d95ab2297bc22ac8278c6e.jpg  \n",
            " extracting: dataset/valid/images/box_27_jpg.rf.f77aecb88b4a95542febbd5106ddb364.jpg  \n",
            " extracting: dataset/valid/images/box_28_jpg.rf.0178a69ab2ed12102b8ff0ecf4311b17.jpg  \n",
            " extracting: dataset/valid/images/box_28_jpg.rf.02cea029eece3f128e12bae3a74e7326.jpg  \n",
            " extracting: dataset/valid/images/box_28_jpg.rf.071f53b972a415dc40029a5ee8c3e7a6.jpg  \n",
            " extracting: dataset/valid/images/box_28_jpg.rf.435ba7183d770e04fde75749d0c3b87d.jpg  \n",
            " extracting: dataset/valid/images/box_28_jpg.rf.ad69cc1f2f0c070868f1b395777af3e4.jpg  \n",
            " extracting: dataset/valid/images/box_28_jpg.rf.b0edd7ab1944c9dbf14fd7eba42ecf63.jpg  \n",
            " extracting: dataset/valid/images/box_28_jpg.rf.cbb0838ea861f7be526c292de75a2c4e.jpg  \n",
            " extracting: dataset/valid/images/box_28_jpg.rf.f8e8e6226689d44afd06e80aa8b3c30e.jpg  \n",
            " extracting: dataset/valid/images/box_30_jpg.rf.1c5bb5e0649a3a75d0992daa76967031.jpg  \n",
            " extracting: dataset/valid/images/box_30_jpg.rf.4a505bfb8ec1b7ecb300596fba724fcd.jpg  \n",
            " extracting: dataset/valid/images/box_30_jpg.rf.584d376a6c6201b79c989c977a8c259f.jpg  \n",
            " extracting: dataset/valid/images/box_30_jpg.rf.6746b63bcc2011c48fc0e8614d11ed4d.jpg  \n",
            " extracting: dataset/valid/images/box_31_jpg.rf.1faf133ec8d20114258e320d427658e7.jpg  \n",
            " extracting: dataset/valid/images/box_31_jpg.rf.28a11cef33178df6db3671574f0fae58.jpg  \n",
            " extracting: dataset/valid/images/box_31_jpg.rf.499db08a27fe64d5705a117d339fa476.jpg  \n",
            " extracting: dataset/valid/images/box_31_jpg.rf.4a3195e0cd291e25fe5ed92cd14f928e.jpg  \n",
            " extracting: dataset/valid/images/box_31_jpg.rf.57f59c2e0103e25faff2bd8156158805.jpg  \n",
            " extracting: dataset/valid/images/box_31_jpg.rf.8db9dbbca98dbdb0cd40f09d8fd5565a.jpg  \n",
            " extracting: dataset/valid/images/box_31_jpg.rf.9082786610ba301018b55c36c0269386.jpg  \n",
            " extracting: dataset/valid/images/box_31_jpg.rf.caf2a6b5fa6cd28d3c72e5c495a6a3ed.jpg  \n",
            " extracting: dataset/valid/images/box_31_jpg.rf.d6811ec31570a69d9554395be9070376.jpg  \n",
            " extracting: dataset/valid/images/box_32_jpg.rf.02d6416ffc340e23dc5ccea6cfdabee1.jpg  \n",
            " extracting: dataset/valid/images/box_32_jpg.rf.4ea4e91c4da8e739b89adfe3f61b72a3.jpg  \n",
            " extracting: dataset/valid/images/box_32_jpg.rf.90acaf03da0f083f60c6e9fc87178979.jpg  \n",
            " extracting: dataset/valid/images/box_32_jpg.rf.929246453ca93f5995fa4abb3d46785a.jpg  \n",
            " extracting: dataset/valid/images/box_32_jpg.rf.cee36e5976f15f06ee3411f6b20f5b48.jpg  \n",
            " extracting: dataset/valid/images/box_32_jpg.rf.eae2178baec5aeea04656cf13933584b.jpg  \n",
            " extracting: dataset/valid/images/box_32_jpg.rf.f5216cce30a5b6103644f666b615284e.jpg  \n",
            " extracting: dataset/valid/images/box_32_jpg.rf.fe73ab23451ee97f0680fc1d79a7462d.jpg  \n",
            " extracting: dataset/valid/images/box_33_jpg.rf.b78bced3cc5eeaef96944d43ff51c11d.jpg  \n",
            " extracting: dataset/valid/images/box_33_jpg.rf.e57f413c2446f4f7a8bfec863b3c88b6.jpg  \n",
            " extracting: dataset/valid/images/box_39_jpg.rf.8e51cb7800f18b2c181d3c6fc4d1216b.jpg  \n",
            " extracting: dataset/valid/images/box_41_jpg.rf.0d1726bbe2c248bbf17e070dd37500f2.jpg  \n",
            " extracting: dataset/valid/images/box_41_jpg.rf.7ada83673b06c7233dd861120eaab53e.jpg  \n",
            " extracting: dataset/valid/images/box_41_jpg.rf.866a2ff9b73fc4163bcd62d7820bfac3.jpg  \n",
            " extracting: dataset/valid/images/box_41_jpg.rf.9ce9d9005514f8a5cd44023e8c7195cc.jpg  \n",
            " extracting: dataset/valid/images/box_41_jpg.rf.b1618d9dcfc7480622c0216a7ceca4aa.jpg  \n",
            " extracting: dataset/valid/images/box_41_jpg.rf.cc35e1b7835233bfdc4c3008a6ccfacc.jpg  \n",
            " extracting: dataset/valid/images/box_43_jpg.rf.1b07641b9d569bfee6250b46d67c691b.jpg  \n",
            " extracting: dataset/valid/images/box_44_jpg.rf.053312dacd15a6a770e0533ea5611b54.jpg  \n",
            " extracting: dataset/valid/images/box_44_jpg.rf.0c1345ffe002d95118199ee651ae3b68.jpg  \n",
            " extracting: dataset/valid/images/box_44_jpg.rf.4275085afcb7f5896d46edb04162e5fa.jpg  \n",
            " extracting: dataset/valid/images/box_44_jpg.rf.ae82513c80c62b9985e97462f9995ec3.jpg  \n",
            " extracting: dataset/valid/images/box_44_jpg.rf.c602670d0fe8d79786c9e1067b68fc49.jpg  \n",
            " extracting: dataset/valid/images/box_45_jpg.rf.14454ac767f45c48cf75cdfb6f4b2b80.jpg  \n",
            " extracting: dataset/valid/images/box_45_jpg.rf.2bb4a491fc1fae86c4c48bf248dfa849.jpg  \n",
            " extracting: dataset/valid/images/box_45_jpg.rf.37d4d7bc7b3561d029e222a03390f7dc.jpg  \n",
            " extracting: dataset/valid/images/box_45_jpg.rf.923f1427c84fd5ed2d0703f51fa590e4.jpg  \n",
            " extracting: dataset/valid/images/box_45_jpg.rf.af7d812b2e71754a78a538717cb4cf7d.jpg  \n",
            " extracting: dataset/valid/images/box_46_jpg.rf.1b96b25b828b65e380b57c365f5a1e60.jpg  \n",
            " extracting: dataset/valid/images/box_46_jpg.rf.5d46748216e67eca2b54fd5e0f9c7d93.jpg  \n",
            " extracting: dataset/valid/images/box_46_jpg.rf.7a5df6763830fecfc5694534841c77b9.jpg  \n",
            " extracting: dataset/valid/images/box_46_jpg.rf.8175aa79510dae2e102cfb073a0583a9.jpg  \n",
            " extracting: dataset/valid/images/box_46_jpg.rf.9c4f1bc239c9ec6b62b73063bcd934bb.jpg  \n",
            " extracting: dataset/valid/images/box_46_jpg.rf.a8b8db4b531e330839d6c3814372cc56.jpg  \n",
            " extracting: dataset/valid/images/box_46_jpg.rf.b0a23976e4f5b9d052d62ad72a664688.jpg  \n",
            " extracting: dataset/valid/images/box_46_jpg.rf.e93e2b9f6fa91ee39989742f5d5d0a1b.jpg  \n",
            " extracting: dataset/valid/images/box_46_jpg.rf.f3c9333fee1cc6c5db6c02969b8581c8.jpg  \n",
            " extracting: dataset/valid/images/box_47_jpg.rf.078225d9e0e38cf6e6e8df6195ca045a.jpg  \n",
            " extracting: dataset/valid/images/box_47_jpg.rf.59c6bfd21bfd919d6d5bc5d78ad66640.jpg  \n",
            " extracting: dataset/valid/images/box_47_jpg.rf.be2f7e30cc5353372174b33e3db70677.jpg  \n",
            " extracting: dataset/valid/images/box_47_jpg.rf.db980d3119f4daa1222de58cccf8efce.jpg  \n",
            " extracting: dataset/valid/images/box_48_jpg.rf.262809c193acb8c606da4d8d8ae4032f.jpg  \n",
            " extracting: dataset/valid/images/box_48_jpg.rf.27d1a1eafb57669a741d3cc894925da6.jpg  \n",
            " extracting: dataset/valid/images/box_48_jpg.rf.b5fb104b79959d2e7d7e57340f0aed8f.jpg  \n",
            " extracting: dataset/valid/images/box_49_jpg.rf.08b141dbecbe613b0d41453bdad4e92c.jpg  \n",
            " extracting: dataset/valid/images/box_49_jpg.rf.671305bef0feea24627371c6f957e122.jpg  \n",
            " extracting: dataset/valid/images/box_49_jpg.rf.b124bf5f80933cdc88b1b3c75dc8d343.jpg  \n",
            " extracting: dataset/valid/images/box_49_jpg.rf.e91769b85d6c6f8c063144d9984ee05c.jpg  \n",
            " extracting: dataset/valid/images/box_49_jpg.rf.ebadabe45a5333b4e2f5f91f72ef1178.jpg  \n",
            " extracting: dataset/valid/images/box_50_jpg.rf.4ef78376e05c7f95308a5c55bef3b794.jpg  \n",
            " extracting: dataset/valid/images/box_50_jpg.rf.640a660e6c8a29094a86d7f592cd810f.jpg  \n",
            " extracting: dataset/valid/images/box_50_jpg.rf.889090ec0fad6fbc3ab1c21d96f9aa65.jpg  \n",
            " extracting: dataset/valid/images/box_50_jpg.rf.93b61f767faefdd2dabbb57f6607c14f.jpg  \n",
            " extracting: dataset/valid/images/box_50_jpg.rf.f086b12d68c5d4784bb163769e10b151.jpg  \n",
            " extracting: dataset/valid/images/box_51_jpg.rf.220b604cb6c863edbaaad91608c16c20.jpg  \n",
            " extracting: dataset/valid/images/box_51_jpg.rf.2c7691ba871fdef990d11664389322d4.jpg  \n",
            " extracting: dataset/valid/images/box_51_jpg.rf.34f57a71f0f92c56f247df7abb6ac9d1.jpg  \n",
            " extracting: dataset/valid/images/box_51_jpg.rf.50b233996f32dea83daca2eb29513f61.jpg  \n",
            " extracting: dataset/valid/images/box_51_jpg.rf.671298757ccbe4e1365e68a46d28a8c5.jpg  \n",
            " extracting: dataset/valid/images/box_51_jpg.rf.c8f0d1317fd7843cc927390b11589768.jpg  \n",
            " extracting: dataset/valid/images/box_51_jpg.rf.fc821d21e6de3408fd2f5054f82aa8a2.jpg  \n",
            " extracting: dataset/valid/images/box_54_jpg.rf.118812a33203cd5dd263d5e57d5db6aa.jpg  \n",
            " extracting: dataset/valid/images/box_54_jpg.rf.30b376ee0e9f87001f7196849498d914.jpg  \n",
            " extracting: dataset/valid/images/box_54_jpg.rf.5feeccf71eb978b00a7e1fa297afa1fd.jpg  \n",
            " extracting: dataset/valid/images/box_54_jpg.rf.d2d2a07698a1175dcbb811ee6a454d2e.jpg  \n",
            " extracting: dataset/valid/images/box_55_jpg.rf.1a5b4ff20587535ba0685b7aa3999a07.jpg  \n",
            " extracting: dataset/valid/images/box_55_jpg.rf.67eb996472a4ee2a1bb1c62f383f5b6c.jpg  \n",
            " extracting: dataset/valid/images/box_55_jpg.rf.89800d13c7132b71253487249ba9be69.jpg  \n",
            " extracting: dataset/valid/images/box_55_jpg.rf.ae61e8a385c7cf9520e3932ed1a26954.jpg  \n",
            " extracting: dataset/valid/images/box_55_jpg.rf.b00cbadfed8ca1e166575e6298ee127d.jpg  \n",
            " extracting: dataset/valid/images/box_55_jpg.rf.baede301132079117e4c1215c2db518c.jpg  \n",
            " extracting: dataset/valid/images/box_55_jpg.rf.bdd2827653356860c47aa89b741ae5cc.jpg  \n",
            " extracting: dataset/valid/images/box_55_jpg.rf.d91457f563e76481cea8e9ca100584f5.jpg  \n",
            " extracting: dataset/valid/images/box_56_jpg.rf.24aa7fd856f4ad63cacd3d52895e7d08.jpg  \n",
            " extracting: dataset/valid/images/box_56_jpg.rf.d165b532a9e97ee0fb0d25d184e4ce66.jpg  \n",
            " extracting: dataset/valid/images/box_58_jpg.rf.19b5621c01a03d47eb1dcaad06353067.jpg  \n",
            " extracting: dataset/valid/images/box_58_jpg.rf.77ef13d7972f46df6c8e3c2b0b7de81e.jpg  \n",
            " extracting: dataset/valid/images/box_58_jpg.rf.88fe33c94e93cdb86468cfa1bebd53a7.jpg  \n",
            " extracting: dataset/valid/images/box_58_jpg.rf.d259f7527feb9fff48817d376638e3f5.jpg  \n",
            " extracting: dataset/valid/images/box_58_jpg.rf.e07e833b2f5ab9a386305bc277b60164.jpg  \n",
            " extracting: dataset/valid/images/box_59_jpg.rf.06cf947cbdb702ba97f859b5f2743e73.jpg  \n",
            " extracting: dataset/valid/images/box_59_jpg.rf.1f28ff7ea1c122da818006ac37b3a1ed.jpg  \n",
            " extracting: dataset/valid/images/box_59_jpg.rf.2e98e6de7d2cb45953d958997fcf99e5.jpg  \n",
            " extracting: dataset/valid/images/box_59_jpg.rf.6da731ec0ccb7069c083477344eb9ec7.jpg  \n",
            " extracting: dataset/valid/images/box_59_jpg.rf.9d3e0bd43edac567637bf1863270840d.jpg  \n",
            " extracting: dataset/valid/images/box_59_jpg.rf.c0392a2ca5b1444e9fa58658ee7fd848.jpg  \n",
            " extracting: dataset/valid/images/box_59_jpg.rf.f4ac0b20c9a09d09027385cdaccceb85.jpg  \n",
            " extracting: dataset/valid/images/box_59_jpg.rf.f545f29afeee7eba0f9c1d8126c405d1.jpg  \n",
            " extracting: dataset/valid/images/box_59_jpg.rf.fb019b4dca4831deca3c09d5d41aab6d.jpg  \n",
            " extracting: dataset/valid/images/box_60_jpg.rf.85b2a6195ec2ce7e015624fc83d3741b.jpg  \n",
            " extracting: dataset/valid/images/box_60_jpg.rf.9907c3fb9f0031996cbc99e51869edf0.jpg  \n",
            " extracting: dataset/valid/images/box_60_jpg.rf.dac6c0a21854f476d51a582a3368cd3a.jpg  \n",
            " extracting: dataset/valid/images/box_61_jpg.rf.4c7c9ebfb5fa902a5b9bcb02600875c2.jpg  \n",
            " extracting: dataset/valid/images/box_61_jpg.rf.50701480c9171de01b3067fa4f6b24e1.jpg  \n",
            " extracting: dataset/valid/images/box_61_jpg.rf.54093ee98ef3f7812a10f04b36421760.jpg  \n",
            " extracting: dataset/valid/images/box_61_jpg.rf.6633a1cd5494abbb7e352096ccebfbb8.jpg  \n",
            " extracting: dataset/valid/images/box_61_jpg.rf.8a8d840a1421481765bf01fb351e2210.jpg  \n",
            " extracting: dataset/valid/images/box_61_jpg.rf.e243c40f5cfe70be7d73126a87034300.jpg  \n",
            " extracting: dataset/valid/images/box_62_jpg.rf.4dc2fefc8c47a2f7b8848da4cfb9b995.jpg  \n",
            " extracting: dataset/valid/images/box_62_jpg.rf.a632c690a8e469e84b16aec7dfba5570.jpg  \n",
            " extracting: dataset/valid/images/box_62_jpg.rf.ec95c385dca755602424eeb5d883e9d8.jpg  \n",
            " extracting: dataset/valid/images/box_63_jpg.rf.0ee08a4fb0d238fcdfc3a09c797e2810.jpg  \n",
            " extracting: dataset/valid/images/box_63_jpg.rf.25d33cceb07a9865e545d1de0bad52de.jpg  \n",
            " extracting: dataset/valid/images/box_63_jpg.rf.2f243e310951a8f454ed3efed13c3c7b.jpg  \n",
            " extracting: dataset/valid/images/box_63_jpg.rf.55d32c8d20abe15eeb3e5b7d4cb14ae1.jpg  \n",
            " extracting: dataset/valid/images/box_63_jpg.rf.82df32838e474c00f944351554b1499b.jpg  \n",
            " extracting: dataset/valid/images/box_63_jpg.rf.9d7cc16b82101abbdadb4b20861bfa13.jpg  \n",
            " extracting: dataset/valid/images/box_63_jpg.rf.c4037d3cc3ad6d2f79ff830d2650cc9c.jpg  \n",
            " extracting: dataset/valid/images/box_63_jpg.rf.eb3b8e1be4f4894f8d49b0d35cd00884.jpg  \n",
            " extracting: dataset/valid/images/box_64_jpg.rf.183052ca84694db0ce6ccc5c404eaf30.jpg  \n",
            " extracting: dataset/valid/images/box_64_jpg.rf.234f1f101252fef5a984998b418cadaa.jpg  \n",
            " extracting: dataset/valid/images/box_64_jpg.rf.8884be5a4fd861a645f46faafb095477.jpg  \n",
            " extracting: dataset/valid/images/box_65_jpg.rf.3858b7c4c29e5fd5cc758a3e52035bcd.jpg  \n",
            " extracting: dataset/valid/images/box_65_jpg.rf.4b274dfc0fc23faf0d7ef8cdcac734f0.jpg  \n",
            " extracting: dataset/valid/images/box_65_jpg.rf.8cb92c13751418c1609ef7d067a5dacc.jpg  \n",
            " extracting: dataset/valid/images/box_65_jpg.rf.a2c97af8976157a4e0e73ec2cdcaa4de.jpg  \n",
            " extracting: dataset/valid/images/box_65_jpg.rf.f880a0c9c7d4b50ce4b5f5cff072eaf1.jpg  \n",
            " extracting: dataset/valid/images/box_66_jpg.rf.3c86ad8cc347fbc34f13359dbb95a4d5.jpg  \n",
            " extracting: dataset/valid/images/box_66_jpg.rf.521eacf968e5a72b76278ea5857d8b29.jpg  \n",
            " extracting: dataset/valid/images/box_66_jpg.rf.ec4f18bcc0d7f00e265b3ba4c357df98.jpg  \n",
            " extracting: dataset/valid/images/box_67_jpg.rf.1d3ff78e5db45f7aef04af4d781e3ce4.jpg  \n",
            " extracting: dataset/valid/images/box_67_jpg.rf.363acbf6cdc839e3df397629b9c2dfb7.jpg  \n",
            " extracting: dataset/valid/images/box_67_jpg.rf.39db633cfe4e7669197b04c5d25b59bf.jpg  \n",
            " extracting: dataset/valid/images/box_67_jpg.rf.79b17576425a8c8f901ac7580c5c9c31.jpg  \n",
            " extracting: dataset/valid/images/box_67_jpg.rf.85afbcbb8239c11d609bd18a2ce7d01d.jpg  \n",
            " extracting: dataset/valid/images/box_68_jpg.rf.0ec40dd3fb3daf25879d58b0927e0f30.jpg  \n",
            " extracting: dataset/valid/images/box_68_jpg.rf.1e66c5c20427efa7fe7ff9d6d793430a.jpg  \n",
            " extracting: dataset/valid/images/box_68_jpg.rf.f99cb76c9106e7ee7ae3f7b88bacb607.jpg  \n",
            " extracting: dataset/valid/images/box_69_jpg.rf.1f646829fa6c58886c14084ca1edff09.jpg  \n",
            " extracting: dataset/valid/images/box_69_jpg.rf.48262aa44a53e07fa796a33ebe2f76d4.jpg  \n",
            " extracting: dataset/valid/images/box_69_jpg.rf.94a81156876427c7f0f89b7760ece2b3.jpg  \n",
            " extracting: dataset/valid/images/box_69_jpg.rf.e326846b16537f01be7d3279d459c69d.jpg  \n",
            " extracting: dataset/valid/images/box_69_jpg.rf.e3c0fecccf8b258f631c4ce84d029300.jpg  \n",
            " extracting: dataset/valid/images/box_69_jpg.rf.f6a9e6cb347a70909350d99fa32fe425.jpg  \n",
            " extracting: dataset/valid/images/box_70_jpg.rf.01a7cabe3e61008cf518aa6a3871f518.jpg  \n",
            " extracting: dataset/valid/images/box_70_jpg.rf.03d597ca7122bdac538bb0a61512f6a8.jpg  \n",
            " extracting: dataset/valid/images/box_70_jpg.rf.54b8c9575122cd1d8602c47499bb94be.jpg  \n",
            " extracting: dataset/valid/images/box_70_jpg.rf.7816021cc4ef22bcdf08fb52fc628b90.jpg  \n",
            " extracting: dataset/valid/images/box_70_jpg.rf.9a2f4ef9e0c7834980b4e98b6ad4b792.jpg  \n",
            " extracting: dataset/valid/images/box_71_jpg.rf.0bb94918d092c3ab6183470bc56dcb0b.jpg  \n",
            " extracting: dataset/valid/images/box_71_jpg.rf.2af88d12a2c6ec572aeefd209185af22.jpg  \n",
            " extracting: dataset/valid/images/box_71_jpg.rf.4ee74991dd153f7d4dfb458aaf740e74.jpg  \n",
            " extracting: dataset/valid/images/box_71_jpg.rf.6fc597f152aeaa262ddd4e4f196504c3.jpg  \n",
            " extracting: dataset/valid/images/box_71_jpg.rf.8278e2e3145cda2081749d81ea606c6c.jpg  \n",
            " extracting: dataset/valid/images/box_71_jpg.rf.991c47ecd4269c0a088d0f02a1a29b00.jpg  \n",
            " extracting: dataset/valid/images/box_71_jpg.rf.f6861fe6b64532426c4906fdb0358e1f.jpg  \n",
            " extracting: dataset/valid/images/box_72_jpg.rf.448f60547d595633c502fcc7c02309fe.jpg  \n",
            " extracting: dataset/valid/images/box_72_jpg.rf.4d64c798439d89cfdd629c04036ddcbb.jpg  \n",
            " extracting: dataset/valid/images/box_72_jpg.rf.54dcfdf70078b207fbc999e9e97f181b.jpg  \n",
            " extracting: dataset/valid/images/box_72_jpg.rf.5c07cb108155419b6926cd019a456669.jpg  \n",
            " extracting: dataset/valid/images/box_72_jpg.rf.9a4c809e7c7898c63b9c019094843cd0.jpg  \n",
            " extracting: dataset/valid/images/box_72_jpg.rf.dc573f07c28f03defc63dbd4a4bf55bd.jpg  \n",
            " extracting: dataset/valid/images/box_73_jpg.rf.3d82762a5d02115b3d8a2d5b7866ee0f.jpg  \n",
            " extracting: dataset/valid/images/box_73_jpg.rf.4d5f909d09049fe45cf9838c7a3bc392.jpg  \n",
            " extracting: dataset/valid/images/box_73_jpg.rf.5dac8dc2ed3425adced21087c4fec084.jpg  \n",
            " extracting: dataset/valid/images/box_73_jpg.rf.9b57f1ebdcd05e59dc9de89aec071f02.jpg  \n",
            " extracting: dataset/valid/images/box_73_jpg.rf.e3028d2d3efb82965c5148eb8b830a4a.jpg  \n",
            " extracting: dataset/valid/images/box_74_jpg.rf.14c5613e29cc2be11ffe900d4ed66c36.jpg  \n",
            " extracting: dataset/valid/images/box_74_jpg.rf.157f4c96d15e1579532ecd56ae97ffda.jpg  \n",
            " extracting: dataset/valid/images/box_74_jpg.rf.69eb365f343387626228077f56841e89.jpg  \n",
            " extracting: dataset/valid/images/box_74_jpg.rf.78373301e0c5269ad01c29bf5f7ff8a6.jpg  \n",
            " extracting: dataset/valid/images/box_74_jpg.rf.d7e07a4acacc7e08a5f2da5c7842a82e.jpg  \n",
            " extracting: dataset/valid/images/box_75_jpg.rf.363f06cbb57b9a82def9730ba29b57fd.jpg  \n",
            " extracting: dataset/valid/images/box_75_jpg.rf.7dc2e8dfc750694ab797ed990c3b7f59.jpg  \n",
            " extracting: dataset/valid/images/box_76_jpg.rf.16bb8e8388876e7ff679e34c79e15a58.jpg  \n",
            " extracting: dataset/valid/images/box_76_jpg.rf.5d9291d987f854b3606e983a9958a06a.jpg  \n",
            " extracting: dataset/valid/images/box_76_jpg.rf.97ed4a47aabfbb643fef348e81077818.jpg  \n",
            " extracting: dataset/valid/images/box_76_jpg.rf.ba13384050e63aff8a867421b596ed84.jpg  \n",
            " extracting: dataset/valid/images/box_76_jpg.rf.cdcd254ef4b5ec4d9859b96c0932a4c1.jpg  \n",
            " extracting: dataset/valid/images/box_76_jpg.rf.edadb95de435394d842f0ee3cd4a83ab.jpg  \n",
            " extracting: dataset/valid/images/box_77_jpg.rf.0dbac5a022e6fafe45c5f36d52b0643d.jpg  \n",
            " extracting: dataset/valid/images/box_77_jpg.rf.6f286d266289fb0a5d53af7aab152bce.jpg  \n",
            " extracting: dataset/valid/images/box_77_jpg.rf.cb78ea7eeb29a2db0144e81f380d16ed.jpg  \n",
            " extracting: dataset/valid/images/box_77_jpg.rf.f04e486a244320c5969382336632f820.jpg  \n",
            " extracting: dataset/valid/images/box_78_jpg.rf.1035ab73cc3e5ab8de1fd9f89838a42b.jpg  \n",
            " extracting: dataset/valid/images/box_78_jpg.rf.4bd72a0891d520113fe85b905412afd9.jpg  \n",
            " extracting: dataset/valid/images/box_78_jpg.rf.c09024c82a7c57a039c8828314f3dab5.jpg  \n",
            " extracting: dataset/valid/images/box_78_jpg.rf.c38f51fc3290f05b56741853ae68cc84.jpg  \n",
            " extracting: dataset/valid/images/box_78_jpg.rf.c8cd6e3ee4e389e4b7a5ef4a4f2cf56f.jpg  \n",
            " extracting: dataset/valid/images/box_78_jpg.rf.cabc441a67990b938d89eaa5931c538f.jpg  \n",
            " extracting: dataset/valid/images/box_78_jpg.rf.f93ba787a0c3e9a67071e38a31d2cc1d.jpg  \n",
            " extracting: dataset/valid/images/box_79_jpg.rf.13d48dea94faf595209ee91b950cfd05.jpg  \n",
            " extracting: dataset/valid/images/box_79_jpg.rf.20923c5f1dcc4294453870d632dd8cc5.jpg  \n",
            " extracting: dataset/valid/images/box_79_jpg.rf.6d443830b4ca8c9b98e998b5d37165b6.jpg  \n",
            " extracting: dataset/valid/images/box_79_jpg.rf.79032ee4d00b46ce7962498f85aab2eb.jpg  \n",
            " extracting: dataset/valid/images/box_79_jpg.rf.8345f890df1d6318ab11fc419614c20b.jpg  \n",
            " extracting: dataset/valid/images/box_79_jpg.rf.89c20f5acd8f9903c87643cf57c00e2a.jpg  \n",
            " extracting: dataset/valid/images/box_79_jpg.rf.8a3b0c15324e2114faddacd2fdf247e9.jpg  \n",
            " extracting: dataset/valid/images/box_79_jpg.rf.a5c5dfce0f541fa13c489c75fa0e2b0d.jpg  \n",
            " extracting: dataset/valid/images/box_79_jpg.rf.db6bb075f37c3795efec075617dc0c34.jpg  \n",
            " extracting: dataset/valid/images/box_79_jpg.rf.e008155921779431e0f2a658e26bc541.jpg  \n",
            " extracting: dataset/valid/images/box_80_jpg.rf.50343a0f77d3a4d0371adf25d9efb4c6.jpg  \n",
            " extracting: dataset/valid/images/box_80_jpg.rf.e23188adb17e1ee43280a9d6651e8ad7.jpg  \n",
            " extracting: dataset/valid/images/box_81_jpg.rf.298403165280935c581aa54d5de7596e.jpg  \n",
            " extracting: dataset/valid/images/box_81_jpg.rf.59d8bd23b0530cd8514b1ea4d88f83fb.jpg  \n",
            " extracting: dataset/valid/images/box_82_jpg.rf.b6b144acc7b08d9c477b0c6046f69e41.jpg  \n",
            " extracting: dataset/valid/images/box_82_jpg.rf.dd0aa804ab8524917572f9af6cb121f2.jpg  \n",
            " extracting: dataset/valid/images/box_82_jpg.rf.f122de57dbc0b0e9f1ac81555a393465.jpg  \n",
            " extracting: dataset/valid/images/box_83_jpg.rf.04b1476e79cf5a79503ca66356a6a118.jpg  \n",
            " extracting: dataset/valid/images/box_83_jpg.rf.68f47f3e81b644ca76f331492eff0109.jpg  \n",
            " extracting: dataset/valid/images/box_83_jpg.rf.75a46c8999ec59c36e1f6f817eafd472.jpg  \n",
            " extracting: dataset/valid/images/box_83_jpg.rf.9a47bfece2356bb39dfc5cf15980120b.jpg  \n",
            " extracting: dataset/valid/images/box_83_jpg.rf.b9ec58add4c127da56dafd3dbedf29eb.jpg  \n",
            " extracting: dataset/valid/images/box_83_jpg.rf.be59c6410b962a7ded05bb0ab84386c3.jpg  \n",
            " extracting: dataset/valid/images/box_83_jpg.rf.e1b7c4437ce09c8dcd33aafc89187498.jpg  \n",
            " extracting: dataset/valid/images/box_83_jpg.rf.e7682ba2c78ff77e3fadae1b92300391.jpg  \n",
            " extracting: dataset/valid/images/box_83_jpg.rf.ec365fa7f10d79c09cee26157c0b7355.jpg  \n",
            " extracting: dataset/valid/images/box_84_jpg.rf.0ca0da94d9a2281b872de138b0013a89.jpg  \n",
            " extracting: dataset/valid/images/box_84_jpg.rf.9fac3e2da3b85e7891d70bc6cb6c793d.jpg  \n",
            " extracting: dataset/valid/images/box_84_jpg.rf.e7f30611c6f29891b52c9e696460046f.jpg  \n",
            " extracting: dataset/valid/images/box_84_jpg.rf.e91beba18f9fe2f12f57b1c002429d8b.jpg  \n",
            " extracting: dataset/valid/images/box_84_jpg.rf.f15f004ca35b1d458d1b70e1ca3d6a6a.jpg  \n",
            " extracting: dataset/valid/images/box_85_jpg.rf.68a72102bc322799f088a5f67571af55.jpg  \n",
            " extracting: dataset/valid/images/box_85_jpg.rf.8af51cf0481296b1af5e0e0dadafa7aa.jpg  \n",
            " extracting: dataset/valid/images/box_85_jpg.rf.8b443dfbe6d50f35111752ff384ab541.jpg  \n",
            " extracting: dataset/valid/images/box_85_jpg.rf.e0e341ae9c51b0cec9dceb87c1d362c6.jpg  \n",
            " extracting: dataset/valid/images/box_85_jpg.rf.f31f9979ea4734ba93b52f5f58da87a3.jpg  \n",
            " extracting: dataset/valid/images/box_87_jpg.rf.1ccc9eeccfb37c2ff42d27c741bd64cd.jpg  \n",
            " extracting: dataset/valid/images/box_87_jpg.rf.50292a9ea9ea28be81ede78cc68f6186.jpg  \n",
            " extracting: dataset/valid/images/box_87_jpg.rf.b89ce0caf7452afdf8cfa1aff2f853de.jpg  \n",
            " extracting: dataset/valid/images/box_87_jpg.rf.eb62e122f3ab9a1b66f4f5b56baa9a37.jpg  \n",
            " extracting: dataset/valid/images/box_88_jpg.rf.ef8c4d8bab30eec178403f1d310b2436.jpg  \n",
            " extracting: dataset/valid/images/box_89_jpg.rf.0ab12bb865d93b170fc38b7faa465e3c.jpg  \n",
            " extracting: dataset/valid/images/box_89_jpg.rf.112c067597ef85ae3e88dc5e82718028.jpg  \n",
            " extracting: dataset/valid/images/box_89_jpg.rf.1638d6dd0aa5de6aba85d13de80d8bb0.jpg  \n",
            " extracting: dataset/valid/images/box_89_jpg.rf.58905b4547ead4191c0e2bbe458879d4.jpg  \n",
            " extracting: dataset/valid/images/box_89_jpg.rf.b7256aa54604c0c52583233c9b217f36.jpg  \n",
            " extracting: dataset/valid/images/box_89_jpg.rf.e4bab787531668576eb40f2e17b2f7d0.jpg  \n",
            " extracting: dataset/valid/images/box_89_jpg.rf.e974ba7242decd61d1277598aef5d159.jpg  \n",
            " extracting: dataset/valid/images/box_91_jpg.rf.21066b24a6e63a86e0297e4fcda4e5c5.jpg  \n",
            " extracting: dataset/valid/images/box_91_jpg.rf.2d5bdd1486a54dff1a2fcf9e8b0eec0d.jpg  \n",
            " extracting: dataset/valid/images/box_91_jpg.rf.6cdfb34104171c52bca3a48f59bde58b.jpg  \n",
            " extracting: dataset/valid/images/box_91_jpg.rf.8817cc511174a7032e05885d202d0c20.jpg  \n",
            " extracting: dataset/valid/images/box_93_jpg.rf.2136c588db789f1a28e2f4ed63483dc8.jpg  \n",
            " extracting: dataset/valid/images/box_93_jpg.rf.2733a1b53387763b911d4ef0a2452523.jpg  \n",
            " extracting: dataset/valid/images/box_93_jpg.rf.354bbdd06ae2a1affe69d73354f2add1.jpg  \n",
            " extracting: dataset/valid/images/box_93_jpg.rf.9cb2554c34f9563985eb47c6dc56c376.jpg  \n",
            " extracting: dataset/valid/images/box_94_jpg.rf.04d7b664a593565dfbbf8d96c3facf7a.jpg  \n",
            " extracting: dataset/valid/images/box_94_jpg.rf.2679f0e733e777aa8bbe18693a924568.jpg  \n",
            " extracting: dataset/valid/images/box_94_jpg.rf.4a8b4224a5f10465c9ecee18560c1261.jpg  \n",
            " extracting: dataset/valid/images/box_94_jpg.rf.7c9e38a461e3071868384878c4d08fc4.jpg  \n",
            " extracting: dataset/valid/images/box_95_jpg.rf.b3b98379e01a81cb9799f6408fbdca65.jpg  \n",
            " extracting: dataset/valid/images/box_95_jpg.rf.bd21c4e0c46135f32c394ccc8aa02012.jpg  \n",
            " extracting: dataset/valid/images/box_95_jpg.rf.e5444aa64cd96d89a7aa3edd34af0bd9.jpg  \n",
            " extracting: dataset/valid/images/box_96_jpg.rf.0e9d183f4470a62cd673c495454cb44d.jpg  \n",
            " extracting: dataset/valid/images/box_96_jpg.rf.1dd2820b690e7ed88534b1440c270a2e.jpg  \n",
            " extracting: dataset/valid/images/box_96_jpg.rf.437bf9f4dd4dff794ed1e27a4ba5244e.jpg  \n",
            " extracting: dataset/valid/images/box_96_jpg.rf.761ed73ef2826b059baae9b3c0031232.jpg  \n",
            " extracting: dataset/valid/images/box_97_jpg.rf.167fdcf14d2ac7939d1d4a49fd6db799.jpg  \n",
            " extracting: dataset/valid/images/box_97_jpg.rf.277c3b3bba8a1a21d8237f3885989f51.jpg  \n",
            " extracting: dataset/valid/images/box_97_jpg.rf.554a05cdae4ba152fe9da5ebd163fb4c.jpg  \n",
            " extracting: dataset/valid/images/box_97_jpg.rf.9769b3be93785f76b557919b6dfac71f.jpg  \n",
            " extracting: dataset/valid/images/box_97_jpg.rf.b2f81530f9767117ca44cd3553980f0d.jpg  \n",
            " extracting: dataset/valid/images/box_98_jpg.rf.0337ddcd8ffa5deec693e94bfd66df6d.jpg  \n",
            " extracting: dataset/valid/images/box_98_jpg.rf.20ff0fc1bf633febc4b709c5a778bcd5.jpg  \n",
            " extracting: dataset/valid/images/box_98_jpg.rf.36a48317c4c4a0591361d3bc16dc3b80.jpg  \n",
            " extracting: dataset/valid/images/box_98_jpg.rf.5d33e383abde7ccb9d05076340304d40.jpg  \n",
            " extracting: dataset/valid/images/box_98_jpg.rf.8c143ecfadc5af235b001b55420db73c.jpg  \n",
            " extracting: dataset/valid/images/box_98_jpg.rf.a88b06b37a6130591f518672fef6f7fc.jpg  \n",
            " extracting: dataset/valid/images/box_98_jpg.rf.d4c2deac17248867ce7039396341ad30.jpg  \n",
            " extracting: dataset/valid/images/box_99_jpg.rf.001e36786a1226dad6513f00c3433704.jpg  \n",
            " extracting: dataset/valid/images/box_99_jpg.rf.1f1eb6e61a6a9bc1f643da6c14c5f4de.jpg  \n",
            " extracting: dataset/valid/images/box_99_jpg.rf.298f05cedce6dd966ba6174b57deebd1.jpg  \n",
            " extracting: dataset/valid/images/box_99_jpg.rf.32c7f614e5d87f0878fbaa16b2724cf6.jpg  \n",
            " extracting: dataset/valid/images/box_99_jpg.rf.7391ca458d43387d0a43a5a1b07ab413.jpg  \n",
            " extracting: dataset/valid/images/box_99_jpg.rf.95fa3eeb2acebe3d8b6287dc2afa7641.jpg  \n",
            " extracting: dataset/valid/images/box_99_jpg.rf.a0013e56395f624fe92e3214b63000a3.jpg  \n",
            " extracting: dataset/valid/images/box_99_jpg.rf.c2a4ef9f991cb89d0eaa19f50066f967.jpg  \n",
            " extracting: dataset/valid/images/box_99_jpg.rf.c6a89d2f3c5669e3b70ec017eb1d7b05.jpg  \n",
            " extracting: dataset/valid/images/box_99_jpg.rf.e725bf8d9181e93ebb9c8f1f6c590e5e.jpg  \n",
            " extracting: dataset/valid/images/test01_jpg.rf.005d689fc42f34e1fc123bd86871a127.jpg  \n",
            " extracting: dataset/valid/images/test01_jpg.rf.029a53425b8b645cb01ac79c672e0fda.jpg  \n",
            " extracting: dataset/valid/images/test01_jpg.rf.29efba48584cf0af0a41aba3e2ae7537.jpg  \n",
            " extracting: dataset/valid/images/test01_jpg.rf.2d50de7daa9336e9ff8dda0100e9b391.jpg  \n",
            " extracting: dataset/valid/images/test01_jpg.rf.3bb1a15da128121d3a998c9e1a29e762.jpg  \n",
            " extracting: dataset/valid/images/test01_jpg.rf.520228e3a2fbbb4c20b7e9786ff3fe8c.jpg  \n",
            " extracting: dataset/valid/images/test01_jpg.rf.6643e1f7536c8b7754662df701cd0aa8.jpg  \n",
            " extracting: dataset/valid/images/test01_jpg.rf.6c6fbda70f0604f4b4c95356b57f090d.jpg  \n",
            " extracting: dataset/valid/images/test01_jpg.rf.7703c43e31a4de23ed8a971f27aef1fa.jpg  \n",
            " extracting: dataset/valid/images/test01_jpg.rf.7d01099c9a7da11ece21927a95acbae5.jpg  \n",
            " extracting: dataset/valid/images/test01_jpg.rf.8fe1953b42dc3c8e7f60da5d02b606b9.jpg  \n",
            " extracting: dataset/valid/images/test01_jpg.rf.bc8a6bf66e3e1d50397c2173fa96bfd9.jpg  \n",
            " extracting: dataset/valid/images/test01_jpg.rf.c4ba1fca6f8b576a97026b99a3d065ab.jpg  \n",
            " extracting: dataset/valid/images/test01_jpg.rf.ca17b15d46c27aa5e76cbb152b2ef007.jpg  \n",
            " extracting: dataset/valid/images/test01_jpg.rf.cf5a7f5bf1dbe241aeca7fb1be1e2b25.jpg  \n",
            " extracting: dataset/valid/images/test01_jpg.rf.e088374851e7956833a058a4dd8fa358.jpg  \n",
            " extracting: dataset/valid/images/test01_jpg.rf.ebb39e17d7dfce074354630c8c81a167.jpg  \n",
            " extracting: dataset/valid/images/test02_jpg.rf.1830c0e42a2da5a3e8f1307c2c6c8bcd.jpg  \n",
            " extracting: dataset/valid/images/test02_jpg.rf.1912bb19b99ef614e4946cbdbbb230f3.jpg  \n",
            " extracting: dataset/valid/images/test02_jpg.rf.1b1f0d7e6dd978daa4270ff518438d56.jpg  \n",
            " extracting: dataset/valid/images/test02_jpg.rf.2b89674d4c62d103d745ac3fe9054bee.jpg  \n",
            " extracting: dataset/valid/images/test02_jpg.rf.4c872256a6620a5d20a6f017fef70ed0.jpg  \n",
            " extracting: dataset/valid/images/test02_jpg.rf.5084c7dd730a506508e5f3bd2c021280.jpg  \n",
            " extracting: dataset/valid/images/test02_jpg.rf.7efe0929a5eca680293953da889fff03.jpg  \n",
            " extracting: dataset/valid/images/test02_jpg.rf.913892495a3f080f53387a037578016a.jpg  \n",
            " extracting: dataset/valid/images/test02_jpg.rf.9659da32cd4b9a36ba22dfccb3514799.jpg  \n",
            " extracting: dataset/valid/images/test02_jpg.rf.b2c835a8c09e320db719a66134844ffd.jpg  \n",
            " extracting: dataset/valid/images/test02_jpg.rf.dc03cf53821a8c04e4f947e4837da46d.jpg  \n",
            " extracting: dataset/valid/images/test02_jpg.rf.ea6bf421f795993bc244f431898f5778.jpg  \n",
            " extracting: dataset/valid/images/test02_jpg.rf.eff8816e7add19d095840211c29c58e2.jpg  \n",
            " extracting: dataset/valid/images/test03_jpg.rf.324c285c3787755f4155a50f4f1f1a11.jpg  \n",
            " extracting: dataset/valid/images/test03_jpg.rf.621b510ab18156ca100ac5057c80a05c.jpg  \n",
            " extracting: dataset/valid/images/test03_jpg.rf.86effc87da2d58a806d8f68f20337e2f.jpg  \n",
            " extracting: dataset/valid/images/test03_jpg.rf.9e166f0eb38ea79651c0d3e6179d338f.jpg  \n",
            " extracting: dataset/valid/images/test03_jpg.rf.bda17f82ae9f0e1eec6c9612ed908a40.jpg  \n",
            " extracting: dataset/valid/images/test03_jpg.rf.bec603a40032a1c943fd9cd1bd1a30b9.jpg  \n",
            " extracting: dataset/valid/images/test03_jpg.rf.c8b3f58721c33b35de543ab96795e5b8.jpg  \n",
            " extracting: dataset/valid/images/test03_jpg.rf.ea04a40a122b971da5175516bd58640e.jpg  \n",
            " extracting: dataset/valid/images/test03_jpg.rf.ee7b76565095415b507264f9205e6e63.jpg  \n",
            " extracting: dataset/valid/images/test03_jpg.rf.f886a8047141134743523a5087641103.jpg  \n",
            "   creating: dataset/valid/labels/\n",
            "  inflating: dataset/valid/labels/Image1_jpg.rf.5a929af728ed165506e5deba5ec293f2.txt  \n",
            "  inflating: dataset/valid/labels/Image1_jpg.rf.6797b819ebc9d88739f8b1be78b899f3.txt  \n",
            "  inflating: dataset/valid/labels/Image1_jpg.rf.877c961b3acaefbba43eddfeaf8bdeb1.txt  \n",
            "  inflating: dataset/valid/labels/Image1_jpg.rf.89834d9804587b8ca70ce079fb1099f3.txt  \n",
            "  inflating: dataset/valid/labels/Image1_jpg.rf.90e57ea43547fcf3eda1b8000b227af1.txt  \n",
            "  inflating: dataset/valid/labels/Image1_jpg.rf.96b9a4ba7c55e2c95018e8b40c17ae88.txt  \n",
            "  inflating: dataset/valid/labels/Image1_jpg.rf.adcd4478ba1887d2730ed0f658325f74.txt  \n",
            "  inflating: dataset/valid/labels/Image1_jpg.rf.bfa1b4be76856f374f60b99420841ac2.txt  \n",
            "  inflating: dataset/valid/labels/Image1_jpg.rf.df011a2ae97de713848c40c1393ad06c.txt  \n",
            "  inflating: dataset/valid/labels/Image1_jpg.rf.dfed1cc1547fe1a4acc61d8caa31b724.txt  \n",
            "  inflating: dataset/valid/labels/Image1_jpg.rf.e1a907eb0ffc954007c7146b607a0ea7.txt  \n",
            "  inflating: dataset/valid/labels/Image1_jpg.rf.e32cf178eb01caac0696af7593e89a07.txt  \n",
            "  inflating: dataset/valid/labels/Image1_jpg.rf.e9d082b21ce12ac08ce0689ca3432d5d.txt  \n",
            "  inflating: dataset/valid/labels/Image1_jpg.rf.fef8d76c5ab79c95b402ab5e04e9c32b.txt  \n",
            "  inflating: dataset/valid/labels/Image2_jpg.rf.03ba72efac4dcd3de6c281ecadc2235d.txt  \n",
            "  inflating: dataset/valid/labels/Image2_jpg.rf.0882d9ff65b83d01ebd99f1284a5ffdf.txt  \n",
            "  inflating: dataset/valid/labels/Image2_jpg.rf.1db9eee91c6aa1dc5ae4f5581810afcf.txt  \n",
            "  inflating: dataset/valid/labels/Image2_jpg.rf.2d40c789966e8567fed439197639698b.txt  \n",
            "  inflating: dataset/valid/labels/Image2_jpg.rf.68786036386baea59d8f0cf1d8d94e01.txt  \n",
            "  inflating: dataset/valid/labels/Image2_jpg.rf.8e7a72fedc56f55887cb4a1de8cc9372.txt  \n",
            "  inflating: dataset/valid/labels/Image2_jpg.rf.8f073ec5a41305c14c1c5b9fdbd2a208.txt  \n",
            "  inflating: dataset/valid/labels/Image2_jpg.rf.95aa5b9f411c4cc5a9b6d81fcdf2ba7c.txt  \n",
            "  inflating: dataset/valid/labels/Image2_jpg.rf.d21659605b252e233d283663b6296ca2.txt  \n",
            "  inflating: dataset/valid/labels/Image2_jpg.rf.ddd896dc3259d2ac731b3b7a3b13bd07.txt  \n",
            "  inflating: dataset/valid/labels/Image2_jpg.rf.e207d2243ad6a2628ad517af22582bc0.txt  \n",
            "  inflating: dataset/valid/labels/Image2_jpg.rf.ebd2aa38ba9f8f3bed6fea9baaf139d3.txt  \n",
            "  inflating: dataset/valid/labels/Image2_jpg.rf.ed3857e1b792498ee76c8059b0be62a4.txt  \n",
            "  inflating: dataset/valid/labels/Image2_jpg.rf.f40e82d3ba96b0298c7fc28c36891f40.txt  \n",
            "  inflating: dataset/valid/labels/Image2_jpg.rf.f463ecdb4b21523d719f8ed38dae91d1.txt  \n",
            "  inflating: dataset/valid/labels/Image3_jpg.rf.0bf61db3041e7edcdd04ad087df4d27f.txt  \n",
            "  inflating: dataset/valid/labels/Image3_jpg.rf.142e1eac911fb07a7c894ed7758aecb3.txt  \n",
            "  inflating: dataset/valid/labels/Image3_jpg.rf.3d95ff288cfa39866e46ab9729341b6e.txt  \n",
            "  inflating: dataset/valid/labels/Image3_jpg.rf.661e3a1b80447426824735fc070174e2.txt  \n",
            "  inflating: dataset/valid/labels/Image3_jpg.rf.7a03eb13f79944f45ec133df912012ae.txt  \n",
            "  inflating: dataset/valid/labels/Image3_jpg.rf.89c5aa4127a986b47f675ee43cf8afaf.txt  \n",
            "  inflating: dataset/valid/labels/Image3_jpg.rf.912e74dc5d3772ebfb1bc47f57a446e1.txt  \n",
            "  inflating: dataset/valid/labels/Image3_jpg.rf.9639f582db46e180f5a2e56369c67447.txt  \n",
            "  inflating: dataset/valid/labels/Image3_jpg.rf.a8f647492ed42387e6beb3b22830e0da.txt  \n",
            "  inflating: dataset/valid/labels/Image3_jpg.rf.c0c7939e8788a3413cadb192dd0f3bb0.txt  \n",
            "  inflating: dataset/valid/labels/Image3_jpg.rf.c2305072624cc788a41fb2395f26afdb.txt  \n",
            "  inflating: dataset/valid/labels/Image3_jpg.rf.c641a2eb7154621d42e5840e92560aed.txt  \n",
            "  inflating: dataset/valid/labels/Image3_jpg.rf.c8aaa6d012c5d467b621b191c91355b1.txt  \n",
            "  inflating: dataset/valid/labels/Image3_jpg.rf.c8b0c6c8501f760c919f873d9eeaa130.txt  \n",
            "  inflating: dataset/valid/labels/Image3_jpg.rf.d1be611a1b25a9a35ad7349130e0ae32.txt  \n",
            "  inflating: dataset/valid/labels/Image3_jpg.rf.f0e6747b6807a57a8562bfad4ee904a7.txt  \n",
            "  inflating: dataset/valid/labels/Image4_jpg.rf.05eeff1f705e127940829bb05d803334.txt  \n",
            "  inflating: dataset/valid/labels/Image4_jpg.rf.16544ac75ed667fc40ad2bff5b29404b.txt  \n",
            "  inflating: dataset/valid/labels/Image4_jpg.rf.229b8cc6b773e248b97d3b5cefc32d45.txt  \n",
            "  inflating: dataset/valid/labels/Image4_jpg.rf.33083dc8aacd5877e5a5e4a7533c9d3d.txt  \n",
            "  inflating: dataset/valid/labels/Image4_jpg.rf.3748751b2dd4a2bd56a1a20504854c59.txt  \n",
            "  inflating: dataset/valid/labels/Image4_jpg.rf.5a2db2051243ed64799edb028735667d.txt  \n",
            "  inflating: dataset/valid/labels/Image4_jpg.rf.d4168c084359a0c2d6d6f04652890f95.txt  \n",
            "  inflating: dataset/valid/labels/Image4_jpg.rf.da657fbeb44244df32ffaf6bc4b299e4.txt  \n",
            "  inflating: dataset/valid/labels/Image4_jpg.rf.f7cd4dd8dc09c183e2f10a6ceb687c64.txt  \n",
            "  inflating: dataset/valid/labels/Image4_jpg.rf.ff19fc8533edc1fd29e0fe2b35df49ec.txt  \n",
            "  inflating: dataset/valid/labels/Image5_jpg.rf.00e67cd6b8cec9a262a8edb2007572a4.txt  \n",
            "  inflating: dataset/valid/labels/Image5_jpg.rf.1c03e851818f971fcabf6b403ca2f197.txt  \n",
            "  inflating: dataset/valid/labels/Image5_jpg.rf.27b372a83a15e801946f904ff6a01336.txt  \n",
            "  inflating: dataset/valid/labels/Image5_jpg.rf.3bee33315a9674a9f83d6f3668c8c385.txt  \n",
            "  inflating: dataset/valid/labels/Image5_jpg.rf.55d1508dbca80240f23443e497b948f5.txt  \n",
            "  inflating: dataset/valid/labels/Image5_jpg.rf.63fa63330f9f55f543ced00ef558390c.txt  \n",
            "  inflating: dataset/valid/labels/Image5_jpg.rf.651052180b242db1540bc06eacdda9e2.txt  \n",
            "  inflating: dataset/valid/labels/Image5_jpg.rf.92dc139650a598b875697b6ecfe6db10.txt  \n",
            "  inflating: dataset/valid/labels/Image5_jpg.rf.a1c5137a44dbbb0010da1b253c0abb07.txt  \n",
            "  inflating: dataset/valid/labels/Image5_jpg.rf.aaac4da61ce741a65b712e224015bec8.txt  \n",
            "  inflating: dataset/valid/labels/Image5_jpg.rf.dcbd4023292899361e565f0ef1f452a0.txt  \n",
            "  inflating: dataset/valid/labels/Image5_jpg.rf.dd0d398657637d0941900dc3a3f5f3db.txt  \n",
            "  inflating: dataset/valid/labels/Image5_jpg.rf.f52b5b67129e380dc3e8bc1b77073ed6.txt  \n",
            "  inflating: dataset/valid/labels/Image6R_jpg.rf.0b982cff621ac9a4215926a5db3966aa.txt  \n",
            "  inflating: dataset/valid/labels/Image6R_jpg.rf.114c9928023c7b153514d5624c1484de.txt  \n",
            "  inflating: dataset/valid/labels/Image6R_jpg.rf.1f010d2070205dec7c45166e6818b912.txt  \n",
            "  inflating: dataset/valid/labels/Image6R_jpg.rf.33b8d69d787d282535ba6161107a2f08.txt  \n",
            "  inflating: dataset/valid/labels/Image6R_jpg.rf.714bab648e72c5a36c707a2b7e7bcd1e.txt  \n",
            "  inflating: dataset/valid/labels/Image6R_jpg.rf.72dea9be25d35a33259c08aa762707ae.txt  \n",
            "  inflating: dataset/valid/labels/Image6R_jpg.rf.78bb5c50a7a532b9ce9a601069189687.txt  \n",
            "  inflating: dataset/valid/labels/Image6R_jpg.rf.ac03cbe45b0248e20c789a26aa94d46d.txt  \n",
            "  inflating: dataset/valid/labels/Image6R_jpg.rf.ba986c66781d67661f4383ab57d2b494.txt  \n",
            "  inflating: dataset/valid/labels/Image6R_jpg.rf.f27542d0432ea8fa5814f9e28f517bbb.txt  \n",
            "  inflating: dataset/valid/labels/Image6R_jpg.rf.f6d562b4b1981885f56223bd50a5922b.txt  \n",
            "  inflating: dataset/valid/labels/Image6R_jpg.rf.f9a8ed2cb5c435f3a667ccda7f8a70d4.txt  \n",
            "  inflating: dataset/valid/labels/Image6_jpg.rf.3312598f40445d9d259a9651eef232bd.txt  \n",
            "  inflating: dataset/valid/labels/Image6_jpg.rf.4167e76e9977d65808c0189043ad2bff.txt  \n",
            "  inflating: dataset/valid/labels/Image6_jpg.rf.4df5288f87ce2081dfaa183c3e2b45e8.txt  \n",
            "  inflating: dataset/valid/labels/Image6_jpg.rf.6047a4872af4139bbf425d8ed4e14092.txt  \n",
            "  inflating: dataset/valid/labels/Image6_jpg.rf.73e9bbdaef8ae5aeaeed4a597d88def2.txt  \n",
            "  inflating: dataset/valid/labels/Image6_jpg.rf.762efb3a9e3f6d0a14960c569e0ea93f.txt  \n",
            "  inflating: dataset/valid/labels/Image6_jpg.rf.8f8c4572e9fb8de06545a761fe9e5a3d.txt  \n",
            "  inflating: dataset/valid/labels/Image6_jpg.rf.baf206029a9050c94665848eda7e2455.txt  \n",
            "  inflating: dataset/valid/labels/Image6_jpg.rf.c236ab393a099e1c8268516096f07d2e.txt  \n",
            "  inflating: dataset/valid/labels/Image6_jpg.rf.e0b2d4b93d6b5857c832a2b65ea79ac2.txt  \n",
            "  inflating: dataset/valid/labels/Image6_jpg.rf.ed8ab63e8c87a75822c8493754edc69f.txt  \n",
            "  inflating: dataset/valid/labels/box_100_jpg.rf.55ffa48eb9c1d580664540ad59afce37.txt  \n",
            "  inflating: dataset/valid/labels/box_101_jpg.rf.b1ca32172369bbc7fe55b21fe69d47b9.txt  \n",
            "  inflating: dataset/valid/labels/box_102_jpg.rf.06fa7c6f8db54d581e88fce3989c3fe4.txt  \n",
            "  inflating: dataset/valid/labels/box_102_jpg.rf.1232cb2b04a8450706267d3dca40fe14.txt  \n",
            "  inflating: dataset/valid/labels/box_102_jpg.rf.1b80ebbf3a5235d70a6152280cb524a3.txt  \n",
            "  inflating: dataset/valid/labels/box_102_jpg.rf.5f8e8cd5026489b8d89e58512be9cf2a.txt  \n",
            "  inflating: dataset/valid/labels/box_102_jpg.rf.bc1260ef29a8ba6fefde464597ea24a6.txt  \n",
            "  inflating: dataset/valid/labels/box_102_jpg.rf.cf599aa6c6d0d1e52bd0c17fa9134e51.txt  \n",
            "  inflating: dataset/valid/labels/box_102_jpg.rf.f253ecce3f7220f83e9cac23df4b83f6.txt  \n",
            "  inflating: dataset/valid/labels/box_103_jpg.rf.1aa95a7479f24b34d0bd67963505aa46.txt  \n",
            "  inflating: dataset/valid/labels/box_103_jpg.rf.617e7ce24e653703909239fc7def87f4.txt  \n",
            "  inflating: dataset/valid/labels/box_103_jpg.rf.859cafa4519ab1ff69502f9c8f6b0c36.txt  \n",
            "  inflating: dataset/valid/labels/box_103_jpg.rf.c8e0dd193001e35488cfc6759fad41dc.txt  \n",
            "  inflating: dataset/valid/labels/box_104_jpg.rf.0fb7b1b94327960eaa596d16dbba35f2.txt  \n",
            "  inflating: dataset/valid/labels/box_104_jpg.rf.4e1b18ccde4462a721eba69dd04526b0.txt  \n",
            "  inflating: dataset/valid/labels/box_104_jpg.rf.5e1a89f2fe0d0659ceb79db882b00ffd.txt  \n",
            "  inflating: dataset/valid/labels/box_104_jpg.rf.b0897268a5b21d4f2f14457164d1b127.txt  \n",
            "  inflating: dataset/valid/labels/box_105_jpg.rf.4267273e501154b5114b8eff66d8b5e9.txt  \n",
            "  inflating: dataset/valid/labels/box_105_jpg.rf.5f4ef1001c5e1442c39c44b477b4528d.txt  \n",
            "  inflating: dataset/valid/labels/box_105_jpg.rf.84ca8b4bcf1fc9f4e2c2097f65bae6f7.txt  \n",
            "  inflating: dataset/valid/labels/box_105_jpg.rf.90dde3e68e117092ef3372f9fa2f9698.txt  \n",
            "  inflating: dataset/valid/labels/box_105_jpg.rf.b1def1448a8c6b7fd2883949e8735e17.txt  \n",
            "  inflating: dataset/valid/labels/box_105_jpg.rf.cda9194b331c2ae0f5516b9494bc8b79.txt  \n",
            "  inflating: dataset/valid/labels/box_105_jpg.rf.d11a49bf0118e1f717ced1b92e9e5740.txt  \n",
            "  inflating: dataset/valid/labels/box_105_jpg.rf.dc33c8758b4dce61573a963ca9e8ef93.txt  \n",
            "  inflating: dataset/valid/labels/box_106_jpg.rf.14a52a9b2e61ba2277cf16bd2804e211.txt  \n",
            "  inflating: dataset/valid/labels/box_106_jpg.rf.548cf2c55fa48aadb2362a955b3ea7d6.txt  \n",
            "  inflating: dataset/valid/labels/box_106_jpg.rf.8cf2d40acec7e19651dd4b68c7ba5c63.txt  \n",
            "  inflating: dataset/valid/labels/box_106_jpg.rf.ad7ee45f3297d4958cac36d8ce46a7fc.txt  \n",
            "  inflating: dataset/valid/labels/box_106_jpg.rf.b5eb93bc37471a565dc20d75c0621bad.txt  \n",
            "  inflating: dataset/valid/labels/box_106_jpg.rf.cc66460b9baf1eb3d976a32e15badac3.txt  \n",
            "  inflating: dataset/valid/labels/box_106_jpg.rf.d327274422f65405323e0d94d67569dc.txt  \n",
            "  inflating: dataset/valid/labels/box_107_jpg.rf.03a2fccd7ea6a8893a3ace67de2ac2f4.txt  \n",
            "  inflating: dataset/valid/labels/box_107_jpg.rf.15d2d7f75c7f64bf3c6b32b2da2eff21.txt  \n",
            "  inflating: dataset/valid/labels/box_107_jpg.rf.19f430e717f3c285e5abcc011c280d66.txt  \n",
            "  inflating: dataset/valid/labels/box_107_jpg.rf.9ba6d81c501eb354b122c4aa4108cca7.txt  \n",
            "  inflating: dataset/valid/labels/box_107_jpg.rf.a92b6ee71ded6dfea6243f6191763d9c.txt  \n",
            "  inflating: dataset/valid/labels/box_107_jpg.rf.f200857c425f827ac04132125930aab0.txt  \n",
            "  inflating: dataset/valid/labels/box_108_jpg.rf.3b3039c297a67e0dffada03d1759d1c0.txt  \n",
            "  inflating: dataset/valid/labels/box_108_jpg.rf.3e75fe804ce20158d44e063c83fd4fe3.txt  \n",
            "  inflating: dataset/valid/labels/box_108_jpg.rf.7653245fced3ddca81246fe241831cad.txt  \n",
            "  inflating: dataset/valid/labels/box_108_jpg.rf.7b2c1d9b98f90f04e5dec55c035f76e6.txt  \n",
            "  inflating: dataset/valid/labels/box_108_jpg.rf.b4577c0aa537e10be2a119d67218f402.txt  \n",
            "  inflating: dataset/valid/labels/box_108_jpg.rf.c92cc5e5ba1d0d5818deba2f75958f19.txt  \n",
            "  inflating: dataset/valid/labels/box_108_jpg.rf.cb9475ff7d60dbd65960ea756451bf3f.txt  \n",
            "  inflating: dataset/valid/labels/box_108_jpg.rf.d656bdabe0febdbeb8ee1ec8a0b73a3d.txt  \n",
            "  inflating: dataset/valid/labels/box_109_jpg.rf.2c6a1eca123c99b42eb5e1d105bdc538.txt  \n",
            "  inflating: dataset/valid/labels/box_109_jpg.rf.934621e920bb79a6cd0ac8df888104b1.txt  \n",
            "  inflating: dataset/valid/labels/box_109_jpg.rf.a0193cddb4383a3f1ae53b1d75a687b1.txt  \n",
            "  inflating: dataset/valid/labels/box_109_jpg.rf.aed13a83c65f095cb57523fc07ab7ce4.txt  \n",
            "  inflating: dataset/valid/labels/box_109_jpg.rf.b96836ca485caae5b64df1afae43aac5.txt  \n",
            "  inflating: dataset/valid/labels/box_109_jpg.rf.d6a4d223f6066f4e9e3178aab85d899e.txt  \n",
            "  inflating: dataset/valid/labels/box_109_jpg.rf.f3142b36f3b6c0c0180f081e63e8eb2d.txt  \n",
            "  inflating: dataset/valid/labels/box_110_jpg.rf.0dc6cb9dcaa325d0f905ce43a0fbdd11.txt  \n",
            "  inflating: dataset/valid/labels/box_110_jpg.rf.46c16f7491a1930768db05b2c3321963.txt  \n",
            "  inflating: dataset/valid/labels/box_110_jpg.rf.7f5dfd5c4e2a442d01851e7694e6099c.txt  \n",
            "  inflating: dataset/valid/labels/box_110_jpg.rf.81e7d478b86b5df6af30f0802e9b19d7.txt  \n",
            "  inflating: dataset/valid/labels/box_110_jpg.rf.b876a4b3d7de161781eb649b3ac7876f.txt  \n",
            "  inflating: dataset/valid/labels/box_110_jpg.rf.f6e76931e8c47d5d5959fc31044c30d8.txt  \n",
            "  inflating: dataset/valid/labels/box_111_jpg.rf.0211531f82e5180b007cc853cee841df.txt  \n",
            "  inflating: dataset/valid/labels/box_111_jpg.rf.9a45259fff8f9252c70e4f7c70ab4afc.txt  \n",
            "  inflating: dataset/valid/labels/box_112_jpg.rf.830dc3eb7ddb7cc393aa007fbba52574.txt  \n",
            "  inflating: dataset/valid/labels/box_112_jpg.rf.8882bd8dee9908f4f52d28b2c7c8b32f.txt  \n",
            "  inflating: dataset/valid/labels/box_112_jpg.rf.8c19c0866341e26e2eeec430fd53aa63.txt  \n",
            "  inflating: dataset/valid/labels/box_113_jpg.rf.2b51d4f37fbf08d7479e309bf013cc7a.txt  \n",
            "  inflating: dataset/valid/labels/box_113_jpg.rf.55d4e2d572ccbcc424d879112cf5d79b.txt  \n",
            "  inflating: dataset/valid/labels/box_113_jpg.rf.a1f7c5ab74c8ca8c8af526bedfa25771.txt  \n",
            "  inflating: dataset/valid/labels/box_113_jpg.rf.d23e1d73c9e228d3713ada12d16da2ab.txt  \n",
            "  inflating: dataset/valid/labels/box_113_jpg.rf.e15f75d2c9720706415bfa285398f2c7.txt  \n",
            "  inflating: dataset/valid/labels/box_114_jpg.rf.32110f78e4ab8a7a42a06b844e398b21.txt  \n",
            "  inflating: dataset/valid/labels/box_114_jpg.rf.428dca8086219f2b65a031f375762ecd.txt  \n",
            "  inflating: dataset/valid/labels/box_114_jpg.rf.719391d99d5fb5acfd0d0f086f5672d6.txt  \n",
            "  inflating: dataset/valid/labels/box_114_jpg.rf.ae28e9a28d124723513527e2551540bd.txt  \n",
            "  inflating: dataset/valid/labels/box_114_jpg.rf.e9c44a2751362c27312e9c3465c8f35f.txt  \n",
            "  inflating: dataset/valid/labels/box_114_jpg.rf.f629efa4668766047edf04b29f9b1cbf.txt  \n",
            "  inflating: dataset/valid/labels/box_115_jpg.rf.193ab28ea99df0d613e4e489ea60aa9a.txt  \n",
            "  inflating: dataset/valid/labels/box_115_jpg.rf.4d52c6fd62a1fda123664e246922bf88.txt  \n",
            "  inflating: dataset/valid/labels/box_116_jpg.rf.0a50b735c8c0967b6dbe05454d32a4e0.txt  \n",
            "  inflating: dataset/valid/labels/box_116_jpg.rf.15f61d2640a85bf5eb16143ba0e3a374.txt  \n",
            "  inflating: dataset/valid/labels/box_116_jpg.rf.287f213d21886ba9a5549543ecf5667c.txt  \n",
            "  inflating: dataset/valid/labels/box_116_jpg.rf.8350ccb599a852c3142568fa68bcdb3b.txt  \n",
            "  inflating: dataset/valid/labels/box_116_jpg.rf.a86389a9beab191cb4061d0ede63036c.txt  \n",
            "  inflating: dataset/valid/labels/box_116_jpg.rf.d6dd9f1505bbfa5246238643ed750a95.txt  \n",
            "  inflating: dataset/valid/labels/box_116_jpg.rf.d784d82ce2ab5f145e93a61754e2010d.txt  \n",
            "  inflating: dataset/valid/labels/box_117_jpg.rf.d85b23912b5259794c7c843eb986ae99.txt  \n",
            "  inflating: dataset/valid/labels/box_118_jpg.rf.588c7b40fddde949940bbdba383da9cd.txt  \n",
            "  inflating: dataset/valid/labels/box_118_jpg.rf.69035d59115f646460065ed127bef8a0.txt  \n",
            "  inflating: dataset/valid/labels/box_118_jpg.rf.b6ac709725117a60f7559a374be249d1.txt  \n",
            "  inflating: dataset/valid/labels/box_119_jpg.rf.8b00103147609f7e0a11fa661781578b.txt  \n",
            "  inflating: dataset/valid/labels/box_119_jpg.rf.bb8b32c373bc86c9d65e21c8ca54ea52.txt  \n",
            "  inflating: dataset/valid/labels/box_119_jpg.rf.cc337bef5cb7061ffeaee697cf018c97.txt  \n",
            "  inflating: dataset/valid/labels/box_120_jpg.rf.5cbea31d2f1153a07e91015b95095caf.txt  \n",
            "  inflating: dataset/valid/labels/box_120_jpg.rf.b0b3c9fa7a5f34b5db86cff495cc4d9d.txt  \n",
            "  inflating: dataset/valid/labels/box_121_jpg.rf.1221ea470f7e98b989b93806f421a047.txt  \n",
            "  inflating: dataset/valid/labels/box_121_jpg.rf.6e1468d3a8cf81e428ffc55a39426e38.txt  \n",
            "  inflating: dataset/valid/labels/box_121_jpg.rf.8e9cec5f7b71fa3fd1c0843ecd26aaa3.txt  \n",
            "  inflating: dataset/valid/labels/box_122_jpg.rf.002d51aefdfbdf3283eb31796b02a22e.txt  \n",
            "  inflating: dataset/valid/labels/box_122_jpg.rf.7a565c162cbb951692757f277b8f12ca.txt  \n",
            "  inflating: dataset/valid/labels/box_122_jpg.rf.7edb7457700ab9cbea6dea3c36aacd31.txt  \n",
            "  inflating: dataset/valid/labels/box_122_jpg.rf.8fe2a358288d30ea5d0d9262482f58e0.txt  \n",
            "  inflating: dataset/valid/labels/box_122_jpg.rf.ec6625ef1a8b4f578afc62eebf9a54d2.txt  \n",
            "  inflating: dataset/valid/labels/box_122_jpg.rf.ee4fe75aaba9e5ab968a1126a7007aa4.txt  \n",
            "  inflating: dataset/valid/labels/box_123_jpg.rf.0a4da6852254be83a4c440d74c88967d.txt  \n",
            "  inflating: dataset/valid/labels/box_123_jpg.rf.23a09f79f526e69b8b00fe83a4e63673.txt  \n",
            "  inflating: dataset/valid/labels/box_123_jpg.rf.6814dfaf4d1a26e7a203760c7320e73b.txt  \n",
            "  inflating: dataset/valid/labels/box_123_jpg.rf.689d662f53979a0be750b4f01085e220.txt  \n",
            "  inflating: dataset/valid/labels/box_123_jpg.rf.dd60a1c906f19e8bad4dcf604aff84d9.txt  \n",
            "  inflating: dataset/valid/labels/box_16_jpg.rf.022b3a4b173c09e247afd9bfad4376fa.txt  \n",
            "  inflating: dataset/valid/labels/box_16_jpg.rf.21956fe7e86efbeba49cc6ac3e3f3283.txt  \n",
            "  inflating: dataset/valid/labels/box_16_jpg.rf.b63d522f2141aab376d882fdea9be13d.txt  \n",
            "  inflating: dataset/valid/labels/box_17_jpg.rf.217531d1fb47c3e00eb40a0d5fb492bd.txt  \n",
            "  inflating: dataset/valid/labels/box_17_jpg.rf.26ba76a66247eb202ecdd08c36d17c42.txt  \n",
            "  inflating: dataset/valid/labels/box_17_jpg.rf.282236673639792d3d36f4297aa06395.txt  \n",
            "  inflating: dataset/valid/labels/box_17_jpg.rf.44ddcea3807b71581469cff252245229.txt  \n",
            "  inflating: dataset/valid/labels/box_17_jpg.rf.4eca5561c885a5d8167b08a4b4058d1b.txt  \n",
            "  inflating: dataset/valid/labels/box_17_jpg.rf.5318732e442cb60fe8eac9998afada51.txt  \n",
            "  inflating: dataset/valid/labels/box_17_jpg.rf.7c55eb4a93937683d97838951348a6f0.txt  \n",
            "  inflating: dataset/valid/labels/box_17_jpg.rf.a8951d06cdd53ba5c5ff0a894ea52484.txt  \n",
            "  inflating: dataset/valid/labels/box_18_jpg.rf.060d56e9b241cff01637734b82855a76.txt  \n",
            "  inflating: dataset/valid/labels/box_18_jpg.rf.384816b3d7c61a302f6f4949b24cf35f.txt  \n",
            "  inflating: dataset/valid/labels/box_18_jpg.rf.3ee5b7ff5798796479bfc821959af2a2.txt  \n",
            "  inflating: dataset/valid/labels/box_18_jpg.rf.616e188f113efa8f6f85bcd091b7b003.txt  \n",
            "  inflating: dataset/valid/labels/box_18_jpg.rf.94788d0ff52afc38283e589b5404e187.txt  \n",
            "  inflating: dataset/valid/labels/box_18_jpg.rf.b31b5330e81f2da5799d07838632fbf5.txt  \n",
            "  inflating: dataset/valid/labels/box_18_jpg.rf.d8488ece9903e59b38f845d83f6d39e3.txt  \n",
            "  inflating: dataset/valid/labels/box_18_jpg.rf.f082ca304e2683277fef100533b40eb3.txt  \n",
            "  inflating: dataset/valid/labels/box_18_jpg.rf.fca4ba8f79a1357a21c5ff715b089cf7.txt  \n",
            "  inflating: dataset/valid/labels/box_19_jpg.rf.09d0e0b060b903f802ab6bbfef138386.txt  \n",
            "  inflating: dataset/valid/labels/box_19_jpg.rf.0add849a788aa6ef9c6e59b633c4f837.txt  \n",
            "  inflating: dataset/valid/labels/box_19_jpg.rf.3f8aa7af040b21e704d97d1347d47b9f.txt  \n",
            "  inflating: dataset/valid/labels/box_19_jpg.rf.9e14cedf4d37990289ad25b3a2ba2fc9.txt  \n",
            "  inflating: dataset/valid/labels/box_19_jpg.rf.be39754750e3cb4061d9a760edacf6a5.txt  \n",
            "  inflating: dataset/valid/labels/box_19_jpg.rf.db590641ad7ce638c4800ad098311338.txt  \n",
            "  inflating: dataset/valid/labels/box_19_jpg.rf.ec9a2dc327e1337f4451ba6bfd113307.txt  \n",
            "  inflating: dataset/valid/labels/box_20_jpg.rf.4b565981b36715f4e07fa74cd66592dc.txt  \n",
            "  inflating: dataset/valid/labels/box_20_jpg.rf.4c44941ed6c387c1c96155be0bd83424.txt  \n",
            "  inflating: dataset/valid/labels/box_20_jpg.rf.6773769bcfa31221b8f6bb06ccdba485.txt  \n",
            "  inflating: dataset/valid/labels/box_20_jpg.rf.77793629eb18350d51bf324ab347ac97.txt  \n",
            "  inflating: dataset/valid/labels/box_20_jpg.rf.8980f200c76d45d78b3c82ebeb60eb1c.txt  \n",
            "  inflating: dataset/valid/labels/box_20_jpg.rf.c63d0ee9fc64ac3953388d9d2287b51c.txt  \n",
            "  inflating: dataset/valid/labels/box_20_jpg.rf.ca421cfbe576fa993337ff89bff92432.txt  \n",
            "  inflating: dataset/valid/labels/box_21_jpg.rf.00c0c44b9eba869b3534f3ace9f5b86f.txt  \n",
            "  inflating: dataset/valid/labels/box_21_jpg.rf.597f6763dc2216cd4efd59e4e9533898.txt  \n",
            "  inflating: dataset/valid/labels/box_21_jpg.rf.647cf684635cd617836cde0e45ed628d.txt  \n",
            "  inflating: dataset/valid/labels/box_21_jpg.rf.8b68f2158bdc69fc6d3a8d9617e9cc05.txt  \n",
            "  inflating: dataset/valid/labels/box_21_jpg.rf.909d125e2e5a62d35211b2475e522b84.txt  \n",
            "  inflating: dataset/valid/labels/box_21_jpg.rf.c0f7c48a4b4b18cf38bec28f0ec65beb.txt  \n",
            "  inflating: dataset/valid/labels/box_22_jpg.rf.cecf7f4f407d3de0ffda5d8c72260397.txt  \n",
            "  inflating: dataset/valid/labels/box_22_jpg.rf.ea7de962b80da78c99906d02d1fd6964.txt  \n",
            "  inflating: dataset/valid/labels/box_23_jpg.rf.1ceffd0057f5f842484ce9a0120dc6c2.txt  \n",
            "  inflating: dataset/valid/labels/box_23_jpg.rf.55b5e67416acc43bdeaa685f553e4de8.txt  \n",
            "  inflating: dataset/valid/labels/box_23_jpg.rf.61365f6b25ce1057e5912e240f8e6649.txt  \n",
            "  inflating: dataset/valid/labels/box_23_jpg.rf.73e1ae75e2725dccf5f9e236e4fc4b05.txt  \n",
            "  inflating: dataset/valid/labels/box_23_jpg.rf.9bd19a191ae7267b904be967e5f55cc3.txt  \n",
            "  inflating: dataset/valid/labels/box_23_jpg.rf.c6566fb3a56f0bb308c12da95a34488b.txt  \n",
            "  inflating: dataset/valid/labels/box_23_jpg.rf.f8c70fc0c9de82233660f92833ee7bc1.txt  \n",
            "  inflating: dataset/valid/labels/box_24_jpg.rf.03059ac95ca859f8329e2e570dc4a9cb.txt  \n",
            "  inflating: dataset/valid/labels/box_24_jpg.rf.0bfc77accdce4f0aca198b79a184a1be.txt  \n",
            "  inflating: dataset/valid/labels/box_24_jpg.rf.18e85150ea6fddd078cf0eb688cf07f1.txt  \n",
            "  inflating: dataset/valid/labels/box_24_jpg.rf.1b39451be9720e41facb29dfdfa32a0b.txt  \n",
            "  inflating: dataset/valid/labels/box_24_jpg.rf.26153b5cb012954dde2f08e14e9c2239.txt  \n",
            "  inflating: dataset/valid/labels/box_24_jpg.rf.321a12a3bf56081062c62fc2b1f6b2ab.txt  \n",
            "  inflating: dataset/valid/labels/box_24_jpg.rf.43d177b80f1c60f99c801bce742f1073.txt  \n",
            "  inflating: dataset/valid/labels/box_24_jpg.rf.6debbab62c1420ba335351ac5fc70e35.txt  \n",
            "  inflating: dataset/valid/labels/box_24_jpg.rf.9e861db6b5218bd45337323cdf2a0543.txt  \n",
            "  inflating: dataset/valid/labels/box_24_jpg.rf.fb3b5c202b06f2d37c23d7acf968d2ce.txt  \n",
            "  inflating: dataset/valid/labels/box_24_jpg.rf.fc31b042478073c5db6e3918a9207320.txt  \n",
            "  inflating: dataset/valid/labels/box_25_jpg.rf.10d132fc449867952298b4436b34e052.txt  \n",
            "  inflating: dataset/valid/labels/box_25_jpg.rf.48768c2b0c49307fe7f58c082583e78b.txt  \n",
            "  inflating: dataset/valid/labels/box_26_jpg.rf.264bf3b9af2a8dca02d7240f6f150b3b.txt  \n",
            "  inflating: dataset/valid/labels/box_26_jpg.rf.3b59f83b3a5d506e38c3a50a7996bdcc.txt  \n",
            "  inflating: dataset/valid/labels/box_26_jpg.rf.41e3e714341898b63c06a2f73963e2a5.txt  \n",
            "  inflating: dataset/valid/labels/box_26_jpg.rf.75cc642204a29f0c7788c68f0f645dd4.txt  \n",
            "  inflating: dataset/valid/labels/box_26_jpg.rf.99462abc3c2f5920034a4ecc004ff246.txt  \n",
            "  inflating: dataset/valid/labels/box_26_jpg.rf.b55ece135154a1652b3740b92a935cb1.txt  \n",
            "  inflating: dataset/valid/labels/box_26_jpg.rf.d9bd25a58a8de8c7373f90a35fcd26ec.txt  \n",
            "  inflating: dataset/valid/labels/box_27_jpg.rf.0ab08ff79b6dbf48cfa11fd62e540444.txt  \n",
            "  inflating: dataset/valid/labels/box_27_jpg.rf.aa819ffef2d95ab2297bc22ac8278c6e.txt  \n",
            "  inflating: dataset/valid/labels/box_27_jpg.rf.f77aecb88b4a95542febbd5106ddb364.txt  \n",
            "  inflating: dataset/valid/labels/box_28_jpg.rf.0178a69ab2ed12102b8ff0ecf4311b17.txt  \n",
            "  inflating: dataset/valid/labels/box_28_jpg.rf.02cea029eece3f128e12bae3a74e7326.txt  \n",
            "  inflating: dataset/valid/labels/box_28_jpg.rf.071f53b972a415dc40029a5ee8c3e7a6.txt  \n",
            "  inflating: dataset/valid/labels/box_28_jpg.rf.435ba7183d770e04fde75749d0c3b87d.txt  \n",
            "  inflating: dataset/valid/labels/box_28_jpg.rf.ad69cc1f2f0c070868f1b395777af3e4.txt  \n",
            "  inflating: dataset/valid/labels/box_28_jpg.rf.b0edd7ab1944c9dbf14fd7eba42ecf63.txt  \n",
            "  inflating: dataset/valid/labels/box_28_jpg.rf.cbb0838ea861f7be526c292de75a2c4e.txt  \n",
            "  inflating: dataset/valid/labels/box_28_jpg.rf.f8e8e6226689d44afd06e80aa8b3c30e.txt  \n",
            "  inflating: dataset/valid/labels/box_30_jpg.rf.1c5bb5e0649a3a75d0992daa76967031.txt  \n",
            "  inflating: dataset/valid/labels/box_30_jpg.rf.4a505bfb8ec1b7ecb300596fba724fcd.txt  \n",
            "  inflating: dataset/valid/labels/box_30_jpg.rf.584d376a6c6201b79c989c977a8c259f.txt  \n",
            "  inflating: dataset/valid/labels/box_30_jpg.rf.6746b63bcc2011c48fc0e8614d11ed4d.txt  \n",
            "  inflating: dataset/valid/labels/box_31_jpg.rf.1faf133ec8d20114258e320d427658e7.txt  \n",
            "  inflating: dataset/valid/labels/box_31_jpg.rf.28a11cef33178df6db3671574f0fae58.txt  \n",
            "  inflating: dataset/valid/labels/box_31_jpg.rf.499db08a27fe64d5705a117d339fa476.txt  \n",
            "  inflating: dataset/valid/labels/box_31_jpg.rf.4a3195e0cd291e25fe5ed92cd14f928e.txt  \n",
            "  inflating: dataset/valid/labels/box_31_jpg.rf.57f59c2e0103e25faff2bd8156158805.txt  \n",
            "  inflating: dataset/valid/labels/box_31_jpg.rf.8db9dbbca98dbdb0cd40f09d8fd5565a.txt  \n",
            "  inflating: dataset/valid/labels/box_31_jpg.rf.9082786610ba301018b55c36c0269386.txt  \n",
            "  inflating: dataset/valid/labels/box_31_jpg.rf.caf2a6b5fa6cd28d3c72e5c495a6a3ed.txt  \n",
            "  inflating: dataset/valid/labels/box_31_jpg.rf.d6811ec31570a69d9554395be9070376.txt  \n",
            "  inflating: dataset/valid/labels/box_32_jpg.rf.02d6416ffc340e23dc5ccea6cfdabee1.txt  \n",
            "  inflating: dataset/valid/labels/box_32_jpg.rf.4ea4e91c4da8e739b89adfe3f61b72a3.txt  \n",
            "  inflating: dataset/valid/labels/box_32_jpg.rf.90acaf03da0f083f60c6e9fc87178979.txt  \n",
            "  inflating: dataset/valid/labels/box_32_jpg.rf.929246453ca93f5995fa4abb3d46785a.txt  \n",
            "  inflating: dataset/valid/labels/box_32_jpg.rf.cee36e5976f15f06ee3411f6b20f5b48.txt  \n",
            "  inflating: dataset/valid/labels/box_32_jpg.rf.eae2178baec5aeea04656cf13933584b.txt  \n",
            "  inflating: dataset/valid/labels/box_32_jpg.rf.f5216cce30a5b6103644f666b615284e.txt  \n",
            "  inflating: dataset/valid/labels/box_32_jpg.rf.fe73ab23451ee97f0680fc1d79a7462d.txt  \n",
            "  inflating: dataset/valid/labels/box_33_jpg.rf.b78bced3cc5eeaef96944d43ff51c11d.txt  \n",
            "  inflating: dataset/valid/labels/box_33_jpg.rf.e57f413c2446f4f7a8bfec863b3c88b6.txt  \n",
            "  inflating: dataset/valid/labels/box_39_jpg.rf.8e51cb7800f18b2c181d3c6fc4d1216b.txt  \n",
            "  inflating: dataset/valid/labels/box_41_jpg.rf.0d1726bbe2c248bbf17e070dd37500f2.txt  \n",
            "  inflating: dataset/valid/labels/box_41_jpg.rf.7ada83673b06c7233dd861120eaab53e.txt  \n",
            "  inflating: dataset/valid/labels/box_41_jpg.rf.866a2ff9b73fc4163bcd62d7820bfac3.txt  \n",
            "  inflating: dataset/valid/labels/box_41_jpg.rf.9ce9d9005514f8a5cd44023e8c7195cc.txt  \n",
            "  inflating: dataset/valid/labels/box_41_jpg.rf.b1618d9dcfc7480622c0216a7ceca4aa.txt  \n",
            "  inflating: dataset/valid/labels/box_41_jpg.rf.cc35e1b7835233bfdc4c3008a6ccfacc.txt  \n",
            "  inflating: dataset/valid/labels/box_43_jpg.rf.1b07641b9d569bfee6250b46d67c691b.txt  \n",
            "  inflating: dataset/valid/labels/box_44_jpg.rf.053312dacd15a6a770e0533ea5611b54.txt  \n",
            "  inflating: dataset/valid/labels/box_44_jpg.rf.0c1345ffe002d95118199ee651ae3b68.txt  \n",
            "  inflating: dataset/valid/labels/box_44_jpg.rf.4275085afcb7f5896d46edb04162e5fa.txt  \n",
            "  inflating: dataset/valid/labels/box_44_jpg.rf.ae82513c80c62b9985e97462f9995ec3.txt  \n",
            "  inflating: dataset/valid/labels/box_44_jpg.rf.c602670d0fe8d79786c9e1067b68fc49.txt  \n",
            "  inflating: dataset/valid/labels/box_45_jpg.rf.14454ac767f45c48cf75cdfb6f4b2b80.txt  \n",
            "  inflating: dataset/valid/labels/box_45_jpg.rf.2bb4a491fc1fae86c4c48bf248dfa849.txt  \n",
            "  inflating: dataset/valid/labels/box_45_jpg.rf.37d4d7bc7b3561d029e222a03390f7dc.txt  \n",
            "  inflating: dataset/valid/labels/box_45_jpg.rf.923f1427c84fd5ed2d0703f51fa590e4.txt  \n",
            "  inflating: dataset/valid/labels/box_45_jpg.rf.af7d812b2e71754a78a538717cb4cf7d.txt  \n",
            "  inflating: dataset/valid/labels/box_46_jpg.rf.1b96b25b828b65e380b57c365f5a1e60.txt  \n",
            "  inflating: dataset/valid/labels/box_46_jpg.rf.5d46748216e67eca2b54fd5e0f9c7d93.txt  \n",
            "  inflating: dataset/valid/labels/box_46_jpg.rf.7a5df6763830fecfc5694534841c77b9.txt  \n",
            "  inflating: dataset/valid/labels/box_46_jpg.rf.8175aa79510dae2e102cfb073a0583a9.txt  \n",
            "  inflating: dataset/valid/labels/box_46_jpg.rf.9c4f1bc239c9ec6b62b73063bcd934bb.txt  \n",
            "  inflating: dataset/valid/labels/box_46_jpg.rf.a8b8db4b531e330839d6c3814372cc56.txt  \n",
            "  inflating: dataset/valid/labels/box_46_jpg.rf.b0a23976e4f5b9d052d62ad72a664688.txt  \n",
            "  inflating: dataset/valid/labels/box_46_jpg.rf.e93e2b9f6fa91ee39989742f5d5d0a1b.txt  \n",
            "  inflating: dataset/valid/labels/box_46_jpg.rf.f3c9333fee1cc6c5db6c02969b8581c8.txt  \n",
            "  inflating: dataset/valid/labels/box_47_jpg.rf.078225d9e0e38cf6e6e8df6195ca045a.txt  \n",
            "  inflating: dataset/valid/labels/box_47_jpg.rf.59c6bfd21bfd919d6d5bc5d78ad66640.txt  \n",
            "  inflating: dataset/valid/labels/box_47_jpg.rf.be2f7e30cc5353372174b33e3db70677.txt  \n",
            "  inflating: dataset/valid/labels/box_47_jpg.rf.db980d3119f4daa1222de58cccf8efce.txt  \n",
            "  inflating: dataset/valid/labels/box_48_jpg.rf.262809c193acb8c606da4d8d8ae4032f.txt  \n",
            "  inflating: dataset/valid/labels/box_48_jpg.rf.27d1a1eafb57669a741d3cc894925da6.txt  \n",
            "  inflating: dataset/valid/labels/box_48_jpg.rf.b5fb104b79959d2e7d7e57340f0aed8f.txt  \n",
            "  inflating: dataset/valid/labels/box_49_jpg.rf.08b141dbecbe613b0d41453bdad4e92c.txt  \n",
            "  inflating: dataset/valid/labels/box_49_jpg.rf.671305bef0feea24627371c6f957e122.txt  \n",
            "  inflating: dataset/valid/labels/box_49_jpg.rf.b124bf5f80933cdc88b1b3c75dc8d343.txt  \n",
            "  inflating: dataset/valid/labels/box_49_jpg.rf.e91769b85d6c6f8c063144d9984ee05c.txt  \n",
            "  inflating: dataset/valid/labels/box_49_jpg.rf.ebadabe45a5333b4e2f5f91f72ef1178.txt  \n",
            "  inflating: dataset/valid/labels/box_50_jpg.rf.4ef78376e05c7f95308a5c55bef3b794.txt  \n",
            "  inflating: dataset/valid/labels/box_50_jpg.rf.640a660e6c8a29094a86d7f592cd810f.txt  \n",
            "  inflating: dataset/valid/labels/box_50_jpg.rf.889090ec0fad6fbc3ab1c21d96f9aa65.txt  \n",
            "  inflating: dataset/valid/labels/box_50_jpg.rf.93b61f767faefdd2dabbb57f6607c14f.txt  \n",
            "  inflating: dataset/valid/labels/box_50_jpg.rf.f086b12d68c5d4784bb163769e10b151.txt  \n",
            "  inflating: dataset/valid/labels/box_51_jpg.rf.220b604cb6c863edbaaad91608c16c20.txt  \n",
            "  inflating: dataset/valid/labels/box_51_jpg.rf.2c7691ba871fdef990d11664389322d4.txt  \n",
            "  inflating: dataset/valid/labels/box_51_jpg.rf.34f57a71f0f92c56f247df7abb6ac9d1.txt  \n",
            "  inflating: dataset/valid/labels/box_51_jpg.rf.50b233996f32dea83daca2eb29513f61.txt  \n",
            "  inflating: dataset/valid/labels/box_51_jpg.rf.671298757ccbe4e1365e68a46d28a8c5.txt  \n",
            "  inflating: dataset/valid/labels/box_51_jpg.rf.c8f0d1317fd7843cc927390b11589768.txt  \n",
            "  inflating: dataset/valid/labels/box_51_jpg.rf.fc821d21e6de3408fd2f5054f82aa8a2.txt  \n",
            "  inflating: dataset/valid/labels/box_54_jpg.rf.118812a33203cd5dd263d5e57d5db6aa.txt  \n",
            "  inflating: dataset/valid/labels/box_54_jpg.rf.30b376ee0e9f87001f7196849498d914.txt  \n",
            "  inflating: dataset/valid/labels/box_54_jpg.rf.5feeccf71eb978b00a7e1fa297afa1fd.txt  \n",
            "  inflating: dataset/valid/labels/box_54_jpg.rf.d2d2a07698a1175dcbb811ee6a454d2e.txt  \n",
            "  inflating: dataset/valid/labels/box_55_jpg.rf.1a5b4ff20587535ba0685b7aa3999a07.txt  \n",
            "  inflating: dataset/valid/labels/box_55_jpg.rf.67eb996472a4ee2a1bb1c62f383f5b6c.txt  \n",
            "  inflating: dataset/valid/labels/box_55_jpg.rf.89800d13c7132b71253487249ba9be69.txt  \n",
            "  inflating: dataset/valid/labels/box_55_jpg.rf.ae61e8a385c7cf9520e3932ed1a26954.txt  \n",
            "  inflating: dataset/valid/labels/box_55_jpg.rf.b00cbadfed8ca1e166575e6298ee127d.txt  \n",
            "  inflating: dataset/valid/labels/box_55_jpg.rf.baede301132079117e4c1215c2db518c.txt  \n",
            "  inflating: dataset/valid/labels/box_55_jpg.rf.bdd2827653356860c47aa89b741ae5cc.txt  \n",
            "  inflating: dataset/valid/labels/box_55_jpg.rf.d91457f563e76481cea8e9ca100584f5.txt  \n",
            "  inflating: dataset/valid/labels/box_56_jpg.rf.24aa7fd856f4ad63cacd3d52895e7d08.txt  \n",
            "  inflating: dataset/valid/labels/box_56_jpg.rf.d165b532a9e97ee0fb0d25d184e4ce66.txt  \n",
            "  inflating: dataset/valid/labels/box_58_jpg.rf.19b5621c01a03d47eb1dcaad06353067.txt  \n",
            "  inflating: dataset/valid/labels/box_58_jpg.rf.77ef13d7972f46df6c8e3c2b0b7de81e.txt  \n",
            "  inflating: dataset/valid/labels/box_58_jpg.rf.88fe33c94e93cdb86468cfa1bebd53a7.txt  \n",
            "  inflating: dataset/valid/labels/box_58_jpg.rf.d259f7527feb9fff48817d376638e3f5.txt  \n",
            "  inflating: dataset/valid/labels/box_58_jpg.rf.e07e833b2f5ab9a386305bc277b60164.txt  \n",
            "  inflating: dataset/valid/labels/box_59_jpg.rf.06cf947cbdb702ba97f859b5f2743e73.txt  \n",
            "  inflating: dataset/valid/labels/box_59_jpg.rf.1f28ff7ea1c122da818006ac37b3a1ed.txt  \n",
            "  inflating: dataset/valid/labels/box_59_jpg.rf.2e98e6de7d2cb45953d958997fcf99e5.txt  \n",
            "  inflating: dataset/valid/labels/box_59_jpg.rf.6da731ec0ccb7069c083477344eb9ec7.txt  \n",
            "  inflating: dataset/valid/labels/box_59_jpg.rf.9d3e0bd43edac567637bf1863270840d.txt  \n",
            "  inflating: dataset/valid/labels/box_59_jpg.rf.c0392a2ca5b1444e9fa58658ee7fd848.txt  \n",
            "  inflating: dataset/valid/labels/box_59_jpg.rf.f4ac0b20c9a09d09027385cdaccceb85.txt  \n",
            "  inflating: dataset/valid/labels/box_59_jpg.rf.f545f29afeee7eba0f9c1d8126c405d1.txt  \n",
            "  inflating: dataset/valid/labels/box_59_jpg.rf.fb019b4dca4831deca3c09d5d41aab6d.txt  \n",
            "  inflating: dataset/valid/labels/box_60_jpg.rf.85b2a6195ec2ce7e015624fc83d3741b.txt  \n",
            "  inflating: dataset/valid/labels/box_60_jpg.rf.9907c3fb9f0031996cbc99e51869edf0.txt  \n",
            "  inflating: dataset/valid/labels/box_60_jpg.rf.dac6c0a21854f476d51a582a3368cd3a.txt  \n",
            "  inflating: dataset/valid/labels/box_61_jpg.rf.4c7c9ebfb5fa902a5b9bcb02600875c2.txt  \n",
            "  inflating: dataset/valid/labels/box_61_jpg.rf.50701480c9171de01b3067fa4f6b24e1.txt  \n",
            "  inflating: dataset/valid/labels/box_61_jpg.rf.54093ee98ef3f7812a10f04b36421760.txt  \n",
            "  inflating: dataset/valid/labels/box_61_jpg.rf.6633a1cd5494abbb7e352096ccebfbb8.txt  \n",
            "  inflating: dataset/valid/labels/box_61_jpg.rf.8a8d840a1421481765bf01fb351e2210.txt  \n",
            "  inflating: dataset/valid/labels/box_61_jpg.rf.e243c40f5cfe70be7d73126a87034300.txt  \n",
            "  inflating: dataset/valid/labels/box_62_jpg.rf.4dc2fefc8c47a2f7b8848da4cfb9b995.txt  \n",
            "  inflating: dataset/valid/labels/box_62_jpg.rf.a632c690a8e469e84b16aec7dfba5570.txt  \n",
            "  inflating: dataset/valid/labels/box_62_jpg.rf.ec95c385dca755602424eeb5d883e9d8.txt  \n",
            "  inflating: dataset/valid/labels/box_63_jpg.rf.0ee08a4fb0d238fcdfc3a09c797e2810.txt  \n",
            "  inflating: dataset/valid/labels/box_63_jpg.rf.25d33cceb07a9865e545d1de0bad52de.txt  \n",
            "  inflating: dataset/valid/labels/box_63_jpg.rf.2f243e310951a8f454ed3efed13c3c7b.txt  \n",
            "  inflating: dataset/valid/labels/box_63_jpg.rf.55d32c8d20abe15eeb3e5b7d4cb14ae1.txt  \n",
            "  inflating: dataset/valid/labels/box_63_jpg.rf.82df32838e474c00f944351554b1499b.txt  \n",
            "  inflating: dataset/valid/labels/box_63_jpg.rf.9d7cc16b82101abbdadb4b20861bfa13.txt  \n",
            "  inflating: dataset/valid/labels/box_63_jpg.rf.c4037d3cc3ad6d2f79ff830d2650cc9c.txt  \n",
            "  inflating: dataset/valid/labels/box_63_jpg.rf.eb3b8e1be4f4894f8d49b0d35cd00884.txt  \n",
            "  inflating: dataset/valid/labels/box_64_jpg.rf.183052ca84694db0ce6ccc5c404eaf30.txt  \n",
            "  inflating: dataset/valid/labels/box_64_jpg.rf.234f1f101252fef5a984998b418cadaa.txt  \n",
            "  inflating: dataset/valid/labels/box_64_jpg.rf.8884be5a4fd861a645f46faafb095477.txt  \n",
            "  inflating: dataset/valid/labels/box_65_jpg.rf.3858b7c4c29e5fd5cc758a3e52035bcd.txt  \n",
            "  inflating: dataset/valid/labels/box_65_jpg.rf.4b274dfc0fc23faf0d7ef8cdcac734f0.txt  \n",
            "  inflating: dataset/valid/labels/box_65_jpg.rf.8cb92c13751418c1609ef7d067a5dacc.txt  \n",
            "  inflating: dataset/valid/labels/box_65_jpg.rf.a2c97af8976157a4e0e73ec2cdcaa4de.txt  \n",
            "  inflating: dataset/valid/labels/box_65_jpg.rf.f880a0c9c7d4b50ce4b5f5cff072eaf1.txt  \n",
            "  inflating: dataset/valid/labels/box_66_jpg.rf.3c86ad8cc347fbc34f13359dbb95a4d5.txt  \n",
            "  inflating: dataset/valid/labels/box_66_jpg.rf.521eacf968e5a72b76278ea5857d8b29.txt  \n",
            "  inflating: dataset/valid/labels/box_66_jpg.rf.ec4f18bcc0d7f00e265b3ba4c357df98.txt  \n",
            "  inflating: dataset/valid/labels/box_67_jpg.rf.1d3ff78e5db45f7aef04af4d781e3ce4.txt  \n",
            "  inflating: dataset/valid/labels/box_67_jpg.rf.363acbf6cdc839e3df397629b9c2dfb7.txt  \n",
            "  inflating: dataset/valid/labels/box_67_jpg.rf.39db633cfe4e7669197b04c5d25b59bf.txt  \n",
            "  inflating: dataset/valid/labels/box_67_jpg.rf.79b17576425a8c8f901ac7580c5c9c31.txt  \n",
            "  inflating: dataset/valid/labels/box_67_jpg.rf.85afbcbb8239c11d609bd18a2ce7d01d.txt  \n",
            "  inflating: dataset/valid/labels/box_68_jpg.rf.0ec40dd3fb3daf25879d58b0927e0f30.txt  \n",
            "  inflating: dataset/valid/labels/box_68_jpg.rf.1e66c5c20427efa7fe7ff9d6d793430a.txt  \n",
            "  inflating: dataset/valid/labels/box_68_jpg.rf.f99cb76c9106e7ee7ae3f7b88bacb607.txt  \n",
            "  inflating: dataset/valid/labels/box_69_jpg.rf.1f646829fa6c58886c14084ca1edff09.txt  \n",
            "  inflating: dataset/valid/labels/box_69_jpg.rf.48262aa44a53e07fa796a33ebe2f76d4.txt  \n",
            "  inflating: dataset/valid/labels/box_69_jpg.rf.94a81156876427c7f0f89b7760ece2b3.txt  \n",
            "  inflating: dataset/valid/labels/box_69_jpg.rf.e326846b16537f01be7d3279d459c69d.txt  \n",
            "  inflating: dataset/valid/labels/box_69_jpg.rf.e3c0fecccf8b258f631c4ce84d029300.txt  \n",
            "  inflating: dataset/valid/labels/box_69_jpg.rf.f6a9e6cb347a70909350d99fa32fe425.txt  \n",
            "  inflating: dataset/valid/labels/box_70_jpg.rf.01a7cabe3e61008cf518aa6a3871f518.txt  \n",
            "  inflating: dataset/valid/labels/box_70_jpg.rf.03d597ca7122bdac538bb0a61512f6a8.txt  \n",
            "  inflating: dataset/valid/labels/box_70_jpg.rf.54b8c9575122cd1d8602c47499bb94be.txt  \n",
            "  inflating: dataset/valid/labels/box_70_jpg.rf.7816021cc4ef22bcdf08fb52fc628b90.txt  \n",
            "  inflating: dataset/valid/labels/box_70_jpg.rf.9a2f4ef9e0c7834980b4e98b6ad4b792.txt  \n",
            "  inflating: dataset/valid/labels/box_71_jpg.rf.0bb94918d092c3ab6183470bc56dcb0b.txt  \n",
            "  inflating: dataset/valid/labels/box_71_jpg.rf.2af88d12a2c6ec572aeefd209185af22.txt  \n",
            "  inflating: dataset/valid/labels/box_71_jpg.rf.4ee74991dd153f7d4dfb458aaf740e74.txt  \n",
            "  inflating: dataset/valid/labels/box_71_jpg.rf.6fc597f152aeaa262ddd4e4f196504c3.txt  \n",
            "  inflating: dataset/valid/labels/box_71_jpg.rf.8278e2e3145cda2081749d81ea606c6c.txt  \n",
            "  inflating: dataset/valid/labels/box_71_jpg.rf.991c47ecd4269c0a088d0f02a1a29b00.txt  \n",
            "  inflating: dataset/valid/labels/box_71_jpg.rf.f6861fe6b64532426c4906fdb0358e1f.txt  \n",
            "  inflating: dataset/valid/labels/box_72_jpg.rf.448f60547d595633c502fcc7c02309fe.txt  \n",
            "  inflating: dataset/valid/labels/box_72_jpg.rf.4d64c798439d89cfdd629c04036ddcbb.txt  \n",
            "  inflating: dataset/valid/labels/box_72_jpg.rf.54dcfdf70078b207fbc999e9e97f181b.txt  \n",
            "  inflating: dataset/valid/labels/box_72_jpg.rf.5c07cb108155419b6926cd019a456669.txt  \n",
            "  inflating: dataset/valid/labels/box_72_jpg.rf.9a4c809e7c7898c63b9c019094843cd0.txt  \n",
            "  inflating: dataset/valid/labels/box_72_jpg.rf.dc573f07c28f03defc63dbd4a4bf55bd.txt  \n",
            "  inflating: dataset/valid/labels/box_73_jpg.rf.3d82762a5d02115b3d8a2d5b7866ee0f.txt  \n",
            "  inflating: dataset/valid/labels/box_73_jpg.rf.4d5f909d09049fe45cf9838c7a3bc392.txt  \n",
            "  inflating: dataset/valid/labels/box_73_jpg.rf.5dac8dc2ed3425adced21087c4fec084.txt  \n",
            "  inflating: dataset/valid/labels/box_73_jpg.rf.9b57f1ebdcd05e59dc9de89aec071f02.txt  \n",
            "  inflating: dataset/valid/labels/box_73_jpg.rf.e3028d2d3efb82965c5148eb8b830a4a.txt  \n",
            "  inflating: dataset/valid/labels/box_74_jpg.rf.14c5613e29cc2be11ffe900d4ed66c36.txt  \n",
            "  inflating: dataset/valid/labels/box_74_jpg.rf.157f4c96d15e1579532ecd56ae97ffda.txt  \n",
            "  inflating: dataset/valid/labels/box_74_jpg.rf.69eb365f343387626228077f56841e89.txt  \n",
            "  inflating: dataset/valid/labels/box_74_jpg.rf.78373301e0c5269ad01c29bf5f7ff8a6.txt  \n",
            "  inflating: dataset/valid/labels/box_74_jpg.rf.d7e07a4acacc7e08a5f2da5c7842a82e.txt  \n",
            "  inflating: dataset/valid/labels/box_75_jpg.rf.363f06cbb57b9a82def9730ba29b57fd.txt  \n",
            "  inflating: dataset/valid/labels/box_75_jpg.rf.7dc2e8dfc750694ab797ed990c3b7f59.txt  \n",
            "  inflating: dataset/valid/labels/box_76_jpg.rf.16bb8e8388876e7ff679e34c79e15a58.txt  \n",
            "  inflating: dataset/valid/labels/box_76_jpg.rf.5d9291d987f854b3606e983a9958a06a.txt  \n",
            "  inflating: dataset/valid/labels/box_76_jpg.rf.97ed4a47aabfbb643fef348e81077818.txt  \n",
            "  inflating: dataset/valid/labels/box_76_jpg.rf.ba13384050e63aff8a867421b596ed84.txt  \n",
            "  inflating: dataset/valid/labels/box_76_jpg.rf.cdcd254ef4b5ec4d9859b96c0932a4c1.txt  \n",
            "  inflating: dataset/valid/labels/box_76_jpg.rf.edadb95de435394d842f0ee3cd4a83ab.txt  \n",
            "  inflating: dataset/valid/labels/box_77_jpg.rf.0dbac5a022e6fafe45c5f36d52b0643d.txt  \n",
            "  inflating: dataset/valid/labels/box_77_jpg.rf.6f286d266289fb0a5d53af7aab152bce.txt  \n",
            "  inflating: dataset/valid/labels/box_77_jpg.rf.cb78ea7eeb29a2db0144e81f380d16ed.txt  \n",
            "  inflating: dataset/valid/labels/box_77_jpg.rf.f04e486a244320c5969382336632f820.txt  \n",
            "  inflating: dataset/valid/labels/box_78_jpg.rf.1035ab73cc3e5ab8de1fd9f89838a42b.txt  \n",
            "  inflating: dataset/valid/labels/box_78_jpg.rf.4bd72a0891d520113fe85b905412afd9.txt  \n",
            "  inflating: dataset/valid/labels/box_78_jpg.rf.c09024c82a7c57a039c8828314f3dab5.txt  \n",
            "  inflating: dataset/valid/labels/box_78_jpg.rf.c38f51fc3290f05b56741853ae68cc84.txt  \n",
            "  inflating: dataset/valid/labels/box_78_jpg.rf.c8cd6e3ee4e389e4b7a5ef4a4f2cf56f.txt  \n",
            "  inflating: dataset/valid/labels/box_78_jpg.rf.cabc441a67990b938d89eaa5931c538f.txt  \n",
            "  inflating: dataset/valid/labels/box_78_jpg.rf.f93ba787a0c3e9a67071e38a31d2cc1d.txt  \n",
            "  inflating: dataset/valid/labels/box_79_jpg.rf.13d48dea94faf595209ee91b950cfd05.txt  \n",
            "  inflating: dataset/valid/labels/box_79_jpg.rf.20923c5f1dcc4294453870d632dd8cc5.txt  \n",
            "  inflating: dataset/valid/labels/box_79_jpg.rf.6d443830b4ca8c9b98e998b5d37165b6.txt  \n",
            "  inflating: dataset/valid/labels/box_79_jpg.rf.79032ee4d00b46ce7962498f85aab2eb.txt  \n",
            "  inflating: dataset/valid/labels/box_79_jpg.rf.8345f890df1d6318ab11fc419614c20b.txt  \n",
            "  inflating: dataset/valid/labels/box_79_jpg.rf.89c20f5acd8f9903c87643cf57c00e2a.txt  \n",
            "  inflating: dataset/valid/labels/box_79_jpg.rf.8a3b0c15324e2114faddacd2fdf247e9.txt  \n",
            "  inflating: dataset/valid/labels/box_79_jpg.rf.a5c5dfce0f541fa13c489c75fa0e2b0d.txt  \n",
            "  inflating: dataset/valid/labels/box_79_jpg.rf.db6bb075f37c3795efec075617dc0c34.txt  \n",
            "  inflating: dataset/valid/labels/box_79_jpg.rf.e008155921779431e0f2a658e26bc541.txt  \n",
            "  inflating: dataset/valid/labels/box_80_jpg.rf.50343a0f77d3a4d0371adf25d9efb4c6.txt  \n",
            "  inflating: dataset/valid/labels/box_80_jpg.rf.e23188adb17e1ee43280a9d6651e8ad7.txt  \n",
            "  inflating: dataset/valid/labels/box_81_jpg.rf.298403165280935c581aa54d5de7596e.txt  \n",
            "  inflating: dataset/valid/labels/box_81_jpg.rf.59d8bd23b0530cd8514b1ea4d88f83fb.txt  \n",
            "  inflating: dataset/valid/labels/box_82_jpg.rf.b6b144acc7b08d9c477b0c6046f69e41.txt  \n",
            "  inflating: dataset/valid/labels/box_82_jpg.rf.dd0aa804ab8524917572f9af6cb121f2.txt  \n",
            "  inflating: dataset/valid/labels/box_82_jpg.rf.f122de57dbc0b0e9f1ac81555a393465.txt  \n",
            "  inflating: dataset/valid/labels/box_83_jpg.rf.04b1476e79cf5a79503ca66356a6a118.txt  \n",
            "  inflating: dataset/valid/labels/box_83_jpg.rf.68f47f3e81b644ca76f331492eff0109.txt  \n",
            "  inflating: dataset/valid/labels/box_83_jpg.rf.75a46c8999ec59c36e1f6f817eafd472.txt  \n",
            "  inflating: dataset/valid/labels/box_83_jpg.rf.9a47bfece2356bb39dfc5cf15980120b.txt  \n",
            "  inflating: dataset/valid/labels/box_83_jpg.rf.b9ec58add4c127da56dafd3dbedf29eb.txt  \n",
            "  inflating: dataset/valid/labels/box_83_jpg.rf.be59c6410b962a7ded05bb0ab84386c3.txt  \n",
            "  inflating: dataset/valid/labels/box_83_jpg.rf.e1b7c4437ce09c8dcd33aafc89187498.txt  \n",
            "  inflating: dataset/valid/labels/box_83_jpg.rf.e7682ba2c78ff77e3fadae1b92300391.txt  \n",
            "  inflating: dataset/valid/labels/box_83_jpg.rf.ec365fa7f10d79c09cee26157c0b7355.txt  \n",
            "  inflating: dataset/valid/labels/box_84_jpg.rf.0ca0da94d9a2281b872de138b0013a89.txt  \n",
            "  inflating: dataset/valid/labels/box_84_jpg.rf.9fac3e2da3b85e7891d70bc6cb6c793d.txt  \n",
            "  inflating: dataset/valid/labels/box_84_jpg.rf.e7f30611c6f29891b52c9e696460046f.txt  \n",
            "  inflating: dataset/valid/labels/box_84_jpg.rf.e91beba18f9fe2f12f57b1c002429d8b.txt  \n",
            "  inflating: dataset/valid/labels/box_84_jpg.rf.f15f004ca35b1d458d1b70e1ca3d6a6a.txt  \n",
            "  inflating: dataset/valid/labels/box_85_jpg.rf.68a72102bc322799f088a5f67571af55.txt  \n",
            "  inflating: dataset/valid/labels/box_85_jpg.rf.8af51cf0481296b1af5e0e0dadafa7aa.txt  \n",
            "  inflating: dataset/valid/labels/box_85_jpg.rf.8b443dfbe6d50f35111752ff384ab541.txt  \n",
            "  inflating: dataset/valid/labels/box_85_jpg.rf.e0e341ae9c51b0cec9dceb87c1d362c6.txt  \n",
            "  inflating: dataset/valid/labels/box_85_jpg.rf.f31f9979ea4734ba93b52f5f58da87a3.txt  \n",
            "  inflating: dataset/valid/labels/box_87_jpg.rf.1ccc9eeccfb37c2ff42d27c741bd64cd.txt  \n",
            "  inflating: dataset/valid/labels/box_87_jpg.rf.50292a9ea9ea28be81ede78cc68f6186.txt  \n",
            "  inflating: dataset/valid/labels/box_87_jpg.rf.b89ce0caf7452afdf8cfa1aff2f853de.txt  \n",
            "  inflating: dataset/valid/labels/box_87_jpg.rf.eb62e122f3ab9a1b66f4f5b56baa9a37.txt  \n",
            "  inflating: dataset/valid/labels/box_88_jpg.rf.ef8c4d8bab30eec178403f1d310b2436.txt  \n",
            "  inflating: dataset/valid/labels/box_89_jpg.rf.0ab12bb865d93b170fc38b7faa465e3c.txt  \n",
            "  inflating: dataset/valid/labels/box_89_jpg.rf.112c067597ef85ae3e88dc5e82718028.txt  \n",
            "  inflating: dataset/valid/labels/box_89_jpg.rf.1638d6dd0aa5de6aba85d13de80d8bb0.txt  \n",
            "  inflating: dataset/valid/labels/box_89_jpg.rf.58905b4547ead4191c0e2bbe458879d4.txt  \n",
            "  inflating: dataset/valid/labels/box_89_jpg.rf.b7256aa54604c0c52583233c9b217f36.txt  \n",
            "  inflating: dataset/valid/labels/box_89_jpg.rf.e4bab787531668576eb40f2e17b2f7d0.txt  \n",
            "  inflating: dataset/valid/labels/box_89_jpg.rf.e974ba7242decd61d1277598aef5d159.txt  \n",
            "  inflating: dataset/valid/labels/box_91_jpg.rf.21066b24a6e63a86e0297e4fcda4e5c5.txt  \n",
            "  inflating: dataset/valid/labels/box_91_jpg.rf.2d5bdd1486a54dff1a2fcf9e8b0eec0d.txt  \n",
            "  inflating: dataset/valid/labels/box_91_jpg.rf.6cdfb34104171c52bca3a48f59bde58b.txt  \n",
            "  inflating: dataset/valid/labels/box_91_jpg.rf.8817cc511174a7032e05885d202d0c20.txt  \n",
            "  inflating: dataset/valid/labels/box_93_jpg.rf.2136c588db789f1a28e2f4ed63483dc8.txt  \n",
            "  inflating: dataset/valid/labels/box_93_jpg.rf.2733a1b53387763b911d4ef0a2452523.txt  \n",
            "  inflating: dataset/valid/labels/box_93_jpg.rf.354bbdd06ae2a1affe69d73354f2add1.txt  \n",
            "  inflating: dataset/valid/labels/box_93_jpg.rf.9cb2554c34f9563985eb47c6dc56c376.txt  \n",
            "  inflating: dataset/valid/labels/box_94_jpg.rf.04d7b664a593565dfbbf8d96c3facf7a.txt  \n",
            "  inflating: dataset/valid/labels/box_94_jpg.rf.2679f0e733e777aa8bbe18693a924568.txt  \n",
            "  inflating: dataset/valid/labels/box_94_jpg.rf.4a8b4224a5f10465c9ecee18560c1261.txt  \n",
            "  inflating: dataset/valid/labels/box_94_jpg.rf.7c9e38a461e3071868384878c4d08fc4.txt  \n",
            "  inflating: dataset/valid/labels/box_95_jpg.rf.b3b98379e01a81cb9799f6408fbdca65.txt  \n",
            "  inflating: dataset/valid/labels/box_95_jpg.rf.bd21c4e0c46135f32c394ccc8aa02012.txt  \n",
            "  inflating: dataset/valid/labels/box_95_jpg.rf.e5444aa64cd96d89a7aa3edd34af0bd9.txt  \n",
            "  inflating: dataset/valid/labels/box_96_jpg.rf.0e9d183f4470a62cd673c495454cb44d.txt  \n",
            "  inflating: dataset/valid/labels/box_96_jpg.rf.1dd2820b690e7ed88534b1440c270a2e.txt  \n",
            "  inflating: dataset/valid/labels/box_96_jpg.rf.437bf9f4dd4dff794ed1e27a4ba5244e.txt  \n",
            "  inflating: dataset/valid/labels/box_96_jpg.rf.761ed73ef2826b059baae9b3c0031232.txt  \n",
            "  inflating: dataset/valid/labels/box_97_jpg.rf.167fdcf14d2ac7939d1d4a49fd6db799.txt  \n",
            "  inflating: dataset/valid/labels/box_97_jpg.rf.277c3b3bba8a1a21d8237f3885989f51.txt  \n",
            "  inflating: dataset/valid/labels/box_97_jpg.rf.554a05cdae4ba152fe9da5ebd163fb4c.txt  \n",
            "  inflating: dataset/valid/labels/box_97_jpg.rf.9769b3be93785f76b557919b6dfac71f.txt  \n",
            "  inflating: dataset/valid/labels/box_97_jpg.rf.b2f81530f9767117ca44cd3553980f0d.txt  \n",
            "  inflating: dataset/valid/labels/box_98_jpg.rf.0337ddcd8ffa5deec693e94bfd66df6d.txt  \n",
            "  inflating: dataset/valid/labels/box_98_jpg.rf.20ff0fc1bf633febc4b709c5a778bcd5.txt  \n",
            "  inflating: dataset/valid/labels/box_98_jpg.rf.36a48317c4c4a0591361d3bc16dc3b80.txt  \n",
            "  inflating: dataset/valid/labels/box_98_jpg.rf.5d33e383abde7ccb9d05076340304d40.txt  \n",
            "  inflating: dataset/valid/labels/box_98_jpg.rf.8c143ecfadc5af235b001b55420db73c.txt  \n",
            "  inflating: dataset/valid/labels/box_98_jpg.rf.a88b06b37a6130591f518672fef6f7fc.txt  \n",
            "  inflating: dataset/valid/labels/box_98_jpg.rf.d4c2deac17248867ce7039396341ad30.txt  \n",
            "  inflating: dataset/valid/labels/box_99_jpg.rf.001e36786a1226dad6513f00c3433704.txt  \n",
            "  inflating: dataset/valid/labels/box_99_jpg.rf.1f1eb6e61a6a9bc1f643da6c14c5f4de.txt  \n",
            "  inflating: dataset/valid/labels/box_99_jpg.rf.298f05cedce6dd966ba6174b57deebd1.txt  \n",
            "  inflating: dataset/valid/labels/box_99_jpg.rf.32c7f614e5d87f0878fbaa16b2724cf6.txt  \n",
            "  inflating: dataset/valid/labels/box_99_jpg.rf.7391ca458d43387d0a43a5a1b07ab413.txt  \n",
            "  inflating: dataset/valid/labels/box_99_jpg.rf.95fa3eeb2acebe3d8b6287dc2afa7641.txt  \n",
            "  inflating: dataset/valid/labels/box_99_jpg.rf.a0013e56395f624fe92e3214b63000a3.txt  \n",
            "  inflating: dataset/valid/labels/box_99_jpg.rf.c2a4ef9f991cb89d0eaa19f50066f967.txt  \n",
            "  inflating: dataset/valid/labels/box_99_jpg.rf.c6a89d2f3c5669e3b70ec017eb1d7b05.txt  \n",
            "  inflating: dataset/valid/labels/box_99_jpg.rf.e725bf8d9181e93ebb9c8f1f6c590e5e.txt  \n",
            "  inflating: dataset/valid/labels/test01_jpg.rf.005d689fc42f34e1fc123bd86871a127.txt  \n",
            "  inflating: dataset/valid/labels/test01_jpg.rf.029a53425b8b645cb01ac79c672e0fda.txt  \n",
            "  inflating: dataset/valid/labels/test01_jpg.rf.29efba48584cf0af0a41aba3e2ae7537.txt  \n",
            "  inflating: dataset/valid/labels/test01_jpg.rf.2d50de7daa9336e9ff8dda0100e9b391.txt  \n",
            "  inflating: dataset/valid/labels/test01_jpg.rf.3bb1a15da128121d3a998c9e1a29e762.txt  \n",
            "  inflating: dataset/valid/labels/test01_jpg.rf.520228e3a2fbbb4c20b7e9786ff3fe8c.txt  \n",
            "  inflating: dataset/valid/labels/test01_jpg.rf.6643e1f7536c8b7754662df701cd0aa8.txt  \n",
            "  inflating: dataset/valid/labels/test01_jpg.rf.6c6fbda70f0604f4b4c95356b57f090d.txt  \n",
            "  inflating: dataset/valid/labels/test01_jpg.rf.7703c43e31a4de23ed8a971f27aef1fa.txt  \n",
            "  inflating: dataset/valid/labels/test01_jpg.rf.7d01099c9a7da11ece21927a95acbae5.txt  \n",
            "  inflating: dataset/valid/labels/test01_jpg.rf.8fe1953b42dc3c8e7f60da5d02b606b9.txt  \n",
            "  inflating: dataset/valid/labels/test01_jpg.rf.bc8a6bf66e3e1d50397c2173fa96bfd9.txt  \n",
            "  inflating: dataset/valid/labels/test01_jpg.rf.c4ba1fca6f8b576a97026b99a3d065ab.txt  \n",
            "  inflating: dataset/valid/labels/test01_jpg.rf.ca17b15d46c27aa5e76cbb152b2ef007.txt  \n",
            "  inflating: dataset/valid/labels/test01_jpg.rf.cf5a7f5bf1dbe241aeca7fb1be1e2b25.txt  \n",
            "  inflating: dataset/valid/labels/test01_jpg.rf.e088374851e7956833a058a4dd8fa358.txt  \n",
            "  inflating: dataset/valid/labels/test01_jpg.rf.ebb39e17d7dfce074354630c8c81a167.txt  \n",
            "  inflating: dataset/valid/labels/test02_jpg.rf.1830c0e42a2da5a3e8f1307c2c6c8bcd.txt  \n",
            "  inflating: dataset/valid/labels/test02_jpg.rf.1912bb19b99ef614e4946cbdbbb230f3.txt  \n",
            "  inflating: dataset/valid/labels/test02_jpg.rf.1b1f0d7e6dd978daa4270ff518438d56.txt  \n",
            "  inflating: dataset/valid/labels/test02_jpg.rf.2b89674d4c62d103d745ac3fe9054bee.txt  \n",
            "  inflating: dataset/valid/labels/test02_jpg.rf.4c872256a6620a5d20a6f017fef70ed0.txt  \n",
            "  inflating: dataset/valid/labels/test02_jpg.rf.5084c7dd730a506508e5f3bd2c021280.txt  \n",
            "  inflating: dataset/valid/labels/test02_jpg.rf.7efe0929a5eca680293953da889fff03.txt  \n",
            "  inflating: dataset/valid/labels/test02_jpg.rf.913892495a3f080f53387a037578016a.txt  \n",
            "  inflating: dataset/valid/labels/test02_jpg.rf.9659da32cd4b9a36ba22dfccb3514799.txt  \n",
            "  inflating: dataset/valid/labels/test02_jpg.rf.b2c835a8c09e320db719a66134844ffd.txt  \n",
            "  inflating: dataset/valid/labels/test02_jpg.rf.dc03cf53821a8c04e4f947e4837da46d.txt  \n",
            "  inflating: dataset/valid/labels/test02_jpg.rf.ea6bf421f795993bc244f431898f5778.txt  \n",
            "  inflating: dataset/valid/labels/test02_jpg.rf.eff8816e7add19d095840211c29c58e2.txt  \n",
            "  inflating: dataset/valid/labels/test03_jpg.rf.324c285c3787755f4155a50f4f1f1a11.txt  \n",
            "  inflating: dataset/valid/labels/test03_jpg.rf.621b510ab18156ca100ac5057c80a05c.txt  \n",
            "  inflating: dataset/valid/labels/test03_jpg.rf.86effc87da2d58a806d8f68f20337e2f.txt  \n",
            "  inflating: dataset/valid/labels/test03_jpg.rf.9e166f0eb38ea79651c0d3e6179d338f.txt  \n",
            "  inflating: dataset/valid/labels/test03_jpg.rf.bda17f82ae9f0e1eec6c9612ed908a40.txt  \n",
            "  inflating: dataset/valid/labels/test03_jpg.rf.bec603a40032a1c943fd9cd1bd1a30b9.txt  \n",
            "  inflating: dataset/valid/labels/test03_jpg.rf.c8b3f58721c33b35de543ab96795e5b8.txt  \n",
            "  inflating: dataset/valid/labels/test03_jpg.rf.ea04a40a122b971da5175516bd58640e.txt  \n",
            "  inflating: dataset/valid/labels/test03_jpg.rf.ee7b76565095415b507264f9205e6e63.txt  \n",
            "  inflating: dataset/valid/labels/test03_jpg.rf.f886a8047141134743523a5087641103.txt  \n"
          ]
        }
      ]
    },
    {
      "cell_type": "code",
      "source": [
        "import os\n",
        "\n",
        "from ultralytics import YOLO\n",
        "\n",
        "\n",
        "# Load a model\n",
        "model = YOLO(\"yolov8n-seg.pt\")  # build a new model from scratch\n",
        "\n",
        "# Use the model\n",
        "results = model.train(data=os.path.join(\"/content/dataset/data.yaml\"), epochs=100)  # train the model"
      ],
      "metadata": {
        "colab": {
          "base_uri": "https://localhost:8080/"
        },
        "id": "1O6Tjum2h9Dm",
        "outputId": "954f05a6-97d6-4a49-9c9c-d4f0b9ff4b7f"
      },
      "execution_count": null,
      "outputs": [
        {
          "output_type": "stream",
          "name": "stdout",
          "text": [
            "Downloading https://github.com/ultralytics/assets/releases/download/v8.2.0/yolov8n-seg.pt to 'yolov8n-seg.pt'...\n"
          ]
        },
        {
          "output_type": "stream",
          "name": "stderr",
          "text": [
            "100%|██████████| 6.74M/6.74M [00:00<00:00, 194MB/s]\n"
          ]
        },
        {
          "output_type": "stream",
          "name": "stdout",
          "text": [
            "Ultralytics YOLOv8.2.94 🚀 Python-3.10.12 torch-2.4.0+cu121 CUDA:0 (Tesla T4, 15102MiB)\n",
            "\u001b[34m\u001b[1mengine/trainer: \u001b[0mtask=segment, mode=train, model=yolov8n-seg.pt, data=/content/dataset/data.yaml, epochs=100, time=None, patience=100, batch=16, imgsz=640, save=True, save_period=-1, cache=False, device=None, workers=8, project=None, name=train, exist_ok=False, pretrained=True, optimizer=auto, verbose=True, seed=0, deterministic=True, single_cls=False, rect=False, cos_lr=False, close_mosaic=10, resume=False, amp=True, fraction=1.0, profile=False, freeze=None, multi_scale=False, overlap_mask=True, mask_ratio=4, dropout=0.0, val=True, split=val, save_json=False, save_hybrid=False, conf=None, iou=0.7, max_det=300, half=False, dnn=False, plots=True, source=None, vid_stride=1, stream_buffer=False, visualize=False, augment=False, agnostic_nms=False, classes=None, retina_masks=False, embed=None, show=False, save_frames=False, save_txt=False, save_conf=False, save_crop=False, show_labels=True, show_conf=True, show_boxes=True, line_width=None, format=torchscript, keras=False, optimize=False, int8=False, dynamic=False, simplify=False, opset=None, workspace=4, nms=False, lr0=0.01, lrf=0.01, momentum=0.937, weight_decay=0.0005, warmup_epochs=3.0, warmup_momentum=0.8, warmup_bias_lr=0.1, box=7.5, cls=0.5, dfl=1.5, pose=12.0, kobj=1.0, label_smoothing=0.0, nbs=64, hsv_h=0.015, hsv_s=0.7, hsv_v=0.4, degrees=0.0, translate=0.1, scale=0.5, shear=0.0, perspective=0.0, flipud=0.0, fliplr=0.5, bgr=0.0, mosaic=1.0, mixup=0.0, copy_paste=0.0, auto_augment=randaugment, erasing=0.4, crop_fraction=1.0, cfg=None, tracker=botsort.yaml, save_dir=runs/segment/train\n",
            "Downloading https://ultralytics.com/assets/Arial.ttf to '/root/.config/Ultralytics/Arial.ttf'...\n"
          ]
        },
        {
          "output_type": "stream",
          "name": "stderr",
          "text": [
            "100%|██████████| 755k/755k [00:00<00:00, 44.2MB/s]\n"
          ]
        },
        {
          "output_type": "stream",
          "name": "stdout",
          "text": [
            "Overriding model.yaml nc=80 with nc=1\n",
            "\n",
            "                   from  n    params  module                                       arguments                     \n",
            "  0                  -1  1       464  ultralytics.nn.modules.conv.Conv             [3, 16, 3, 2]                 \n",
            "  1                  -1  1      4672  ultralytics.nn.modules.conv.Conv             [16, 32, 3, 2]                \n",
            "  2                  -1  1      7360  ultralytics.nn.modules.block.C2f             [32, 32, 1, True]             \n",
            "  3                  -1  1     18560  ultralytics.nn.modules.conv.Conv             [32, 64, 3, 2]                \n",
            "  4                  -1  2     49664  ultralytics.nn.modules.block.C2f             [64, 64, 2, True]             \n",
            "  5                  -1  1     73984  ultralytics.nn.modules.conv.Conv             [64, 128, 3, 2]               \n",
            "  6                  -1  2    197632  ultralytics.nn.modules.block.C2f             [128, 128, 2, True]           \n",
            "  7                  -1  1    295424  ultralytics.nn.modules.conv.Conv             [128, 256, 3, 2]              \n",
            "  8                  -1  1    460288  ultralytics.nn.modules.block.C2f             [256, 256, 1, True]           \n",
            "  9                  -1  1    164608  ultralytics.nn.modules.block.SPPF            [256, 256, 5]                 \n",
            " 10                  -1  1         0  torch.nn.modules.upsampling.Upsample         [None, 2, 'nearest']          \n",
            " 11             [-1, 6]  1         0  ultralytics.nn.modules.conv.Concat           [1]                           \n",
            " 12                  -1  1    148224  ultralytics.nn.modules.block.C2f             [384, 128, 1]                 \n",
            " 13                  -1  1         0  torch.nn.modules.upsampling.Upsample         [None, 2, 'nearest']          \n",
            " 14             [-1, 4]  1         0  ultralytics.nn.modules.conv.Concat           [1]                           \n",
            " 15                  -1  1     37248  ultralytics.nn.modules.block.C2f             [192, 64, 1]                  \n",
            " 16                  -1  1     36992  ultralytics.nn.modules.conv.Conv             [64, 64, 3, 2]                \n",
            " 17            [-1, 12]  1         0  ultralytics.nn.modules.conv.Concat           [1]                           \n",
            " 18                  -1  1    123648  ultralytics.nn.modules.block.C2f             [192, 128, 1]                 \n",
            " 19                  -1  1    147712  ultralytics.nn.modules.conv.Conv             [128, 128, 3, 2]              \n",
            " 20             [-1, 9]  1         0  ultralytics.nn.modules.conv.Concat           [1]                           \n",
            " 21                  -1  1    493056  ultralytics.nn.modules.block.C2f             [384, 256, 1]                 \n",
            " 22        [15, 18, 21]  1   1004275  ultralytics.nn.modules.head.Segment          [1, 32, 64, [64, 128, 256]]   \n",
            "YOLOv8n-seg summary: 261 layers, 3,263,811 parameters, 3,263,795 gradients, 12.1 GFLOPs\n",
            "\n",
            "Transferred 381/417 items from pretrained weights\n",
            "\u001b[34m\u001b[1mTensorBoard: \u001b[0mStart with 'tensorboard --logdir runs/segment/train', view at http://localhost:6006/\n",
            "Freezing layer 'model.22.dfl.conv.weight'\n",
            "\u001b[34m\u001b[1mAMP: \u001b[0mrunning Automatic Mixed Precision (AMP) checks with YOLOv8n...\n",
            "Downloading https://github.com/ultralytics/assets/releases/download/v8.2.0/yolov8n.pt to 'yolov8n.pt'...\n"
          ]
        },
        {
          "output_type": "stream",
          "name": "stderr",
          "text": [
            "100%|██████████| 6.25M/6.25M [00:00<00:00, 148MB/s]\n"
          ]
        },
        {
          "output_type": "stream",
          "name": "stdout",
          "text": [
            "\u001b[34m\u001b[1mAMP: \u001b[0mchecks passed ✅\n"
          ]
        },
        {
          "output_type": "stream",
          "name": "stderr",
          "text": [
            "\u001b[34m\u001b[1mtrain: \u001b[0mScanning /content/dataset/train/labels... 1401 images, 0 backgrounds, 0 corrupt: 100%|██████████| 1401/1401 [00:01<00:00, 1194.05it/s]\n"
          ]
        },
        {
          "output_type": "stream",
          "name": "stdout",
          "text": [
            "\u001b[34m\u001b[1mtrain: \u001b[0mNew cache created: /content/dataset/train/labels.cache\n",
            "\u001b[34m\u001b[1malbumentations: \u001b[0mBlur(p=0.01, blur_limit=(3, 7)), MedianBlur(p=0.01, blur_limit=(3, 7)), ToGray(p=0.01), CLAHE(p=0.01, clip_limit=(1, 4.0), tile_grid_size=(8, 8))\n"
          ]
        },
        {
          "output_type": "stream",
          "name": "stderr",
          "text": [
            "/usr/local/lib/python3.10/dist-packages/albumentations/__init__.py:13: UserWarning: A new version of Albumentations is available: 1.4.15 (you have 1.4.14). Upgrade using: pip install -U albumentations. To disable automatic update checks, set the environment variable NO_ALBUMENTATIONS_UPDATE to 1.\n",
            "  check_for_updates()\n",
            "/usr/lib/python3.10/multiprocessing/popen_fork.py:66: RuntimeWarning: os.fork() was called. os.fork() is incompatible with multithreaded code, and JAX is multithreaded, so this will likely lead to a deadlock.\n",
            "  self.pid = os.fork()\n",
            "\u001b[34m\u001b[1mval: \u001b[0mScanning /content/dataset/valid/labels... 601 images, 0 backgrounds, 0 corrupt: 100%|██████████| 601/601 [00:01<00:00, 363.70it/s]\n"
          ]
        },
        {
          "output_type": "stream",
          "name": "stdout",
          "text": [
            "\u001b[34m\u001b[1mval: \u001b[0mNew cache created: /content/dataset/valid/labels.cache\n",
            "Plotting labels to runs/segment/train/labels.jpg... \n",
            "\u001b[34m\u001b[1moptimizer:\u001b[0m 'optimizer=auto' found, ignoring 'lr0=0.01' and 'momentum=0.937' and determining best 'optimizer', 'lr0' and 'momentum' automatically... \n",
            "\u001b[34m\u001b[1moptimizer:\u001b[0m AdamW(lr=0.002, momentum=0.9) with parameter groups 66 weight(decay=0.0), 77 weight(decay=0.0005), 76 bias(decay=0.0)\n",
            "\u001b[34m\u001b[1mTensorBoard: \u001b[0mmodel graph visualization added ✅\n",
            "Image sizes 640 train, 640 val\n",
            "Using 2 dataloader workers\n",
            "Logging results to \u001b[1mruns/segment/train\u001b[0m\n",
            "Starting training for 100 epochs...\n",
            "\n",
            "      Epoch    GPU_mem   box_loss   seg_loss   cls_loss   dfl_loss  Instances       Size\n"
          ]
        },
        {
          "output_type": "stream",
          "name": "stderr",
          "text": [
            "      1/100      5.35G     0.9925      1.739      1.534      1.117        369        640: 100%|██████████| 88/88 [01:42<00:00,  1.16s/it]\n",
            "                 Class     Images  Instances      Box(P          R      mAP50  mAP50-95)     Mask(P          R      mAP50  mAP50-95): 100%|██████████| 19/19 [00:14<00:00,  1.29it/s]"
          ]
        },
        {
          "output_type": "stream",
          "name": "stdout",
          "text": [
            "                   all        601      12818      0.767      0.797      0.807      0.615      0.766      0.792      0.799      0.557\n"
          ]
        },
        {
          "output_type": "stream",
          "name": "stderr",
          "text": [
            "\n"
          ]
        },
        {
          "output_type": "stream",
          "name": "stdout",
          "text": [
            "\n",
            "      Epoch    GPU_mem   box_loss   seg_loss   cls_loss   dfl_loss  Instances       Size\n"
          ]
        },
        {
          "output_type": "stream",
          "name": "stderr",
          "text": [
            "      2/100      4.86G     0.8171      1.203     0.8487     0.9953        232        640: 100%|██████████| 88/88 [01:28<00:00,  1.00s/it]\n",
            "                 Class     Images  Instances      Box(P          R      mAP50  mAP50-95)     Mask(P          R      mAP50  mAP50-95): 100%|██████████| 19/19 [00:14<00:00,  1.34it/s]\n"
          ]
        },
        {
          "output_type": "stream",
          "name": "stdout",
          "text": [
            "                   all        601      12818      0.849      0.885      0.925      0.726      0.849      0.886      0.924      0.664\n",
            "\n",
            "      Epoch    GPU_mem   box_loss   seg_loss   cls_loss   dfl_loss  Instances       Size\n"
          ]
        },
        {
          "output_type": "stream",
          "name": "stderr",
          "text": [
            "      3/100      5.56G     0.8196      1.205     0.7964     0.9968        221        640: 100%|██████████| 88/88 [01:27<00:00,  1.00it/s]\n",
            "                 Class     Images  Instances      Box(P          R      mAP50  mAP50-95)     Mask(P          R      mAP50  mAP50-95): 100%|██████████| 19/19 [00:14<00:00,  1.28it/s]\n"
          ]
        },
        {
          "output_type": "stream",
          "name": "stdout",
          "text": [
            "                   all        601      12818      0.861      0.842      0.919      0.727      0.862      0.838      0.915      0.675\n",
            "\n",
            "      Epoch    GPU_mem   box_loss   seg_loss   cls_loss   dfl_loss  Instances       Size\n"
          ]
        },
        {
          "output_type": "stream",
          "name": "stderr",
          "text": [
            "      4/100      5.04G     0.7921      1.154     0.7356     0.9798        403        640: 100%|██████████| 88/88 [01:26<00:00,  1.01it/s]\n",
            "                 Class     Images  Instances      Box(P          R      mAP50  mAP50-95)     Mask(P          R      mAP50  mAP50-95): 100%|██████████| 19/19 [00:14<00:00,  1.32it/s]\n"
          ]
        },
        {
          "output_type": "stream",
          "name": "stdout",
          "text": [
            "                   all        601      12818      0.892      0.892      0.946      0.765      0.889      0.889       0.94      0.676\n",
            "\n",
            "      Epoch    GPU_mem   box_loss   seg_loss   cls_loss   dfl_loss  Instances       Size\n"
          ]
        },
        {
          "output_type": "stream",
          "name": "stderr",
          "text": [
            "      5/100      5.09G     0.7499      1.124      0.674     0.9619        229        640: 100%|██████████| 88/88 [01:26<00:00,  1.02it/s]\n",
            "                 Class     Images  Instances      Box(P          R      mAP50  mAP50-95)     Mask(P          R      mAP50  mAP50-95): 100%|██████████| 19/19 [00:14<00:00,  1.35it/s]\n"
          ]
        },
        {
          "output_type": "stream",
          "name": "stdout",
          "text": [
            "                   all        601      12818      0.904      0.902      0.959      0.781        0.9      0.902      0.956      0.725\n",
            "\n",
            "      Epoch    GPU_mem   box_loss   seg_loss   cls_loss   dfl_loss  Instances       Size\n"
          ]
        },
        {
          "output_type": "stream",
          "name": "stderr",
          "text": [
            "      6/100      5.38G     0.7512      1.085     0.6599     0.9581        346        640: 100%|██████████| 88/88 [01:26<00:00,  1.02it/s]\n",
            "                 Class     Images  Instances      Box(P          R      mAP50  mAP50-95)     Mask(P          R      mAP50  mAP50-95): 100%|██████████| 19/19 [00:14<00:00,  1.29it/s]\n"
          ]
        },
        {
          "output_type": "stream",
          "name": "stdout",
          "text": [
            "                   all        601      12818      0.829      0.827      0.891      0.688      0.827      0.819      0.883      0.619\n",
            "\n",
            "      Epoch    GPU_mem   box_loss   seg_loss   cls_loss   dfl_loss  Instances       Size\n"
          ]
        },
        {
          "output_type": "stream",
          "name": "stderr",
          "text": [
            "      7/100       5.2G     0.7278      1.045     0.6172     0.9439        329        640: 100%|██████████| 88/88 [01:28<00:00,  1.00s/it]\n",
            "                 Class     Images  Instances      Box(P          R      mAP50  mAP50-95)     Mask(P          R      mAP50  mAP50-95): 100%|██████████| 19/19 [00:14<00:00,  1.35it/s]"
          ]
        },
        {
          "output_type": "stream",
          "name": "stdout",
          "text": [
            "                   all        601      12818      0.906      0.918      0.962       0.79      0.904      0.917      0.961      0.747\n"
          ]
        },
        {
          "output_type": "stream",
          "name": "stderr",
          "text": [
            "\n"
          ]
        },
        {
          "output_type": "stream",
          "name": "stdout",
          "text": [
            "\n",
            "      Epoch    GPU_mem   box_loss   seg_loss   cls_loss   dfl_loss  Instances       Size\n"
          ]
        },
        {
          "output_type": "stream",
          "name": "stderr",
          "text": [
            "      8/100      5.02G     0.7167      1.039     0.5999     0.9396        294        640: 100%|██████████| 88/88 [01:27<00:00,  1.00it/s]\n",
            "                 Class     Images  Instances      Box(P          R      mAP50  mAP50-95)     Mask(P          R      mAP50  mAP50-95): 100%|██████████| 19/19 [00:14<00:00,  1.34it/s]"
          ]
        },
        {
          "output_type": "stream",
          "name": "stdout",
          "text": [
            "                   all        601      12818       0.92      0.928      0.966      0.811      0.921      0.928      0.966      0.764\n"
          ]
        },
        {
          "output_type": "stream",
          "name": "stderr",
          "text": [
            "\n"
          ]
        },
        {
          "output_type": "stream",
          "name": "stdout",
          "text": [
            "\n",
            "      Epoch    GPU_mem   box_loss   seg_loss   cls_loss   dfl_loss  Instances       Size\n"
          ]
        },
        {
          "output_type": "stream",
          "name": "stderr",
          "text": [
            "      9/100      6.03G     0.6943     0.9725     0.5726     0.9319        356        640: 100%|██████████| 88/88 [01:30<00:00,  1.02s/it]\n",
            "                 Class     Images  Instances      Box(P          R      mAP50  mAP50-95)     Mask(P          R      mAP50  mAP50-95): 100%|██████████| 19/19 [00:14<00:00,  1.32it/s]"
          ]
        },
        {
          "output_type": "stream",
          "name": "stdout",
          "text": [
            "                   all        601      12818      0.892      0.917      0.947      0.784      0.893      0.915      0.946      0.741\n"
          ]
        },
        {
          "output_type": "stream",
          "name": "stderr",
          "text": [
            "\n"
          ]
        },
        {
          "output_type": "stream",
          "name": "stdout",
          "text": [
            "\n",
            "      Epoch    GPU_mem   box_loss   seg_loss   cls_loss   dfl_loss  Instances       Size\n"
          ]
        },
        {
          "output_type": "stream",
          "name": "stderr",
          "text": [
            "     10/100      5.28G     0.6957     0.9828      0.575     0.9295        487        640: 100%|██████████| 88/88 [01:26<00:00,  1.02it/s]\n",
            "                 Class     Images  Instances      Box(P          R      mAP50  mAP50-95)     Mask(P          R      mAP50  mAP50-95): 100%|██████████| 19/19 [00:14<00:00,  1.30it/s]"
          ]
        },
        {
          "output_type": "stream",
          "name": "stdout",
          "text": [
            "                   all        601      12818      0.916      0.935       0.97      0.823      0.916      0.935      0.971      0.781\n"
          ]
        },
        {
          "output_type": "stream",
          "name": "stderr",
          "text": [
            "\n"
          ]
        },
        {
          "output_type": "stream",
          "name": "stdout",
          "text": [
            "\n",
            "      Epoch    GPU_mem   box_loss   seg_loss   cls_loss   dfl_loss  Instances       Size\n"
          ]
        },
        {
          "output_type": "stream",
          "name": "stderr",
          "text": [
            "     11/100      4.81G     0.7056     0.9826     0.5555     0.9326        279        640: 100%|██████████| 88/88 [01:29<00:00,  1.01s/it]\n",
            "                 Class     Images  Instances      Box(P          R      mAP50  mAP50-95)     Mask(P          R      mAP50  mAP50-95): 100%|██████████| 19/19 [00:14<00:00,  1.32it/s]"
          ]
        },
        {
          "output_type": "stream",
          "name": "stdout",
          "text": [
            "                   all        601      12818      0.937      0.934      0.977       0.83      0.937      0.932      0.977      0.793\n"
          ]
        },
        {
          "output_type": "stream",
          "name": "stderr",
          "text": [
            "\n"
          ]
        },
        {
          "output_type": "stream",
          "name": "stdout",
          "text": [
            "\n",
            "      Epoch    GPU_mem   box_loss   seg_loss   cls_loss   dfl_loss  Instances       Size\n"
          ]
        },
        {
          "output_type": "stream",
          "name": "stderr",
          "text": [
            "     12/100      4.73G     0.6767     0.9392     0.5331     0.9234        296        640: 100%|██████████| 88/88 [01:28<00:00,  1.01s/it]\n",
            "                 Class     Images  Instances      Box(P          R      mAP50  mAP50-95)     Mask(P          R      mAP50  mAP50-95): 100%|██████████| 19/19 [00:13<00:00,  1.40it/s]"
          ]
        },
        {
          "output_type": "stream",
          "name": "stdout",
          "text": [
            "                   all        601      12818       0.93      0.942      0.977      0.816       0.93      0.942      0.977      0.779\n"
          ]
        },
        {
          "output_type": "stream",
          "name": "stderr",
          "text": [
            "\n"
          ]
        },
        {
          "output_type": "stream",
          "name": "stdout",
          "text": [
            "\n",
            "      Epoch    GPU_mem   box_loss   seg_loss   cls_loss   dfl_loss  Instances       Size\n"
          ]
        },
        {
          "output_type": "stream",
          "name": "stderr",
          "text": [
            "     13/100      5.17G     0.6706     0.9344      0.515     0.9192        211        640: 100%|██████████| 88/88 [01:28<00:00,  1.00s/it]\n",
            "                 Class     Images  Instances      Box(P          R      mAP50  mAP50-95)     Mask(P          R      mAP50  mAP50-95): 100%|██████████| 19/19 [00:14<00:00,  1.33it/s]"
          ]
        },
        {
          "output_type": "stream",
          "name": "stdout",
          "text": [
            "                   all        601      12818      0.931       0.95      0.975      0.838      0.932      0.951      0.976      0.809\n"
          ]
        },
        {
          "output_type": "stream",
          "name": "stderr",
          "text": [
            "\n"
          ]
        },
        {
          "output_type": "stream",
          "name": "stdout",
          "text": [
            "\n",
            "      Epoch    GPU_mem   box_loss   seg_loss   cls_loss   dfl_loss  Instances       Size\n"
          ]
        },
        {
          "output_type": "stream",
          "name": "stderr",
          "text": [
            "     14/100      5.27G       0.66     0.9357     0.5023     0.9128        259        640: 100%|██████████| 88/88 [01:28<00:00,  1.00s/it]\n",
            "                 Class     Images  Instances      Box(P          R      mAP50  mAP50-95)     Mask(P          R      mAP50  mAP50-95): 100%|██████████| 19/19 [00:13<00:00,  1.37it/s]"
          ]
        },
        {
          "output_type": "stream",
          "name": "stdout",
          "text": [
            "                   all        601      12818       0.92      0.948      0.974      0.834      0.921      0.949      0.974      0.805\n"
          ]
        },
        {
          "output_type": "stream",
          "name": "stderr",
          "text": [
            "\n"
          ]
        },
        {
          "output_type": "stream",
          "name": "stdout",
          "text": [
            "\n",
            "      Epoch    GPU_mem   box_loss   seg_loss   cls_loss   dfl_loss  Instances       Size\n"
          ]
        },
        {
          "output_type": "stream",
          "name": "stderr",
          "text": [
            "     15/100      5.47G      0.652     0.8988     0.4942     0.9095        274        640: 100%|██████████| 88/88 [01:26<00:00,  1.02it/s]\n",
            "                 Class     Images  Instances      Box(P          R      mAP50  mAP50-95)     Mask(P          R      mAP50  mAP50-95): 100%|██████████| 19/19 [00:14<00:00,  1.32it/s]"
          ]
        },
        {
          "output_type": "stream",
          "name": "stdout",
          "text": [
            "                   all        601      12818      0.935      0.942      0.979      0.835      0.935      0.942      0.979      0.793\n"
          ]
        },
        {
          "output_type": "stream",
          "name": "stderr",
          "text": [
            "\n"
          ]
        },
        {
          "output_type": "stream",
          "name": "stdout",
          "text": [
            "\n",
            "      Epoch    GPU_mem   box_loss   seg_loss   cls_loss   dfl_loss  Instances       Size\n"
          ]
        },
        {
          "output_type": "stream",
          "name": "stderr",
          "text": [
            "     16/100      4.98G     0.6498     0.9057      0.492     0.9067        314        640: 100%|██████████| 88/88 [01:27<00:00,  1.00it/s]\n",
            "                 Class     Images  Instances      Box(P          R      mAP50  mAP50-95)     Mask(P          R      mAP50  mAP50-95): 100%|██████████| 19/19 [00:13<00:00,  1.38it/s]"
          ]
        },
        {
          "output_type": "stream",
          "name": "stdout",
          "text": [
            "                   all        601      12818      0.952      0.951      0.982      0.845      0.953      0.951      0.983      0.809\n"
          ]
        },
        {
          "output_type": "stream",
          "name": "stderr",
          "text": [
            "\n"
          ]
        },
        {
          "output_type": "stream",
          "name": "stdout",
          "text": [
            "\n",
            "      Epoch    GPU_mem   box_loss   seg_loss   cls_loss   dfl_loss  Instances       Size\n"
          ]
        },
        {
          "output_type": "stream",
          "name": "stderr",
          "text": [
            "     17/100      5.51G     0.6406     0.9074     0.4773     0.9051        290        640: 100%|██████████| 88/88 [01:27<00:00,  1.01it/s]\n",
            "                 Class     Images  Instances      Box(P          R      mAP50  mAP50-95)     Mask(P          R      mAP50  mAP50-95): 100%|██████████| 19/19 [00:14<00:00,  1.33it/s]"
          ]
        },
        {
          "output_type": "stream",
          "name": "stdout",
          "text": [
            "                   all        601      12818       0.93       0.95      0.978      0.846       0.93      0.949      0.978        0.8\n"
          ]
        },
        {
          "output_type": "stream",
          "name": "stderr",
          "text": [
            "\n"
          ]
        },
        {
          "output_type": "stream",
          "name": "stdout",
          "text": [
            "\n",
            "      Epoch    GPU_mem   box_loss   seg_loss   cls_loss   dfl_loss  Instances       Size\n"
          ]
        },
        {
          "output_type": "stream",
          "name": "stderr",
          "text": [
            "     18/100      5.53G     0.6401     0.9059     0.4845     0.9083        269        640: 100%|██████████| 88/88 [01:26<00:00,  1.02it/s]\n",
            "                 Class     Images  Instances      Box(P          R      mAP50  mAP50-95)     Mask(P          R      mAP50  mAP50-95): 100%|██████████| 19/19 [00:13<00:00,  1.39it/s]"
          ]
        },
        {
          "output_type": "stream",
          "name": "stdout",
          "text": [
            "                   all        601      12818      0.938      0.959      0.984      0.837      0.938      0.959      0.984      0.804\n"
          ]
        },
        {
          "output_type": "stream",
          "name": "stderr",
          "text": [
            "\n"
          ]
        },
        {
          "output_type": "stream",
          "name": "stdout",
          "text": [
            "\n",
            "      Epoch    GPU_mem   box_loss   seg_loss   cls_loss   dfl_loss  Instances       Size\n"
          ]
        },
        {
          "output_type": "stream",
          "name": "stderr",
          "text": [
            "     19/100      5.51G     0.6316     0.8594     0.4671     0.9016        342        640: 100%|██████████| 88/88 [01:27<00:00,  1.01it/s]\n",
            "                 Class     Images  Instances      Box(P          R      mAP50  mAP50-95)     Mask(P          R      mAP50  mAP50-95): 100%|██████████| 19/19 [00:13<00:00,  1.37it/s]"
          ]
        },
        {
          "output_type": "stream",
          "name": "stdout",
          "text": [
            "                   all        601      12818      0.946      0.956      0.981      0.853      0.946      0.956      0.981      0.822\n"
          ]
        },
        {
          "output_type": "stream",
          "name": "stderr",
          "text": [
            "\n"
          ]
        },
        {
          "output_type": "stream",
          "name": "stdout",
          "text": [
            "\n",
            "      Epoch    GPU_mem   box_loss   seg_loss   cls_loss   dfl_loss  Instances       Size\n"
          ]
        },
        {
          "output_type": "stream",
          "name": "stderr",
          "text": [
            "     20/100      5.28G     0.6363     0.8881     0.4617     0.9021        256        640: 100%|██████████| 88/88 [01:27<00:00,  1.01it/s]\n",
            "                 Class     Images  Instances      Box(P          R      mAP50  mAP50-95)     Mask(P          R      mAP50  mAP50-95): 100%|██████████| 19/19 [00:14<00:00,  1.31it/s]"
          ]
        },
        {
          "output_type": "stream",
          "name": "stdout",
          "text": [
            "                   all        601      12818      0.945      0.952       0.98       0.85      0.945      0.952       0.98       0.82\n"
          ]
        },
        {
          "output_type": "stream",
          "name": "stderr",
          "text": [
            "\n"
          ]
        },
        {
          "output_type": "stream",
          "name": "stdout",
          "text": [
            "\n",
            "      Epoch    GPU_mem   box_loss   seg_loss   cls_loss   dfl_loss  Instances       Size\n"
          ]
        },
        {
          "output_type": "stream",
          "name": "stderr",
          "text": [
            "     21/100      5.33G     0.6231     0.8672     0.4546     0.8951        250        640: 100%|██████████| 88/88 [01:26<00:00,  1.01it/s]\n",
            "                 Class     Images  Instances      Box(P          R      mAP50  mAP50-95)     Mask(P          R      mAP50  mAP50-95): 100%|██████████| 19/19 [00:13<00:00,  1.40it/s]"
          ]
        },
        {
          "output_type": "stream",
          "name": "stdout",
          "text": [
            "                   all        601      12818      0.954      0.961      0.984       0.85      0.955      0.961      0.984      0.811\n"
          ]
        },
        {
          "output_type": "stream",
          "name": "stderr",
          "text": [
            "\n"
          ]
        },
        {
          "output_type": "stream",
          "name": "stdout",
          "text": [
            "\n",
            "      Epoch    GPU_mem   box_loss   seg_loss   cls_loss   dfl_loss  Instances       Size\n"
          ]
        },
        {
          "output_type": "stream",
          "name": "stderr",
          "text": [
            "     22/100      4.62G     0.6157     0.8357     0.4427     0.8937        223        640: 100%|██████████| 88/88 [01:27<00:00,  1.01it/s]\n",
            "                 Class     Images  Instances      Box(P          R      mAP50  mAP50-95)     Mask(P          R      mAP50  mAP50-95): 100%|██████████| 19/19 [00:14<00:00,  1.33it/s]"
          ]
        },
        {
          "output_type": "stream",
          "name": "stdout",
          "text": [
            "                   all        601      12818      0.949      0.978      0.981      0.856      0.949      0.978      0.981      0.832\n"
          ]
        },
        {
          "output_type": "stream",
          "name": "stderr",
          "text": [
            "\n"
          ]
        },
        {
          "output_type": "stream",
          "name": "stdout",
          "text": [
            "\n",
            "      Epoch    GPU_mem   box_loss   seg_loss   cls_loss   dfl_loss  Instances       Size\n"
          ]
        },
        {
          "output_type": "stream",
          "name": "stderr",
          "text": [
            "     23/100      4.85G     0.6168      0.849     0.4474     0.8938        181        640: 100%|██████████| 88/88 [01:27<00:00,  1.01it/s]\n",
            "                 Class     Images  Instances      Box(P          R      mAP50  mAP50-95)     Mask(P          R      mAP50  mAP50-95): 100%|██████████| 19/19 [00:14<00:00,  1.34it/s]"
          ]
        },
        {
          "output_type": "stream",
          "name": "stdout",
          "text": [
            "                   all        601      12818      0.955      0.972      0.987      0.861      0.955      0.972      0.987      0.829\n"
          ]
        },
        {
          "output_type": "stream",
          "name": "stderr",
          "text": [
            "\n"
          ]
        },
        {
          "output_type": "stream",
          "name": "stdout",
          "text": [
            "\n",
            "      Epoch    GPU_mem   box_loss   seg_loss   cls_loss   dfl_loss  Instances       Size\n"
          ]
        },
        {
          "output_type": "stream",
          "name": "stderr",
          "text": [
            "     24/100      5.67G     0.6103     0.8388     0.4435     0.8946        299        640: 100%|██████████| 88/88 [01:26<00:00,  1.02it/s]\n",
            "                 Class     Images  Instances      Box(P          R      mAP50  mAP50-95)     Mask(P          R      mAP50  mAP50-95): 100%|██████████| 19/19 [00:13<00:00,  1.39it/s]"
          ]
        },
        {
          "output_type": "stream",
          "name": "stdout",
          "text": [
            "                   all        601      12818      0.963      0.977      0.987      0.862      0.963      0.977      0.987      0.818\n"
          ]
        },
        {
          "output_type": "stream",
          "name": "stderr",
          "text": [
            "\n"
          ]
        },
        {
          "output_type": "stream",
          "name": "stdout",
          "text": [
            "\n",
            "      Epoch    GPU_mem   box_loss   seg_loss   cls_loss   dfl_loss  Instances       Size\n"
          ]
        },
        {
          "output_type": "stream",
          "name": "stderr",
          "text": [
            "     25/100      4.91G     0.6112     0.8483     0.4369     0.8924        231        640: 100%|██████████| 88/88 [01:26<00:00,  1.02it/s]\n",
            "                 Class     Images  Instances      Box(P          R      mAP50  mAP50-95)     Mask(P          R      mAP50  mAP50-95): 100%|██████████| 19/19 [00:13<00:00,  1.44it/s]"
          ]
        },
        {
          "output_type": "stream",
          "name": "stdout",
          "text": [
            "                   all        601      12818       0.96       0.97      0.988      0.858       0.96       0.97      0.988      0.812\n"
          ]
        },
        {
          "output_type": "stream",
          "name": "stderr",
          "text": [
            "\n"
          ]
        },
        {
          "output_type": "stream",
          "name": "stdout",
          "text": [
            "\n",
            "      Epoch    GPU_mem   box_loss   seg_loss   cls_loss   dfl_loss  Instances       Size\n"
          ]
        },
        {
          "output_type": "stream",
          "name": "stderr",
          "text": [
            "     26/100      5.44G     0.5974     0.8285     0.4258     0.8878        255        640: 100%|██████████| 88/88 [01:27<00:00,  1.00it/s]\n",
            "                 Class     Images  Instances      Box(P          R      mAP50  mAP50-95)     Mask(P          R      mAP50  mAP50-95): 100%|██████████| 19/19 [00:12<00:00,  1.47it/s]\n"
          ]
        },
        {
          "output_type": "stream",
          "name": "stdout",
          "text": [
            "                   all        601      12818      0.963       0.97      0.988      0.866      0.961      0.972      0.988       0.84\n",
            "\n",
            "      Epoch    GPU_mem   box_loss   seg_loss   cls_loss   dfl_loss  Instances       Size\n"
          ]
        },
        {
          "output_type": "stream",
          "name": "stderr",
          "text": [
            "     27/100      5.01G     0.6011     0.8204     0.4313     0.8927        276        640: 100%|██████████| 88/88 [01:25<00:00,  1.02it/s]\n",
            "                 Class     Images  Instances      Box(P          R      mAP50  mAP50-95)     Mask(P          R      mAP50  mAP50-95): 100%|██████████| 19/19 [00:11<00:00,  1.60it/s]"
          ]
        },
        {
          "output_type": "stream",
          "name": "stdout",
          "text": [
            "                   all        601      12818      0.969      0.971      0.988      0.869      0.969      0.972      0.988      0.835\n"
          ]
        },
        {
          "output_type": "stream",
          "name": "stderr",
          "text": [
            "\n"
          ]
        },
        {
          "output_type": "stream",
          "name": "stdout",
          "text": [
            "\n",
            "      Epoch    GPU_mem   box_loss   seg_loss   cls_loss   dfl_loss  Instances       Size\n"
          ]
        },
        {
          "output_type": "stream",
          "name": "stderr",
          "text": [
            "     28/100      5.44G      0.603     0.8289     0.4282     0.8899        382        640: 100%|██████████| 88/88 [01:26<00:00,  1.01it/s]\n",
            "                 Class     Images  Instances      Box(P          R      mAP50  mAP50-95)     Mask(P          R      mAP50  mAP50-95): 100%|██████████| 19/19 [00:13<00:00,  1.44it/s]"
          ]
        },
        {
          "output_type": "stream",
          "name": "stdout",
          "text": [
            "                   all        601      12818      0.941      0.968      0.983      0.864      0.941      0.968      0.983      0.829\n"
          ]
        },
        {
          "output_type": "stream",
          "name": "stderr",
          "text": [
            "\n"
          ]
        },
        {
          "output_type": "stream",
          "name": "stdout",
          "text": [
            "\n",
            "      Epoch    GPU_mem   box_loss   seg_loss   cls_loss   dfl_loss  Instances       Size\n"
          ]
        },
        {
          "output_type": "stream",
          "name": "stderr",
          "text": [
            "     29/100       5.1G     0.5965     0.8014     0.4131     0.8857        228        640: 100%|██████████| 88/88 [01:29<00:00,  1.02s/it]\n",
            "                 Class     Images  Instances      Box(P          R      mAP50  mAP50-95)     Mask(P          R      mAP50  mAP50-95): 100%|██████████| 19/19 [00:11<00:00,  1.59it/s]"
          ]
        },
        {
          "output_type": "stream",
          "name": "stdout",
          "text": [
            "                   all        601      12818      0.969      0.975       0.99      0.878       0.97      0.976       0.99       0.84\n"
          ]
        },
        {
          "output_type": "stream",
          "name": "stderr",
          "text": [
            "\n"
          ]
        },
        {
          "output_type": "stream",
          "name": "stdout",
          "text": [
            "\n",
            "      Epoch    GPU_mem   box_loss   seg_loss   cls_loss   dfl_loss  Instances       Size\n"
          ]
        },
        {
          "output_type": "stream",
          "name": "stderr",
          "text": [
            "     30/100      5.85G     0.5897     0.7917     0.4088     0.8836        439        640: 100%|██████████| 88/88 [01:29<00:00,  1.02s/it]\n",
            "                 Class     Images  Instances      Box(P          R      mAP50  mAP50-95)     Mask(P          R      mAP50  mAP50-95): 100%|██████████| 19/19 [00:11<00:00,  1.61it/s]"
          ]
        },
        {
          "output_type": "stream",
          "name": "stdout",
          "text": [
            "                   all        601      12818      0.971       0.98      0.991      0.874      0.972       0.98      0.991      0.833\n"
          ]
        },
        {
          "output_type": "stream",
          "name": "stderr",
          "text": [
            "\n"
          ]
        },
        {
          "output_type": "stream",
          "name": "stdout",
          "text": [
            "\n",
            "      Epoch    GPU_mem   box_loss   seg_loss   cls_loss   dfl_loss  Instances       Size\n"
          ]
        },
        {
          "output_type": "stream",
          "name": "stderr",
          "text": [
            "     31/100      5.05G     0.5865     0.7964      0.407     0.8812        483        640: 100%|██████████| 88/88 [01:30<00:00,  1.03s/it]\n",
            "                 Class     Images  Instances      Box(P          R      mAP50  mAP50-95)     Mask(P          R      mAP50  mAP50-95): 100%|██████████| 19/19 [00:13<00:00,  1.44it/s]"
          ]
        },
        {
          "output_type": "stream",
          "name": "stdout",
          "text": [
            "                   all        601      12818      0.963      0.978      0.988      0.879      0.964      0.979      0.988      0.848\n"
          ]
        },
        {
          "output_type": "stream",
          "name": "stderr",
          "text": [
            "\n"
          ]
        },
        {
          "output_type": "stream",
          "name": "stdout",
          "text": [
            "\n",
            "      Epoch    GPU_mem   box_loss   seg_loss   cls_loss   dfl_loss  Instances       Size\n"
          ]
        },
        {
          "output_type": "stream",
          "name": "stderr",
          "text": [
            "     32/100      4.85G     0.5873     0.8063     0.4023     0.8816        232        640: 100%|██████████| 88/88 [01:30<00:00,  1.03s/it]\n",
            "                 Class     Images  Instances      Box(P          R      mAP50  mAP50-95)     Mask(P          R      mAP50  mAP50-95): 100%|██████████| 19/19 [00:14<00:00,  1.31it/s]"
          ]
        },
        {
          "output_type": "stream",
          "name": "stdout",
          "text": [
            "                   all        601      12818      0.972      0.981       0.99       0.88      0.972      0.981       0.99      0.843\n"
          ]
        },
        {
          "output_type": "stream",
          "name": "stderr",
          "text": [
            "\n"
          ]
        },
        {
          "output_type": "stream",
          "name": "stdout",
          "text": [
            "\n",
            "      Epoch    GPU_mem   box_loss   seg_loss   cls_loss   dfl_loss  Instances       Size\n"
          ]
        },
        {
          "output_type": "stream",
          "name": "stderr",
          "text": [
            "     33/100      5.28G     0.5826     0.7855     0.4002     0.8804        287        640: 100%|██████████| 88/88 [01:30<00:00,  1.02s/it]\n",
            "                 Class     Images  Instances      Box(P          R      mAP50  mAP50-95)     Mask(P          R      mAP50  mAP50-95): 100%|██████████| 19/19 [00:14<00:00,  1.30it/s]"
          ]
        },
        {
          "output_type": "stream",
          "name": "stdout",
          "text": [
            "                   all        601      12818      0.966      0.979      0.988       0.88      0.966      0.979      0.988      0.848\n"
          ]
        },
        {
          "output_type": "stream",
          "name": "stderr",
          "text": [
            "\n"
          ]
        },
        {
          "output_type": "stream",
          "name": "stdout",
          "text": [
            "\n",
            "      Epoch    GPU_mem   box_loss   seg_loss   cls_loss   dfl_loss  Instances       Size\n"
          ]
        },
        {
          "output_type": "stream",
          "name": "stderr",
          "text": [
            "     34/100      5.46G     0.5877     0.8033     0.4038     0.8828        302        640: 100%|██████████| 88/88 [01:29<00:00,  1.02s/it]\n",
            "                 Class     Images  Instances      Box(P          R      mAP50  mAP50-95)     Mask(P          R      mAP50  mAP50-95): 100%|██████████| 19/19 [00:13<00:00,  1.40it/s]"
          ]
        },
        {
          "output_type": "stream",
          "name": "stdout",
          "text": [
            "                   all        601      12818      0.974      0.982      0.991      0.882      0.974      0.982      0.991      0.841\n"
          ]
        },
        {
          "output_type": "stream",
          "name": "stderr",
          "text": [
            "\n"
          ]
        },
        {
          "output_type": "stream",
          "name": "stdout",
          "text": [
            "\n",
            "      Epoch    GPU_mem   box_loss   seg_loss   cls_loss   dfl_loss  Instances       Size\n"
          ]
        },
        {
          "output_type": "stream",
          "name": "stderr",
          "text": [
            "     35/100      5.26G     0.5902     0.8068     0.4052     0.8845        232        640: 100%|██████████| 88/88 [01:29<00:00,  1.02s/it]\n",
            "                 Class     Images  Instances      Box(P          R      mAP50  mAP50-95)     Mask(P          R      mAP50  mAP50-95): 100%|██████████| 19/19 [00:15<00:00,  1.26it/s]"
          ]
        },
        {
          "output_type": "stream",
          "name": "stdout",
          "text": [
            "                   all        601      12818      0.971      0.982       0.99      0.886      0.971      0.982      0.989      0.858\n"
          ]
        },
        {
          "output_type": "stream",
          "name": "stderr",
          "text": [
            "\n"
          ]
        },
        {
          "output_type": "stream",
          "name": "stdout",
          "text": [
            "\n",
            "      Epoch    GPU_mem   box_loss   seg_loss   cls_loss   dfl_loss  Instances       Size\n"
          ]
        },
        {
          "output_type": "stream",
          "name": "stderr",
          "text": [
            "     36/100       4.9G     0.5767     0.7824     0.3906     0.8767        265        640: 100%|██████████| 88/88 [01:29<00:00,  1.01s/it]\n",
            "                 Class     Images  Instances      Box(P          R      mAP50  mAP50-95)     Mask(P          R      mAP50  mAP50-95): 100%|██████████| 19/19 [00:14<00:00,  1.35it/s]"
          ]
        },
        {
          "output_type": "stream",
          "name": "stdout",
          "text": [
            "                   all        601      12818      0.979      0.984      0.992      0.888      0.978      0.982       0.99       0.86\n"
          ]
        },
        {
          "output_type": "stream",
          "name": "stderr",
          "text": [
            "\n"
          ]
        },
        {
          "output_type": "stream",
          "name": "stdout",
          "text": [
            "\n",
            "      Epoch    GPU_mem   box_loss   seg_loss   cls_loss   dfl_loss  Instances       Size\n"
          ]
        },
        {
          "output_type": "stream",
          "name": "stderr",
          "text": [
            "     37/100      5.93G     0.5697     0.7623     0.3872     0.8751        339        640: 100%|██████████| 88/88 [01:27<00:00,  1.00it/s]\n",
            "                 Class     Images  Instances      Box(P          R      mAP50  mAP50-95)     Mask(P          R      mAP50  mAP50-95): 100%|██████████| 19/19 [00:14<00:00,  1.35it/s]"
          ]
        },
        {
          "output_type": "stream",
          "name": "stdout",
          "text": [
            "                   all        601      12818      0.975      0.978      0.991      0.878      0.976      0.978      0.991      0.841\n"
          ]
        },
        {
          "output_type": "stream",
          "name": "stderr",
          "text": [
            "\n"
          ]
        },
        {
          "output_type": "stream",
          "name": "stdout",
          "text": [
            "\n",
            "      Epoch    GPU_mem   box_loss   seg_loss   cls_loss   dfl_loss  Instances       Size\n"
          ]
        },
        {
          "output_type": "stream",
          "name": "stderr",
          "text": [
            "     38/100      5.22G     0.5697     0.7704     0.3862     0.8758        300        640: 100%|██████████| 88/88 [01:27<00:00,  1.00it/s]\n",
            "                 Class     Images  Instances      Box(P          R      mAP50  mAP50-95)     Mask(P          R      mAP50  mAP50-95): 100%|██████████| 19/19 [00:14<00:00,  1.27it/s]"
          ]
        },
        {
          "output_type": "stream",
          "name": "stdout",
          "text": [
            "                   all        601      12818       0.97      0.983      0.989      0.886      0.971      0.982      0.988      0.855\n"
          ]
        },
        {
          "output_type": "stream",
          "name": "stderr",
          "text": [
            "\n"
          ]
        },
        {
          "output_type": "stream",
          "name": "stdout",
          "text": [
            "\n",
            "      Epoch    GPU_mem   box_loss   seg_loss   cls_loss   dfl_loss  Instances       Size\n"
          ]
        },
        {
          "output_type": "stream",
          "name": "stderr",
          "text": [
            "     39/100      5.66G     0.5736     0.7694     0.3855     0.8777        325        640: 100%|██████████| 88/88 [01:29<00:00,  1.01s/it]\n",
            "                 Class     Images  Instances      Box(P          R      mAP50  mAP50-95)     Mask(P          R      mAP50  mAP50-95): 100%|██████████| 19/19 [00:14<00:00,  1.32it/s]"
          ]
        },
        {
          "output_type": "stream",
          "name": "stdout",
          "text": [
            "                   all        601      12818      0.977      0.984      0.991      0.865      0.977      0.984      0.991      0.832\n"
          ]
        },
        {
          "output_type": "stream",
          "name": "stderr",
          "text": [
            "\n"
          ]
        },
        {
          "output_type": "stream",
          "name": "stdout",
          "text": [
            "\n",
            "      Epoch    GPU_mem   box_loss   seg_loss   cls_loss   dfl_loss  Instances       Size\n"
          ]
        },
        {
          "output_type": "stream",
          "name": "stderr",
          "text": [
            "     40/100      5.78G     0.5735     0.7537     0.3818     0.8763        254        640: 100%|██████████| 88/88 [01:27<00:00,  1.00it/s]\n",
            "                 Class     Images  Instances      Box(P          R      mAP50  mAP50-95)     Mask(P          R      mAP50  mAP50-95): 100%|██████████| 19/19 [00:14<00:00,  1.27it/s]"
          ]
        },
        {
          "output_type": "stream",
          "name": "stdout",
          "text": [
            "                   all        601      12818      0.978      0.982       0.99       0.88      0.978      0.984       0.99      0.844\n"
          ]
        },
        {
          "output_type": "stream",
          "name": "stderr",
          "text": [
            "\n"
          ]
        },
        {
          "output_type": "stream",
          "name": "stdout",
          "text": [
            "\n",
            "      Epoch    GPU_mem   box_loss   seg_loss   cls_loss   dfl_loss  Instances       Size\n"
          ]
        },
        {
          "output_type": "stream",
          "name": "stderr",
          "text": [
            "     41/100       6.2G     0.5775     0.7777      0.379     0.8765        179        640: 100%|██████████| 88/88 [01:29<00:00,  1.02s/it]\n",
            "                 Class     Images  Instances      Box(P          R      mAP50  mAP50-95)     Mask(P          R      mAP50  mAP50-95): 100%|██████████| 19/19 [00:14<00:00,  1.29it/s]"
          ]
        },
        {
          "output_type": "stream",
          "name": "stdout",
          "text": [
            "                   all        601      12818      0.983      0.983      0.991      0.889      0.983      0.983      0.991      0.867\n"
          ]
        },
        {
          "output_type": "stream",
          "name": "stderr",
          "text": [
            "\n"
          ]
        },
        {
          "output_type": "stream",
          "name": "stdout",
          "text": [
            "\n",
            "      Epoch    GPU_mem   box_loss   seg_loss   cls_loss   dfl_loss  Instances       Size\n"
          ]
        },
        {
          "output_type": "stream",
          "name": "stderr",
          "text": [
            "     42/100      4.98G       0.56     0.7504     0.3729     0.8712        198        640: 100%|██████████| 88/88 [01:29<00:00,  1.02s/it]\n",
            "                 Class     Images  Instances      Box(P          R      mAP50  mAP50-95)     Mask(P          R      mAP50  mAP50-95): 100%|██████████| 19/19 [00:13<00:00,  1.36it/s]"
          ]
        },
        {
          "output_type": "stream",
          "name": "stdout",
          "text": [
            "                   all        601      12818      0.977      0.985      0.991      0.886      0.976      0.984       0.99       0.86\n"
          ]
        },
        {
          "output_type": "stream",
          "name": "stderr",
          "text": [
            "\n"
          ]
        },
        {
          "output_type": "stream",
          "name": "stdout",
          "text": [
            "\n",
            "      Epoch    GPU_mem   box_loss   seg_loss   cls_loss   dfl_loss  Instances       Size\n"
          ]
        },
        {
          "output_type": "stream",
          "name": "stderr",
          "text": [
            "     43/100      5.02G     0.5511      0.737     0.3676     0.8676        451        640: 100%|██████████| 88/88 [01:27<00:00,  1.00it/s]\n",
            "                 Class     Images  Instances      Box(P          R      mAP50  mAP50-95)     Mask(P          R      mAP50  mAP50-95): 100%|██████████| 19/19 [00:13<00:00,  1.36it/s]"
          ]
        },
        {
          "output_type": "stream",
          "name": "stdout",
          "text": [
            "                   all        601      12818      0.979      0.982      0.991      0.889      0.979      0.982      0.991      0.851\n"
          ]
        },
        {
          "output_type": "stream",
          "name": "stderr",
          "text": [
            "\n"
          ]
        },
        {
          "output_type": "stream",
          "name": "stdout",
          "text": [
            "\n",
            "      Epoch    GPU_mem   box_loss   seg_loss   cls_loss   dfl_loss  Instances       Size\n"
          ]
        },
        {
          "output_type": "stream",
          "name": "stderr",
          "text": [
            "     44/100      4.96G      0.553     0.7443     0.3682     0.8698        200        640: 100%|██████████| 88/88 [01:28<00:00,  1.00s/it]\n",
            "                 Class     Images  Instances      Box(P          R      mAP50  mAP50-95)     Mask(P          R      mAP50  mAP50-95): 100%|██████████| 19/19 [00:13<00:00,  1.37it/s]"
          ]
        },
        {
          "output_type": "stream",
          "name": "stdout",
          "text": [
            "                   all        601      12818      0.979      0.984      0.991      0.891      0.977      0.984       0.99      0.853\n"
          ]
        },
        {
          "output_type": "stream",
          "name": "stderr",
          "text": [
            "\n"
          ]
        },
        {
          "output_type": "stream",
          "name": "stdout",
          "text": [
            "\n",
            "      Epoch    GPU_mem   box_loss   seg_loss   cls_loss   dfl_loss  Instances       Size\n"
          ]
        },
        {
          "output_type": "stream",
          "name": "stderr",
          "text": [
            "     45/100      4.89G      0.553     0.7417      0.364     0.8692        270        640: 100%|██████████| 88/88 [01:28<00:00,  1.00s/it]\n",
            "                 Class     Images  Instances      Box(P          R      mAP50  mAP50-95)     Mask(P          R      mAP50  mAP50-95): 100%|██████████| 19/19 [00:13<00:00,  1.38it/s]"
          ]
        },
        {
          "output_type": "stream",
          "name": "stdout",
          "text": [
            "                   all        601      12818      0.983      0.988      0.992      0.896      0.981      0.987       0.99      0.858\n"
          ]
        },
        {
          "output_type": "stream",
          "name": "stderr",
          "text": [
            "\n"
          ]
        },
        {
          "output_type": "stream",
          "name": "stdout",
          "text": [
            "\n",
            "      Epoch    GPU_mem   box_loss   seg_loss   cls_loss   dfl_loss  Instances       Size\n"
          ]
        },
        {
          "output_type": "stream",
          "name": "stderr",
          "text": [
            "     46/100      4.51G     0.5505     0.7403     0.3643     0.8737        215        640: 100%|██████████| 88/88 [01:27<00:00,  1.00it/s]\n",
            "                 Class     Images  Instances      Box(P          R      mAP50  mAP50-95)     Mask(P          R      mAP50  mAP50-95): 100%|██████████| 19/19 [00:14<00:00,  1.28it/s]"
          ]
        },
        {
          "output_type": "stream",
          "name": "stdout",
          "text": [
            "                   all        601      12818      0.978      0.989      0.991      0.887      0.977      0.989      0.991      0.851\n"
          ]
        },
        {
          "output_type": "stream",
          "name": "stderr",
          "text": [
            "\n"
          ]
        },
        {
          "output_type": "stream",
          "name": "stdout",
          "text": [
            "\n",
            "      Epoch    GPU_mem   box_loss   seg_loss   cls_loss   dfl_loss  Instances       Size\n"
          ]
        },
        {
          "output_type": "stream",
          "name": "stderr",
          "text": [
            "     47/100      5.15G     0.5587      0.755     0.3683     0.8729        263        640: 100%|██████████| 88/88 [01:27<00:00,  1.00it/s]\n",
            "                 Class     Images  Instances      Box(P          R      mAP50  mAP50-95)     Mask(P          R      mAP50  mAP50-95): 100%|██████████| 19/19 [00:14<00:00,  1.34it/s]"
          ]
        },
        {
          "output_type": "stream",
          "name": "stdout",
          "text": [
            "                   all        601      12818      0.973      0.986      0.991      0.896      0.973      0.986      0.991      0.866\n"
          ]
        },
        {
          "output_type": "stream",
          "name": "stderr",
          "text": [
            "\n"
          ]
        },
        {
          "output_type": "stream",
          "name": "stdout",
          "text": [
            "\n",
            "      Epoch    GPU_mem   box_loss   seg_loss   cls_loss   dfl_loss  Instances       Size\n"
          ]
        },
        {
          "output_type": "stream",
          "name": "stderr",
          "text": [
            "     48/100      5.29G     0.5512      0.734     0.3623     0.8725        160        640: 100%|██████████| 88/88 [01:26<00:00,  1.02it/s]\n",
            "                 Class     Images  Instances      Box(P          R      mAP50  mAP50-95)     Mask(P          R      mAP50  mAP50-95): 100%|██████████| 19/19 [00:14<00:00,  1.35it/s]"
          ]
        },
        {
          "output_type": "stream",
          "name": "stdout",
          "text": [
            "                   all        601      12818      0.977      0.988      0.991      0.886      0.977      0.988      0.991      0.846\n"
          ]
        },
        {
          "output_type": "stream",
          "name": "stderr",
          "text": [
            "\n"
          ]
        },
        {
          "output_type": "stream",
          "name": "stdout",
          "text": [
            "\n",
            "      Epoch    GPU_mem   box_loss   seg_loss   cls_loss   dfl_loss  Instances       Size\n"
          ]
        },
        {
          "output_type": "stream",
          "name": "stderr",
          "text": [
            "     49/100      5.34G     0.5578     0.7339     0.3637     0.8685        273        640: 100%|██████████| 88/88 [01:27<00:00,  1.00it/s]\n",
            "                 Class     Images  Instances      Box(P          R      mAP50  mAP50-95)     Mask(P          R      mAP50  mAP50-95): 100%|██████████| 19/19 [00:13<00:00,  1.42it/s]"
          ]
        },
        {
          "output_type": "stream",
          "name": "stdout",
          "text": [
            "                   all        601      12818      0.981      0.986      0.992      0.885      0.981      0.986      0.992      0.849\n"
          ]
        },
        {
          "output_type": "stream",
          "name": "stderr",
          "text": [
            "\n"
          ]
        },
        {
          "output_type": "stream",
          "name": "stdout",
          "text": [
            "\n",
            "      Epoch    GPU_mem   box_loss   seg_loss   cls_loss   dfl_loss  Instances       Size\n"
          ]
        },
        {
          "output_type": "stream",
          "name": "stderr",
          "text": [
            "     50/100      5.29G     0.5385     0.7149     0.3525      0.867        227        640: 100%|██████████| 88/88 [01:27<00:00,  1.01it/s]\n",
            "                 Class     Images  Instances      Box(P          R      mAP50  mAP50-95)     Mask(P          R      mAP50  mAP50-95): 100%|██████████| 19/19 [00:14<00:00,  1.30it/s]"
          ]
        },
        {
          "output_type": "stream",
          "name": "stdout",
          "text": [
            "                   all        601      12818      0.977      0.991       0.99      0.893      0.977      0.991       0.99      0.864\n"
          ]
        },
        {
          "output_type": "stream",
          "name": "stderr",
          "text": [
            "\n"
          ]
        },
        {
          "output_type": "stream",
          "name": "stdout",
          "text": [
            "\n",
            "      Epoch    GPU_mem   box_loss   seg_loss   cls_loss   dfl_loss  Instances       Size\n"
          ]
        },
        {
          "output_type": "stream",
          "name": "stderr",
          "text": [
            "     51/100      5.33G     0.5436     0.7264      0.356     0.8669        296        640: 100%|██████████| 88/88 [01:28<00:00,  1.00s/it]\n",
            "                 Class     Images  Instances      Box(P          R      mAP50  mAP50-95)     Mask(P          R      mAP50  mAP50-95): 100%|██████████| 19/19 [00:14<00:00,  1.34it/s]"
          ]
        },
        {
          "output_type": "stream",
          "name": "stdout",
          "text": [
            "                   all        601      12818      0.984      0.988      0.992      0.893      0.984      0.988      0.992      0.861\n"
          ]
        },
        {
          "output_type": "stream",
          "name": "stderr",
          "text": [
            "\n"
          ]
        },
        {
          "output_type": "stream",
          "name": "stdout",
          "text": [
            "\n",
            "      Epoch    GPU_mem   box_loss   seg_loss   cls_loss   dfl_loss  Instances       Size\n"
          ]
        },
        {
          "output_type": "stream",
          "name": "stderr",
          "text": [
            "     52/100      4.64G     0.5387      0.722      0.348     0.8647        291        640: 100%|██████████| 88/88 [01:27<00:00,  1.01it/s]\n",
            "                 Class     Images  Instances      Box(P          R      mAP50  mAP50-95)     Mask(P          R      mAP50  mAP50-95): 100%|██████████| 19/19 [00:14<00:00,  1.31it/s]"
          ]
        },
        {
          "output_type": "stream",
          "name": "stdout",
          "text": [
            "                   all        601      12818      0.983      0.989      0.993      0.895      0.983      0.989      0.992      0.864\n"
          ]
        },
        {
          "output_type": "stream",
          "name": "stderr",
          "text": [
            "\n"
          ]
        },
        {
          "output_type": "stream",
          "name": "stdout",
          "text": [
            "\n",
            "      Epoch    GPU_mem   box_loss   seg_loss   cls_loss   dfl_loss  Instances       Size\n"
          ]
        },
        {
          "output_type": "stream",
          "name": "stderr",
          "text": [
            "     53/100      5.51G     0.5399     0.7233     0.3516     0.8659        295        640: 100%|██████████| 88/88 [01:27<00:00,  1.00it/s]\n",
            "                 Class     Images  Instances      Box(P          R      mAP50  mAP50-95)     Mask(P          R      mAP50  mAP50-95): 100%|██████████| 19/19 [00:13<00:00,  1.44it/s]"
          ]
        },
        {
          "output_type": "stream",
          "name": "stdout",
          "text": [
            "                   all        601      12818      0.978      0.991      0.992      0.896      0.978       0.99      0.992      0.867\n"
          ]
        },
        {
          "output_type": "stream",
          "name": "stderr",
          "text": [
            "\n"
          ]
        },
        {
          "output_type": "stream",
          "name": "stdout",
          "text": [
            "\n",
            "      Epoch    GPU_mem   box_loss   seg_loss   cls_loss   dfl_loss  Instances       Size\n"
          ]
        },
        {
          "output_type": "stream",
          "name": "stderr",
          "text": [
            "     54/100      5.13G     0.5372     0.7226     0.3493     0.8644        387        640: 100%|██████████| 88/88 [01:27<00:00,  1.01it/s]\n",
            "                 Class     Images  Instances      Box(P          R      mAP50  mAP50-95)     Mask(P          R      mAP50  mAP50-95): 100%|██████████| 19/19 [00:13<00:00,  1.36it/s]"
          ]
        },
        {
          "output_type": "stream",
          "name": "stdout",
          "text": [
            "                   all        601      12818      0.979       0.99      0.992        0.9      0.979       0.99      0.992      0.868\n"
          ]
        },
        {
          "output_type": "stream",
          "name": "stderr",
          "text": [
            "\n"
          ]
        },
        {
          "output_type": "stream",
          "name": "stdout",
          "text": [
            "\n",
            "      Epoch    GPU_mem   box_loss   seg_loss   cls_loss   dfl_loss  Instances       Size\n"
          ]
        },
        {
          "output_type": "stream",
          "name": "stderr",
          "text": [
            "     55/100      5.09G       0.54     0.7222     0.3491     0.8636        377        640: 100%|██████████| 88/88 [01:27<00:00,  1.01it/s]\n",
            "                 Class     Images  Instances      Box(P          R      mAP50  mAP50-95)     Mask(P          R      mAP50  mAP50-95): 100%|██████████| 19/19 [00:14<00:00,  1.33it/s]"
          ]
        },
        {
          "output_type": "stream",
          "name": "stdout",
          "text": [
            "                   all        601      12818      0.981      0.992      0.991      0.899      0.979      0.991       0.99      0.873\n"
          ]
        },
        {
          "output_type": "stream",
          "name": "stderr",
          "text": [
            "\n"
          ]
        },
        {
          "output_type": "stream",
          "name": "stdout",
          "text": [
            "\n",
            "      Epoch    GPU_mem   box_loss   seg_loss   cls_loss   dfl_loss  Instances       Size\n"
          ]
        },
        {
          "output_type": "stream",
          "name": "stderr",
          "text": [
            "     56/100      4.83G     0.5276     0.7042     0.3402     0.8633        162        640: 100%|██████████| 88/88 [01:28<00:00,  1.00s/it]\n",
            "                 Class     Images  Instances      Box(P          R      mAP50  mAP50-95)     Mask(P          R      mAP50  mAP50-95): 100%|██████████| 19/19 [00:14<00:00,  1.32it/s]"
          ]
        },
        {
          "output_type": "stream",
          "name": "stdout",
          "text": [
            "                   all        601      12818      0.983      0.985      0.992      0.902      0.982      0.984      0.992      0.874\n"
          ]
        },
        {
          "output_type": "stream",
          "name": "stderr",
          "text": [
            "\n"
          ]
        },
        {
          "output_type": "stream",
          "name": "stdout",
          "text": [
            "\n",
            "      Epoch    GPU_mem   box_loss   seg_loss   cls_loss   dfl_loss  Instances       Size\n"
          ]
        },
        {
          "output_type": "stream",
          "name": "stderr",
          "text": [
            "     57/100      5.69G     0.5309     0.7088     0.3421     0.8622        228        640: 100%|██████████| 88/88 [01:27<00:00,  1.00it/s]\n",
            "                 Class     Images  Instances      Box(P          R      mAP50  mAP50-95)     Mask(P          R      mAP50  mAP50-95): 100%|██████████| 19/19 [00:14<00:00,  1.35it/s]"
          ]
        },
        {
          "output_type": "stream",
          "name": "stdout",
          "text": [
            "                   all        601      12818      0.983      0.988      0.993      0.901      0.982      0.987      0.992      0.868\n"
          ]
        },
        {
          "output_type": "stream",
          "name": "stderr",
          "text": [
            "\n"
          ]
        },
        {
          "output_type": "stream",
          "name": "stdout",
          "text": [
            "\n",
            "      Epoch    GPU_mem   box_loss   seg_loss   cls_loss   dfl_loss  Instances       Size\n"
          ]
        },
        {
          "output_type": "stream",
          "name": "stderr",
          "text": [
            "     58/100      4.91G     0.5281     0.7034     0.3395     0.8605        199        640: 100%|██████████| 88/88 [01:29<00:00,  1.01s/it]\n",
            "                 Class     Images  Instances      Box(P          R      mAP50  mAP50-95)     Mask(P          R      mAP50  mAP50-95): 100%|██████████| 19/19 [00:13<00:00,  1.38it/s]"
          ]
        },
        {
          "output_type": "stream",
          "name": "stdout",
          "text": [
            "                   all        601      12818      0.981       0.99      0.992      0.897      0.981       0.99      0.992      0.864\n"
          ]
        },
        {
          "output_type": "stream",
          "name": "stderr",
          "text": [
            "\n"
          ]
        },
        {
          "output_type": "stream",
          "name": "stdout",
          "text": [
            "\n",
            "      Epoch    GPU_mem   box_loss   seg_loss   cls_loss   dfl_loss  Instances       Size\n"
          ]
        },
        {
          "output_type": "stream",
          "name": "stderr",
          "text": [
            "     59/100      4.54G     0.5384     0.7126     0.3394     0.8642        306        640: 100%|██████████| 88/88 [01:27<00:00,  1.01it/s]\n",
            "                 Class     Images  Instances      Box(P          R      mAP50  mAP50-95)     Mask(P          R      mAP50  mAP50-95): 100%|██████████| 19/19 [00:14<00:00,  1.32it/s]"
          ]
        },
        {
          "output_type": "stream",
          "name": "stdout",
          "text": [
            "                   all        601      12818      0.981      0.992      0.991        0.9       0.98      0.991      0.991      0.867\n"
          ]
        },
        {
          "output_type": "stream",
          "name": "stderr",
          "text": [
            "\n"
          ]
        },
        {
          "output_type": "stream",
          "name": "stdout",
          "text": [
            "\n",
            "      Epoch    GPU_mem   box_loss   seg_loss   cls_loss   dfl_loss  Instances       Size\n"
          ]
        },
        {
          "output_type": "stream",
          "name": "stderr",
          "text": [
            "     60/100      5.79G     0.5285     0.6991     0.3356     0.8609        266        640: 100%|██████████| 88/88 [01:29<00:00,  1.01s/it]\n",
            "                 Class     Images  Instances      Box(P          R      mAP50  mAP50-95)     Mask(P          R      mAP50  mAP50-95): 100%|██████████| 19/19 [00:13<00:00,  1.37it/s]"
          ]
        },
        {
          "output_type": "stream",
          "name": "stdout",
          "text": [
            "                   all        601      12818      0.983      0.993      0.992      0.898      0.982      0.992      0.991       0.87\n"
          ]
        },
        {
          "output_type": "stream",
          "name": "stderr",
          "text": [
            "\n"
          ]
        },
        {
          "output_type": "stream",
          "name": "stdout",
          "text": [
            "\n",
            "      Epoch    GPU_mem   box_loss   seg_loss   cls_loss   dfl_loss  Instances       Size\n"
          ]
        },
        {
          "output_type": "stream",
          "name": "stderr",
          "text": [
            "     61/100         5G     0.5357     0.7154     0.3404     0.8621        401        640: 100%|██████████| 88/88 [01:27<00:00,  1.01it/s]\n",
            "                 Class     Images  Instances      Box(P          R      mAP50  mAP50-95)     Mask(P          R      mAP50  mAP50-95): 100%|██████████| 19/19 [00:13<00:00,  1.36it/s]"
          ]
        },
        {
          "output_type": "stream",
          "name": "stdout",
          "text": [
            "                   all        601      12818      0.985      0.993      0.993      0.904      0.985      0.993      0.993      0.877\n"
          ]
        },
        {
          "output_type": "stream",
          "name": "stderr",
          "text": [
            "\n"
          ]
        },
        {
          "output_type": "stream",
          "name": "stdout",
          "text": [
            "\n",
            "      Epoch    GPU_mem   box_loss   seg_loss   cls_loss   dfl_loss  Instances       Size\n"
          ]
        },
        {
          "output_type": "stream",
          "name": "stderr",
          "text": [
            "     62/100      4.97G      0.524     0.7002     0.3359     0.8592        292        640: 100%|██████████| 88/88 [01:27<00:00,  1.00it/s]\n",
            "                 Class     Images  Instances      Box(P          R      mAP50  mAP50-95)     Mask(P          R      mAP50  mAP50-95): 100%|██████████| 19/19 [00:13<00:00,  1.44it/s]"
          ]
        },
        {
          "output_type": "stream",
          "name": "stdout",
          "text": [
            "                   all        601      12818      0.984       0.99      0.993      0.904      0.982       0.99      0.992      0.865\n"
          ]
        },
        {
          "output_type": "stream",
          "name": "stderr",
          "text": [
            "\n"
          ]
        },
        {
          "output_type": "stream",
          "name": "stdout",
          "text": [
            "\n",
            "      Epoch    GPU_mem   box_loss   seg_loss   cls_loss   dfl_loss  Instances       Size\n"
          ]
        },
        {
          "output_type": "stream",
          "name": "stderr",
          "text": [
            "     63/100       5.3G     0.5176     0.6888     0.3306     0.8587        351        640: 100%|██████████| 88/88 [01:26<00:00,  1.02it/s]\n",
            "                 Class     Images  Instances      Box(P          R      mAP50  mAP50-95)     Mask(P          R      mAP50  mAP50-95): 100%|██████████| 19/19 [00:13<00:00,  1.36it/s]"
          ]
        },
        {
          "output_type": "stream",
          "name": "stdout",
          "text": [
            "                   all        601      12818      0.985      0.991      0.993      0.899      0.984      0.991      0.993      0.867\n"
          ]
        },
        {
          "output_type": "stream",
          "name": "stderr",
          "text": [
            "\n"
          ]
        },
        {
          "output_type": "stream",
          "name": "stdout",
          "text": [
            "\n",
            "      Epoch    GPU_mem   box_loss   seg_loss   cls_loss   dfl_loss  Instances       Size\n"
          ]
        },
        {
          "output_type": "stream",
          "name": "stderr",
          "text": [
            "     64/100      4.47G     0.5192     0.6854     0.3275     0.8569        459        640: 100%|██████████| 88/88 [01:26<00:00,  1.01it/s]\n",
            "                 Class     Images  Instances      Box(P          R      mAP50  mAP50-95)     Mask(P          R      mAP50  mAP50-95): 100%|██████████| 19/19 [00:14<00:00,  1.33it/s]"
          ]
        },
        {
          "output_type": "stream",
          "name": "stdout",
          "text": [
            "                   all        601      12818       0.98      0.991      0.993      0.907       0.98      0.991      0.993      0.875\n"
          ]
        },
        {
          "output_type": "stream",
          "name": "stderr",
          "text": [
            "\n"
          ]
        },
        {
          "output_type": "stream",
          "name": "stdout",
          "text": [
            "\n",
            "      Epoch    GPU_mem   box_loss   seg_loss   cls_loss   dfl_loss  Instances       Size\n"
          ]
        },
        {
          "output_type": "stream",
          "name": "stderr",
          "text": [
            "     65/100      4.72G     0.5239     0.7028     0.3278      0.862        246        640: 100%|██████████| 88/88 [01:27<00:00,  1.00it/s]\n",
            "                 Class     Images  Instances      Box(P          R      mAP50  mAP50-95)     Mask(P          R      mAP50  mAP50-95): 100%|██████████| 19/19 [00:14<00:00,  1.35it/s]"
          ]
        },
        {
          "output_type": "stream",
          "name": "stdout",
          "text": [
            "                   all        601      12818      0.982       0.99      0.993      0.901      0.981      0.989      0.992      0.868\n"
          ]
        },
        {
          "output_type": "stream",
          "name": "stderr",
          "text": [
            "\n"
          ]
        },
        {
          "output_type": "stream",
          "name": "stdout",
          "text": [
            "\n",
            "      Epoch    GPU_mem   box_loss   seg_loss   cls_loss   dfl_loss  Instances       Size\n"
          ]
        },
        {
          "output_type": "stream",
          "name": "stderr",
          "text": [
            "     66/100      5.51G     0.5223     0.7019     0.3266     0.8582        490        640: 100%|██████████| 88/88 [01:27<00:00,  1.00it/s]\n",
            "                 Class     Images  Instances      Box(P          R      mAP50  mAP50-95)     Mask(P          R      mAP50  mAP50-95): 100%|██████████| 19/19 [00:13<00:00,  1.39it/s]"
          ]
        },
        {
          "output_type": "stream",
          "name": "stdout",
          "text": [
            "                   all        601      12818      0.984      0.993      0.993      0.908      0.983      0.992      0.992      0.879\n"
          ]
        },
        {
          "output_type": "stream",
          "name": "stderr",
          "text": [
            "\n"
          ]
        },
        {
          "output_type": "stream",
          "name": "stdout",
          "text": [
            "\n",
            "      Epoch    GPU_mem   box_loss   seg_loss   cls_loss   dfl_loss  Instances       Size\n"
          ]
        },
        {
          "output_type": "stream",
          "name": "stderr",
          "text": [
            "     67/100      5.07G     0.5182     0.6863     0.3265     0.8581        269        640: 100%|██████████| 88/88 [01:26<00:00,  1.02it/s]\n",
            "                 Class     Images  Instances      Box(P          R      mAP50  mAP50-95)     Mask(P          R      mAP50  mAP50-95): 100%|██████████| 19/19 [00:12<00:00,  1.46it/s]"
          ]
        },
        {
          "output_type": "stream",
          "name": "stdout",
          "text": [
            "                   all        601      12818      0.984      0.992      0.993      0.902      0.984      0.992      0.992      0.867\n"
          ]
        },
        {
          "output_type": "stream",
          "name": "stderr",
          "text": [
            "\n"
          ]
        },
        {
          "output_type": "stream",
          "name": "stdout",
          "text": [
            "\n",
            "      Epoch    GPU_mem   box_loss   seg_loss   cls_loss   dfl_loss  Instances       Size\n"
          ]
        },
        {
          "output_type": "stream",
          "name": "stderr",
          "text": [
            "     68/100      5.61G     0.5178     0.6963     0.3248     0.8571        276        640: 100%|██████████| 88/88 [01:28<00:00,  1.01s/it]\n",
            "                 Class     Images  Instances      Box(P          R      mAP50  mAP50-95)     Mask(P          R      mAP50  mAP50-95): 100%|██████████| 19/19 [00:11<00:00,  1.59it/s]"
          ]
        },
        {
          "output_type": "stream",
          "name": "stdout",
          "text": [
            "                   all        601      12818      0.987      0.993      0.993      0.909      0.986      0.992      0.993      0.876\n"
          ]
        },
        {
          "output_type": "stream",
          "name": "stderr",
          "text": [
            "\n"
          ]
        },
        {
          "output_type": "stream",
          "name": "stdout",
          "text": [
            "\n",
            "      Epoch    GPU_mem   box_loss   seg_loss   cls_loss   dfl_loss  Instances       Size\n"
          ]
        },
        {
          "output_type": "stream",
          "name": "stderr",
          "text": [
            "     69/100         5G     0.5111     0.6883     0.3225     0.8572        336        640: 100%|██████████| 88/88 [01:27<00:00,  1.01it/s]\n",
            "                 Class     Images  Instances      Box(P          R      mAP50  mAP50-95)     Mask(P          R      mAP50  mAP50-95): 100%|██████████| 19/19 [00:12<00:00,  1.48it/s]"
          ]
        },
        {
          "output_type": "stream",
          "name": "stdout",
          "text": [
            "                   all        601      12818      0.989      0.994      0.993       0.91      0.988      0.993      0.993      0.875\n"
          ]
        },
        {
          "output_type": "stream",
          "name": "stderr",
          "text": [
            "\n"
          ]
        },
        {
          "output_type": "stream",
          "name": "stdout",
          "text": [
            "\n",
            "      Epoch    GPU_mem   box_loss   seg_loss   cls_loss   dfl_loss  Instances       Size\n"
          ]
        },
        {
          "output_type": "stream",
          "name": "stderr",
          "text": [
            "     70/100      5.27G     0.5157     0.6788     0.3196     0.8558        243        640: 100%|██████████| 88/88 [01:29<00:00,  1.02s/it]\n",
            "                 Class     Images  Instances      Box(P          R      mAP50  mAP50-95)     Mask(P          R      mAP50  mAP50-95): 100%|██████████| 19/19 [00:12<00:00,  1.51it/s]"
          ]
        },
        {
          "output_type": "stream",
          "name": "stdout",
          "text": [
            "                   all        601      12818      0.986      0.993      0.993      0.908      0.985      0.993      0.993      0.883\n"
          ]
        },
        {
          "output_type": "stream",
          "name": "stderr",
          "text": [
            "\n"
          ]
        },
        {
          "output_type": "stream",
          "name": "stdout",
          "text": [
            "\n",
            "      Epoch    GPU_mem   box_loss   seg_loss   cls_loss   dfl_loss  Instances       Size\n"
          ]
        },
        {
          "output_type": "stream",
          "name": "stderr",
          "text": [
            "     71/100      4.97G     0.5096     0.6747     0.3174     0.8553        179        640: 100%|██████████| 88/88 [01:28<00:00,  1.01s/it]\n",
            "                 Class     Images  Instances      Box(P          R      mAP50  mAP50-95)     Mask(P          R      mAP50  mAP50-95): 100%|██████████| 19/19 [00:12<00:00,  1.52it/s]"
          ]
        },
        {
          "output_type": "stream",
          "name": "stdout",
          "text": [
            "                   all        601      12818      0.981      0.993      0.993       0.91      0.981      0.993      0.992      0.875\n"
          ]
        },
        {
          "output_type": "stream",
          "name": "stderr",
          "text": [
            "\n"
          ]
        },
        {
          "output_type": "stream",
          "name": "stdout",
          "text": [
            "\n",
            "      Epoch    GPU_mem   box_loss   seg_loss   cls_loss   dfl_loss  Instances       Size\n"
          ]
        },
        {
          "output_type": "stream",
          "name": "stderr",
          "text": [
            "     72/100      5.64G     0.5067     0.6727     0.3176     0.8551        249        640: 100%|██████████| 88/88 [01:29<00:00,  1.02s/it]\n",
            "                 Class     Images  Instances      Box(P          R      mAP50  mAP50-95)     Mask(P          R      mAP50  mAP50-95): 100%|██████████| 19/19 [00:12<00:00,  1.53it/s]"
          ]
        },
        {
          "output_type": "stream",
          "name": "stdout",
          "text": [
            "                   all        601      12818      0.983      0.992      0.993      0.913      0.981      0.993      0.992      0.876\n"
          ]
        },
        {
          "output_type": "stream",
          "name": "stderr",
          "text": [
            "\n"
          ]
        },
        {
          "output_type": "stream",
          "name": "stdout",
          "text": [
            "\n",
            "      Epoch    GPU_mem   box_loss   seg_loss   cls_loss   dfl_loss  Instances       Size\n"
          ]
        },
        {
          "output_type": "stream",
          "name": "stderr",
          "text": [
            "     73/100      5.03G     0.5079      0.675      0.316     0.8541        424        640: 100%|██████████| 88/88 [01:27<00:00,  1.00it/s]\n",
            "                 Class     Images  Instances      Box(P          R      mAP50  mAP50-95)     Mask(P          R      mAP50  mAP50-95): 100%|██████████| 19/19 [00:13<00:00,  1.37it/s]"
          ]
        },
        {
          "output_type": "stream",
          "name": "stdout",
          "text": [
            "                   all        601      12818      0.989      0.993      0.994      0.913      0.989      0.992      0.992      0.874\n"
          ]
        },
        {
          "output_type": "stream",
          "name": "stderr",
          "text": [
            "\n"
          ]
        },
        {
          "output_type": "stream",
          "name": "stdout",
          "text": [
            "\n",
            "      Epoch    GPU_mem   box_loss   seg_loss   cls_loss   dfl_loss  Instances       Size\n"
          ]
        },
        {
          "output_type": "stream",
          "name": "stderr",
          "text": [
            "     74/100      4.89G     0.4991     0.6566     0.3104     0.8522        347        640: 100%|██████████| 88/88 [01:28<00:00,  1.01s/it]\n",
            "                 Class     Images  Instances      Box(P          R      mAP50  mAP50-95)     Mask(P          R      mAP50  mAP50-95): 100%|██████████| 19/19 [00:14<00:00,  1.35it/s]"
          ]
        },
        {
          "output_type": "stream",
          "name": "stdout",
          "text": [
            "                   all        601      12818      0.985      0.992      0.993      0.909      0.985      0.991      0.993      0.868\n"
          ]
        },
        {
          "output_type": "stream",
          "name": "stderr",
          "text": [
            "\n"
          ]
        },
        {
          "output_type": "stream",
          "name": "stdout",
          "text": [
            "\n",
            "      Epoch    GPU_mem   box_loss   seg_loss   cls_loss   dfl_loss  Instances       Size\n"
          ]
        },
        {
          "output_type": "stream",
          "name": "stderr",
          "text": [
            "     75/100      5.53G     0.5045     0.6733     0.3155     0.8563        350        640: 100%|██████████| 88/88 [01:27<00:00,  1.00it/s]\n",
            "                 Class     Images  Instances      Box(P          R      mAP50  mAP50-95)     Mask(P          R      mAP50  mAP50-95): 100%|██████████| 19/19 [00:14<00:00,  1.35it/s]"
          ]
        },
        {
          "output_type": "stream",
          "name": "stdout",
          "text": [
            "                   all        601      12818      0.984      0.992      0.993       0.91      0.984      0.992      0.993      0.876\n"
          ]
        },
        {
          "output_type": "stream",
          "name": "stderr",
          "text": [
            "\n"
          ]
        },
        {
          "output_type": "stream",
          "name": "stdout",
          "text": [
            "\n",
            "      Epoch    GPU_mem   box_loss   seg_loss   cls_loss   dfl_loss  Instances       Size\n"
          ]
        },
        {
          "output_type": "stream",
          "name": "stderr",
          "text": [
            "     76/100      4.99G     0.4987     0.6718     0.3131     0.8546        235        640: 100%|██████████| 88/88 [01:27<00:00,  1.01it/s]\n",
            "                 Class     Images  Instances      Box(P          R      mAP50  mAP50-95)     Mask(P          R      mAP50  mAP50-95): 100%|██████████| 19/19 [00:13<00:00,  1.37it/s]"
          ]
        },
        {
          "output_type": "stream",
          "name": "stdout",
          "text": [
            "                   all        601      12818      0.987      0.992      0.993      0.912      0.986      0.991      0.993      0.875\n"
          ]
        },
        {
          "output_type": "stream",
          "name": "stderr",
          "text": [
            "\n"
          ]
        },
        {
          "output_type": "stream",
          "name": "stdout",
          "text": [
            "\n",
            "      Epoch    GPU_mem   box_loss   seg_loss   cls_loss   dfl_loss  Instances       Size\n"
          ]
        },
        {
          "output_type": "stream",
          "name": "stderr",
          "text": [
            "     77/100      5.98G     0.5058     0.6687     0.3114     0.8517        355        640: 100%|██████████| 88/88 [01:28<00:00,  1.00s/it]\n",
            "                 Class     Images  Instances      Box(P          R      mAP50  mAP50-95)     Mask(P          R      mAP50  mAP50-95): 100%|██████████| 19/19 [00:13<00:00,  1.39it/s]"
          ]
        },
        {
          "output_type": "stream",
          "name": "stdout",
          "text": [
            "                   all        601      12818      0.989      0.994      0.994      0.915      0.989      0.993      0.993      0.878\n"
          ]
        },
        {
          "output_type": "stream",
          "name": "stderr",
          "text": [
            "\n"
          ]
        },
        {
          "output_type": "stream",
          "name": "stdout",
          "text": [
            "\n",
            "      Epoch    GPU_mem   box_loss   seg_loss   cls_loss   dfl_loss  Instances       Size\n"
          ]
        },
        {
          "output_type": "stream",
          "name": "stderr",
          "text": [
            "     78/100      4.38G     0.5038      0.662     0.3094     0.8526        314        640: 100%|██████████| 88/88 [01:26<00:00,  1.02it/s]\n",
            "                 Class     Images  Instances      Box(P          R      mAP50  mAP50-95)     Mask(P          R      mAP50  mAP50-95): 100%|██████████| 19/19 [00:13<00:00,  1.40it/s]"
          ]
        },
        {
          "output_type": "stream",
          "name": "stdout",
          "text": [
            "                   all        601      12818      0.991      0.992      0.994      0.912       0.99      0.991      0.994      0.879\n"
          ]
        },
        {
          "output_type": "stream",
          "name": "stderr",
          "text": [
            "\n"
          ]
        },
        {
          "output_type": "stream",
          "name": "stdout",
          "text": [
            "\n",
            "      Epoch    GPU_mem   box_loss   seg_loss   cls_loss   dfl_loss  Instances       Size\n"
          ]
        },
        {
          "output_type": "stream",
          "name": "stderr",
          "text": [
            "     79/100      5.47G     0.5007     0.6527     0.3081     0.8509        414        640: 100%|██████████| 88/88 [01:27<00:00,  1.00it/s]\n",
            "                 Class     Images  Instances      Box(P          R      mAP50  mAP50-95)     Mask(P          R      mAP50  mAP50-95): 100%|██████████| 19/19 [00:13<00:00,  1.36it/s]"
          ]
        },
        {
          "output_type": "stream",
          "name": "stdout",
          "text": [
            "                   all        601      12818      0.989      0.992      0.994      0.909      0.988      0.991      0.993      0.871\n"
          ]
        },
        {
          "output_type": "stream",
          "name": "stderr",
          "text": [
            "\n"
          ]
        },
        {
          "output_type": "stream",
          "name": "stdout",
          "text": [
            "\n",
            "      Epoch    GPU_mem   box_loss   seg_loss   cls_loss   dfl_loss  Instances       Size\n"
          ]
        },
        {
          "output_type": "stream",
          "name": "stderr",
          "text": [
            "     80/100      5.83G     0.4946     0.6564     0.3034     0.8496        180        640: 100%|██████████| 88/88 [01:27<00:00,  1.01it/s]\n",
            "                 Class     Images  Instances      Box(P          R      mAP50  mAP50-95)     Mask(P          R      mAP50  mAP50-95): 100%|██████████| 19/19 [00:13<00:00,  1.39it/s]"
          ]
        },
        {
          "output_type": "stream",
          "name": "stdout",
          "text": [
            "                   all        601      12818       0.99      0.994      0.994      0.912      0.989      0.994      0.993      0.878\n"
          ]
        },
        {
          "output_type": "stream",
          "name": "stderr",
          "text": [
            "\n"
          ]
        },
        {
          "output_type": "stream",
          "name": "stdout",
          "text": [
            "\n",
            "      Epoch    GPU_mem   box_loss   seg_loss   cls_loss   dfl_loss  Instances       Size\n"
          ]
        },
        {
          "output_type": "stream",
          "name": "stderr",
          "text": [
            "     81/100      5.23G      0.495     0.6571     0.3042     0.8524        232        640: 100%|██████████| 88/88 [01:27<00:00,  1.01it/s]\n",
            "                 Class     Images  Instances      Box(P          R      mAP50  mAP50-95)     Mask(P          R      mAP50  mAP50-95): 100%|██████████| 19/19 [00:14<00:00,  1.35it/s]"
          ]
        },
        {
          "output_type": "stream",
          "name": "stdout",
          "text": [
            "                   all        601      12818       0.99      0.994      0.994      0.915       0.99      0.993      0.993      0.884\n"
          ]
        },
        {
          "output_type": "stream",
          "name": "stderr",
          "text": [
            "\n"
          ]
        },
        {
          "output_type": "stream",
          "name": "stdout",
          "text": [
            "\n",
            "      Epoch    GPU_mem   box_loss   seg_loss   cls_loss   dfl_loss  Instances       Size\n"
          ]
        },
        {
          "output_type": "stream",
          "name": "stderr",
          "text": [
            "     82/100      5.87G     0.5003     0.6632     0.3059     0.8515        221        640: 100%|██████████| 88/88 [01:27<00:00,  1.01it/s]\n",
            "                 Class     Images  Instances      Box(P          R      mAP50  mAP50-95)     Mask(P          R      mAP50  mAP50-95): 100%|██████████| 19/19 [00:13<00:00,  1.37it/s]"
          ]
        },
        {
          "output_type": "stream",
          "name": "stdout",
          "text": [
            "                   all        601      12818      0.988      0.994      0.994      0.914      0.988      0.992      0.993      0.879\n"
          ]
        },
        {
          "output_type": "stream",
          "name": "stderr",
          "text": [
            "\n"
          ]
        },
        {
          "output_type": "stream",
          "name": "stdout",
          "text": [
            "\n",
            "      Epoch    GPU_mem   box_loss   seg_loss   cls_loss   dfl_loss  Instances       Size\n"
          ]
        },
        {
          "output_type": "stream",
          "name": "stderr",
          "text": [
            "     83/100      4.89G      0.494     0.6552      0.304     0.8499        263        640: 100%|██████████| 88/88 [01:26<00:00,  1.01it/s]\n",
            "                 Class     Images  Instances      Box(P          R      mAP50  mAP50-95)     Mask(P          R      mAP50  mAP50-95): 100%|██████████| 19/19 [00:14<00:00,  1.33it/s]"
          ]
        },
        {
          "output_type": "stream",
          "name": "stdout",
          "text": [
            "                   all        601      12818      0.989      0.993      0.994      0.914      0.988      0.992      0.993      0.878\n"
          ]
        },
        {
          "output_type": "stream",
          "name": "stderr",
          "text": [
            "\n"
          ]
        },
        {
          "output_type": "stream",
          "name": "stdout",
          "text": [
            "\n",
            "      Epoch    GPU_mem   box_loss   seg_loss   cls_loss   dfl_loss  Instances       Size\n"
          ]
        },
        {
          "output_type": "stream",
          "name": "stderr",
          "text": [
            "     84/100      5.05G     0.4878     0.6425     0.2964     0.8481        322        640: 100%|██████████| 88/88 [01:27<00:00,  1.00it/s]\n",
            "                 Class     Images  Instances      Box(P          R      mAP50  mAP50-95)     Mask(P          R      mAP50  mAP50-95): 100%|██████████| 19/19 [00:13<00:00,  1.39it/s]"
          ]
        },
        {
          "output_type": "stream",
          "name": "stdout",
          "text": [
            "                   all        601      12818      0.992      0.993      0.994      0.917      0.991      0.992      0.993      0.884\n"
          ]
        },
        {
          "output_type": "stream",
          "name": "stderr",
          "text": [
            "\n"
          ]
        },
        {
          "output_type": "stream",
          "name": "stdout",
          "text": [
            "\n",
            "      Epoch    GPU_mem   box_loss   seg_loss   cls_loss   dfl_loss  Instances       Size\n"
          ]
        },
        {
          "output_type": "stream",
          "name": "stderr",
          "text": [
            "     85/100      5.43G     0.4895     0.6477     0.2976     0.8509        194        640: 100%|██████████| 88/88 [01:27<00:00,  1.00it/s]\n",
            "                 Class     Images  Instances      Box(P          R      mAP50  mAP50-95)     Mask(P          R      mAP50  mAP50-95): 100%|██████████| 19/19 [00:14<00:00,  1.35it/s]"
          ]
        },
        {
          "output_type": "stream",
          "name": "stdout",
          "text": [
            "                   all        601      12818       0.99      0.994      0.994      0.916      0.989      0.993      0.994      0.881\n"
          ]
        },
        {
          "output_type": "stream",
          "name": "stderr",
          "text": [
            "\n"
          ]
        },
        {
          "output_type": "stream",
          "name": "stdout",
          "text": [
            "\n",
            "      Epoch    GPU_mem   box_loss   seg_loss   cls_loss   dfl_loss  Instances       Size\n"
          ]
        },
        {
          "output_type": "stream",
          "name": "stderr",
          "text": [
            "     86/100      5.19G     0.4877     0.6385     0.2966     0.8467        273        640: 100%|██████████| 88/88 [01:26<00:00,  1.01it/s]\n",
            "                 Class     Images  Instances      Box(P          R      mAP50  mAP50-95)     Mask(P          R      mAP50  mAP50-95): 100%|██████████| 19/19 [00:12<00:00,  1.48it/s]"
          ]
        },
        {
          "output_type": "stream",
          "name": "stdout",
          "text": [
            "                   all        601      12818       0.99      0.994      0.994      0.919      0.989      0.993      0.993       0.89\n"
          ]
        },
        {
          "output_type": "stream",
          "name": "stderr",
          "text": [
            "\n"
          ]
        },
        {
          "output_type": "stream",
          "name": "stdout",
          "text": [
            "\n",
            "      Epoch    GPU_mem   box_loss   seg_loss   cls_loss   dfl_loss  Instances       Size\n"
          ]
        },
        {
          "output_type": "stream",
          "name": "stderr",
          "text": [
            "     87/100       4.5G     0.4834     0.6347     0.2955     0.8499        368        640: 100%|██████████| 88/88 [01:27<00:00,  1.00it/s]\n",
            "                 Class     Images  Instances      Box(P          R      mAP50  mAP50-95)     Mask(P          R      mAP50  mAP50-95): 100%|██████████| 19/19 [00:11<00:00,  1.62it/s]"
          ]
        },
        {
          "output_type": "stream",
          "name": "stdout",
          "text": [
            "                   all        601      12818      0.992      0.994      0.994      0.918      0.991      0.993      0.993      0.881\n"
          ]
        },
        {
          "output_type": "stream",
          "name": "stderr",
          "text": [
            "\n"
          ]
        },
        {
          "output_type": "stream",
          "name": "stdout",
          "text": [
            "\n",
            "      Epoch    GPU_mem   box_loss   seg_loss   cls_loss   dfl_loss  Instances       Size\n"
          ]
        },
        {
          "output_type": "stream",
          "name": "stderr",
          "text": [
            "     88/100      4.99G     0.4842     0.6352     0.2918      0.848        276        640: 100%|██████████| 88/88 [01:28<00:00,  1.00s/it]\n",
            "                 Class     Images  Instances      Box(P          R      mAP50  mAP50-95)     Mask(P          R      mAP50  mAP50-95): 100%|██████████| 19/19 [00:12<00:00,  1.51it/s]"
          ]
        },
        {
          "output_type": "stream",
          "name": "stdout",
          "text": [
            "                   all        601      12818       0.99      0.995      0.994       0.92       0.99      0.995      0.993      0.887\n"
          ]
        },
        {
          "output_type": "stream",
          "name": "stderr",
          "text": [
            "\n"
          ]
        },
        {
          "output_type": "stream",
          "name": "stdout",
          "text": [
            "\n",
            "      Epoch    GPU_mem   box_loss   seg_loss   cls_loss   dfl_loss  Instances       Size\n"
          ]
        },
        {
          "output_type": "stream",
          "name": "stderr",
          "text": [
            "     89/100      5.45G     0.4844     0.6363     0.2949     0.8468        257        640: 100%|██████████| 88/88 [01:28<00:00,  1.01s/it]\n",
            "                 Class     Images  Instances      Box(P          R      mAP50  mAP50-95)     Mask(P          R      mAP50  mAP50-95): 100%|██████████| 19/19 [00:11<00:00,  1.65it/s]"
          ]
        },
        {
          "output_type": "stream",
          "name": "stdout",
          "text": [
            "                   all        601      12818      0.992      0.994      0.994      0.915      0.991      0.993      0.993       0.88\n"
          ]
        },
        {
          "output_type": "stream",
          "name": "stderr",
          "text": [
            "\n"
          ]
        },
        {
          "output_type": "stream",
          "name": "stdout",
          "text": [
            "\n",
            "      Epoch    GPU_mem   box_loss   seg_loss   cls_loss   dfl_loss  Instances       Size\n"
          ]
        },
        {
          "output_type": "stream",
          "name": "stderr",
          "text": [
            "     90/100      5.39G     0.4927     0.6537     0.2959     0.8496        315        640: 100%|██████████| 88/88 [01:28<00:00,  1.01s/it]\n",
            "                 Class     Images  Instances      Box(P          R      mAP50  mAP50-95)     Mask(P          R      mAP50  mAP50-95): 100%|██████████| 19/19 [00:12<00:00,  1.47it/s]"
          ]
        },
        {
          "output_type": "stream",
          "name": "stdout",
          "text": [
            "                   all        601      12818      0.993      0.995      0.994       0.92      0.991      0.994      0.994      0.886\n"
          ]
        },
        {
          "output_type": "stream",
          "name": "stderr",
          "text": [
            "\n"
          ]
        },
        {
          "output_type": "stream",
          "name": "stdout",
          "text": [
            "Closing dataloader mosaic\n",
            "\u001b[34m\u001b[1malbumentations: \u001b[0mBlur(p=0.01, blur_limit=(3, 7)), MedianBlur(p=0.01, blur_limit=(3, 7)), ToGray(p=0.01), CLAHE(p=0.01, clip_limit=(1, 4.0), tile_grid_size=(8, 8))\n"
          ]
        },
        {
          "output_type": "stream",
          "name": "stderr",
          "text": [
            "/usr/lib/python3.10/multiprocessing/popen_fork.py:66: RuntimeWarning: os.fork() was called. os.fork() is incompatible with multithreaded code, and JAX is multithreaded, so this will likely lead to a deadlock.\n",
            "  self.pid = os.fork()\n"
          ]
        },
        {
          "output_type": "stream",
          "name": "stdout",
          "text": [
            "\n",
            "      Epoch    GPU_mem   box_loss   seg_loss   cls_loss   dfl_loss  Instances       Size\n"
          ]
        },
        {
          "output_type": "stream",
          "name": "stderr",
          "text": [
            "     91/100      4.01G     0.4417     0.5982     0.2635     0.8264        158        640: 100%|██████████| 88/88 [01:00<00:00,  1.44it/s]\n",
            "                 Class     Images  Instances      Box(P          R      mAP50  mAP50-95)     Mask(P          R      mAP50  mAP50-95): 100%|██████████| 19/19 [00:13<00:00,  1.43it/s]"
          ]
        },
        {
          "output_type": "stream",
          "name": "stdout",
          "text": [
            "                   all        601      12818       0.99      0.995      0.994      0.913      0.989      0.994      0.993      0.879\n"
          ]
        },
        {
          "output_type": "stream",
          "name": "stderr",
          "text": [
            "\n"
          ]
        },
        {
          "output_type": "stream",
          "name": "stdout",
          "text": [
            "\n",
            "      Epoch    GPU_mem   box_loss   seg_loss   cls_loss   dfl_loss  Instances       Size\n"
          ]
        },
        {
          "output_type": "stream",
          "name": "stderr",
          "text": [
            "     92/100      3.75G     0.4395     0.5955     0.2568     0.8257        193        640: 100%|██████████| 88/88 [00:52<00:00,  1.69it/s]\n",
            "                 Class     Images  Instances      Box(P          R      mAP50  mAP50-95)     Mask(P          R      mAP50  mAP50-95): 100%|██████████| 19/19 [00:11<00:00,  1.68it/s]"
          ]
        },
        {
          "output_type": "stream",
          "name": "stdout",
          "text": [
            "                   all        601      12818      0.994      0.994      0.994      0.919      0.993      0.993      0.994      0.885\n"
          ]
        },
        {
          "output_type": "stream",
          "name": "stderr",
          "text": [
            "\n"
          ]
        },
        {
          "output_type": "stream",
          "name": "stdout",
          "text": [
            "\n",
            "      Epoch    GPU_mem   box_loss   seg_loss   cls_loss   dfl_loss  Instances       Size\n"
          ]
        },
        {
          "output_type": "stream",
          "name": "stderr",
          "text": [
            "     93/100      3.88G     0.4339     0.5783     0.2514     0.8223        160        640: 100%|██████████| 88/88 [00:52<00:00,  1.69it/s]\n",
            "                 Class     Images  Instances      Box(P          R      mAP50  mAP50-95)     Mask(P          R      mAP50  mAP50-95): 100%|██████████| 19/19 [00:12<00:00,  1.57it/s]"
          ]
        },
        {
          "output_type": "stream",
          "name": "stdout",
          "text": [
            "                   all        601      12818      0.994      0.996      0.994      0.917      0.993      0.995      0.993      0.883\n"
          ]
        },
        {
          "output_type": "stream",
          "name": "stderr",
          "text": [
            "\n"
          ]
        },
        {
          "output_type": "stream",
          "name": "stdout",
          "text": [
            "\n",
            "      Epoch    GPU_mem   box_loss   seg_loss   cls_loss   dfl_loss  Instances       Size\n"
          ]
        },
        {
          "output_type": "stream",
          "name": "stderr",
          "text": [
            "     94/100      3.71G     0.4328     0.5824     0.2494     0.8253        188        640: 100%|██████████| 88/88 [00:52<00:00,  1.68it/s]\n",
            "                 Class     Images  Instances      Box(P          R      mAP50  mAP50-95)     Mask(P          R      mAP50  mAP50-95): 100%|██████████| 19/19 [00:13<00:00,  1.43it/s]"
          ]
        },
        {
          "output_type": "stream",
          "name": "stdout",
          "text": [
            "                   all        601      12818      0.995      0.995      0.994      0.922      0.994      0.994      0.993      0.891\n"
          ]
        },
        {
          "output_type": "stream",
          "name": "stderr",
          "text": [
            "\n"
          ]
        },
        {
          "output_type": "stream",
          "name": "stdout",
          "text": [
            "\n",
            "      Epoch    GPU_mem   box_loss   seg_loss   cls_loss   dfl_loss  Instances       Size\n"
          ]
        },
        {
          "output_type": "stream",
          "name": "stderr",
          "text": [
            "     95/100      3.97G     0.4322     0.5811     0.2489     0.8209        136        640: 100%|██████████| 88/88 [00:52<00:00,  1.67it/s]\n",
            "                 Class     Images  Instances      Box(P          R      mAP50  mAP50-95)     Mask(P          R      mAP50  mAP50-95): 100%|██████████| 19/19 [00:12<00:00,  1.49it/s]"
          ]
        },
        {
          "output_type": "stream",
          "name": "stdout",
          "text": [
            "                   all        601      12818      0.994      0.995      0.994      0.922      0.993      0.994      0.994      0.887\n"
          ]
        },
        {
          "output_type": "stream",
          "name": "stderr",
          "text": [
            "\n"
          ]
        },
        {
          "output_type": "stream",
          "name": "stdout",
          "text": [
            "\n",
            "      Epoch    GPU_mem   box_loss   seg_loss   cls_loss   dfl_loss  Instances       Size\n"
          ]
        },
        {
          "output_type": "stream",
          "name": "stderr",
          "text": [
            "     96/100      3.98G     0.4286      0.575     0.2458     0.8227        104        640: 100%|██████████| 88/88 [00:52<00:00,  1.67it/s]\n",
            "                 Class     Images  Instances      Box(P          R      mAP50  mAP50-95)     Mask(P          R      mAP50  mAP50-95): 100%|██████████| 19/19 [00:10<00:00,  1.79it/s]"
          ]
        },
        {
          "output_type": "stream",
          "name": "stdout",
          "text": [
            "                   all        601      12818      0.994      0.995      0.994      0.921      0.993      0.994      0.994      0.888\n"
          ]
        },
        {
          "output_type": "stream",
          "name": "stderr",
          "text": [
            "\n"
          ]
        },
        {
          "output_type": "stream",
          "name": "stdout",
          "text": [
            "\n",
            "      Epoch    GPU_mem   box_loss   seg_loss   cls_loss   dfl_loss  Instances       Size\n"
          ]
        },
        {
          "output_type": "stream",
          "name": "stderr",
          "text": [
            "     97/100      3.74G     0.4259     0.5739     0.2405     0.8191        155        640: 100%|██████████| 88/88 [00:52<00:00,  1.68it/s]\n",
            "                 Class     Images  Instances      Box(P          R      mAP50  mAP50-95)     Mask(P          R      mAP50  mAP50-95): 100%|██████████| 19/19 [00:12<00:00,  1.46it/s]"
          ]
        },
        {
          "output_type": "stream",
          "name": "stdout",
          "text": [
            "                   all        601      12818      0.994      0.995      0.994      0.923      0.993      0.994      0.994      0.893\n"
          ]
        },
        {
          "output_type": "stream",
          "name": "stderr",
          "text": [
            "\n"
          ]
        },
        {
          "output_type": "stream",
          "name": "stdout",
          "text": [
            "\n",
            "      Epoch    GPU_mem   box_loss   seg_loss   cls_loss   dfl_loss  Instances       Size\n"
          ]
        },
        {
          "output_type": "stream",
          "name": "stderr",
          "text": [
            "     98/100      3.76G     0.4233     0.5706     0.2411     0.8221        146        640: 100%|██████████| 88/88 [00:53<00:00,  1.65it/s]\n",
            "                 Class     Images  Instances      Box(P          R      mAP50  mAP50-95)     Mask(P          R      mAP50  mAP50-95): 100%|██████████| 19/19 [00:13<00:00,  1.44it/s]"
          ]
        },
        {
          "output_type": "stream",
          "name": "stdout",
          "text": [
            "                   all        601      12818      0.993      0.996      0.994      0.924      0.993      0.995      0.994      0.891\n"
          ]
        },
        {
          "output_type": "stream",
          "name": "stderr",
          "text": [
            "\n"
          ]
        },
        {
          "output_type": "stream",
          "name": "stdout",
          "text": [
            "\n",
            "      Epoch    GPU_mem   box_loss   seg_loss   cls_loss   dfl_loss  Instances       Size\n"
          ]
        },
        {
          "output_type": "stream",
          "name": "stderr",
          "text": [
            "     99/100      3.78G     0.4238     0.5663     0.2415     0.8216        139        640: 100%|██████████| 88/88 [00:52<00:00,  1.67it/s]\n",
            "                 Class     Images  Instances      Box(P          R      mAP50  mAP50-95)     Mask(P          R      mAP50  mAP50-95): 100%|██████████| 19/19 [00:11<00:00,  1.72it/s]"
          ]
        },
        {
          "output_type": "stream",
          "name": "stdout",
          "text": [
            "                   all        601      12818      0.994      0.995      0.994      0.926      0.993      0.995      0.994      0.894\n"
          ]
        },
        {
          "output_type": "stream",
          "name": "stderr",
          "text": [
            "\n"
          ]
        },
        {
          "output_type": "stream",
          "name": "stdout",
          "text": [
            "\n",
            "      Epoch    GPU_mem   box_loss   seg_loss   cls_loss   dfl_loss  Instances       Size\n"
          ]
        },
        {
          "output_type": "stream",
          "name": "stderr",
          "text": [
            "    100/100      3.82G     0.4199     0.5644     0.2377     0.8183        223        640: 100%|██████████| 88/88 [00:51<00:00,  1.69it/s]\n",
            "                 Class     Images  Instances      Box(P          R      mAP50  mAP50-95)     Mask(P          R      mAP50  mAP50-95): 100%|██████████| 19/19 [00:12<00:00,  1.56it/s]"
          ]
        },
        {
          "output_type": "stream",
          "name": "stdout",
          "text": [
            "                   all        601      12818      0.994      0.996      0.994      0.923      0.993      0.995      0.994       0.89\n"
          ]
        },
        {
          "output_type": "stream",
          "name": "stderr",
          "text": [
            "\n"
          ]
        },
        {
          "output_type": "stream",
          "name": "stdout",
          "text": [
            "\n",
            "100 epochs completed in 2.756 hours.\n",
            "Optimizer stripped from runs/segment/train/weights/last.pt, 6.8MB\n",
            "Optimizer stripped from runs/segment/train/weights/best.pt, 6.8MB\n",
            "\n",
            "Validating runs/segment/train/weights/best.pt...\n",
            "Ultralytics YOLOv8.2.94 🚀 Python-3.10.12 torch-2.4.0+cu121 CUDA:0 (Tesla T4, 15102MiB)\n",
            "YOLOv8n-seg summary (fused): 195 layers, 3,258,259 parameters, 0 gradients, 12.0 GFLOPs\n"
          ]
        },
        {
          "output_type": "stream",
          "name": "stderr",
          "text": [
            "                 Class     Images  Instances      Box(P          R      mAP50  mAP50-95)     Mask(P          R      mAP50  mAP50-95): 100%|██████████| 19/19 [00:33<00:00,  1.75s/it]\n"
          ]
        },
        {
          "output_type": "stream",
          "name": "stdout",
          "text": [
            "                   all        601      12818      0.994      0.995      0.994      0.926      0.993      0.995      0.994      0.894\n",
            "Speed: 0.4ms preprocess, 3.6ms inference, 0.0ms loss, 5.4ms postprocess per image\n",
            "Results saved to \u001b[1mruns/segment/train\u001b[0m\n"
          ]
        }
      ]
    },
    {
      "cell_type": "code",
      "source": [
        "import shutil\n",
        "\n",
        "shutil.make_archive('runs', 'zip', '/content/runs')\n"
      ],
      "metadata": {
        "colab": {
          "base_uri": "https://localhost:8080/",
          "height": 35
        },
        "id": "1W2StB_qh_OI",
        "outputId": "ab55212d-7ff6-4864-f533-6498b0ff96a3"
      },
      "execution_count": null,
      "outputs": [
        {
          "output_type": "execute_result",
          "data": {
            "text/plain": [
              "'/content/runs.zip'"
            ],
            "application/vnd.google.colaboratory.intrinsic+json": {
              "type": "string"
            }
          },
          "metadata": {},
          "execution_count": 4
        }
      ]
    },
    {
      "cell_type": "code",
      "source": [
        "from google.colab import files\n",
        "\n",
        "files.download('runs.zip')"
      ],
      "metadata": {
        "colab": {
          "base_uri": "https://localhost:8080/",
          "height": 34
        },
        "id": "aatqYsXoiErt",
        "outputId": "cd2e5fae-9c4a-4ac3-fb0b-38bf3c004da0"
      },
      "execution_count": null,
      "outputs": [
        {
          "output_type": "display_data",
          "data": {
            "text/plain": [
              "<IPython.core.display.Javascript object>"
            ],
            "application/javascript": [
              "\n",
              "    async function download(id, filename, size) {\n",
              "      if (!google.colab.kernel.accessAllowed) {\n",
              "        return;\n",
              "      }\n",
              "      const div = document.createElement('div');\n",
              "      const label = document.createElement('label');\n",
              "      label.textContent = `Downloading \"${filename}\": `;\n",
              "      div.appendChild(label);\n",
              "      const progress = document.createElement('progress');\n",
              "      progress.max = size;\n",
              "      div.appendChild(progress);\n",
              "      document.body.appendChild(div);\n",
              "\n",
              "      const buffers = [];\n",
              "      let downloaded = 0;\n",
              "\n",
              "      const channel = await google.colab.kernel.comms.open(id);\n",
              "      // Send a message to notify the kernel that we're ready.\n",
              "      channel.send({})\n",
              "\n",
              "      for await (const message of channel.messages) {\n",
              "        // Send a message to notify the kernel that we're ready.\n",
              "        channel.send({})\n",
              "        if (message.buffers) {\n",
              "          for (const buffer of message.buffers) {\n",
              "            buffers.push(buffer);\n",
              "            downloaded += buffer.byteLength;\n",
              "            progress.value = downloaded;\n",
              "          }\n",
              "        }\n",
              "      }\n",
              "      const blob = new Blob(buffers, {type: 'application/binary'});\n",
              "      const a = document.createElement('a');\n",
              "      a.href = window.URL.createObjectURL(blob);\n",
              "      a.download = filename;\n",
              "      div.appendChild(a);\n",
              "      a.click();\n",
              "      div.remove();\n",
              "    }\n",
              "  "
            ]
          },
          "metadata": {}
        },
        {
          "output_type": "display_data",
          "data": {
            "text/plain": [
              "<IPython.core.display.Javascript object>"
            ],
            "application/javascript": [
              "download(\"download_610e7383-a45f-41d9-a691-516215a8f97a\", \"runs.zip\", 21158501)"
            ]
          },
          "metadata": {}
        }
      ]
    }
  ]
}